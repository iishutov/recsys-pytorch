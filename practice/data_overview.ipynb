{
 "cells": [
  {
   "cell_type": "code",
   "execution_count": 1,
   "metadata": {},
   "outputs": [],
   "source": [
    "import numpy as np\n",
    "import pandas as pd"
   ]
  },
  {
   "cell_type": "markdown",
   "metadata": {},
   "source": [
    "## Import the dataset"
   ]
  },
  {
   "cell_type": "markdown",
   "metadata": {},
   "source": [
    "[Google Local Data (2021). Alaska 10-core (521,515 reviews)](https://datarepo.eng.ucsd.edu/mcauley_group/gdrive/googlelocal/)\n",
    "\n",
    "This Dataset contains review information on Google map (ratings, text, images, etc.), business metadata (address, geographical info, descriptions, category information, price, open hours, and MISC info), and links (relative businesses) up to Sep 2021 in the United States.\n",
    "\n",
    "These data have been reduced to extract the k-core, such that each of the remaining users and items have k reviews each.\n",
    "\n",
    "<ul>\n",
    "<li>user_id - ID of the reviewer\n",
    "<li>name - name of the reviwer\n",
    "<li>time - time of the review (unix time)\n",
    "<li>rating - rating of the business\n",
    "<li>text - text of the review\n",
    "<li>pics - pictures of the review\n",
    "<li>resp - business response to the review including unix time and text of the response\n",
    "<li>gmap_id - ID of the business\n",
    "</ul>\n",
    "\n",
    "Metadata:\n",
    "<ul>\n",
    "<li>name - name of the business\n",
    "<li>address - address of the business\n",
    "<li>gmap_id - ID of the business\n",
    "<li>description - description of the business\n",
    "<li>latitude - latitude of the business\n",
    "<li>longitude - longitude of the business\n",
    "<li>category - category of the business\n",
    "<li>avg_rating - average rating of the business\n",
    "<li>num_of_reviews - number of reviews\n",
    "<li>price - price of the business\n",
    "<li>hours - open hours\n",
    "<li>MISC - MISC information\n",
    "<li>state - the current status of the business (e.g., permanently closed)\n",
    "<li>relative_results - relative businesses recommended by Google\n",
    "<li>url - URL of the business\n",
    "</ul>\n",
    "\n",
    "Format is one-review-per-line in json.\n",
    "\n",
    "Citation\n",
    "1. UCTopic: Unsupervised Contrastive Learning for Phrase Representations and Topic Mining\n",
    "Jiacheng Li, Jingbo Shang, Julian McAuley\n",
    "Annual Meeting of the Association for Computational Linguistics (ACL), 2022\n",
    "[pdf](https://aclanthology.org/2022.acl-long.426.pdf)\n",
    "\n",
    "2. Personalized Showcases: Generating Multi-Modal Explanations for Recommendations\n",
    "An Yan, Zhankui He, Jiacheng Li, Tianyang Zhang, Julian Mcauley\n",
    "The 46th International ACM SIGIR Conference on Research and Development in Information Retrieval (SIGIR), 2023\n",
    "[pdf](https://arxiv.org/pdf/2207.00422.pdf)"
   ]
  },
  {
   "cell_type": "code",
   "execution_count": 2,
   "metadata": {},
   "outputs": [],
   "source": [
    "df_reviews = pd.read_json('./data/review-Alaska_10.json.gz', lines=True, compression='gzip')"
   ]
  },
  {
   "cell_type": "code",
   "execution_count": 3,
   "metadata": {},
   "outputs": [
    {
     "data": {
      "text/html": [
       "<div>\n",
       "<style scoped>\n",
       "    .dataframe tbody tr th:only-of-type {\n",
       "        vertical-align: middle;\n",
       "    }\n",
       "\n",
       "    .dataframe tbody tr th {\n",
       "        vertical-align: top;\n",
       "    }\n",
       "\n",
       "    .dataframe thead th {\n",
       "        text-align: right;\n",
       "    }\n",
       "</style>\n",
       "<table border=\"1\" class=\"dataframe\">\n",
       "  <thead>\n",
       "    <tr style=\"text-align: right;\">\n",
       "      <th></th>\n",
       "      <th>user_id</th>\n",
       "      <th>name</th>\n",
       "      <th>time</th>\n",
       "      <th>rating</th>\n",
       "      <th>text</th>\n",
       "      <th>pics</th>\n",
       "      <th>resp</th>\n",
       "      <th>gmap_id</th>\n",
       "    </tr>\n",
       "  </thead>\n",
       "  <tbody>\n",
       "    <tr>\n",
       "      <th>0</th>\n",
       "      <td>1.091298e+20</td>\n",
       "      <td>Nicki Gore</td>\n",
       "      <td>1566331951619</td>\n",
       "      <td>5</td>\n",
       "      <td>We always stay here when in Valdez for silver ...</td>\n",
       "      <td>None</td>\n",
       "      <td>None</td>\n",
       "      <td>0x56b646ed2220b77f:0xd8975e316de80952</td>\n",
       "    </tr>\n",
       "    <tr>\n",
       "      <th>1</th>\n",
       "      <td>1.132409e+20</td>\n",
       "      <td>Allen Ratliff</td>\n",
       "      <td>1504917982385</td>\n",
       "      <td>5</td>\n",
       "      <td>Great campground for the price. Nice hot unlim...</td>\n",
       "      <td>None</td>\n",
       "      <td>None</td>\n",
       "      <td>0x56b646ed2220b77f:0xd8975e316de80952</td>\n",
       "    </tr>\n",
       "    <tr>\n",
       "      <th>2</th>\n",
       "      <td>1.130448e+20</td>\n",
       "      <td>Jonathan Tringali</td>\n",
       "      <td>1474765901185</td>\n",
       "      <td>4</td>\n",
       "      <td>We tent camped here for 2 nights while explori...</td>\n",
       "      <td>None</td>\n",
       "      <td>None</td>\n",
       "      <td>0x56b646ed2220b77f:0xd8975e316de80952</td>\n",
       "    </tr>\n",
       "  </tbody>\n",
       "</table>\n",
       "</div>"
      ],
      "text/plain": [
       "        user_id               name           time  rating  \\\n",
       "0  1.091298e+20         Nicki Gore  1566331951619       5   \n",
       "1  1.132409e+20      Allen Ratliff  1504917982385       5   \n",
       "2  1.130448e+20  Jonathan Tringali  1474765901185       4   \n",
       "\n",
       "                                                text  pics  resp  \\\n",
       "0  We always stay here when in Valdez for silver ...  None  None   \n",
       "1  Great campground for the price. Nice hot unlim...  None  None   \n",
       "2  We tent camped here for 2 nights while explori...  None  None   \n",
       "\n",
       "                                 gmap_id  \n",
       "0  0x56b646ed2220b77f:0xd8975e316de80952  \n",
       "1  0x56b646ed2220b77f:0xd8975e316de80952  \n",
       "2  0x56b646ed2220b77f:0xd8975e316de80952  "
      ]
     },
     "execution_count": 3,
     "metadata": {},
     "output_type": "execute_result"
    }
   ],
   "source": [
    "df_reviews.head(3)"
   ]
  },
  {
   "cell_type": "code",
   "execution_count": 4,
   "metadata": {},
   "outputs": [],
   "source": [
    "df_meta = pd.read_json('./data/meta-Alaska.json.gz', lines=True, compression='gzip')"
   ]
  },
  {
   "cell_type": "code",
   "execution_count": 5,
   "metadata": {},
   "outputs": [
    {
     "data": {
      "text/html": [
       "<div>\n",
       "<style scoped>\n",
       "    .dataframe tbody tr th:only-of-type {\n",
       "        vertical-align: middle;\n",
       "    }\n",
       "\n",
       "    .dataframe tbody tr th {\n",
       "        vertical-align: top;\n",
       "    }\n",
       "\n",
       "    .dataframe thead th {\n",
       "        text-align: right;\n",
       "    }\n",
       "</style>\n",
       "<table border=\"1\" class=\"dataframe\">\n",
       "  <thead>\n",
       "    <tr style=\"text-align: right;\">\n",
       "      <th></th>\n",
       "      <th>name</th>\n",
       "      <th>address</th>\n",
       "      <th>gmap_id</th>\n",
       "      <th>description</th>\n",
       "      <th>latitude</th>\n",
       "      <th>longitude</th>\n",
       "      <th>category</th>\n",
       "      <th>avg_rating</th>\n",
       "      <th>num_of_reviews</th>\n",
       "      <th>price</th>\n",
       "      <th>hours</th>\n",
       "      <th>MISC</th>\n",
       "      <th>state</th>\n",
       "      <th>relative_results</th>\n",
       "      <th>url</th>\n",
       "    </tr>\n",
       "  </thead>\n",
       "  <tbody>\n",
       "    <tr>\n",
       "      <th>0</th>\n",
       "      <td>Bear Creek Cabins &amp; RV Park</td>\n",
       "      <td>Bear Creek Cabins &amp; RV Park, 3181 Richardson H...</td>\n",
       "      <td>0x56b646ed2220b77f:0xd8975e316de80952</td>\n",
       "      <td>None</td>\n",
       "      <td>61.100644</td>\n",
       "      <td>-146.214552</td>\n",
       "      <td>[RV park, Cabin rental agency, Campground]</td>\n",
       "      <td>4.5</td>\n",
       "      <td>18</td>\n",
       "      <td>None</td>\n",
       "      <td>None</td>\n",
       "      <td>None</td>\n",
       "      <td>None</td>\n",
       "      <td>[0x56b6445fd9f9e387:0x6dd3d374ef56431a, 0x56b6...</td>\n",
       "      <td>https://www.google.com/maps/place//data=!4m2!3...</td>\n",
       "    </tr>\n",
       "    <tr>\n",
       "      <th>1</th>\n",
       "      <td>Anchorage Market</td>\n",
       "      <td>Anchorage Market, 88th Ave, Anchorage, AK 99515</td>\n",
       "      <td>0x56c8992b5dee7225:0x9f7f4bf151868cf7</td>\n",
       "      <td>None</td>\n",
       "      <td>61.141435</td>\n",
       "      <td>-149.868482</td>\n",
       "      <td>[Farmers' market]</td>\n",
       "      <td>4.2</td>\n",
       "      <td>18</td>\n",
       "      <td>None</td>\n",
       "      <td>[[Thursday, Closed], [Friday, 10AM–5PM], [Satu...</td>\n",
       "      <td>{'Service options': ['In-store shopping'], 'Ac...</td>\n",
       "      <td>Closed ⋅ Opens 10AM Fri</td>\n",
       "      <td>None</td>\n",
       "      <td>https://www.google.com/maps/place//data=!4m2!3...</td>\n",
       "    </tr>\n",
       "    <tr>\n",
       "      <th>2</th>\n",
       "      <td>Happy Camper RV</td>\n",
       "      <td>Happy Camper RV, 1151 N Shenandoah Dr # 4, Pal...</td>\n",
       "      <td>0x56c8e0455225be87:0xf24828df75e2f8ae</td>\n",
       "      <td>None</td>\n",
       "      <td>61.591855</td>\n",
       "      <td>-149.290657</td>\n",
       "      <td>[RV repair shop]</td>\n",
       "      <td>4.4</td>\n",
       "      <td>28</td>\n",
       "      <td>None</td>\n",
       "      <td>None</td>\n",
       "      <td>{'Accessibility': ['Wheelchair accessible entr...</td>\n",
       "      <td>None</td>\n",
       "      <td>[0x56c8e104d9929a1d:0x2070ad63defadbf, 0x56c91...</td>\n",
       "      <td>https://www.google.com/maps/place//data=!4m2!3...</td>\n",
       "    </tr>\n",
       "  </tbody>\n",
       "</table>\n",
       "</div>"
      ],
      "text/plain": [
       "                          name  \\\n",
       "0  Bear Creek Cabins & RV Park   \n",
       "1             Anchorage Market   \n",
       "2              Happy Camper RV   \n",
       "\n",
       "                                             address  \\\n",
       "0  Bear Creek Cabins & RV Park, 3181 Richardson H...   \n",
       "1    Anchorage Market, 88th Ave, Anchorage, AK 99515   \n",
       "2  Happy Camper RV, 1151 N Shenandoah Dr # 4, Pal...   \n",
       "\n",
       "                                 gmap_id description   latitude   longitude  \\\n",
       "0  0x56b646ed2220b77f:0xd8975e316de80952        None  61.100644 -146.214552   \n",
       "1  0x56c8992b5dee7225:0x9f7f4bf151868cf7        None  61.141435 -149.868482   \n",
       "2  0x56c8e0455225be87:0xf24828df75e2f8ae        None  61.591855 -149.290657   \n",
       "\n",
       "                                     category  avg_rating  num_of_reviews  \\\n",
       "0  [RV park, Cabin rental agency, Campground]         4.5              18   \n",
       "1                           [Farmers' market]         4.2              18   \n",
       "2                            [RV repair shop]         4.4              28   \n",
       "\n",
       "  price                                              hours  \\\n",
       "0  None                                               None   \n",
       "1  None  [[Thursday, Closed], [Friday, 10AM–5PM], [Satu...   \n",
       "2  None                                               None   \n",
       "\n",
       "                                                MISC                    state  \\\n",
       "0                                               None                     None   \n",
       "1  {'Service options': ['In-store shopping'], 'Ac...  Closed ⋅ Opens 10AM Fri   \n",
       "2  {'Accessibility': ['Wheelchair accessible entr...                     None   \n",
       "\n",
       "                                    relative_results  \\\n",
       "0  [0x56b6445fd9f9e387:0x6dd3d374ef56431a, 0x56b6...   \n",
       "1                                               None   \n",
       "2  [0x56c8e104d9929a1d:0x2070ad63defadbf, 0x56c91...   \n",
       "\n",
       "                                                 url  \n",
       "0  https://www.google.com/maps/place//data=!4m2!3...  \n",
       "1  https://www.google.com/maps/place//data=!4m2!3...  \n",
       "2  https://www.google.com/maps/place//data=!4m2!3...  "
      ]
     },
     "execution_count": 5,
     "metadata": {},
     "output_type": "execute_result"
    }
   ],
   "source": [
    "df_meta.head(3)"
   ]
  },
  {
   "cell_type": "markdown",
   "metadata": {},
   "source": [
    "## Preprocessing"
   ]
  },
  {
   "cell_type": "markdown",
   "metadata": {},
   "source": [
    "### Count of businesses by city"
   ]
  },
  {
   "cell_type": "code",
   "execution_count": 6,
   "metadata": {},
   "outputs": [
    {
     "data": {
      "text/plain": [
       "address\n",
       "Anchorage      4228\n",
       "Fairbanks      1285\n",
       "Wasilla         863\n",
       "Juneau          642\n",
       "Palmer          428\n",
       "Soldotna        344\n",
       "Ketchikan       323\n",
       "Homer           307\n",
       "Eagle River     270\n",
       "Kenai           240\n",
       "Name: count, dtype: int64"
      ]
     },
     "execution_count": 6,
     "metadata": {},
     "output_type": "execute_result"
    }
   ],
   "source": [
    "def get_city(address):\n",
    "    if not address:\n",
    "        return None\n",
    "    \n",
    "    address_fields = address.split(', ')\n",
    "\n",
    "    if len(address_fields) == 1:\n",
    "        return address_fields[0]\n",
    "    \n",
    "    return address_fields[-2]\n",
    "\n",
    "df_meta['address'].apply(lambda address: get_city(address)).value_counts()[:10]"
   ]
  },
  {
   "cell_type": "code",
   "execution_count": 7,
   "metadata": {},
   "outputs": [],
   "source": [
    "# City we want to analize\n",
    "city = 'Fairbanks'"
   ]
  },
  {
   "cell_type": "markdown",
   "metadata": {},
   "source": [
    "### Get businesses from the city"
   ]
  },
  {
   "cell_type": "code",
   "execution_count": 8,
   "metadata": {},
   "outputs": [],
   "source": [
    "def is_address_from_city(address, city):\n",
    "    if not address:\n",
    "        return False\n",
    "    \n",
    "    address_fields = address.split(', ')\n",
    "\n",
    "    if len(address_fields) == 1:\n",
    "        return address_fields[0] == city\n",
    "    \n",
    "    if address_fields[-2] == city:\n",
    "        return True\n",
    "    return False\n",
    "\n",
    "city_mask = df_meta['address'].apply(lambda address: is_address_from_city(address, city))\n",
    "businesses_from_city = df_meta[city_mask]"
   ]
  },
  {
   "cell_type": "markdown",
   "metadata": {},
   "source": [
    "### Get users from the city"
   ]
  },
  {
   "cell_type": "code",
   "execution_count": 9,
   "metadata": {},
   "outputs": [],
   "source": [
    "def user_is_good_for_city(user_id, city, threshold):\n",
    "    global businesses_from_city, df_reviews\n",
    "\n",
    "    user_reviews = df_reviews[df_reviews['user_id'] == user_id]\n",
    "    reviews_count = user_reviews['gmap_id'].isin(businesses_from_city['gmap_id']).sum()\n",
    "\n",
    "    return reviews_count >= threshold\n",
    "\n",
    "user_ids = pd.Series(df_reviews['user_id'].unique())\n",
    "user_mask = user_ids.apply(lambda user_id: user_is_good_for_city(user_id, city, 5))\n",
    "\n",
    "users_from_city = user_ids[user_mask]"
   ]
  },
  {
   "cell_type": "code",
   "execution_count": 10,
   "metadata": {},
   "outputs": [
    {
     "data": {
      "text/plain": [
       "3        1.103292e+20\n",
       "37       1.007600e+20\n",
       "104      1.183128e+20\n",
       "186      1.088855e+20\n",
       "193      1.097375e+20\n",
       "             ...     \n",
       "19997    1.170402e+20\n",
       "19998    1.039482e+20\n",
       "20007    1.112864e+20\n",
       "20008    1.075783e+20\n",
       "20020    1.000112e+20\n",
       "Length: 3622, dtype: float64"
      ]
     },
     "execution_count": 10,
     "metadata": {},
     "output_type": "execute_result"
    }
   ],
   "source": [
    "users_from_city"
   ]
  },
  {
   "cell_type": "markdown",
   "metadata": {},
   "source": [
    "#### Check cities of reviews for the first found user"
   ]
  },
  {
   "cell_type": "code",
   "execution_count": 11,
   "metadata": {},
   "outputs": [
    {
     "data": {
      "text/plain": [
       "3                                    Valdez\n",
       "244                                  Valdez\n",
       "34802                             Fairbanks\n",
       "49967                                 Homer\n",
       "90360                             Fairbanks\n",
       "123046                      Fort Wainwright\n",
       "164050                            Fairbanks\n",
       "167335                            Fairbanks\n",
       "176855    Denali National Park and Preserve\n",
       "176982    Denali National Park and Preserve\n",
       "177672                            Fairbanks\n",
       "206507                                Healy\n",
       "211309                               Palmer\n",
       "227036                            Fairbanks\n",
       "252110                                Healy\n",
       "264412                            Fairbanks\n",
       "274687                            Fairbanks\n",
       "312048                               Palmer\n",
       "346516                            Fairbanks\n",
       "349357                            Fairbanks\n",
       "376777                            Fairbanks\n",
       "487423                            Fairbanks\n",
       "517661                               Palmer\n",
       "Name: gmap_id, dtype: object"
      ]
     },
     "execution_count": 11,
     "metadata": {},
     "output_type": "execute_result"
    }
   ],
   "source": [
    "df_reviews[df_reviews['user_id'] == users_from_city[3]]['gmap_id'].apply(\n",
    "    lambda gmap_id: get_city(\n",
    "        df_meta[df_meta['gmap_id'] == gmap_id]['address'].iloc[0]\n",
    "    )\n",
    ")"
   ]
  }
 ],
 "metadata": {
  "kernelspec": {
   "display_name": "Python 3",
   "language": "python",
   "name": "python3"
  },
  "language_info": {
   "codemirror_mode": {
    "name": "ipython",
    "version": 3
   },
   "file_extension": ".py",
   "mimetype": "text/x-python",
   "name": "python",
   "nbconvert_exporter": "python",
   "pygments_lexer": "ipython3",
   "version": "3.11.7"
  }
 },
 "nbformat": 4,
 "nbformat_minor": 2
}
