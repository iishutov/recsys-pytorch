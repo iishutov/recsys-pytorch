{
 "cells": [
  {
   "cell_type": "code",
   "execution_count": 221,
   "metadata": {},
   "outputs": [],
   "source": [
    "import numpy as np\n",
    "import pandas as pd\n",
    "import matplotlib.pyplot as plt"
   ]
  },
  {
   "cell_type": "markdown",
   "metadata": {},
   "source": [
    "## Import the dataset"
   ]
  },
  {
   "cell_type": "markdown",
   "metadata": {},
   "source": [
    "[Google Local Data (2021). Alaska 10-core (521,515 reviews)](https://datarepo.eng.ucsd.edu/mcauley_group/gdrive/googlelocal/)\n",
    "\n",
    "This Dataset contains review information on Google map (ratings, text, images, etc.), business metadata (address, geographical info, descriptions, category information, price, open hours, and MISC info), and links (relative businesses) up to Sep 2021 in the United States.\n",
    "\n",
    "These data have been reduced to extract the k-core, such that each of the remaining users and items have k reviews each.\n",
    "\n",
    "<ul>\n",
    "<li>user_id - ID of the reviewer\n",
    "<li>name - name of the reviwer\n",
    "<li>time - time of the review (unix time)\n",
    "<li>rating - rating of the business\n",
    "<li>text - text of the review\n",
    "<li>pics - pictures of the review\n",
    "<li>resp - business response to the review including unix time and text of the response\n",
    "<li>gmap_id - ID of the business\n",
    "</ul>\n",
    "\n",
    "Metadata:\n",
    "<ul>\n",
    "<li>name - name of the business\n",
    "<li>address - address of the business\n",
    "<li>gmap_id - ID of the business\n",
    "<li>description - description of the business\n",
    "<li>latitude - latitude of the business\n",
    "<li>longitude - longitude of the business\n",
    "<li>category - category of the business\n",
    "<li>avg_rating - average rating of the business\n",
    "<li>num_of_reviews - number of reviews\n",
    "<li>price - price of the business\n",
    "<li>hours - open hours\n",
    "<li>MISC - MISC information\n",
    "<li>state - the current status of the business (e.g., permanently closed)\n",
    "<li>relative_results - relative businesses recommended by Google\n",
    "<li>url - URL of the business\n",
    "</ul>\n",
    "\n",
    "Format is one-review-per-line in json.\n",
    "\n",
    "Citation\n",
    "1. UCTopic: Unsupervised Contrastive Learning for Phrase Representations and Topic Mining\n",
    "Jiacheng Li, Jingbo Shang, Julian McAuley\n",
    "Annual Meeting of the Association for Computational Linguistics (ACL), 2022\n",
    "[pdf](https://aclanthology.org/2022.acl-long.426.pdf)\n",
    "\n",
    "2. Personalized Showcases: Generating Multi-Modal Explanations for Recommendations\n",
    "An Yan, Zhankui He, Jiacheng Li, Tianyang Zhang, Julian Mcauley\n",
    "The 46th International ACM SIGIR Conference on Research and Development in Information Retrieval (SIGIR), 2023\n",
    "[pdf](https://arxiv.org/pdf/2207.00422.pdf)"
   ]
  },
  {
   "cell_type": "code",
   "execution_count": 204,
   "metadata": {},
   "outputs": [],
   "source": [
    "df_reviews = pd.read_json('./data/review-Alaska_10.json.gz', lines=True, compression='gzip')"
   ]
  },
  {
   "cell_type": "code",
   "execution_count": 205,
   "metadata": {},
   "outputs": [
    {
     "data": {
      "text/html": [
       "<div>\n",
       "<style scoped>\n",
       "    .dataframe tbody tr th:only-of-type {\n",
       "        vertical-align: middle;\n",
       "    }\n",
       "\n",
       "    .dataframe tbody tr th {\n",
       "        vertical-align: top;\n",
       "    }\n",
       "\n",
       "    .dataframe thead th {\n",
       "        text-align: right;\n",
       "    }\n",
       "</style>\n",
       "<table border=\"1\" class=\"dataframe\">\n",
       "  <thead>\n",
       "    <tr style=\"text-align: right;\">\n",
       "      <th></th>\n",
       "      <th>user_id</th>\n",
       "      <th>name</th>\n",
       "      <th>time</th>\n",
       "      <th>rating</th>\n",
       "      <th>text</th>\n",
       "      <th>pics</th>\n",
       "      <th>resp</th>\n",
       "      <th>gmap_id</th>\n",
       "    </tr>\n",
       "  </thead>\n",
       "  <tbody>\n",
       "    <tr>\n",
       "      <th>0</th>\n",
       "      <td>1.091298e+20</td>\n",
       "      <td>Nicki Gore</td>\n",
       "      <td>1566331951619</td>\n",
       "      <td>5</td>\n",
       "      <td>We always stay here when in Valdez for silver ...</td>\n",
       "      <td>None</td>\n",
       "      <td>None</td>\n",
       "      <td>0x56b646ed2220b77f:0xd8975e316de80952</td>\n",
       "    </tr>\n",
       "    <tr>\n",
       "      <th>1</th>\n",
       "      <td>1.132409e+20</td>\n",
       "      <td>Allen Ratliff</td>\n",
       "      <td>1504917982385</td>\n",
       "      <td>5</td>\n",
       "      <td>Great campground for the price. Nice hot unlim...</td>\n",
       "      <td>None</td>\n",
       "      <td>None</td>\n",
       "      <td>0x56b646ed2220b77f:0xd8975e316de80952</td>\n",
       "    </tr>\n",
       "    <tr>\n",
       "      <th>2</th>\n",
       "      <td>1.130448e+20</td>\n",
       "      <td>Jonathan Tringali</td>\n",
       "      <td>1474765901185</td>\n",
       "      <td>4</td>\n",
       "      <td>We tent camped here for 2 nights while explori...</td>\n",
       "      <td>None</td>\n",
       "      <td>None</td>\n",
       "      <td>0x56b646ed2220b77f:0xd8975e316de80952</td>\n",
       "    </tr>\n",
       "  </tbody>\n",
       "</table>\n",
       "</div>"
      ],
      "text/plain": [
       "        user_id               name           time  rating  \\\n",
       "0  1.091298e+20         Nicki Gore  1566331951619       5   \n",
       "1  1.132409e+20      Allen Ratliff  1504917982385       5   \n",
       "2  1.130448e+20  Jonathan Tringali  1474765901185       4   \n",
       "\n",
       "                                                text  pics  resp  \\\n",
       "0  We always stay here when in Valdez for silver ...  None  None   \n",
       "1  Great campground for the price. Nice hot unlim...  None  None   \n",
       "2  We tent camped here for 2 nights while explori...  None  None   \n",
       "\n",
       "                                 gmap_id  \n",
       "0  0x56b646ed2220b77f:0xd8975e316de80952  \n",
       "1  0x56b646ed2220b77f:0xd8975e316de80952  \n",
       "2  0x56b646ed2220b77f:0xd8975e316de80952  "
      ]
     },
     "execution_count": 205,
     "metadata": {},
     "output_type": "execute_result"
    }
   ],
   "source": [
    "df_reviews.head(3)"
   ]
  },
  {
   "cell_type": "code",
   "execution_count": 206,
   "metadata": {},
   "outputs": [],
   "source": [
    "df_meta = pd.read_json('./data/meta-Alaska.json.gz', lines=True, compression='gzip')"
   ]
  },
  {
   "cell_type": "code",
   "execution_count": 207,
   "metadata": {},
   "outputs": [
    {
     "data": {
      "text/html": [
       "<div>\n",
       "<style scoped>\n",
       "    .dataframe tbody tr th:only-of-type {\n",
       "        vertical-align: middle;\n",
       "    }\n",
       "\n",
       "    .dataframe tbody tr th {\n",
       "        vertical-align: top;\n",
       "    }\n",
       "\n",
       "    .dataframe thead th {\n",
       "        text-align: right;\n",
       "    }\n",
       "</style>\n",
       "<table border=\"1\" class=\"dataframe\">\n",
       "  <thead>\n",
       "    <tr style=\"text-align: right;\">\n",
       "      <th></th>\n",
       "      <th>name</th>\n",
       "      <th>address</th>\n",
       "      <th>gmap_id</th>\n",
       "      <th>description</th>\n",
       "      <th>latitude</th>\n",
       "      <th>longitude</th>\n",
       "      <th>category</th>\n",
       "      <th>avg_rating</th>\n",
       "      <th>num_of_reviews</th>\n",
       "      <th>price</th>\n",
       "      <th>hours</th>\n",
       "      <th>MISC</th>\n",
       "      <th>state</th>\n",
       "      <th>relative_results</th>\n",
       "      <th>url</th>\n",
       "    </tr>\n",
       "  </thead>\n",
       "  <tbody>\n",
       "    <tr>\n",
       "      <th>0</th>\n",
       "      <td>Bear Creek Cabins &amp; RV Park</td>\n",
       "      <td>Bear Creek Cabins &amp; RV Park, 3181 Richardson H...</td>\n",
       "      <td>0x56b646ed2220b77f:0xd8975e316de80952</td>\n",
       "      <td>None</td>\n",
       "      <td>61.100644</td>\n",
       "      <td>-146.214552</td>\n",
       "      <td>[RV park, Cabin rental agency, Campground]</td>\n",
       "      <td>4.5</td>\n",
       "      <td>18</td>\n",
       "      <td>None</td>\n",
       "      <td>None</td>\n",
       "      <td>None</td>\n",
       "      <td>None</td>\n",
       "      <td>[0x56b6445fd9f9e387:0x6dd3d374ef56431a, 0x56b6...</td>\n",
       "      <td>https://www.google.com/maps/place//data=!4m2!3...</td>\n",
       "    </tr>\n",
       "    <tr>\n",
       "      <th>1</th>\n",
       "      <td>Anchorage Market</td>\n",
       "      <td>Anchorage Market, 88th Ave, Anchorage, AK 99515</td>\n",
       "      <td>0x56c8992b5dee7225:0x9f7f4bf151868cf7</td>\n",
       "      <td>None</td>\n",
       "      <td>61.141435</td>\n",
       "      <td>-149.868482</td>\n",
       "      <td>[Farmers' market]</td>\n",
       "      <td>4.2</td>\n",
       "      <td>18</td>\n",
       "      <td>None</td>\n",
       "      <td>[[Thursday, Closed], [Friday, 10AM–5PM], [Satu...</td>\n",
       "      <td>{'Service options': ['In-store shopping'], 'Ac...</td>\n",
       "      <td>Closed ⋅ Opens 10AM Fri</td>\n",
       "      <td>None</td>\n",
       "      <td>https://www.google.com/maps/place//data=!4m2!3...</td>\n",
       "    </tr>\n",
       "    <tr>\n",
       "      <th>2</th>\n",
       "      <td>Happy Camper RV</td>\n",
       "      <td>Happy Camper RV, 1151 N Shenandoah Dr # 4, Pal...</td>\n",
       "      <td>0x56c8e0455225be87:0xf24828df75e2f8ae</td>\n",
       "      <td>None</td>\n",
       "      <td>61.591855</td>\n",
       "      <td>-149.290657</td>\n",
       "      <td>[RV repair shop]</td>\n",
       "      <td>4.4</td>\n",
       "      <td>28</td>\n",
       "      <td>None</td>\n",
       "      <td>None</td>\n",
       "      <td>{'Accessibility': ['Wheelchair accessible entr...</td>\n",
       "      <td>None</td>\n",
       "      <td>[0x56c8e104d9929a1d:0x2070ad63defadbf, 0x56c91...</td>\n",
       "      <td>https://www.google.com/maps/place//data=!4m2!3...</td>\n",
       "    </tr>\n",
       "  </tbody>\n",
       "</table>\n",
       "</div>"
      ],
      "text/plain": [
       "                          name  \\\n",
       "0  Bear Creek Cabins & RV Park   \n",
       "1             Anchorage Market   \n",
       "2              Happy Camper RV   \n",
       "\n",
       "                                             address  \\\n",
       "0  Bear Creek Cabins & RV Park, 3181 Richardson H...   \n",
       "1    Anchorage Market, 88th Ave, Anchorage, AK 99515   \n",
       "2  Happy Camper RV, 1151 N Shenandoah Dr # 4, Pal...   \n",
       "\n",
       "                                 gmap_id description   latitude   longitude  \\\n",
       "0  0x56b646ed2220b77f:0xd8975e316de80952        None  61.100644 -146.214552   \n",
       "1  0x56c8992b5dee7225:0x9f7f4bf151868cf7        None  61.141435 -149.868482   \n",
       "2  0x56c8e0455225be87:0xf24828df75e2f8ae        None  61.591855 -149.290657   \n",
       "\n",
       "                                     category  avg_rating  num_of_reviews  \\\n",
       "0  [RV park, Cabin rental agency, Campground]         4.5              18   \n",
       "1                           [Farmers' market]         4.2              18   \n",
       "2                            [RV repair shop]         4.4              28   \n",
       "\n",
       "  price                                              hours  \\\n",
       "0  None                                               None   \n",
       "1  None  [[Thursday, Closed], [Friday, 10AM–5PM], [Satu...   \n",
       "2  None                                               None   \n",
       "\n",
       "                                                MISC                    state  \\\n",
       "0                                               None                     None   \n",
       "1  {'Service options': ['In-store shopping'], 'Ac...  Closed ⋅ Opens 10AM Fri   \n",
       "2  {'Accessibility': ['Wheelchair accessible entr...                     None   \n",
       "\n",
       "                                    relative_results  \\\n",
       "0  [0x56b6445fd9f9e387:0x6dd3d374ef56431a, 0x56b6...   \n",
       "1                                               None   \n",
       "2  [0x56c8e104d9929a1d:0x2070ad63defadbf, 0x56c91...   \n",
       "\n",
       "                                                 url  \n",
       "0  https://www.google.com/maps/place//data=!4m2!3...  \n",
       "1  https://www.google.com/maps/place//data=!4m2!3...  \n",
       "2  https://www.google.com/maps/place//data=!4m2!3...  "
      ]
     },
     "execution_count": 207,
     "metadata": {},
     "output_type": "execute_result"
    }
   ],
   "source": [
    "df_meta.head(3)"
   ]
  },
  {
   "cell_type": "code",
   "execution_count": 208,
   "metadata": {},
   "outputs": [
    {
     "data": {
      "text/plain": [
       "category\n",
       "[Lake]                        167\n",
       "[Restaurant]                  163\n",
       "[River]                       162\n",
       "[Coffee shop]                 150\n",
       "[Gas station]                 139\n",
       "[Campground]                  109\n",
       "[Cafe]                        106\n",
       "[Bar]                          94\n",
       "[Hiking area]                  91\n",
       "[Hotel]                        87\n",
       "[Park]                         83\n",
       "[Grocery store]                81\n",
       "[Cannabis store]               78\n",
       "[Tourist attraction]           76\n",
       "[Gift shop]                    76\n",
       "[Park, Tourist attraction]     70\n",
       "[Church]                       69\n",
       "[Bay]                          65\n",
       "[Auto repair shop]             62\n",
       "[Non-profit organization]      61\n",
       "Name: count, dtype: int64"
      ]
     },
     "execution_count": 208,
     "metadata": {},
     "output_type": "execute_result"
    }
   ],
   "source": [
    "df_meta['category'].value_counts()[:20]"
   ]
  },
  {
   "cell_type": "markdown",
   "metadata": {},
   "source": [
    "## Preprocessing"
   ]
  },
  {
   "cell_type": "markdown",
   "metadata": {},
   "source": [
    "### Remove unnecessary features"
   ]
  },
  {
   "cell_type": "code",
   "execution_count": 209,
   "metadata": {},
   "outputs": [],
   "source": [
    "# We'll be using only gmap_id, address, avg_rating, num_of_reviews as business features.\n",
    "feature_columns = ['gmap_id', 'address', 'category', 'avg_rating', 'num_of_reviews']\n",
    "\n",
    "df_meta = df_meta.loc[:, feature_columns]"
   ]
  },
  {
   "cell_type": "code",
   "execution_count": 210,
   "metadata": {},
   "outputs": [],
   "source": [
    "# We need only user_id, rating and gmap_id.\n",
    "feature_columns = ['user_id', 'gmap_id', 'rating']\n",
    "\n",
    "df_reviews = df_reviews[feature_columns]"
   ]
  },
  {
   "cell_type": "markdown",
   "metadata": {},
   "source": [
    "### Count of businesses by city"
   ]
  },
  {
   "cell_type": "code",
   "execution_count": 211,
   "metadata": {},
   "outputs": [
    {
     "data": {
      "text/plain": [
       "address\n",
       "Anchorage      4228\n",
       "Fairbanks      1285\n",
       "Wasilla         863\n",
       "Juneau          642\n",
       "Palmer          428\n",
       "Soldotna        344\n",
       "Ketchikan       323\n",
       "Homer           307\n",
       "Eagle River     270\n",
       "Kenai           240\n",
       "Name: count, dtype: int64"
      ]
     },
     "execution_count": 211,
     "metadata": {},
     "output_type": "execute_result"
    }
   ],
   "source": [
    "def get_city(address):\n",
    "    if not address:\n",
    "        return None\n",
    "    \n",
    "    address_fields = address.split(', ')\n",
    "\n",
    "    if len(address_fields) == 1:\n",
    "        return address_fields[0]\n",
    "    \n",
    "    return address_fields[-2]\n",
    "\n",
    "df_meta['address'].apply(lambda address: get_city(address)).value_counts()[:10]"
   ]
  },
  {
   "cell_type": "code",
   "execution_count": 212,
   "metadata": {},
   "outputs": [],
   "source": [
    "# City we want to analize\n",
    "city = 'Fairbanks'"
   ]
  },
  {
   "cell_type": "markdown",
   "metadata": {},
   "source": [
    "### Get businesses from the city"
   ]
  },
  {
   "cell_type": "code",
   "execution_count": 213,
   "metadata": {},
   "outputs": [],
   "source": [
    "def is_address_from_city(address, city):\n",
    "    if not address:\n",
    "        return False\n",
    "    \n",
    "    address_fields = address.split(', ')\n",
    "\n",
    "    if len(address_fields) == 1:\n",
    "        return address_fields[0] == city\n",
    "    \n",
    "    if address_fields[-2] == city:\n",
    "        return True\n",
    "    return False\n",
    "\n",
    "city_mask = df_meta['address'].apply(lambda address: is_address_from_city(address, city))\n",
    "businesses_from_city = df_meta[city_mask].reset_index(drop=True)"
   ]
  },
  {
   "cell_type": "code",
   "execution_count": 214,
   "metadata": {},
   "outputs": [
    {
     "data": {
      "text/plain": [
       "category\n",
       "Restaurant                24\n",
       "Gas station               23\n",
       "Coffee shop               21\n",
       "Park                      20\n",
       "Auto repair shop          19\n",
       "                          ..\n",
       "Aviation                   1\n",
       "Aircraft supply store      1\n",
       "Print shop                 1\n",
       "Tannery                    1\n",
       "Fine dining restaurant     1\n",
       "Name: count, Length: 519, dtype: int64"
      ]
     },
     "execution_count": 214,
     "metadata": {},
     "output_type": "execute_result"
    }
   ],
   "source": [
    "businesses_from_city['category'].apply(lambda x: x[0] if x else None).value_counts()"
   ]
  },
  {
   "cell_type": "markdown",
   "metadata": {},
   "source": [
    "### Get users from the city"
   ]
  },
  {
   "cell_type": "code",
   "execution_count": 215,
   "metadata": {},
   "outputs": [
    {
     "name": "stdout",
     "output_type": "stream",
     "text": [
      "len(users_from_city)=2382\n"
     ]
    }
   ],
   "source": [
    "def user_is_good_for_city(user_id, city, threshold):\n",
    "    global businesses_from_city, df_reviews\n",
    "\n",
    "    user_reviews = df_reviews[df_reviews['user_id'] == user_id]\n",
    "    reviews_count = user_reviews['gmap_id'].isin(businesses_from_city['gmap_id']).sum()\n",
    "\n",
    "    return reviews_count >= threshold\n",
    "\n",
    "threshold = 10\n",
    "user_ids = pd.Series(df_reviews['user_id'].unique())\n",
    "user_mask = user_ids.apply(lambda user_id: user_is_good_for_city(user_id, city, threshold))\n",
    "\n",
    "users_from_city = user_ids[user_mask].reset_index(drop=True)\n",
    "print(f'{len(users_from_city)=}')"
   ]
  },
  {
   "cell_type": "markdown",
   "metadata": {},
   "source": [
    "### Delete reviews outside the target city"
   ]
  },
  {
   "cell_type": "code",
   "execution_count": 216,
   "metadata": {},
   "outputs": [],
   "source": [
    "business_mask = df_reviews['gmap_id'].isin(businesses_from_city['gmap_id'])\n",
    "user_mask = df_reviews['user_id'].isin(users_from_city)\n",
    "\n",
    "df_reviews = df_reviews[business_mask & user_mask]"
   ]
  },
  {
   "cell_type": "code",
   "execution_count": 244,
   "metadata": {},
   "outputs": [
    {
     "data": {
      "image/png": "[encoded data removed]",
      "text/plain": [
       "<Figure size 640x480 with 1 Axes>"
      ]
     },
     "metadata": {},
     "output_type": "display_data"
    }
   ],
   "source": [
    "count_of_reviews_by_user = df_reviews.groupby('user_id').count()['gmap_id']\\\n",
    "    .sort_values(ascending=False).values\n",
    "\n",
    "plt.title('Count of reviews by user')\n",
    "plt.plot(count_of_reviews_by_user)\n",
    "plt.ylabel('reviews count')\n",
    "plt.xlabel('№ of user')\n",
    "plt.yticks(np.arange(threshold, count_of_reviews_by_user[0]+10, 10))\n",
    "plt.grid()"
   ]
  }
 ],
 "metadata": {
  "kernelspec": {
   "display_name": "Python 3",
   "language": "python",
   "name": "python3"
  },
  "language_info": {
   "codemirror_mode": {
    "name": "ipython",
    "version": 3
   },
   "file_extension": ".py",
   "mimetype": "text/x-python",
   "name": "python",
   "nbconvert_exporter": "python",
   "pygments_lexer": "ipython3",
   "version": "3.11.7"
  }
 },
 "nbformat": 4,
 "nbformat_minor": 2
}
