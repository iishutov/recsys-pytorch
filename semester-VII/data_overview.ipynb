{
 "cells": [
  {
   "cell_type": "code",
   "execution_count": 144,
   "metadata": {},
   "outputs": [],
   "source": [
    "import numpy as np\n",
    "import pandas as pd\n",
    "import matplotlib.pyplot as plt"
   ]
  },
  {
   "cell_type": "markdown",
   "metadata": {},
   "source": [
    "## Importing the dataset"
   ]
  },
  {
   "cell_type": "markdown",
   "metadata": {},
   "source": [
    "[Google Local Data (2021). Alaska 10-core (521,515 reviews)](https://datarepo.eng.ucsd.edu/mcauley_group/gdrive/googlelocal/)\n",
    "\n",
    "This Dataset contains review information on Google map (ratings, text, images, etc.), business metadata (address, geographical info, descriptions, category information, price, open hours, and MISC info), and links (relative businesses) up to Sep 2021 in the United States.\n",
    "\n",
    "These data have been reduced to extract the k-core, such that each of the remaining users and items have k reviews each.\n",
    "\n",
    "<ul>\n",
    "<li>user_id - ID of the reviewer\n",
    "<li>name - name of the reviwer\n",
    "<li>time - time of the review (unix time)\n",
    "<li>rating - rating of the business\n",
    "<li>text - text of the review\n",
    "<li>pics - pictures of the review\n",
    "<li>resp - business response to the review including unix time and text of the response\n",
    "<li>gmap_id - ID of the business\n",
    "</ul>\n",
    "\n",
    "Metadata:\n",
    "<ul>\n",
    "<li>name - name of the business\n",
    "<li>address - address of the business\n",
    "<li>gmap_id - ID of the business\n",
    "<li>description - description of the business\n",
    "<li>latitude - latitude of the business\n",
    "<li>longitude - longitude of the business\n",
    "<li>category - category of the business\n",
    "<li>avg_rating - average rating of the business\n",
    "<li>num_of_reviews - number of reviews\n",
    "<li>price - price of the business\n",
    "<li>hours - open hours\n",
    "<li>MISC - MISC information\n",
    "<li>state - the current status of the business (e.g., permanently closed)\n",
    "<li>relative_results - relative businesses recommended by Google\n",
    "<li>url - URL of the business\n",
    "</ul>\n",
    "\n",
    "Format is one-review-per-line in json.\n",
    "\n",
    "Citation\n",
    "1. UCTopic: Unsupervised Contrastive Learning for Phrase Representations and Topic Mining\n",
    "Jiacheng Li, Jingbo Shang, Julian McAuley\n",
    "Annual Meeting of the Association for Computational Linguistics (ACL), 2022\n",
    "[pdf](https://aclanthology.org/2022.acl-long.426.pdf)\n",
    "\n",
    "2. Personalized Showcases: Generating Multi-Modal Explanations for Recommendations\n",
    "An Yan, Zhankui He, Jiacheng Li, Tianyang Zhang, Julian Mcauley\n",
    "The 46th International ACM SIGIR Conference on Research and Development in Information Retrieval (SIGIR), 2023\n",
    "[pdf](https://arxiv.org/pdf/2207.00422.pdf)"
   ]
  },
  {
   "cell_type": "code",
   "execution_count": 145,
   "metadata": {},
   "outputs": [],
   "source": [
    "df_reviews = pd.read_json('./data/review-Alaska_10.json.gz', lines=True, compression='gzip')"
   ]
  },
  {
   "cell_type": "code",
   "execution_count": 146,
   "metadata": {},
   "outputs": [
    {
     "data": {
      "text/html": [
       "<div>\n",
       "<style scoped>\n",
       "    .dataframe tbody tr th:only-of-type {\n",
       "        vertical-align: middle;\n",
       "    }\n",
       "\n",
       "    .dataframe tbody tr th {\n",
       "        vertical-align: top;\n",
       "    }\n",
       "\n",
       "    .dataframe thead th {\n",
       "        text-align: right;\n",
       "    }\n",
       "</style>\n",
       "<table border=\"1\" class=\"dataframe\">\n",
       "  <thead>\n",
       "    <tr style=\"text-align: right;\">\n",
       "      <th></th>\n",
       "      <th>user_id</th>\n",
       "      <th>name</th>\n",
       "      <th>time</th>\n",
       "      <th>rating</th>\n",
       "      <th>text</th>\n",
       "      <th>pics</th>\n",
       "      <th>resp</th>\n",
       "      <th>gmap_id</th>\n",
       "    </tr>\n",
       "  </thead>\n",
       "  <tbody>\n",
       "    <tr>\n",
       "      <th>0</th>\n",
       "      <td>1.091298e+20</td>\n",
       "      <td>Nicki Gore</td>\n",
       "      <td>1566331951619</td>\n",
       "      <td>5</td>\n",
       "      <td>We always stay here when in Valdez for silver ...</td>\n",
       "      <td>None</td>\n",
       "      <td>None</td>\n",
       "      <td>0x56b646ed2220b77f:0xd8975e316de80952</td>\n",
       "    </tr>\n",
       "    <tr>\n",
       "      <th>1</th>\n",
       "      <td>1.132409e+20</td>\n",
       "      <td>Allen Ratliff</td>\n",
       "      <td>1504917982385</td>\n",
       "      <td>5</td>\n",
       "      <td>Great campground for the price. Nice hot unlim...</td>\n",
       "      <td>None</td>\n",
       "      <td>None</td>\n",
       "      <td>0x56b646ed2220b77f:0xd8975e316de80952</td>\n",
       "    </tr>\n",
       "    <tr>\n",
       "      <th>2</th>\n",
       "      <td>1.130448e+20</td>\n",
       "      <td>Jonathan Tringali</td>\n",
       "      <td>1474765901185</td>\n",
       "      <td>4</td>\n",
       "      <td>We tent camped here for 2 nights while explori...</td>\n",
       "      <td>None</td>\n",
       "      <td>None</td>\n",
       "      <td>0x56b646ed2220b77f:0xd8975e316de80952</td>\n",
       "    </tr>\n",
       "  </tbody>\n",
       "</table>\n",
       "</div>"
      ],
      "text/plain": [
       "        user_id               name           time  rating  \\\n",
       "0  1.091298e+20         Nicki Gore  1566331951619       5   \n",
       "1  1.132409e+20      Allen Ratliff  1504917982385       5   \n",
       "2  1.130448e+20  Jonathan Tringali  1474765901185       4   \n",
       "\n",
       "                                                text  pics  resp  \\\n",
       "0  We always stay here when in Valdez for silver ...  None  None   \n",
       "1  Great campground for the price. Nice hot unlim...  None  None   \n",
       "2  We tent camped here for 2 nights while explori...  None  None   \n",
       "\n",
       "                                 gmap_id  \n",
       "0  0x56b646ed2220b77f:0xd8975e316de80952  \n",
       "1  0x56b646ed2220b77f:0xd8975e316de80952  \n",
       "2  0x56b646ed2220b77f:0xd8975e316de80952  "
      ]
     },
     "execution_count": 146,
     "metadata": {},
     "output_type": "execute_result"
    }
   ],
   "source": [
    "df_reviews.head(3)"
   ]
  },
  {
   "cell_type": "code",
   "execution_count": 147,
   "metadata": {},
   "outputs": [],
   "source": [
    "df_meta = pd.read_json('./data/meta-Alaska.json.gz', lines=True, compression='gzip')"
   ]
  },
  {
   "cell_type": "code",
   "execution_count": 148,
   "metadata": {},
   "outputs": [
    {
     "data": {
      "text/html": [
       "<div>\n",
       "<style scoped>\n",
       "    .dataframe tbody tr th:only-of-type {\n",
       "        vertical-align: middle;\n",
       "    }\n",
       "\n",
       "    .dataframe tbody tr th {\n",
       "        vertical-align: top;\n",
       "    }\n",
       "\n",
       "    .dataframe thead th {\n",
       "        text-align: right;\n",
       "    }\n",
       "</style>\n",
       "<table border=\"1\" class=\"dataframe\">\n",
       "  <thead>\n",
       "    <tr style=\"text-align: right;\">\n",
       "      <th></th>\n",
       "      <th>name</th>\n",
       "      <th>address</th>\n",
       "      <th>gmap_id</th>\n",
       "      <th>description</th>\n",
       "      <th>latitude</th>\n",
       "      <th>longitude</th>\n",
       "      <th>category</th>\n",
       "      <th>avg_rating</th>\n",
       "      <th>num_of_reviews</th>\n",
       "      <th>price</th>\n",
       "      <th>hours</th>\n",
       "      <th>MISC</th>\n",
       "      <th>state</th>\n",
       "      <th>relative_results</th>\n",
       "      <th>url</th>\n",
       "    </tr>\n",
       "  </thead>\n",
       "  <tbody>\n",
       "    <tr>\n",
       "      <th>0</th>\n",
       "      <td>Bear Creek Cabins &amp; RV Park</td>\n",
       "      <td>Bear Creek Cabins &amp; RV Park, 3181 Richardson H...</td>\n",
       "      <td>0x56b646ed2220b77f:0xd8975e316de80952</td>\n",
       "      <td>None</td>\n",
       "      <td>61.100644</td>\n",
       "      <td>-146.214552</td>\n",
       "      <td>[RV park, Cabin rental agency, Campground]</td>\n",
       "      <td>4.5</td>\n",
       "      <td>18</td>\n",
       "      <td>None</td>\n",
       "      <td>None</td>\n",
       "      <td>None</td>\n",
       "      <td>None</td>\n",
       "      <td>[0x56b6445fd9f9e387:0x6dd3d374ef56431a, 0x56b6...</td>\n",
       "      <td>https://www.google.com/maps/place//data=!4m2!3...</td>\n",
       "    </tr>\n",
       "    <tr>\n",
       "      <th>1</th>\n",
       "      <td>Anchorage Market</td>\n",
       "      <td>Anchorage Market, 88th Ave, Anchorage, AK 99515</td>\n",
       "      <td>0x56c8992b5dee7225:0x9f7f4bf151868cf7</td>\n",
       "      <td>None</td>\n",
       "      <td>61.141435</td>\n",
       "      <td>-149.868482</td>\n",
       "      <td>[Farmers' market]</td>\n",
       "      <td>4.2</td>\n",
       "      <td>18</td>\n",
       "      <td>None</td>\n",
       "      <td>[[Thursday, Closed], [Friday, 10AM–5PM], [Satu...</td>\n",
       "      <td>{'Service options': ['In-store shopping'], 'Ac...</td>\n",
       "      <td>Closed ⋅ Opens 10AM Fri</td>\n",
       "      <td>None</td>\n",
       "      <td>https://www.google.com/maps/place//data=!4m2!3...</td>\n",
       "    </tr>\n",
       "    <tr>\n",
       "      <th>2</th>\n",
       "      <td>Happy Camper RV</td>\n",
       "      <td>Happy Camper RV, 1151 N Shenandoah Dr # 4, Pal...</td>\n",
       "      <td>0x56c8e0455225be87:0xf24828df75e2f8ae</td>\n",
       "      <td>None</td>\n",
       "      <td>61.591855</td>\n",
       "      <td>-149.290657</td>\n",
       "      <td>[RV repair shop]</td>\n",
       "      <td>4.4</td>\n",
       "      <td>28</td>\n",
       "      <td>None</td>\n",
       "      <td>None</td>\n",
       "      <td>{'Accessibility': ['Wheelchair accessible entr...</td>\n",
       "      <td>None</td>\n",
       "      <td>[0x56c8e104d9929a1d:0x2070ad63defadbf, 0x56c91...</td>\n",
       "      <td>https://www.google.com/maps/place//data=!4m2!3...</td>\n",
       "    </tr>\n",
       "  </tbody>\n",
       "</table>\n",
       "</div>"
      ],
      "text/plain": [
       "                          name  \\\n",
       "0  Bear Creek Cabins & RV Park   \n",
       "1             Anchorage Market   \n",
       "2              Happy Camper RV   \n",
       "\n",
       "                                             address  \\\n",
       "0  Bear Creek Cabins & RV Park, 3181 Richardson H...   \n",
       "1    Anchorage Market, 88th Ave, Anchorage, AK 99515   \n",
       "2  Happy Camper RV, 1151 N Shenandoah Dr # 4, Pal...   \n",
       "\n",
       "                                 gmap_id description   latitude   longitude  \\\n",
       "0  0x56b646ed2220b77f:0xd8975e316de80952        None  61.100644 -146.214552   \n",
       "1  0x56c8992b5dee7225:0x9f7f4bf151868cf7        None  61.141435 -149.868482   \n",
       "2  0x56c8e0455225be87:0xf24828df75e2f8ae        None  61.591855 -149.290657   \n",
       "\n",
       "                                     category  avg_rating  num_of_reviews  \\\n",
       "0  [RV park, Cabin rental agency, Campground]         4.5              18   \n",
       "1                           [Farmers' market]         4.2              18   \n",
       "2                            [RV repair shop]         4.4              28   \n",
       "\n",
       "  price                                              hours  \\\n",
       "0  None                                               None   \n",
       "1  None  [[Thursday, Closed], [Friday, 10AM–5PM], [Satu...   \n",
       "2  None                                               None   \n",
       "\n",
       "                                                MISC                    state  \\\n",
       "0                                               None                     None   \n",
       "1  {'Service options': ['In-store shopping'], 'Ac...  Closed ⋅ Opens 10AM Fri   \n",
       "2  {'Accessibility': ['Wheelchair accessible entr...                     None   \n",
       "\n",
       "                                    relative_results  \\\n",
       "0  [0x56b6445fd9f9e387:0x6dd3d374ef56431a, 0x56b6...   \n",
       "1                                               None   \n",
       "2  [0x56c8e104d9929a1d:0x2070ad63defadbf, 0x56c91...   \n",
       "\n",
       "                                                 url  \n",
       "0  https://www.google.com/maps/place//data=!4m2!3...  \n",
       "1  https://www.google.com/maps/place//data=!4m2!3...  \n",
       "2  https://www.google.com/maps/place//data=!4m2!3...  "
      ]
     },
     "execution_count": 148,
     "metadata": {},
     "output_type": "execute_result"
    }
   ],
   "source": [
    "df_meta.head(3)"
   ]
  },
  {
   "cell_type": "code",
   "execution_count": 149,
   "metadata": {},
   "outputs": [
    {
     "data": {
      "text/plain": [
       "category\n",
       "[Lake]                        167\n",
       "[Restaurant]                  163\n",
       "[River]                       162\n",
       "[Coffee shop]                 150\n",
       "[Gas station]                 139\n",
       "[Campground]                  109\n",
       "[Cafe]                        106\n",
       "[Bar]                          94\n",
       "[Hiking area]                  91\n",
       "[Hotel]                        87\n",
       "[Park]                         83\n",
       "[Grocery store]                81\n",
       "[Cannabis store]               78\n",
       "[Tourist attraction]           76\n",
       "[Gift shop]                    76\n",
       "[Park, Tourist attraction]     70\n",
       "[Church]                       69\n",
       "[Bay]                          65\n",
       "[Auto repair shop]             62\n",
       "[Non-profit organization]      61\n",
       "Name: count, dtype: int64"
      ]
     },
     "execution_count": 149,
     "metadata": {},
     "output_type": "execute_result"
    }
   ],
   "source": [
    "df_meta['category'].value_counts()[:20]"
   ]
  },
  {
   "cell_type": "markdown",
   "metadata": {},
   "source": [
    "## Preprocessing"
   ]
  },
  {
   "cell_type": "markdown",
   "metadata": {},
   "source": [
    "### Removing unnecessary features"
   ]
  },
  {
   "cell_type": "code",
   "execution_count": 150,
   "metadata": {},
   "outputs": [],
   "source": [
    "# We'll be using only gmap_id, address, avg_rating, num_of_reviews and MISC as business features\n",
    "feature_columns = ['gmap_id', 'address', 'category', 'avg_rating', 'num_of_reviews', 'MISC']\n",
    "df_meta = df_meta.loc[:, feature_columns]"
   ]
  },
  {
   "cell_type": "code",
   "execution_count": 151,
   "metadata": {},
   "outputs": [],
   "source": [
    "# We need only user_id, rating and gmap_id\n",
    "feature_columns = ['user_id', 'gmap_id', 'rating']\n",
    "df_reviews = df_reviews[feature_columns]"
   ]
  },
  {
   "cell_type": "markdown",
   "metadata": {},
   "source": [
    "### Count of businesses by city"
   ]
  },
  {
   "cell_type": "code",
   "execution_count": 152,
   "metadata": {},
   "outputs": [
    {
     "data": {
      "text/plain": [
       "address\n",
       "Anchorage      4228\n",
       "Fairbanks      1285\n",
       "Wasilla         863\n",
       "Juneau          642\n",
       "Palmer          428\n",
       "Soldotna        344\n",
       "Ketchikan       323\n",
       "Homer           307\n",
       "Eagle River     270\n",
       "Kenai           240\n",
       "Name: count, dtype: int64"
      ]
     },
     "execution_count": 152,
     "metadata": {},
     "output_type": "execute_result"
    }
   ],
   "source": [
    "def get_city(address):\n",
    "    if not address:\n",
    "        return None\n",
    "    \n",
    "    address_fields = address.split(', ')\n",
    "\n",
    "    if len(address_fields) == 1:\n",
    "        return address_fields[0]\n",
    "    \n",
    "    return address_fields[-2]\n",
    "\n",
    "df_meta['address'].apply(lambda address: get_city(address)).value_counts()[:10]"
   ]
  },
  {
   "cell_type": "markdown",
   "metadata": {},
   "source": [
    "### Filters"
   ]
  },
  {
   "cell_type": "code",
   "execution_count": 153,
   "metadata": {},
   "outputs": [],
   "source": [
    "# City we want to analize\n",
    "city = 'Fairbanks'\n",
    "\n",
    "# Minimum number of reviews for business and\n",
    "# munimum number of reviews by user for these businesses to make recommendations\n",
    "reviews_threshold = 10\n",
    "min_user_reviews_for_business = 5"
   ]
  },
  {
   "cell_type": "markdown",
   "metadata": {},
   "source": [
    "### Get businesses"
   ]
  },
  {
   "cell_type": "code",
   "execution_count": 154,
   "metadata": {},
   "outputs": [
    {
     "name": "stdout",
     "output_type": "stream",
     "text": [
      "len(businesses_from_city)=897\n"
     ]
    }
   ],
   "source": [
    "def is_address_from_city(address, city):\n",
    "    if not address:\n",
    "        return False\n",
    "    \n",
    "    address_fields = address.split(', ')\n",
    "\n",
    "    if len(address_fields) == 1:\n",
    "        return address_fields[0] == city\n",
    "    \n",
    "    if address_fields[-2] == city:\n",
    "        return True\n",
    "    return False\n",
    "\n",
    "city_mask = df_meta['address'].apply(lambda address: is_address_from_city(address, city))\n",
    "popularity_mask = df_meta['num_of_reviews'] >= reviews_threshold\n",
    "\n",
    "businesses_from_city = df_meta[city_mask & popularity_mask].reset_index(drop=True)\n",
    "print(f'{len(businesses_from_city)=}')"
   ]
  },
  {
   "cell_type": "markdown",
   "metadata": {},
   "source": [
    "### Get users"
   ]
  },
  {
   "cell_type": "code",
   "execution_count": 155,
   "metadata": {},
   "outputs": [],
   "source": [
    "def user_is_good_for_city(user_id, reviews_threshold):\n",
    "    global businesses_from_city, df_reviews\n",
    "\n",
    "    user_reviews = df_reviews[df_reviews['user_id'] == user_id]\n",
    "    reviews_count = user_reviews['gmap_id'].isin(businesses_from_city['gmap_id']).sum()\n",
    "\n",
    "    return reviews_count >= reviews_threshold\n",
    "\n",
    "user_ids = pd.Series(df_reviews['user_id'].unique())\n",
    "user_mask = user_ids.apply(lambda user_id: user_is_good_for_city(user_id, reviews_threshold))\n",
    "\n",
    "users_from_city = user_ids[user_mask].reset_index(drop=True)"
   ]
  },
  {
   "cell_type": "markdown",
   "metadata": {},
   "source": [
    "### Delete redundant reviews, final filter of bussinesses"
   ]
  },
  {
   "cell_type": "code",
   "execution_count": 156,
   "metadata": {},
   "outputs": [],
   "source": [
    "# Delete redundant reviews\n",
    "business_mask = df_reviews['gmap_id'].isin(businesses_from_city['gmap_id'])\n",
    "user_mask = df_reviews['user_id'].isin(users_from_city)\n",
    "\n",
    "df_reviews = df_reviews[business_mask & user_mask]\n",
    "\n",
    "# Filter businesses by min_user_reviews_for_business\n",
    "popularity_mask = businesses_from_city['gmap_id'].apply(lambda x:\n",
    "    (df_reviews['gmap_id'] == x).sum() >= min_user_reviews_for_business\n",
    ")\n",
    "businesses_from_city = businesses_from_city[popularity_mask].reset_index(drop=True)\n",
    "\n",
    "# Delete redundant reviews after final business filtering\n",
    "business_mask = df_reviews['gmap_id'].isin(businesses_from_city['gmap_id'])\n",
    "df_reviews = df_reviews[business_mask]"
   ]
  },
  {
   "cell_type": "markdown",
   "metadata": {},
   "source": [
    "### One-hot encoding for category feature"
   ]
  },
  {
   "cell_type": "code",
   "execution_count": 157,
   "metadata": {},
   "outputs": [
    {
     "data": {
      "text/plain": [
       "663"
      ]
     },
     "execution_count": 157,
     "metadata": {},
     "output_type": "execute_result"
    }
   ],
   "source": [
    "categories = []\n",
    "for business_categories in businesses_from_city['category'].to_list():\n",
    "    categories.extend([category for category in business_categories])\n",
    "\n",
    "categories = list(set(categories))\n",
    "categories_indices = {category: i for i, category in enumerate(categories)}\n",
    "categories_count = len(categories)\n",
    "\n",
    "categories_count"
   ]
  },
  {
   "cell_type": "code",
   "execution_count": 158,
   "metadata": {},
   "outputs": [
    {
     "data": {
      "text/plain": [
       "(742, 663)"
      ]
     },
     "execution_count": 158,
     "metadata": {},
     "output_type": "execute_result"
    }
   ],
   "source": [
    "def get_one_hot_categories(business_categories):\n",
    "    one_hot_categories = np.zeros(categories_count)\n",
    "    for category in business_categories:\n",
    "        one_hot_categories[categories_indices[category]] = 1\n",
    "\n",
    "    return one_hot_categories\n",
    "\n",
    "one_hot_categories = np.array(businesses_from_city['category'].apply(get_one_hot_categories).to_list())\n",
    "one_hot_categories.shape"
   ]
  },
  {
   "cell_type": "code",
   "execution_count": 159,
   "metadata": {},
   "outputs": [
    {
     "name": "stdout",
     "output_type": "stream",
     "text": [
      "categories:\n",
      " - Dentist\n",
      "count: 1\n",
      "\n",
      "categories:\n",
      " - Car repair and maintenance\n",
      " - Auto repair shop\n",
      " - Diesel engine repair service\n",
      " - Engine rebuilding service\n",
      " - Transmission shop\n",
      " - Truck repair shop\n",
      "count: 6\n",
      "\n",
      "categories:\n",
      " - Mover\n",
      " - Moving and storage service\n",
      " - Moving supply store\n",
      "count: 3\n",
      "\n",
      "categories:\n",
      " - Bingo hall\n",
      "count: 1\n",
      "\n"
     ]
    }
   ],
   "source": [
    "# Check if one-hot encoding works correctly\n",
    "for categories, count_of_categories in zip(\n",
    "    businesses_from_city['category'].to_list()[:4],\n",
    "    one_hot_categories.sum(axis=1).reshape(-1, 1)[:4]):\n",
    "\n",
    "    print('categories:')\n",
    "    for category in categories:\n",
    "        print(f' - {category}')\n",
    "    print(f'count: {int(count_of_categories)}\\n')"
   ]
  },
  {
   "cell_type": "markdown",
   "metadata": {},
   "source": [
    "### One-hot encoding for MISC feature"
   ]
  },
  {
   "cell_type": "code",
   "execution_count": 160,
   "metadata": {},
   "outputs": [
    {
     "name": "stdout",
     "output_type": "stream",
     "text": [
      "misc_types_count=14, options_count=125\n"
     ]
    },
    {
     "data": {
      "text/html": [
       "<div>\n",
       "<style scoped>\n",
       "    .dataframe tbody tr th:only-of-type {\n",
       "        vertical-align: middle;\n",
       "    }\n",
       "\n",
       "    .dataframe tbody tr th {\n",
       "        vertical-align: top;\n",
       "    }\n",
       "\n",
       "    .dataframe thead th {\n",
       "        text-align: right;\n",
       "    }\n",
       "</style>\n",
       "<table border=\"1\" class=\"dataframe\">\n",
       "  <thead>\n",
       "    <tr style=\"text-align: right;\">\n",
       "      <th></th>\n",
       "      <th>Option</th>\n",
       "      <th>Occurrencies</th>\n",
       "    </tr>\n",
       "  </thead>\n",
       "  <tbody>\n",
       "    <tr>\n",
       "      <th>0</th>\n",
       "      <td>Wheelchair accessible entrance</td>\n",
       "      <td>577</td>\n",
       "    </tr>\n",
       "    <tr>\n",
       "      <th>20</th>\n",
       "      <td>Delivery</td>\n",
       "      <td>314</td>\n",
       "    </tr>\n",
       "    <tr>\n",
       "      <th>28</th>\n",
       "      <td>Good for kids</td>\n",
       "      <td>196</td>\n",
       "    </tr>\n",
       "    <tr>\n",
       "      <th>30</th>\n",
       "      <td>Takeout</td>\n",
       "      <td>182</td>\n",
       "    </tr>\n",
       "    <tr>\n",
       "      <th>9</th>\n",
       "      <td>In-store shopping</td>\n",
       "      <td>180</td>\n",
       "    </tr>\n",
       "    <tr>\n",
       "      <th>...</th>\n",
       "      <td>...</td>\n",
       "      <td>...</td>\n",
       "    </tr>\n",
       "    <tr>\n",
       "      <th>112</th>\n",
       "      <td>Online classes</td>\n",
       "      <td>1</td>\n",
       "    </tr>\n",
       "    <tr>\n",
       "      <th>111</th>\n",
       "      <td>Identifies as Black-owned</td>\n",
       "      <td>1</td>\n",
       "    </tr>\n",
       "    <tr>\n",
       "      <th>107</th>\n",
       "      <td>Check cashing</td>\n",
       "      <td>1</td>\n",
       "    </tr>\n",
       "    <tr>\n",
       "      <th>92</th>\n",
       "      <td>Electronics</td>\n",
       "      <td>1</td>\n",
       "    </tr>\n",
       "    <tr>\n",
       "      <th>124</th>\n",
       "      <td>Lunch reservations recommended</td>\n",
       "      <td>1</td>\n",
       "    </tr>\n",
       "  </tbody>\n",
       "</table>\n",
       "<p>125 rows × 2 columns</p>\n",
       "</div>"
      ],
      "text/plain": [
       "                             Option  Occurrencies\n",
       "0    Wheelchair accessible entrance           577\n",
       "20                         Delivery           314\n",
       "28                    Good for kids           196\n",
       "30                          Takeout           182\n",
       "9                 In-store shopping           180\n",
       "..                              ...           ...\n",
       "112                  Online classes             1\n",
       "111       Identifies as Black-owned             1\n",
       "107                   Check cashing             1\n",
       "92                      Electronics             1\n",
       "124  Lunch reservations recommended             1\n",
       "\n",
       "[125 rows x 2 columns]"
      ]
     },
     "metadata": {},
     "output_type": "display_data"
    },
    {
     "data": {
      "text/html": [
       "<div>\n",
       "<style scoped>\n",
       "    .dataframe tbody tr th:only-of-type {\n",
       "        vertical-align: middle;\n",
       "    }\n",
       "\n",
       "    .dataframe tbody tr th {\n",
       "        vertical-align: top;\n",
       "    }\n",
       "\n",
       "    .dataframe thead th {\n",
       "        text-align: right;\n",
       "    }\n",
       "</style>\n",
       "<table border=\"1\" class=\"dataframe\">\n",
       "  <thead>\n",
       "    <tr style=\"text-align: right;\">\n",
       "      <th></th>\n",
       "      <th>MISC type</th>\n",
       "      <th>Occurrencies</th>\n",
       "    </tr>\n",
       "  </thead>\n",
       "  <tbody>\n",
       "    <tr>\n",
       "      <th>0</th>\n",
       "      <td>Accessibility</td>\n",
       "      <td>588</td>\n",
       "    </tr>\n",
       "    <tr>\n",
       "      <th>6</th>\n",
       "      <td>Service options</td>\n",
       "      <td>396</td>\n",
       "    </tr>\n",
       "    <tr>\n",
       "      <th>3</th>\n",
       "      <td>Amenities</td>\n",
       "      <td>276</td>\n",
       "    </tr>\n",
       "    <tr>\n",
       "      <th>1</th>\n",
       "      <td>Planning</td>\n",
       "      <td>249</td>\n",
       "    </tr>\n",
       "    <tr>\n",
       "      <th>4</th>\n",
       "      <td>Offerings</td>\n",
       "      <td>247</td>\n",
       "    </tr>\n",
       "    <tr>\n",
       "      <th>8</th>\n",
       "      <td>Payments</td>\n",
       "      <td>197</td>\n",
       "    </tr>\n",
       "    <tr>\n",
       "      <th>12</th>\n",
       "      <td>Crowd</td>\n",
       "      <td>170</td>\n",
       "    </tr>\n",
       "    <tr>\n",
       "      <th>11</th>\n",
       "      <td>Atmosphere</td>\n",
       "      <td>168</td>\n",
       "    </tr>\n",
       "    <tr>\n",
       "      <th>2</th>\n",
       "      <td>Health &amp; safety</td>\n",
       "      <td>165</td>\n",
       "    </tr>\n",
       "    <tr>\n",
       "      <th>7</th>\n",
       "      <td>Highlights</td>\n",
       "      <td>163</td>\n",
       "    </tr>\n",
       "    <tr>\n",
       "      <th>9</th>\n",
       "      <td>Popular for</td>\n",
       "      <td>153</td>\n",
       "    </tr>\n",
       "    <tr>\n",
       "      <th>10</th>\n",
       "      <td>Dining options</td>\n",
       "      <td>149</td>\n",
       "    </tr>\n",
       "    <tr>\n",
       "      <th>5</th>\n",
       "      <td>From the business</td>\n",
       "      <td>40</td>\n",
       "    </tr>\n",
       "    <tr>\n",
       "      <th>13</th>\n",
       "      <td>Recycling</td>\n",
       "      <td>1</td>\n",
       "    </tr>\n",
       "  </tbody>\n",
       "</table>\n",
       "</div>"
      ],
      "text/plain": [
       "            MISC type  Occurrencies\n",
       "0       Accessibility           588\n",
       "6     Service options           396\n",
       "3           Amenities           276\n",
       "1            Planning           249\n",
       "4           Offerings           247\n",
       "8            Payments           197\n",
       "12              Crowd           170\n",
       "11         Atmosphere           168\n",
       "2     Health & safety           165\n",
       "7          Highlights           163\n",
       "9         Popular for           153\n",
       "10     Dining options           149\n",
       "5   From the business            40\n",
       "13          Recycling             1"
      ]
     },
     "metadata": {},
     "output_type": "display_data"
    }
   ],
   "source": [
    "misc_types, options = {}, {}\n",
    "\n",
    "for misc in businesses_from_city[businesses_from_city['MISC'].values != None]['MISC']:\n",
    "    misc_types_list, options_list = list(misc.keys()), list(misc.values())\n",
    "\n",
    "    # Flatten the options list\n",
    "    options_list = [option for options in options_list for option in options]\n",
    "\n",
    "    for misc_type in misc_types_list:\n",
    "        misc_types[misc_type] = misc_types.get(misc_type, 0) + 1\n",
    "\n",
    "    for option in options_list:\n",
    "        options[option] = options.get(option, 0) + 1\n",
    "\n",
    "misc_types_count = len(misc_types)\n",
    "options_count = len(options)\n",
    "misc_types_count, options_count\n",
    "\n",
    "print(f'{misc_types_count=}, {options_count=}')\n",
    "\n",
    "options_occurencies = pd.DataFrame(np.c_[list(options.items())], columns=['Option', 'Occurrencies'])\n",
    "options_occurencies['Occurrencies'] = options_occurencies['Occurrencies'].astype(int)\n",
    "display(options_occurencies.sort_values(by='Occurrencies', ascending=False))\n",
    "\n",
    "misc_types_occurencies = pd.DataFrame(np.c_[list(misc_types.items())], columns=['MISC type', 'Occurrencies'])\n",
    "misc_types_occurencies['Occurrencies'] = misc_types_occurencies['Occurrencies'].astype(int)\n",
    "display(misc_types_occurencies.sort_values(by='Occurrencies', ascending=False))\n",
    "\n",
    "misc_types, options = list(misc_types.keys()), list(options.keys())"
   ]
  },
  {
   "cell_type": "code",
   "execution_count": 161,
   "metadata": {},
   "outputs": [
    {
     "data": {
      "text/plain": [
       "(742, 139)"
      ]
     },
     "execution_count": 161,
     "metadata": {},
     "output_type": "execute_result"
    }
   ],
   "source": [
    "misc_types_indices = {misc_type: i for i, misc_type in enumerate(misc_types)}\n",
    "options_indices = {option: i for i, option in enumerate(options)}\n",
    "\n",
    "def get_one_hot_misc(misc):\n",
    "    if (misc == None):\n",
    "        return np.zeros(misc_types_count + options_count)\n",
    "\n",
    "    one_hot_misc_types = np.zeros(misc_types_count)\n",
    "    one_hot_options = np.zeros(options_count)\n",
    "\n",
    "    misc_types = misc.keys()\n",
    "    options_list = misc.values()\n",
    "    \n",
    "    # Flatten the options list\n",
    "    options = [option for options in options_list for option in options]\n",
    "\n",
    "    for misc_type in misc_types:\n",
    "        one_hot_misc_types[misc_types_indices[misc_type]] = 1\n",
    "    for option in options:\n",
    "        one_hot_options[options_indices[option]] = 1\n",
    "\n",
    "    return np.r_[one_hot_misc_types, one_hot_options]\n",
    "\n",
    "one_hot_misc = np.array(businesses_from_city['MISC'].apply(get_one_hot_misc).to_list())\n",
    "one_hot_misc.shape"
   ]
  },
  {
   "cell_type": "markdown",
   "metadata": {},
   "source": [
    "## Data summary"
   ]
  },
  {
   "cell_type": "code",
   "execution_count": 162,
   "metadata": {},
   "outputs": [
    {
     "data": {
      "image/png": "[encoded data removed]",
      "text/plain": [
       "<Figure size 1000x500 with 2 Axes>"
      ]
     },
     "metadata": {},
     "output_type": "display_data"
    }
   ],
   "source": [
    "count_of_business_reviews = df_reviews.groupby('gmap_id').count()['user_id']\\\n",
    "    .sort_values(ascending=False).values\n",
    "\n",
    "count_of_reviews_by_user = df_reviews.groupby('user_id').count()['gmap_id']\\\n",
    "    .sort_values(ascending=False).values\n",
    "\n",
    "plt.figure(figsize=(10, 5))\n",
    "plt.subplot(1, 2, 1)\n",
    "plt.title('Count of business reviews')\n",
    "plt.plot(count_of_business_reviews)\n",
    "plt.ylabel('reviews count')\n",
    "plt.xlabel('№ of business')\n",
    "plt.yticks(np.arange(min_user_reviews_for_business, count_of_business_reviews[0]+100, 100))\n",
    "plt.grid()\n",
    "\n",
    "plt.subplot(1, 2, 2)\n",
    "plt.title('Count of reviews by user')\n",
    "plt.plot(count_of_reviews_by_user)\n",
    "plt.ylabel('reviews count')\n",
    "plt.xlabel('№ of user')\n",
    "plt.yticks(np.arange(reviews_threshold, count_of_reviews_by_user[0]+10, 10))\n",
    "plt.grid()\n",
    "\n",
    "plt.tight_layout()"
   ]
  },
  {
   "cell_type": "code",
   "execution_count": 163,
   "metadata": {},
   "outputs": [
    {
     "name": "stdout",
     "output_type": "stream",
     "text": [
      "Count of users: 2382\n",
      "Count of businesses: 742\n",
      "Count of reviews: 54442\n"
     ]
    }
   ],
   "source": [
    "users_from_city_count = len(users_from_city)\n",
    "businesses_from_city_count = len(businesses_from_city)\n",
    "reviews_count = len(df_reviews)\n",
    "\n",
    "print(f'Count of users: {users_from_city_count}\\n'\n",
    "      f'Count of businesses: {businesses_from_city_count}\\n'\n",
    "      f'Count of reviews: {reviews_count}')"
   ]
  },
  {
   "cell_type": "code",
   "execution_count": 164,
   "metadata": {},
   "outputs": [
    {
     "data": {
      "text/plain": [
       "category\n",
       "Restaurant              19\n",
       "Coffee shop             18\n",
       "Gas station             17\n",
       "American restaurant     16\n",
       "Cafe                    14\n",
       "                        ..\n",
       "Trailer supply store     1\n",
       "Car stereo store         1\n",
       "Playground               1\n",
       "Shooting range           1\n",
       "Resort hotel             1\n",
       "Name: count, Length: 315, dtype: int64"
      ]
     },
     "execution_count": 164,
     "metadata": {},
     "output_type": "execute_result"
    }
   ],
   "source": [
    "businesses_from_city['category'].apply(lambda x: x[0] if x else None).value_counts()"
   ]
  },
  {
   "cell_type": "markdown",
   "metadata": {},
   "source": [
    "## Preparing the data for heterogeneous graph representation"
   ]
  },
  {
   "cell_type": "code",
   "execution_count": 165,
   "metadata": {},
   "outputs": [],
   "source": [
    "import torch\n",
    "import torch_geometric.nn as gnn\n",
    "from torch_geometric.data import HeteroData\n",
    "import torch_geometric.transforms as T\n",
    "import torch.nn.functional as F"
   ]
  },
  {
   "cell_type": "code",
   "execution_count": 166,
   "metadata": {},
   "outputs": [],
   "source": [
    "device = torch.device('cuda' if torch.cuda.is_available() else 'cpu')"
   ]
  },
  {
   "cell_type": "code",
   "execution_count": 305,
   "metadata": {},
   "outputs": [],
   "source": [
    "user_id_to_idx = {user_id: idx for idx, user_id in users_from_city.items()}\n",
    "gmap_id_to_idx = {gmap_id: idx for idx, gmap_id in businesses_from_city['gmap_id'].items()}\n",
    "\n",
    "edges = np.vstack([\n",
    "    df_reviews['user_id'].map(user_id_to_idx).values,\n",
    "    df_reviews['gmap_id'].map(gmap_id_to_idx).values\n",
    "])\n",
    "\n",
    "ratings = df_reviews['rating'].values"
   ]
  },
  {
   "cell_type": "code",
   "execution_count": 196,
   "metadata": {},
   "outputs": [
    {
     "data": {
      "text/plain": [
       "HeteroData(\n",
       "  user={ x=[2382, 2382] },\n",
       "  business={ x=[742, 804] },\n",
       "  (user, rates, business)={\n",
       "    edge_index=[2, 54442],\n",
       "    edge_label=[54442],\n",
       "  },\n",
       "  (business, rev_rates, user)={ edge_index=[2, 54442] }\n",
       ")"
      ]
     },
     "execution_count": 196,
     "metadata": {},
     "output_type": "execute_result"
    }
   ],
   "source": [
    "data = HeteroData()\n",
    "\n",
    "# Add user node features for message passing\n",
    "data['user'].x = torch.eye(users_from_city_count)\n",
    "\n",
    "# Add business node features\n",
    "data['business'].x = torch.Tensor(\n",
    "    np.c_[\n",
    "        businesses_from_city[['avg_rating', 'num_of_reviews']].values,\n",
    "        one_hot_categories,\n",
    "        one_hot_misc\n",
    "    ]\n",
    ")\n",
    "\n",
    "# Add edges (users ratings for businesses)\n",
    "data['user', 'rates', 'business'].edge_index = torch.tensor(edges)\n",
    "# Add rating to edges\n",
    "data['user', 'rates', 'business'].edge_label = torch.tensor(ratings)\n",
    "\n",
    "# Add a reverse ('business', 'rev_rates', 'user') relation for message passing\n",
    "data = T.ToUndirected()(data)\n",
    "# Remove reverse label.\n",
    "del data['business', 'rev_rates', 'user'].edge_label\n",
    "\n",
    "data.to(device)\n",
    "\n",
    "data"
   ]
  },
  {
   "cell_type": "markdown",
   "metadata": {},
   "source": [
    "### Graph visualization"
   ]
  },
  {
   "cell_type": "code",
   "execution_count": 169,
   "metadata": {},
   "outputs": [],
   "source": [
    "import winsound\n",
    "import networkx as nx\n",
    "from torch_geometric.utils import to_networkx"
   ]
  },
  {
   "cell_type": "code",
   "execution_count": 170,
   "metadata": {},
   "outputs": [],
   "source": [
    "# G = to_networkx(data.to, to_undirected=False)\n",
    "# plt.figure(figsize=(20, 20))\n",
    "\n",
    "# node_type_map = {'user': 0, 'business': 1}\n",
    "# color_values = [node_type_map[node['type']] for node in G.nodes().values()]\n",
    "\n",
    "# nx.draw_networkx(\n",
    "#     G,\n",
    "#     pos=nx.layout spring_layout(G, seed=2010),\n",
    "#     node_size=3,\n",
    "#     node_color=color_values,\n",
    "#     edge_color='grey',\n",
    "#     with_labels=False\n",
    "# )\n",
    "\n",
    "# winsound.Beep(frequency = 1500, duration = 500)"
   ]
  },
  {
   "cell_type": "markdown",
   "metadata": {},
   "source": [
    "## Model Learning"
   ]
  },
  {
   "cell_type": "code",
   "execution_count": 197,
   "metadata": {},
   "outputs": [],
   "source": [
    "# Perform a link-level split into training, validation, and test edges\n",
    "train_data, val_data, test_data = T.RandomLinkSplit(\n",
    "    num_val=0.1,\n",
    "    num_test=0.1,\n",
    "    neg_sampling_ratio=0.0,\n",
    "    edge_types=[('user', 'rates', 'business')],\n",
    "    rev_edge_types=[('business', 'rev_rates', 'user')],\n",
    ")(data)"
   ]
  },
  {
   "cell_type": "markdown",
   "metadata": {},
   "source": [
    "### Baseline metrics"
   ]
  },
  {
   "cell_type": "code",
   "execution_count": 201,
   "metadata": {},
   "outputs": [
    {
     "name": "stdout",
     "output_type": "stream",
     "text": [
      "Predictions by mean: RMSE = 1.04\n",
      "Predictions by median: RMSE = 1.28\n"
     ]
    }
   ],
   "source": [
    "mean = test_data['user', 'business'].edge_label.float().mean()\n",
    "median = test_data['user', 'business'].edge_label.float().median()\n",
    "target = test_data['user', 'business'].edge_label.cpu().float()\n",
    "\n",
    "print('Predictions by mean: RMSE = %.2lf' %\n",
    "      F.mse_loss(torch.tensor([mean] * len(test_data['user', 'business'].edge_label)), target).sqrt())\n",
    "\n",
    "print('Predictions by median: RMSE = %.2lf' %\n",
    "      F.mse_loss(torch.tensor([median] * len(test_data['user', 'business'].edge_label)), target).sqrt())"
   ]
  },
  {
   "cell_type": "markdown",
   "metadata": {},
   "source": [
    "### Model Architecture"
   ]
  },
  {
   "cell_type": "code",
   "execution_count": 278,
   "metadata": {},
   "outputs": [],
   "source": [
    "class GNNEncoder(torch.nn.Module):\n",
    "    def __init__(self, hidden_channels, out_channels):\n",
    "        super().__init__()\n",
    "        self.conv1 = gnn.SAGEConv((-1, -1), hidden_channels)\n",
    "        self.conv2 = gnn.SAGEConv((-1, -1), out_channels)\n",
    "\n",
    "    def forward(self, x, edge_index):\n",
    "        x = self.conv1(x, edge_index).relu()\n",
    "        x = self.conv2(x, edge_index)\n",
    "        return x\n",
    "\n",
    "class EdgeDecoder(torch.nn.Module):\n",
    "    def __init__(self, hidden_channels):\n",
    "        super().__init__()\n",
    "        self.lin1 = torch.nn.Linear(2 * hidden_channels, hidden_channels)\n",
    "        self.lin2 = torch.nn.Linear(hidden_channels, 1)\n",
    "\n",
    "    def forward(self, z_dict, edge_label_index):\n",
    "        row, col = edge_label_index\n",
    "        z = torch.cat([z_dict['user'][row], z_dict['business'][col]], dim=-1)\n",
    "\n",
    "        z = self.lin1(z).relu()\n",
    "        z = self.lin2(z)\n",
    "        return z.view(-1)\n",
    "\n",
    "class Model(torch.nn.Module):\n",
    "    def __init__(self, hidden_channels):\n",
    "        super().__init__()\n",
    "        self.encoder = GNNEncoder(hidden_channels, hidden_channels)\n",
    "        self.encoder = gnn.to_hetero(self.encoder, data.metadata(), aggr='sum')\n",
    "        self.decoder = EdgeDecoder(hidden_channels)\n",
    "\n",
    "    def forward(self, x_dict, edge_index_dict, edge_label_index):\n",
    "        z_dict = self.encoder(x_dict, edge_index_dict)\n",
    "        return self.decoder(z_dict, edge_label_index)"
   ]
  },
  {
   "cell_type": "markdown",
   "metadata": {},
   "source": [
    "### Training and testing"
   ]
  },
  {
   "cell_type": "code",
   "execution_count": 279,
   "metadata": {},
   "outputs": [
    {
     "name": "stdout",
     "output_type": "stream",
     "text": [
      "Epoch: 010, Loss: 1.5075, Train: 1.3482, Val: 1.3897, Test: 1.3572\n",
      "Epoch: 020, Loss: 1.5585, Train: 1.3029, Val: 1.3469, Test: 1.3140\n",
      "Epoch: 030, Loss: 1.4632, Train: 1.3750, Val: 1.4079, Test: 1.3787\n",
      "Epoch: 040, Loss: 1.4267, Train: 1.3342, Val: 1.3594, Test: 1.3304\n",
      "Epoch: 050, Loss: 1.3811, Train: 1.2913, Val: 1.3204, Test: 1.2901\n",
      "Epoch: 060, Loss: 1.3294, Train: 1.2578, Val: 1.2926, Test: 1.2612\n",
      "Epoch: 070, Loss: 1.2700, Train: 1.2167, Val: 1.2508, Test: 1.2189\n",
      "Epoch: 080, Loss: 1.2052, Train: 1.1716, Val: 1.1945, Test: 1.1625\n",
      "Epoch: 090, Loss: 1.1498, Train: 1.1327, Val: 1.1478, Test: 1.1149\n",
      "Epoch: 100, Loss: 1.1069, Train: 1.0989, Val: 1.1136, Test: 1.0790\n",
      "Epoch: 110, Loss: 1.0760, Train: 1.0715, Val: 1.0895, Test: 1.0528\n",
      "Epoch: 120, Loss: 1.0593, Train: 1.0572, Val: 1.0773, Test: 1.0397\n",
      "Epoch: 130, Loss: 1.0517, Train: 1.0508, Val: 1.0718, Test: 1.0337\n",
      "Epoch: 140, Loss: 1.0479, Train: 1.0472, Val: 1.0689, Test: 1.0308\n",
      "Epoch: 150, Loss: 1.0446, Train: 1.0439, Val: 1.0658, Test: 1.0282\n",
      "Epoch: 160, Loss: 1.0412, Train: 1.0405, Val: 1.0625, Test: 1.0254\n",
      "Epoch: 170, Loss: 1.0377, Train: 1.0371, Val: 1.0592, Test: 1.0227\n",
      "Epoch: 180, Loss: 1.0344, Train: 1.0338, Val: 1.0559, Test: 1.0200\n",
      "Epoch: 190, Loss: 1.0310, Train: 1.0304, Val: 1.0526, Test: 1.0174\n",
      "Epoch: 200, Loss: 1.0276, Train: 1.0271, Val: 1.0494, Test: 1.0147\n",
      "Epoch: 210, Loss: 1.0242, Train: 1.0237, Val: 1.0461, Test: 1.0120\n",
      "Epoch: 220, Loss: 1.0208, Train: 1.0203, Val: 1.0428, Test: 1.0093\n",
      "Epoch: 230, Loss: 1.0173, Train: 1.0168, Val: 1.0396, Test: 1.0065\n",
      "Epoch: 240, Loss: 1.0133, Train: 1.0128, Val: 1.0354, Test: 1.0037\n",
      "Epoch: 250, Loss: 1.0094, Train: 1.0088, Val: 1.0315, Test: 1.0008\n",
      "Epoch: 260, Loss: 1.0054, Train: 1.0048, Val: 1.0280, Test: 0.9978\n",
      "Epoch: 270, Loss: 1.0016, Train: 1.0010, Val: 1.0245, Test: 0.9950\n",
      "Epoch: 280, Loss: 0.9979, Train: 0.9973, Val: 1.0210, Test: 0.9923\n",
      "Epoch: 290, Loss: 0.9942, Train: 0.9937, Val: 1.0175, Test: 0.9894\n",
      "Epoch: 300, Loss: 0.9906, Train: 0.9900, Val: 1.0142, Test: 0.9867\n",
      "Epoch: 310, Loss: 0.9870, Train: 0.9865, Val: 1.0108, Test: 0.9840\n",
      "Epoch: 320, Loss: 0.9834, Train: 0.9829, Val: 1.0075, Test: 0.9813\n",
      "Epoch: 330, Loss: 0.9799, Train: 0.9794, Val: 1.0043, Test: 0.9787\n",
      "Epoch: 340, Loss: 0.9763, Train: 0.9758, Val: 1.0011, Test: 0.9761\n",
      "Epoch: 350, Loss: 0.9728, Train: 0.9723, Val: 0.9978, Test: 0.9736\n",
      "Epoch: 360, Loss: 0.9700, Train: 0.9695, Val: 0.9953, Test: 0.9719\n",
      "Epoch: 370, Loss: 0.9659, Train: 0.9655, Val: 0.9919, Test: 0.9690\n",
      "Epoch: 380, Loss: 0.9623, Train: 0.9618, Val: 0.9886, Test: 0.9662\n",
      "Epoch: 390, Loss: 0.9586, Train: 0.9579, Val: 0.9853, Test: 0.9635\n",
      "Epoch: 400, Loss: 0.9547, Train: 0.9543, Val: 0.9822, Test: 0.9608\n",
      "Epoch: 410, Loss: 0.9510, Train: 0.9505, Val: 0.9792, Test: 0.9576\n",
      "Epoch: 420, Loss: 0.9470, Train: 0.9464, Val: 0.9756, Test: 0.9549\n",
      "Epoch: 430, Loss: 0.9430, Train: 0.9424, Val: 0.9722, Test: 0.9521\n",
      "Epoch: 440, Loss: 0.9389, Train: 0.9385, Val: 0.9689, Test: 0.9494\n",
      "Epoch: 450, Loss: 0.9349, Train: 0.9342, Val: 0.9655, Test: 0.9463\n",
      "Epoch: 460, Loss: 0.9305, Train: 0.9301, Val: 0.9623, Test: 0.9430\n",
      "Epoch: 470, Loss: 0.9262, Train: 0.9257, Val: 0.9588, Test: 0.9401\n",
      "Epoch: 480, Loss: 0.9220, Train: 0.9214, Val: 0.9553, Test: 0.9373\n",
      "Epoch: 490, Loss: 0.9177, Train: 0.9172, Val: 0.9520, Test: 0.9347\n",
      "Epoch: 500, Loss: 0.9137, Train: 0.9134, Val: 0.9495, Test: 0.9317\n",
      "Epoch: 510, Loss: 0.9100, Train: 0.9090, Val: 0.9460, Test: 0.9296\n",
      "Epoch: 520, Loss: 0.9063, Train: 0.9057, Val: 0.9437, Test: 0.9283\n",
      "Epoch: 530, Loss: 0.9017, Train: 0.9013, Val: 0.9405, Test: 0.9253\n",
      "Epoch: 540, Loss: 0.8984, Train: 0.8978, Val: 0.9384, Test: 0.9223\n",
      "Epoch: 550, Loss: 0.8958, Train: 0.8966, Val: 0.9379, Test: 0.9246\n",
      "Epoch: 560, Loss: 0.8918, Train: 0.8906, Val: 0.9333, Test: 0.9190\n",
      "Epoch: 570, Loss: 0.8892, Train: 0.8876, Val: 0.9316, Test: 0.9172\n",
      "Epoch: 580, Loss: 0.8859, Train: 0.8849, Val: 0.9300, Test: 0.9159\n",
      "Epoch: 590, Loss: 0.8838, Train: 0.8834, Val: 0.9293, Test: 0.9171\n",
      "Epoch: 600, Loss: 0.8817, Train: 0.8807, Val: 0.9278, Test: 0.9140\n",
      "Epoch: 610, Loss: 0.8805, Train: 0.8802, Val: 0.9278, Test: 0.9168\n",
      "Epoch: 620, Loss: 0.8774, Train: 0.8756, Val: 0.9245, Test: 0.9123\n",
      "Epoch: 630, Loss: 0.8752, Train: 0.8738, Val: 0.9235, Test: 0.9117\n",
      "Epoch: 640, Loss: 0.8739, Train: 0.8722, Val: 0.9228, Test: 0.9114\n",
      "Epoch: 650, Loss: 0.8752, Train: 0.8741, Val: 0.9252, Test: 0.9156\n",
      "Epoch: 660, Loss: 0.8726, Train: 0.8697, Val: 0.9214, Test: 0.9102\n",
      "Epoch: 670, Loss: 0.8700, Train: 0.8682, Val: 0.9206, Test: 0.9101\n",
      "Epoch: 680, Loss: 0.8691, Train: 0.8679, Val: 0.9208, Test: 0.9114\n",
      "Epoch: 690, Loss: 0.8681, Train: 0.8661, Val: 0.9195, Test: 0.9097\n",
      "Epoch: 700, Loss: 0.8681, Train: 0.8653, Val: 0.9191, Test: 0.9092\n",
      "Epoch: 710, Loss: 0.8687, Train: 0.8683, Val: 0.9223, Test: 0.9148\n",
      "Epoch: 720, Loss: 0.8672, Train: 0.8640, Val: 0.9184, Test: 0.9089\n",
      "Epoch: 730, Loss: 0.8653, Train: 0.8631, Val: 0.9179, Test: 0.9095\n",
      "Epoch: 740, Loss: 0.8649, Train: 0.8623, Val: 0.9174, Test: 0.9088\n",
      "Epoch: 750, Loss: 0.8646, Train: 0.8631, Val: 0.9186, Test: 0.9112\n",
      "Epoch: 760, Loss: 0.8641, Train: 0.8619, Val: 0.9176, Test: 0.9101\n",
      "Epoch: 770, Loss: 0.8632, Train: 0.8607, Val: 0.9166, Test: 0.9087\n",
      "Epoch: 780, Loss: 0.8663, Train: 0.8619, Val: 0.9177, Test: 0.9088\n",
      "Epoch: 790, Loss: 0.8640, Train: 0.8617, Val: 0.9179, Test: 0.9113\n",
      "Epoch: 800, Loss: 0.8622, Train: 0.8595, Val: 0.9159, Test: 0.9086\n",
      "Epoch: 810, Loss: 0.8617, Train: 0.8591, Val: 0.9157, Test: 0.9085\n",
      "Epoch: 820, Loss: 0.8615, Train: 0.8587, Val: 0.9155, Test: 0.9084\n",
      "Epoch: 830, Loss: 0.8615, Train: 0.8595, Val: 0.9164, Test: 0.9100\n",
      "Epoch: 840, Loss: 0.8616, Train: 0.8594, Val: 0.9165, Test: 0.9103\n",
      "Epoch: 850, Loss: 0.8606, Train: 0.8579, Val: 0.9152, Test: 0.9085\n",
      "Epoch: 860, Loss: 0.8605, Train: 0.8575, Val: 0.9148, Test: 0.9078\n",
      "Epoch: 870, Loss: 0.8646, Train: 0.8577, Val: 0.9150, Test: 0.9077\n",
      "Epoch: 880, Loss: 0.8613, Train: 0.8576, Val: 0.9151, Test: 0.9076\n",
      "Epoch: 890, Loss: 0.8598, Train: 0.8568, Val: 0.9144, Test: 0.9076\n",
      "Epoch: 900, Loss: 0.8596, Train: 0.8568, Val: 0.9146, Test: 0.9083\n",
      "Epoch: 910, Loss: 0.8594, Train: 0.8569, Val: 0.9147, Test: 0.9086\n",
      "Epoch: 920, Loss: 0.8592, Train: 0.8563, Val: 0.9143, Test: 0.9080\n",
      "Epoch: 930, Loss: 0.8590, Train: 0.8562, Val: 0.9142, Test: 0.9081\n",
      "Epoch: 940, Loss: 0.8588, Train: 0.8560, Val: 0.9141, Test: 0.9080\n",
      "Epoch: 950, Loss: 0.8587, Train: 0.8559, Val: 0.9141, Test: 0.9082\n",
      "Epoch: 960, Loss: 0.8586, Train: 0.8558, Val: 0.9141, Test: 0.9082\n",
      "Epoch: 970, Loss: 0.8587, Train: 0.8565, Val: 0.9148, Test: 0.9095\n",
      "Epoch: 980, Loss: 0.8621, Train: 0.8572, Val: 0.9155, Test: 0.9104\n",
      "Epoch: 990, Loss: 0.8598, Train: 0.8583, Val: 0.9165, Test: 0.9118\n",
      "Epoch: 1000, Loss: 0.8581, Train: 0.8560, Val: 0.9144, Test: 0.9091\n"
     ]
    },
    {
     "data": {
      "image/png": "[encoded data removed]",
      "text/plain": [
       "<Figure size 1600x1000 with 4 Axes>"
      ]
     },
     "metadata": {},
     "output_type": "display_data"
    }
   ],
   "source": [
    "model = Model(hidden_channels=5).cuda()\n",
    "optimizer = torch.optim.Adam(model.parameters(), lr=0.001)\n",
    "num_epochs = 1000\n",
    "\n",
    "def train():\n",
    "    model.train()\n",
    "    optimizer.zero_grad()\n",
    "    pred = model(train_data.x_dict, train_data.edge_index_dict,\n",
    "                 train_data['user', 'business'].edge_label_index)\n",
    "    target = train_data['user', 'business'].edge_label.float()\n",
    "    loss = F.mse_loss(pred, target).sqrt()\n",
    "    loss.backward()\n",
    "    optimizer.step()\n",
    "    return float(loss)\n",
    "\n",
    "@torch.no_grad()\n",
    "def test(data):\n",
    "    model.eval()\n",
    "    pred = model(data.x_dict, data.edge_index_dict,\n",
    "                 data['user', 'business'].edge_label_index)\n",
    "    pred = pred.clamp(min=0, max=5)\n",
    "    target = data['user', 'business'].edge_label.float()\n",
    "    rmse = F.mse_loss(pred, target).sqrt()\n",
    "    return float(rmse)\n",
    "\n",
    "losses, train_rmses, val_rmses, test_rmses = [], [], [], []\n",
    "\n",
    "for epoch in range(1, num_epochs+1):\n",
    "    loss = train()\n",
    "    train_rmse = test(train_data)\n",
    "    val_rmse = test(val_data)\n",
    "    test_rmse = test(test_data)\n",
    "\n",
    "    if (epoch % (num_epochs/100) == 0):\n",
    "        print(f'Epoch: {epoch:03d}, Loss: {loss:.4f}, Train: {train_rmse:.4f}, '\n",
    "              f'Val: {val_rmse:.4f}, Test: {test_rmse:.4f}')\n",
    "    \n",
    "    losses.append(loss)\n",
    "    train_rmses.append(train_rmse), val_rmses.append(val_rmse), test_rmses.append(test_rmse)\n",
    "\n",
    "plt.figure(figsize=(16, 10))\n",
    "ax = plt.subplot(2, 2, 1)\n",
    "ax.set_title('loss')\n",
    "ax.plot(losses)\n",
    "ax.set_xticks(np.arange(0, num_epochs+1, num_epochs/10))\n",
    "ax.grid()\n",
    "\n",
    "ax = plt.subplot(2, 2, 2)\n",
    "ax.set_title('train_rmse')\n",
    "ax.plot(train_rmses)\n",
    "ax.set_xticks(np.arange(0, num_epochs+1, num_epochs/10))\n",
    "ax.grid()\n",
    "\n",
    "ax = plt.subplot(2, 2, 3)\n",
    "ax.set_title('val_rmse')\n",
    "ax.plot(val_rmses)\n",
    "ax.set_xticks(np.arange(0, num_epochs+1, num_epochs/10))\n",
    "ax.grid()\n",
    "\n",
    "ax = plt.subplot(2, 2, 4)\n",
    "ax.set_title('test_rmse')\n",
    "ax.plot(test_rmses)\n",
    "ax.set_xticks(np.arange(0, num_epochs+1, num_epochs/10))\n",
    "ax.grid()\n",
    "\n",
    "plt.tight_layout()"
   ]
  },
  {
   "cell_type": "code",
   "execution_count": 265,
   "metadata": {},
   "outputs": [],
   "source": [
    "import winsound\n",
    "winsound.Beep(frequency = 1500, duration = 500)"
   ]
  },
  {
   "cell_type": "markdown",
   "metadata": {},
   "source": [
    "## Comparing results to neural collaborative filtering"
   ]
  },
  {
   "cell_type": "code",
   "execution_count": 313,
   "metadata": {},
   "outputs": [
    {
     "name": "stdout",
     "output_type": "stream",
     "text": [
      "Epoch 1/30 - Train Loss: 1.915678, Test Loss: 1.086\n",
      "Epoch 2/30 - Train Loss: 1.307993, Test Loss: 1.033\n",
      "Epoch 3/30 - Train Loss: 1.208359, Test Loss: 1.026\n",
      "Epoch 4/30 - Train Loss: 1.163359, Test Loss: 1.020\n",
      "Epoch 5/30 - Train Loss: 1.143575, Test Loss: 0.999\n",
      "Epoch 6/30 - Train Loss: 1.122883, Test Loss: 0.997\n",
      "Epoch 7/30 - Train Loss: 1.093499, Test Loss: 0.982\n",
      "Epoch 8/30 - Train Loss: 1.067663, Test Loss: 0.966\n",
      "Epoch 9/30 - Train Loss: 1.037102, Test Loss: 0.953\n",
      "Epoch 10/30 - Train Loss: 1.014044, Test Loss: 0.941\n",
      "Epoch 11/30 - Train Loss: 0.987508, Test Loss: 0.933\n",
      "Epoch 12/30 - Train Loss: 0.964932, Test Loss: 0.928\n",
      "Epoch 13/30 - Train Loss: 0.950572, Test Loss: 0.924\n",
      "Epoch 14/30 - Train Loss: 0.935686, Test Loss: 0.923\n",
      "Epoch 15/30 - Train Loss: 0.923831, Test Loss: 0.922\n",
      "Epoch 16/30 - Train Loss: 0.912916, Test Loss: 0.917\n",
      "Epoch 17/30 - Train Loss: 0.904934, Test Loss: 0.920\n",
      "Epoch 18/30 - Train Loss: 0.893159, Test Loss: 0.919\n",
      "Epoch 19/30 - Train Loss: 0.889607, Test Loss: 0.919\n",
      "Epoch 20/30 - Train Loss: 0.882416, Test Loss: 0.919\n",
      "Epoch 21/30 - Train Loss: 0.876990, Test Loss: 0.918\n",
      "Epoch 22/30 - Train Loss: 0.873676, Test Loss: 0.918\n",
      "Epoch 23/30 - Train Loss: 0.869309, Test Loss: 0.918\n",
      "Epoch 24/30 - Train Loss: 0.867021, Test Loss: 0.917\n",
      "Epoch 25/30 - Train Loss: 0.862079, Test Loss: 0.916\n",
      "Epoch 26/30 - Train Loss: 0.859177, Test Loss: 0.917\n",
      "Epoch 27/30 - Train Loss: 0.855254, Test Loss: 0.919\n",
      "Epoch 28/30 - Train Loss: 0.851649, Test Loss: 0.918\n",
      "Epoch 29/30 - Train Loss: 0.851917, Test Loss: 0.921\n",
      "Epoch 30/30 - Train Loss: 0.850788, Test Loss: 0.919\n"
     ]
    }
   ],
   "source": [
    "from torch.utils.data import DataLoader, Dataset\n",
    "from sklearn.model_selection import train_test_split\n",
    "\n",
    "ratings = df_reviews['rating'].values\n",
    "data = pd.DataFrame(np.c_[edges.T, ratings], columns=['userId', 'movieId', 'rating'])\n",
    "train_data, test_data = train_test_split(data, test_size=0.2)\n",
    "\n",
    "class NCF(torch.nn.Module):\n",
    "    def __init__(self, num_users, num_items, hidden_dim=16):\n",
    "        super().__init__()\n",
    "        self.user_embedding = torch.nn.Embedding(num_users, hidden_dim)\n",
    "        self.item_embedding = torch.nn.Embedding(num_items, hidden_dim)\n",
    "        self.fc1 = torch.nn.Linear(hidden_dim * 2, 16)\n",
    "        self.fc2 = torch.nn.Linear(16, 16)\n",
    "        self.output = torch.nn.Linear(16, 1)\n",
    "        self.dropout = torch.nn.Dropout(0.2)\n",
    "        self.relu = torch.nn.ReLU()\n",
    "\n",
    "    def forward(self, user, item):\n",
    "        user_embed = self.user_embedding(user)\n",
    "        item_embed = self.item_embedding(item)\n",
    "        x = torch.cat((user_embed, item_embed), dim=1)\n",
    "        x = self.dropout(self.fc1(x).relu())\n",
    "        x = self.dropout(self.fc2(x).relu())\n",
    "        x = self.output(x)\n",
    "        return x\n",
    "\n",
    "train_users = torch.LongTensor(train_data['userId'].values)\n",
    "train_items = torch.LongTensor(train_data['movieId'].values)\n",
    "train_ratings = torch.FloatTensor(train_data['rating'].values)\n",
    "\n",
    "test_users = torch.LongTensor(test_data['userId'].values)\n",
    "test_items = torch.LongTensor(test_data['movieId'].values)\n",
    "test_ratings = torch.FloatTensor(test_data['rating'].values)\n",
    "\n",
    "model = NCF(users_from_city_count, businesses_from_city_count)\n",
    "criterion = torch.nn.MSELoss()\n",
    "optimizer = torch.optim.Adam(model.parameters(), lr=0.001)\n",
    "\n",
    "class RatingDataset(Dataset):\n",
    "    def __init__(self, users, items, ratings):\n",
    "        self.users = users\n",
    "        self.items = items\n",
    "        self.ratings = ratings\n",
    "        \n",
    "    def __len__(self):\n",
    "        return len(self.users)\n",
    "\n",
    "    def __getitem__(self, idx):\n",
    "        return self.users[idx], self.items[idx], self.ratings[idx]\n",
    "\n",
    "train_dataset = RatingDataset(train_users, train_items, train_ratings)\n",
    "test_dataset = RatingDataset(test_users, test_items, test_ratings)\n",
    "\n",
    "train_loader = DataLoader(train_dataset, batch_size=64, shuffle=True)\n",
    "test_loader = DataLoader(test_dataset, batch_size=64)\n",
    "\n",
    "train_rmses, test_rmses = [], []\n",
    "\n",
    "num_epochs = 30\n",
    "for epoch in range(num_epochs):\n",
    "    \n",
    "    model.train()\n",
    "    running_loss = 0.0\n",
    "    for users, items, ratings in train_loader:\n",
    "        optimizer.zero_grad()\n",
    "        outputs = model(users, items).squeeze()\n",
    "        loss = criterion(outputs, ratings)\n",
    "        loss.backward()\n",
    "        optimizer.step()\n",
    "        running_loss += loss.item()\n",
    "    \n",
    "    train_rmse = np.sqrt(running_loss / len(train_loader))\n",
    "\n",
    "    model.eval()\n",
    "    test_loss = 0.0\n",
    "    with torch.no_grad():\n",
    "        for users, items, ratings in test_loader:\n",
    "            outputs = model(users, items).squeeze()\n",
    "            loss = criterion(outputs, ratings)\n",
    "            test_loss += loss.item()\n",
    "\n",
    "    test_rmse = np.sqrt(test_loss / len(test_loader))\n",
    "\n",
    "    print(f\"Epoch {epoch+1}/{num_epochs} - Train Loss: {train_rmse:3f}, \"\n",
    "          f\"Test Loss: {test_rmse:.3f}\")\n",
    "    \n",
    "    train_rmses.append(train_rmse), test_rmses.append(test_rmse)"
   ]
  },
  {
   "cell_type": "code",
   "execution_count": 315,
   "metadata": {},
   "outputs": [
    {
     "data": {
      "image/png": "[encoded data removed]",
      "text/plain": [
       "<Figure size 1600x1000 with 2 Axes>"
      ]
     },
     "metadata": {},
     "output_type": "display_data"
    }
   ],
   "source": [
    "plt.figure(figsize=(16, 10))\n",
    "ax = plt.subplot(2, 2, 1)\n",
    "ax.set_title('loss')\n",
    "ax.plot(train_rmses)\n",
    "ax.set_xticks(np.arange(0, num_epochs+1, num_epochs/10))\n",
    "ax.grid()\n",
    "\n",
    "ax = plt.subplot(2, 2, 2)\n",
    "ax.set_title('train_rmse')\n",
    "ax.plot(test_rmses)\n",
    "ax.set_xticks(np.arange(0, num_epochs+1, num_epochs/10))\n",
    "ax.grid()"
   ]
  }
 ],
 "metadata": {
  "kernelspec": {
   "display_name": "Python 3",
   "language": "python",
   "name": "python3"
  },
  "language_info": {
   "codemirror_mode": {
    "name": "ipython",
    "version": 3
   },
   "file_extension": ".py",
   "mimetype": "text/x-python",
   "name": "python",
   "nbconvert_exporter": "python",
   "pygments_lexer": "ipython3",
   "version": "3.11.9"
  }
 },
 "nbformat": 4,
 "nbformat_minor": 2
}
