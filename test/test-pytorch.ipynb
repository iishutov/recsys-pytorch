{
 "cells": [
  {
   "cell_type": "code",
   "execution_count": 21,
   "metadata": {},
   "outputs": [],
   "source": [
    "import torch\n",
    "import numpy as np\n",
    "import torch.nn as nn"
   ]
  },
  {
   "cell_type": "markdown",
   "metadata": {},
   "source": [
    "# Basics"
   ]
  },
  {
   "cell_type": "code",
   "execution_count": 5,
   "metadata": {},
   "outputs": [
    {
     "data": {
      "text/plain": [
       "torch.Size([2, 2])"
      ]
     },
     "execution_count": 5,
     "metadata": {},
     "output_type": "execute_result"
    }
   ],
   "source": [
    "torch.empty(2, 2).size()"
   ]
  },
  {
   "cell_type": "code",
   "execution_count": 11,
   "metadata": {},
   "outputs": [
    {
     "data": {
      "text/plain": [
       "tensor([[0.1964]])"
      ]
     },
     "execution_count": 11,
     "metadata": {},
     "output_type": "execute_result"
    }
   ],
   "source": [
    "torch.rand(1,1)"
   ]
  },
  {
   "cell_type": "code",
   "execution_count": 9,
   "metadata": {},
   "outputs": [
    {
     "data": {
      "text/plain": [
       "tensor([2, 3])"
      ]
     },
     "execution_count": 9,
     "metadata": {},
     "output_type": "execute_result"
    }
   ],
   "source": [
    "b = torch.tensor([1, 2])\n",
    "b.add_(1)\n",
    "b"
   ]
  },
  {
   "cell_type": "code",
   "execution_count": 16,
   "metadata": {},
   "outputs": [
    {
     "name": "stdout",
     "output_type": "stream",
     "text": [
      "a=tensor([[5., 5., 5.],\n",
      "        [5., 5., 5.],\n",
      "        [5., 5., 5.],\n",
      "        [5., 5., 5.]])\n",
      "b=tensor([5., 5., 5., 5., 5., 5., 5., 5., 5., 5., 5., 5.])\n"
     ]
    }
   ],
   "source": [
    "# reshape\n",
    "a = torch.empty(4, 3).fill_(5)\n",
    "print(f'{a=}')\n",
    "b = a.view(4*3)\n",
    "print(f'{b=}')"
   ]
  },
  {
   "cell_type": "code",
   "execution_count": 20,
   "metadata": {},
   "outputs": [
    {
     "data": {
      "text/plain": [
       "tensor([[1., 5., 5.],\n",
       "        [1., 5., 5.],\n",
       "        [1., 5., 5.],\n",
       "        [1., 5., 5.]])"
      ]
     },
     "execution_count": 20,
     "metadata": {},
     "output_type": "execute_result"
    }
   ],
   "source": [
    "a_numpy_link = a.numpy()\n",
    "a_numpy_link[:, 0] = 1\n",
    "a"
   ]
  },
  {
   "cell_type": "code",
   "execution_count": 27,
   "metadata": {},
   "outputs": [
    {
     "data": {
      "text/plain": [
       "array([0, 2, 3])"
      ]
     },
     "execution_count": 27,
     "metadata": {},
     "output_type": "execute_result"
    }
   ],
   "source": [
    "np_arr = np.array([1, 2, 3], dtype=np.int32)\n",
    "arr_link = torch.from_numpy(np_arr)\n",
    "arr_link[0] = 0\n",
    "np_arr"
   ]
  },
  {
   "cell_type": "markdown",
   "metadata": {},
   "source": [
    "# Autograd"
   ]
  },
  {
   "cell_type": "code",
   "execution_count": 56,
   "metadata": {},
   "outputs": [
    {
     "name": "stdout",
     "output_type": "stream",
     "text": [
      "tensor([2., 3., 4., 5., 6.], dtype=torch.float64, grad_fn=<AddBackward0>)\n",
      "tensor(3., dtype=torch.float64, grad_fn=<MeanBackward0>)\n",
      "tensor([0.2000, 0.2000, 0.2000, 0.2000, 0.2000], dtype=torch.float64)\n"
     ]
    }
   ],
   "source": [
    "x = torch.tensor([1, 2, 3, 4, 5], dtype=float, requires_grad=True)\n",
    "print(x + 1)\n",
    "y = x.mean()\n",
    "print(y)\n",
    "y.backward()\n",
    "print(x.grad)"
   ]
  },
  {
   "cell_type": "code",
   "execution_count": 64,
   "metadata": {},
   "outputs": [
    {
     "name": "stdout",
     "output_type": "stream",
     "text": [
      "epoch №0: tensor([3., 3., 3., 3.])\n",
      "epoch №1: tensor([6., 6., 6., 6.])\n",
      "epoch №2: tensor([9., 9., 9., 9.])\n",
      "epoch №3: tensor([12., 12., 12., 12.])\n",
      "epoch №4: tensor([15., 15., 15., 15.])\n"
     ]
    }
   ],
   "source": [
    "w = torch.ones(4, requires_grad=True)\n",
    "\n",
    "for epoch in range(5):\n",
    "    y = 3*w.sum()\n",
    "    y.backward()\n",
    "\n",
    "    print(f'epoch №{epoch}: {w.grad}')"
   ]
  },
  {
   "cell_type": "code",
   "execution_count": 66,
   "metadata": {},
   "outputs": [
    {
     "name": "stdout",
     "output_type": "stream",
     "text": [
      "epoch №0: tensor([3., 3., 3., 3.])\n",
      "epoch №1: tensor([3., 3., 3., 3.])\n",
      "epoch №2: tensor([3., 3., 3., 3.])\n",
      "epoch №3: tensor([3., 3., 3., 3.])\n",
      "epoch №4: tensor([3., 3., 3., 3.])\n"
     ]
    }
   ],
   "source": [
    "w = torch.ones(4, requires_grad=True)\n",
    "\n",
    "for epoch in range(5):\n",
    "    y = 3*w.sum()\n",
    "    y.backward()\n",
    "\n",
    "    print(f'epoch №{epoch}: {w.grad}')\n",
    "\n",
    "    # correct\n",
    "    w.grad.zero_()"
   ]
  },
  {
   "cell_type": "markdown",
   "metadata": {},
   "source": [
    "# Backpropagation"
   ]
  },
  {
   "cell_type": "code",
   "execution_count": 150,
   "metadata": {},
   "outputs": [
    {
     "name": "stdout",
     "output_type": "stream",
     "text": [
      "\n",
      "EPOCH №1\n",
      "loss=1.0000, w.grad=-2.0000, w=1.0000\n",
      "\n",
      "EPOCH №2\n",
      "loss=0.0400, w.grad=-0.4000, w=1.8000\n",
      "\n",
      "EPOCH №3\n",
      "loss=0.0016, w.grad=-0.0800, w=1.9600\n",
      "\n",
      "EPOCH №4\n",
      "loss=0.0001, w.grad=-0.0160, w=1.9920\n",
      "\n",
      "EPOCH №5\n",
      "loss=0.0000, w.grad=-0.0032, w=1.9984\n"
     ]
    }
   ],
   "source": [
    "x = torch.tensor(1.)\n",
    "y = torch.tensor(2.)\n",
    "\n",
    "w = torch.tensor(1., requires_grad=True)\n",
    "\n",
    "def forward(x):\n",
    "    return w * x\n",
    "\n",
    "def mse(y, y_pred):\n",
    "    return torch.mean((y - y_pred)**2)\n",
    "\n",
    "learning_rate = 0.4\n",
    "for epoch in range(5):\n",
    "    print(f'\\nEPOCH №{epoch+1}')\n",
    "\n",
    "    # forward pass: compute the loss\n",
    "    y_hat = forward(x)\n",
    "    loss = mse(y, y_hat)\n",
    "\n",
    "    # backward pass: compute the gradients\n",
    "    loss.backward()\n",
    "\n",
    "    print(f'{loss=:.4f}, {w.grad=:.4f}, {w=:.4f}')\n",
    "\n",
    "    with torch.no_grad():\n",
    "        # update weights\n",
    "        w -= learning_rate * w.grad\n",
    "        w.grad.zero_()"
   ]
  },
  {
   "cell_type": "markdown",
   "metadata": {},
   "source": [
    "# Training pipeline"
   ]
  },
  {
   "cell_type": "code",
   "execution_count": 268,
   "metadata": {},
   "outputs": [
    {
     "name": "stdout",
     "output_type": "stream",
     "text": [
      "\n",
      "EPOCH №1\n",
      "loss=6.0302, w[0][0]=0.9638, b[0]=0.5450\n",
      "\n",
      "EPOCH №2\n",
      "loss=0.2412, w[0][0]=1.1603, b[0]=0.7415\n",
      "\n",
      "EPOCH №3\n",
      "loss=0.0096, w[0][0]=1.1996, b[0]=0.7808\n",
      "\n",
      "EPOCH №4\n",
      "loss=0.0004, w[0][0]=1.2074, b[0]=0.7886\n",
      "\n",
      "EPOCH №5\n",
      "loss=0.0000, w[0][0]=1.2090, b[0]=0.7902\n"
     ]
    }
   ],
   "source": [
    "X = torch.tensor([[1.]])\n",
    "Y = torch.tensor([[2.]])\n",
    "\n",
    "n_samples, n_features = X.shape\n",
    "\n",
    "class LinearRegression(nn.Module):\n",
    "    def __init__(self, in_dim, out_dim):\n",
    "        super(LinearRegression, self).__init__()\n",
    "        # define layers\n",
    "        self.linear = nn.Linear(in_dim, out_dim)\n",
    "\n",
    "    def forward(self, x):\n",
    "        return self.linear(x)\n",
    "    \n",
    "model = LinearRegression(n_samples, n_samples)\n",
    "mse = nn.MSELoss()\n",
    "optimizer = torch.optim.SGD(model.parameters(), 0.2)\n",
    "\n",
    "for epoch in range(5):\n",
    "    print(f'\\nEPOCH №{epoch+1}')\n",
    "\n",
    "    y_hat = model(X)\n",
    "    loss = mse(Y, y_hat)\n",
    "    loss.backward()\n",
    "    optimizer.step()\n",
    "    optimizer.zero_grad()\n",
    "\n",
    "    w, b = model.parameters()\n",
    "    print(f'{loss=:.4f}, {w[0][0]=:.4f}, {b[0]=:.4f}')"
   ]
  },
  {
   "cell_type": "markdown",
   "metadata": {},
   "source": [
    "# Linear regression"
   ]
  },
  {
   "cell_type": "code",
   "execution_count": null,
   "metadata": {},
   "outputs": [],
   "source": []
  }
 ],
 "metadata": {
  "kernelspec": {
   "display_name": "Python 3",
   "language": "python",
   "name": "python3"
  },
  "language_info": {
   "codemirror_mode": {
    "name": "ipython",
    "version": 3
   },
   "file_extension": ".py",
   "mimetype": "text/x-python",
   "name": "python",
   "nbconvert_exporter": "python",
   "pygments_lexer": "ipython3",
   "version": "3.11.6"
  }
 },
 "nbformat": 4,
 "nbformat_minor": 2
}
