{
 "cells": [
  {
   "cell_type": "code",
   "execution_count": 2,
   "metadata": {},
   "outputs": [],
   "source": [
    "import torch\n",
    "import numpy as np\n",
    "import torch.nn as nn"
   ]
  },
  {
   "cell_type": "markdown",
   "metadata": {},
   "source": [
    "# Basics"
   ]
  },
  {
   "cell_type": "code",
   "execution_count": 3,
   "metadata": {},
   "outputs": [
    {
     "data": {
      "text/plain": [
       "torch.Size([2, 2])"
      ]
     },
     "execution_count": 3,
     "metadata": {},
     "output_type": "execute_result"
    }
   ],
   "source": [
    "torch.empty(2, 2).size()"
   ]
  },
  {
   "cell_type": "code",
   "execution_count": 4,
   "metadata": {},
   "outputs": [
    {
     "data": {
      "text/plain": [
       "tensor([[0.0476]])"
      ]
     },
     "execution_count": 4,
     "metadata": {},
     "output_type": "execute_result"
    }
   ],
   "source": [
    "torch.rand(1,1)"
   ]
  },
  {
   "cell_type": "code",
   "execution_count": 5,
   "metadata": {},
   "outputs": [
    {
     "data": {
      "text/plain": [
       "tensor([2, 3])"
      ]
     },
     "execution_count": 5,
     "metadata": {},
     "output_type": "execute_result"
    }
   ],
   "source": [
    "b = torch.tensor([1, 2])\n",
    "b.add_(1)\n",
    "b"
   ]
  },
  {
   "cell_type": "code",
   "execution_count": 6,
   "metadata": {},
   "outputs": [
    {
     "name": "stdout",
     "output_type": "stream",
     "text": [
      "a=tensor([[5., 5., 5.],\n",
      "        [5., 5., 5.],\n",
      "        [5., 5., 5.],\n",
      "        [5., 5., 5.]])\n",
      "b=tensor([5., 5., 5., 5., 5., 5., 5., 5., 5., 5., 5., 5.])\n"
     ]
    }
   ],
   "source": [
    "# reshape\n",
    "a = torch.empty(4, 3).fill_(5)\n",
    "print(f'{a=}')\n",
    "b = a.view(4*3)\n",
    "print(f'{b=}')"
   ]
  },
  {
   "cell_type": "code",
   "execution_count": 7,
   "metadata": {},
   "outputs": [
    {
     "data": {
      "text/plain": [
       "tensor([[1., 5., 5.],\n",
       "        [1., 5., 5.],\n",
       "        [1., 5., 5.],\n",
       "        [1., 5., 5.]])"
      ]
     },
     "execution_count": 7,
     "metadata": {},
     "output_type": "execute_result"
    }
   ],
   "source": [
    "a_numpy_link = a.numpy()\n",
    "a_numpy_link[:, 0] = 1\n",
    "a"
   ]
  },
  {
   "cell_type": "code",
   "execution_count": 8,
   "metadata": {},
   "outputs": [
    {
     "data": {
      "text/plain": [
       "array([0, 2, 3])"
      ]
     },
     "execution_count": 8,
     "metadata": {},
     "output_type": "execute_result"
    }
   ],
   "source": [
    "np_arr = np.array([1, 2, 3], dtype=np.int32)\n",
    "arr_link = torch.from_numpy(np_arr)\n",
    "arr_link[0] = 0\n",
    "np_arr"
   ]
  },
  {
   "cell_type": "markdown",
   "metadata": {},
   "source": [
    "# Autograd"
   ]
  },
  {
   "cell_type": "code",
   "execution_count": 9,
   "metadata": {},
   "outputs": [
    {
     "name": "stdout",
     "output_type": "stream",
     "text": [
      "tensor([2., 3., 4., 5., 6.], dtype=torch.float64, grad_fn=<AddBackward0>)\n",
      "tensor(3., dtype=torch.float64, grad_fn=<MeanBackward0>)\n",
      "tensor([0.2000, 0.2000, 0.2000, 0.2000, 0.2000], dtype=torch.float64)\n"
     ]
    }
   ],
   "source": [
    "x = torch.tensor([1, 2, 3, 4, 5], dtype=float, requires_grad=True)\n",
    "print(x + 1)\n",
    "y = x.mean()\n",
    "print(y)\n",
    "y.backward()\n",
    "print(x.grad)"
   ]
  },
  {
   "cell_type": "code",
   "execution_count": 10,
   "metadata": {},
   "outputs": [
    {
     "name": "stdout",
     "output_type": "stream",
     "text": [
      "epoch №0: tensor([3., 3., 3., 3.])\n",
      "epoch №1: tensor([6., 6., 6., 6.])\n",
      "epoch №2: tensor([9., 9., 9., 9.])\n",
      "epoch №3: tensor([12., 12., 12., 12.])\n",
      "epoch №4: tensor([15., 15., 15., 15.])\n"
     ]
    }
   ],
   "source": [
    "w = torch.ones(4, requires_grad=True)\n",
    "\n",
    "for epoch in range(5):\n",
    "    y = 3*w.sum()\n",
    "    y.backward()\n",
    "\n",
    "    print(f'epoch №{epoch}: {w.grad}')"
   ]
  },
  {
   "cell_type": "code",
   "execution_count": 11,
   "metadata": {},
   "outputs": [
    {
     "name": "stdout",
     "output_type": "stream",
     "text": [
      "epoch №0: tensor([3., 3., 3., 3.])\n",
      "epoch №1: tensor([3., 3., 3., 3.])\n",
      "epoch №2: tensor([3., 3., 3., 3.])\n",
      "epoch №3: tensor([3., 3., 3., 3.])\n",
      "epoch №4: tensor([3., 3., 3., 3.])\n"
     ]
    }
   ],
   "source": [
    "w = torch.ones(4, requires_grad=True)\n",
    "\n",
    "for epoch in range(5):\n",
    "    y = 3*w.sum()\n",
    "    y.backward()\n",
    "\n",
    "    print(f'epoch №{epoch}: {w.grad}')\n",
    "\n",
    "    # correct\n",
    "    w.grad.zero_()"
   ]
  },
  {
   "cell_type": "markdown",
   "metadata": {},
   "source": [
    "# Backpropagation"
   ]
  },
  {
   "cell_type": "code",
   "execution_count": 12,
   "metadata": {},
   "outputs": [
    {
     "name": "stdout",
     "output_type": "stream",
     "text": [
      "\n",
      "EPOCH №1\n",
      "loss=1.0000, w.grad=-2.0000, w=1.0000\n",
      "\n",
      "EPOCH №2\n",
      "loss=0.0400, w.grad=-0.4000, w=1.8000\n",
      "\n",
      "EPOCH №3\n",
      "loss=0.0016, w.grad=-0.0800, w=1.9600\n",
      "\n",
      "EPOCH №4\n",
      "loss=0.0001, w.grad=-0.0160, w=1.9920\n",
      "\n",
      "EPOCH №5\n",
      "loss=0.0000, w.grad=-0.0032, w=1.9984\n"
     ]
    }
   ],
   "source": [
    "x = torch.tensor(1.)\n",
    "y = torch.tensor(2.)\n",
    "\n",
    "w = torch.tensor(1., requires_grad=True)\n",
    "\n",
    "def forward(x):\n",
    "    return w * x\n",
    "\n",
    "def mse(y, y_pred):\n",
    "    return torch.mean((y - y_pred)**2)\n",
    "\n",
    "learning_rate = 0.4\n",
    "for epoch in range(5):\n",
    "    print(f'\\nEPOCH №{epoch+1}')\n",
    "\n",
    "    # forward pass: compute the loss\n",
    "    y_hat = forward(x)\n",
    "    loss = mse(y, y_hat)\n",
    "\n",
    "    # backward pass: compute the gradients\n",
    "    loss.backward()\n",
    "\n",
    "    print(f'{loss=:.4f}, {w.grad=:.4f}, {w=:.4f}')\n",
    "\n",
    "    with torch.no_grad():\n",
    "        # update weights\n",
    "        w -= learning_rate * w.grad\n",
    "        w.grad.zero_()"
   ]
  },
  {
   "cell_type": "markdown",
   "metadata": {},
   "source": [
    "# Training pipeline"
   ]
  },
  {
   "cell_type": "code",
   "execution_count": 13,
   "metadata": {},
   "outputs": [
    {
     "name": "stdout",
     "output_type": "stream",
     "text": [
      "\n",
      "EPOCH №1\n",
      "loss=2.9454, w[0][0]=1.2539, b[0]=0.4029\n",
      "\n",
      "EPOCH №2\n",
      "loss=0.1178, w[0][0]=1.3912, b[0]=0.5402\n",
      "\n",
      "EPOCH №3\n",
      "loss=0.0047, w[0][0]=1.4186, b[0]=0.5677\n",
      "\n",
      "EPOCH №4\n",
      "loss=0.0002, w[0][0]=1.4241, b[0]=0.5731\n",
      "\n",
      "EPOCH №5\n",
      "loss=0.0000, w[0][0]=1.4252, b[0]=0.5742\n"
     ]
    }
   ],
   "source": [
    "X = torch.tensor([[1.]])\n",
    "Y = torch.tensor([[2.]])\n",
    "\n",
    "n_samples, n_features = X.shape\n",
    "\n",
    "class LinearRegression(nn.Module):\n",
    "    def __init__(self, in_dim, out_dim):\n",
    "        super(LinearRegression, self).__init__()\n",
    "        # define layers\n",
    "        self.linear = nn.Linear(in_dim, out_dim)\n",
    "\n",
    "    def forward(self, x):\n",
    "        return self.linear(x)\n",
    "    \n",
    "model = LinearRegression(n_samples, n_samples)\n",
    "mse = nn.MSELoss()\n",
    "optimizer = torch.optim.SGD(model.parameters(), 0.2)\n",
    "\n",
    "for epoch in range(5):\n",
    "    print(f'\\nEPOCH №{epoch+1}')\n",
    "\n",
    "    y_hat = model(X)\n",
    "    loss = mse(Y, y_hat)\n",
    "    loss.backward()\n",
    "    optimizer.step()\n",
    "    optimizer.zero_grad()\n",
    "\n",
    "    w, b = model.parameters()\n",
    "    print(f'{loss=:.4f}, {w[0][0]=:.4f}, {b[0]=:.4f}')"
   ]
  },
  {
   "cell_type": "markdown",
   "metadata": {},
   "source": [
    "# Linear regression"
   ]
  },
  {
   "cell_type": "code",
   "execution_count": 14,
   "metadata": {},
   "outputs": [],
   "source": [
    "from sklearn import datasets\n",
    "import matplotlib.pyplot as plt"
   ]
  },
  {
   "cell_type": "code",
   "execution_count": 71,
   "metadata": {},
   "outputs": [],
   "source": [
    "n_samples, n_features = 100, 1\n",
    "\n",
    "X, y = datasets.make_regression(n_samples, n_features, noise=10, random_state=1)\n",
    "X = torch.from_numpy(X.astype(np.float32))\n",
    "y = torch.from_numpy(y.astype(np.float32)).view(-1, n_features)"
   ]
  },
  {
   "cell_type": "code",
   "execution_count": 115,
   "metadata": {},
   "outputs": [],
   "source": [
    "input_size, output_size = n_features, 1\n",
    "\n",
    "model = nn.Linear(input_size, output_size)\n",
    "\n",
    "learning_rate = 0.5\n",
    "crit = nn.MSELoss()\n",
    "optimizer = torch.optim.SGD(model.parameters(), lr=learning_rate)"
   ]
  },
  {
   "cell_type": "code",
   "execution_count": 116,
   "metadata": {},
   "outputs": [
    {
     "name": "stdout",
     "output_type": "stream",
     "text": [
      "loss=5349.1973, w[0][0]=64.3631, b[0]=6.9700\n",
      "loss=331.0624, w[0][0]=77.6301, b[0]=3.0711\n",
      "loss=96.1206, w[0][0]=80.6899, b[0]=2.2674\n",
      "loss=83.8217, w[0][0]=81.3898, b[0]=2.0820\n",
      "loss=83.1775, w[0][0]=81.5500, b[0]=2.0396\n",
      "loss=83.1438, w[0][0]=81.5866, b[0]=2.0299\n",
      "loss=83.1420, w[0][0]=81.5950, b[0]=2.0277\n"
     ]
    }
   ],
   "source": [
    "num_epochs = 7\n",
    "for epoch in range(num_epochs):\n",
    "    y_pred = model(X)\n",
    "    loss = crit(y_pred, y)\n",
    "    loss.backward()\n",
    "    optimizer.step()\n",
    "    optimizer.zero_grad()\n",
    "\n",
    "    w, b = model.parameters()\n",
    "    print(f'{loss=:.4f}, {w[0][0]=:.4f}, {b[0]=:.4f}')"
   ]
  },
  {
   "cell_type": "code",
   "execution_count": 117,
   "metadata": {},
   "outputs": [
    {
     "data": {
      "image/png": "[encoded data removed]",
      "text/plain": [
       "<Figure size 640x480 with 1 Axes>"
      ]
     },
     "metadata": {},
     "output_type": "display_data"
    }
   ],
   "source": [
    "y_pred = [[]]\n",
    "with torch.no_grad():\n",
    "    y_pred = model(X)\n",
    "\n",
    "plt.scatter(X, y, s=5, c='r')\n",
    "plt.plot(X, y_pred);"
   ]
  },
  {
   "cell_type": "markdown",
   "metadata": {},
   "source": [
    "# Logistic regression"
   ]
  },
  {
   "cell_type": "code",
   "execution_count": 201,
   "metadata": {},
   "outputs": [],
   "source": [
    "from sklearn.preprocessing import StandardScaler\n",
    "from sklearn.model_selection import train_test_split"
   ]
  },
  {
   "cell_type": "code",
   "execution_count": 223,
   "metadata": {},
   "outputs": [
    {
     "data": {
      "text/plain": [
       "(569, 30)"
      ]
     },
     "execution_count": 223,
     "metadata": {},
     "output_type": "execute_result"
    }
   ],
   "source": [
    "bc = datasets.load_breast_cancer()\n",
    "X, y = bc.data, bc.target\n",
    "X.shape"
   ]
  },
  {
   "cell_type": "code",
   "execution_count": 224,
   "metadata": {},
   "outputs": [],
   "source": [
    "n_samples, n_features = X.shape\n",
    "\n",
    "X_train, X_test, y_train, y_test = train_test_split(X, y, test_size=0.2, random_state=42)\n",
    "\n",
    "sc = StandardScaler()\n",
    "X_train = sc.fit_transform(X_train)\n",
    "X_test = sc.transform(X_test)\n",
    "\n",
    "X_train = torch.from_numpy(X_train.astype(np.float32))\n",
    "X_test = torch.from_numpy(X_test.astype(np.float32))\n",
    "y_train = torch.from_numpy(y_train.astype(np.float32))\n",
    "y_test = torch.from_numpy(y_test.astype(np.float32))\n",
    "\n",
    "y_train = y_train.view(y_train.shape[0], 1)\n",
    "y_test = y_test.view(y_test.shape[0], 1)\n",
    "\n",
    "class LogisticRegression(nn.Module):\n",
    "    def __init__(self, n_input_features):\n",
    "        super(LogisticRegression, self).__init__()\n",
    "        self.linear = nn.Linear(n_input_features, 1)\n",
    "        \n",
    "    def forward(self, x):\n",
    "        y_pred = torch.sigmoid_(self.linear(x))\n",
    "        return y_pred\n",
    "    \n",
    "model = LogisticRegression(n_features)\n",
    "\n",
    "learning_rate = 0.9\n",
    "crit = nn.BCELoss()\n",
    "optimizer = torch.optim.SGD(model.parameters(), lr=learning_rate)"
   ]
  },
  {
   "cell_type": "code",
   "execution_count": 225,
   "metadata": {},
   "outputs": [
    {
     "name": "stdout",
     "output_type": "stream",
     "text": [
      "loss=0.7527, w[0][0]=-0.3379, b[0]=0.0023\n",
      "loss=0.2026, w[0][0]=-0.3686, b[0]=0.0464\n",
      "loss=0.1618, w[0][0]=-0.3892, b[0]=0.0845\n",
      "loss=0.1414, w[0][0]=-0.4035, b[0]=0.1178\n",
      "loss=0.1307, w[0][0]=-0.4142, b[0]=0.1471\n",
      "loss=0.1238, w[0][0]=-0.4229, b[0]=0.1733\n",
      "loss=0.1186, w[0][0]=-0.4302, b[0]=0.1970\n",
      "loss=0.1142, w[0][0]=-0.4367, b[0]=0.2186\n",
      "loss=0.1106, w[0][0]=-0.4426, b[0]=0.2383\n",
      "loss=0.1074, w[0][0]=-0.4479, b[0]=0.2565\n"
     ]
    }
   ],
   "source": [
    "num_epochs = 10\n",
    "for epoch in range(num_epochs):\n",
    "    y_pred = model(X_train)\n",
    "    loss = crit(y_pred, y_train)\n",
    "    loss.backward()\n",
    "    optimizer.step()\n",
    "    optimizer.zero_grad()\n",
    "    \n",
    "    w, b = model.parameters()\n",
    "    print(f'{loss=:.4f}, {w[0][0]=:.4f}, {b[0]=:.4f}')"
   ]
  },
  {
   "cell_type": "code",
   "execution_count": 226,
   "metadata": {},
   "outputs": [
    {
     "data": {
      "text/plain": [
       "(torch.Size([455, 30]), torch.Size([455, 1]))"
      ]
     },
     "execution_count": 226,
     "metadata": {},
     "output_type": "execute_result"
    }
   ],
   "source": [
    "X_train.shape, y_train.shape"
   ]
  },
  {
   "cell_type": "code",
   "execution_count": 245,
   "metadata": {},
   "outputs": [
    {
     "name": "stdout",
     "output_type": "stream",
     "text": [
      "acc_train = 62.86%\n",
      "acc_test = 62.28%\n"
     ]
    }
   ],
   "source": [
    "with torch.no_grad():\n",
    "    y_pred = model(X_train).round_()\n",
    "    y_pred_test = model(X_test).round_()\n",
    "\n",
    "print(f'acc_train = {torch.sum(y_pred) / y_pred.shape[0]:.2%}')\n",
    "print(f'acc_test = {torch.sum(y_pred_test) / y_pred_test.shape[0]:.2%}')"
   ]
  }
 ],
 "metadata": {
  "kernelspec": {
   "display_name": "Python 3",
   "language": "python",
   "name": "python3"
  },
  "language_info": {
   "codemirror_mode": {
    "name": "ipython",
    "version": 3
   },
   "file_extension": ".py",
   "mimetype": "text/x-python",
   "name": "python",
   "nbconvert_exporter": "python",
   "pygments_lexer": "ipython3",
   "version": "3.11.6"
  }
 },
 "nbformat": 4,
 "nbformat_minor": 2
}
