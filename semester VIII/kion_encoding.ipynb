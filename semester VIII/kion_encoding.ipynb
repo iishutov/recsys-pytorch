{
 "cells": [
  {
   "cell_type": "code",
   "execution_count": 27,
   "metadata": {},
   "outputs": [],
   "source": [
    "import numpy as np\n",
    "import pandas as pd\n",
    "from sklearn.feature_extraction.text import TfidfVectorizer\n",
    "from sklearn.preprocessing import OneHotEncoder\n",
    "from spacy.lang.ru.stop_words import STOP_WORDS\n",
    "\n",
    "df_inter = pd.read_csv('./mod_data/interactions.csv')\n",
    "df_items = pd.read_csv('./mod_data/items.csv')\n",
    "df_users = pd.read_csv('./mod_data/users.csv')"
   ]
  },
  {
   "cell_type": "markdown",
   "metadata": {},
   "source": [
    "## Items"
   ]
  },
  {
   "cell_type": "code",
   "execution_count": 28,
   "metadata": {},
   "outputs": [
    {
     "data": {
      "text/html": [
       "<div>\n",
       "<style scoped>\n",
       "    .dataframe tbody tr th:only-of-type {\n",
       "        vertical-align: middle;\n",
       "    }\n",
       "\n",
       "    .dataframe tbody tr th {\n",
       "        vertical-align: top;\n",
       "    }\n",
       "\n",
       "    .dataframe thead th {\n",
       "        text-align: right;\n",
       "    }\n",
       "</style>\n",
       "<table border=\"1\" class=\"dataframe\">\n",
       "  <thead>\n",
       "    <tr style=\"text-align: right;\">\n",
       "      <th></th>\n",
       "      <th>item_id</th>\n",
       "      <th>content_type</th>\n",
       "      <th>title</th>\n",
       "      <th>genres</th>\n",
       "      <th>age_rating</th>\n",
       "      <th>keywords</th>\n",
       "    </tr>\n",
       "  </thead>\n",
       "  <tbody>\n",
       "    <tr>\n",
       "      <th>11514</th>\n",
       "      <td>15748</td>\n",
       "      <td>film</td>\n",
       "      <td>Как знать…</td>\n",
       "      <td>драмы, мелодрамы, комедии</td>\n",
       "      <td>16</td>\n",
       "      <td>любовный треугольник, бейсбол, 2010, соединенн...</td>\n",
       "    </tr>\n",
       "  </tbody>\n",
       "</table>\n",
       "</div>"
      ],
      "text/plain": [
       "       item_id content_type       title                     genres  \\\n",
       "11514    15748         film  Как знать…  драмы, мелодрамы, комедии   \n",
       "\n",
       "       age_rating                                           keywords  \n",
       "11514          16  любовный треугольник, бейсбол, 2010, соединенн...  "
      ]
     },
     "execution_count": 28,
     "metadata": {},
     "output_type": "execute_result"
    }
   ],
   "source": [
    "df_items.sample(1)"
   ]
  },
  {
   "cell_type": "code",
   "execution_count": 29,
   "metadata": {},
   "outputs": [],
   "source": [
    "def tokenize(line: str):\n",
    "    return [word for word in line.split(', ') \n",
    "            if not word.isnumeric() and word not in {'', 'nan'}]\n",
    "\n",
    "keywords_vectorizer = TfidfVectorizer(\n",
    "    tokenizer=tokenize, token_pattern=None,\n",
    "    max_features=100, stop_words=list(STOP_WORDS))\n",
    "\n",
    "X_keywords = keywords_vectorizer.fit_transform(\n",
    "    df_items['keywords'].values.astype('U')).todense()\n",
    "\n",
    "X_content_type = (df_items['content_type'] == 'film').\\\n",
    "    astype(int).values.reshape(-1, 1)\n",
    "\n",
    "age_rating_encoder = OneHotEncoder(sparse_output=False)\n",
    "X_age_rating = age_rating_encoder.fit_transform(\n",
    "    df_items['age_rating'].values.astype('U').reshape(-1, 1))\n",
    "\n",
    "genres_vectorizer = TfidfVectorizer(tokenizer=tokenize, token_pattern=None)\n",
    "X_genres = genres_vectorizer.fit_transform(\n",
    "    df_items['genres'].values.astype('U')).todense()"
   ]
  },
  {
   "cell_type": "code",
   "execution_count": 30,
   "metadata": {},
   "outputs": [
    {
     "data": {
      "text/plain": [
       "array(['автокатастрофа', 'бандиты', 'бар', 'беременность', 'близких',\n",
       "       'блокбастер', 'боевые искусства', 'бой', 'больница', 'борьба',\n",
       "       'брак', 'брызги крови', 'великобритания', 'вечеринка', 'взрыв',\n",
       "       'война', 'врач', 'выживание', 'выстрел в голову',\n",
       "       'выстрел в грудь', 'гангстеры', 'германия', 'героизм', 'героя',\n",
       "       'деньги', 'держать на прицеле', 'детей', 'дети', 'дождь', 'дочери',\n",
       "       'дружба', 'друзья', 'женская нагота', 'женщины', 'жены',\n",
       "       'жестокость', 'жизненных', 'жизнь', 'загадки', 'задание',\n",
       "       'замедленная сцена', 'застреленный', 'злом', 'италия', 'канада',\n",
       "       'конфликт', 'конфликты', 'кровь', 'любовь', 'матери', 'месть',\n",
       "       'миссия', 'мужа', 'мужчина с обнаженной грудью', 'мужчины',\n",
       "       'название', 'обман', 'отношения', 'отношения мужа и жены',\n",
       "       'отношениях', 'отца', 'отцы', 'паре', 'потеря', 'правопорядка',\n",
       "       'преодоление', 'преследования', 'преступления', 'приоритетов',\n",
       "       'проблемы', 'прошлое', 'путешествия', 'работа', 'расследование',\n",
       "       'родителей', 'романтические', 'россия', 'сверхъестественное',\n",
       "       'семейные', 'семья', 'силы', 'сильные', 'сказанное персонажем',\n",
       "       'смена', 'смерть', 'соединенное королевство', 'соединенные штаты',\n",
       "       'соперничество', 'спасение', 'справедливость', 'ссср', 'сша',\n",
       "       'сына', 'тайны', 'трудностей', 'убийства', 'убийство', 'убийцы',\n",
       "       'франция', 'цель'], dtype=object)"
      ]
     },
     "execution_count": 30,
     "metadata": {},
     "output_type": "execute_result"
    }
   ],
   "source": [
    "keywords_vectorizer.get_feature_names_out()"
   ]
  },
  {
   "cell_type": "code",
   "execution_count": 31,
   "metadata": {},
   "outputs": [
    {
     "data": {
      "text/plain": [
       "россия                     1908.561897\n",
       "соединенные штаты          1327.018417\n",
       "франция                     934.118947\n",
       "отношения                   878.104439\n",
       "сша                         752.556432\n",
       "дружба                      444.615631\n",
       "соединенное королевство     437.047073\n",
       "любовь                      433.247950\n",
       "ссср                        347.287887\n",
       "борьба                      338.713945\n",
       "dtype: float64"
      ]
     },
     "execution_count": 31,
     "metadata": {},
     "output_type": "execute_result"
    }
   ],
   "source": [
    "pd.Series(\n",
    "    data=np.squeeze(np.asarray(X_keywords.sum(axis=0))),\n",
    "    index=keywords_vectorizer.get_feature_names_out()\n",
    "    ).sort_values(ascending=False)[:10]"
   ]
  },
  {
   "cell_type": "code",
   "execution_count": 32,
   "metadata": {},
   "outputs": [
    {
     "data": {
      "text/plain": [
       "(11909, 200)"
      ]
     },
     "execution_count": 32,
     "metadata": {},
     "output_type": "execute_result"
    }
   ],
   "source": [
    "X_items = np.hstack([X_content_type, X_genres, X_age_rating, X_keywords])\n",
    "X_items.shape"
   ]
  },
  {
   "cell_type": "markdown",
   "metadata": {},
   "source": [
    "## Users"
   ]
  },
  {
   "cell_type": "code",
   "execution_count": 33,
   "metadata": {},
   "outputs": [
    {
     "data": {
      "text/html": [
       "<div>\n",
       "<style scoped>\n",
       "    .dataframe tbody tr th:only-of-type {\n",
       "        vertical-align: middle;\n",
       "    }\n",
       "\n",
       "    .dataframe tbody tr th {\n",
       "        vertical-align: top;\n",
       "    }\n",
       "\n",
       "    .dataframe thead th {\n",
       "        text-align: right;\n",
       "    }\n",
       "</style>\n",
       "<table border=\"1\" class=\"dataframe\">\n",
       "  <thead>\n",
       "    <tr style=\"text-align: right;\">\n",
       "      <th></th>\n",
       "      <th>user_id</th>\n",
       "      <th>age</th>\n",
       "      <th>income</th>\n",
       "      <th>sex</th>\n",
       "      <th>kids_flg</th>\n",
       "    </tr>\n",
       "  </thead>\n",
       "  <tbody>\n",
       "    <tr>\n",
       "      <th>446566</th>\n",
       "      <td>220600</td>\n",
       "      <td>age_18_24</td>\n",
       "      <td>income_40_60</td>\n",
       "      <td>Ж</td>\n",
       "      <td>1</td>\n",
       "    </tr>\n",
       "  </tbody>\n",
       "</table>\n",
       "</div>"
      ],
      "text/plain": [
       "        user_id        age        income sex  kids_flg\n",
       "446566   220600  age_18_24  income_40_60   Ж         1"
      ]
     },
     "execution_count": 33,
     "metadata": {},
     "output_type": "execute_result"
    }
   ],
   "source": [
    "df_users.sample(1)"
   ]
  },
  {
   "cell_type": "code",
   "execution_count": 38,
   "metadata": {},
   "outputs": [],
   "source": [
    "age_encoder = OneHotEncoder(sparse_output=False)\n",
    "X_age = age_encoder.fit_transform(\n",
    "    df_users['age'].values.astype('U').reshape(-1, 1))\n",
    "\n",
    "income_encoder = OneHotEncoder(sparse_output=False)\n",
    "X_income = income_encoder.fit_transform(\n",
    "    df_users['income'].values.astype('U').reshape(-1, 1))\n",
    "\n",
    "X_sex = (df_users['sex'] == 'М').astype(int).values.reshape(-1, 1)"
   ]
  },
  {
   "cell_type": "code",
   "execution_count": 40,
   "metadata": {},
   "outputs": [
    {
     "data": {
      "text/plain": [
       "(448798, 14)"
      ]
     },
     "execution_count": 40,
     "metadata": {},
     "output_type": "execute_result"
    }
   ],
   "source": [
    "X_users = np.hstack([X_age, X_income, X_sex,\n",
    "    df_users['kids_flg'].to_numpy().reshape(-1, 1)])\n",
    "X_users.shape"
   ]
  },
  {
   "cell_type": "code",
   "execution_count": 41,
   "metadata": {},
   "outputs": [],
   "source": [
    "np.savez_compressed('encoded_data', X_users=X_users, X_items=X_items)"
   ]
  }
 ],
 "metadata": {
  "kernelspec": {
   "display_name": "Python 3",
   "language": "python",
   "name": "python3"
  },
  "language_info": {
   "codemirror_mode": {
    "name": "ipython",
    "version": 3
   },
   "file_extension": ".py",
   "mimetype": "text/x-python",
   "name": "python",
   "nbconvert_exporter": "python",
   "pygments_lexer": "ipython3",
   "version": "3.11.9"
  }
 },
 "nbformat": 4,
 "nbformat_minor": 2
}
