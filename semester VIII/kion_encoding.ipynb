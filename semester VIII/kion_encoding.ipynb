{
 "cells": [
  {
   "cell_type": "code",
   "execution_count": 16,
   "metadata": {},
   "outputs": [],
   "source": [
    "import numpy as np\n",
    "import pandas as pd\n",
    "from sklearn.feature_extraction.text import TfidfVectorizer\n",
    "from sklearn.preprocessing import OneHotEncoder\n",
    "from spacy.lang.ru.stop_words import STOP_WORDS\n",
    "\n",
    "df_items = pd.read_csv('./data/processed/items.csv')\n",
    "df_users = pd.read_csv('./data/processed/users.csv')"
   ]
  },
  {
   "cell_type": "markdown",
   "metadata": {},
   "source": [
    "## Items"
   ]
  },
  {
   "cell_type": "code",
   "execution_count": 17,
   "metadata": {},
   "outputs": [
    {
     "data": {
      "text/html": [
       "<div>\n",
       "<style scoped>\n",
       "    .dataframe tbody tr th:only-of-type {\n",
       "        vertical-align: middle;\n",
       "    }\n",
       "\n",
       "    .dataframe tbody tr th {\n",
       "        vertical-align: top;\n",
       "    }\n",
       "\n",
       "    .dataframe thead th {\n",
       "        text-align: right;\n",
       "    }\n",
       "</style>\n",
       "<table border=\"1\" class=\"dataframe\">\n",
       "  <thead>\n",
       "    <tr style=\"text-align: right;\">\n",
       "      <th></th>\n",
       "      <th>item_id</th>\n",
       "      <th>content_type</th>\n",
       "      <th>title</th>\n",
       "      <th>genres</th>\n",
       "      <th>age_rating</th>\n",
       "      <th>keywords</th>\n",
       "      <th>views</th>\n",
       "    </tr>\n",
       "  </thead>\n",
       "  <tbody>\n",
       "    <tr>\n",
       "      <th>9468</th>\n",
       "      <td>11296</td>\n",
       "      <td>film</td>\n",
       "      <td>Георгий Седов</td>\n",
       "      <td>биография, приключения, исторические, советски...</td>\n",
       "      <td>12</td>\n",
       "      <td>Георгий, Седов, 1975, СССР, выживание, диких, ...</td>\n",
       "      <td>1</td>\n",
       "    </tr>\n",
       "  </tbody>\n",
       "</table>\n",
       "</div>"
      ],
      "text/plain": [
       "      item_id content_type          title  \\\n",
       "9468    11296         film  Георгий Седов   \n",
       "\n",
       "                                                 genres  age_rating  \\\n",
       "9468  биография, приключения, исторические, советски...          12   \n",
       "\n",
       "                                               keywords  views  \n",
       "9468  Георгий, Седов, 1975, СССР, выживание, диких, ...      1  "
      ]
     },
     "execution_count": 17,
     "metadata": {},
     "output_type": "execute_result"
    }
   ],
   "source": [
    "df_items.sample(1)"
   ]
  },
  {
   "cell_type": "code",
   "execution_count": 18,
   "metadata": {},
   "outputs": [],
   "source": [
    "def tokenize(line: str):\n",
    "    return [word for word in line.split(', ')\n",
    "            if not word.isnumeric() and word not in {'', 'nan'}]\n",
    "\n",
    "keywords_vectorizer = TfidfVectorizer(\n",
    "    tokenizer=tokenize, token_pattern=None,\n",
    "    max_features=200, stop_words=list(STOP_WORDS))\n",
    "\n",
    "X_keywords = keywords_vectorizer.fit_transform(\n",
    "    df_items['keywords'].values.astype('U')).todense()\n",
    "\n",
    "X_content_type = (df_items['content_type'] == 'film').\\\n",
    "    astype(int).values.reshape(-1, 1)\n",
    "\n",
    "age_rating_encoder = OneHotEncoder(sparse_output=False)\n",
    "X_age_rating = age_rating_encoder.fit_transform(\n",
    "    df_items['age_rating'].values.astype('U').reshape(-1, 1))\n",
    "\n",
    "genres_vectorizer = TfidfVectorizer(tokenizer=tokenize, token_pattern=None)\n",
    "X_genres = genres_vectorizer.fit_transform(\n",
    "    df_items['genres'].values.astype('U')).todense()"
   ]
  },
  {
   "cell_type": "code",
   "execution_count": 19,
   "metadata": {},
   "outputs": [
    {
     "data": {
      "text/plain": [
       "array(['2010-е', '4к', 'автокатастрофа', 'автомобильная авария',\n",
       "       'автомобильная погоня', 'англия', 'антигерой', 'арест', 'армия',\n",
       "       'аэропорт', 'бандиты', 'бар', 'бассейн', 'беременность', 'битва',\n",
       "       'близких', 'блокбастер', 'боевые искусства', 'бой', 'больница',\n",
       "       'бомба', 'борьба', 'брак', 'брызги крови', 'великобритания',\n",
       "       'вертолёт', 'вечеринка', 'взрыв', 'взрывающаяся машина',\n",
       "       'винтовка', 'воин', 'война', 'волшебство', 'воровство', 'враги',\n",
       "       'вражда', 'врач', 'выбор', 'выживание', 'выстрел в голову',\n",
       "       'выстрел в грудь', 'выстрел в спину', 'гангстеры', 'германия',\n",
       "       'героизм', 'герой', 'герой боевика', 'героя',\n",
       "       'главный герой - женщина', 'гнев', 'гонка со временем',\n",
       "       'город нью-йорк', 'девочка', 'девушка-подросток', 'дела', 'деньги',\n",
       "       'держать на прицеле', 'детей', 'дети', 'добро против зла',\n",
       "       'добрые', 'дождь', 'допрос', 'дочери', 'драка на кулаках',\n",
       "       'дробовик', 'друг', 'дружба', 'друзья', 'женитьба',\n",
       "       'женская нагота', 'женщина', 'женщины', 'жены', 'жертвы',\n",
       "       'жестокость', 'животные', 'жизненных', 'жизнь', 'загадки',\n",
       "       'задание', 'закадровый голос', 'заложник', 'замедленная сцена',\n",
       "       'застреленный', 'злодей', 'злом', 'избиение', 'измена',\n",
       "       'имя персонажа в оригинальном названии', 'интриги', 'испания',\n",
       "       'италия', 'калифорния', 'канада', 'коллектив', 'команда',\n",
       "       'конфликт', 'конфликты', 'кровь', 'культовый фильм',\n",
       "       'курение сигарет', 'лес', 'лондон', 'любовные', 'любовь', 'магия',\n",
       "       'матери', 'месть', 'мечта', 'миссия', 'мобильный телефон',\n",
       "       'молодежь', 'мужа', 'мужская нагота',\n",
       "       'мужчина с обнаженной грудью', 'мужчины', 'название', 'наказание',\n",
       "       'наркотики', 'неожиданный финал', 'нет титров в начале фильма',\n",
       "       'нью-йорк', 'обман', 'оригинальное название из одного слова',\n",
       "       'отношения', 'отношения матери и дочери',\n",
       "       'отношения матери и сына', 'отношения мужа и жены',\n",
       "       'отношения отца и дочери', 'отношения отца и сына', 'отношениях',\n",
       "       'отца', 'отцы', 'паре', 'перестрелки', 'по мотивам романа',\n",
       "       'побег', 'погони', 'подростки', 'пороки', 'потеря', 'похищения',\n",
       "       'поцелуй', 'правопорядка', 'предатели', 'преображения',\n",
       "       'преодоление', 'преследования', 'преступление', 'преступления',\n",
       "       'приоритетов', 'проблемы', 'прошлое', 'путешествия', 'работа',\n",
       "       'работе', 'расследование', 'ревность', 'риск', 'родителей',\n",
       "       'романтические', 'россия', 'сверхъестественное', 'секс',\n",
       "       'семейные', 'семейный', 'семья', 'сестры', 'силы', 'сильные',\n",
       "       'сказанное персонажем', 'смена', 'смерти', 'смерть', 'собака',\n",
       "       'соединенное королевство', 'соединенные штаты', 'соперничество',\n",
       "       'спасение', 'справедливость', 'ссср', 'страхи', 'сша', 'сына',\n",
       "       'тайны', 'треугольники', 'трудностей', 'тюрьма', 'убийства',\n",
       "       'убийство', 'убийцы', 'франция', 'храбрость', 'цель', 'человек',\n",
       "       'человеческие', 'швеция', 'школа', 'япония'], dtype=object)"
      ]
     },
     "execution_count": 19,
     "metadata": {},
     "output_type": "execute_result"
    }
   ],
   "source": [
    "keywords_vectorizer.get_feature_names_out()"
   ]
  },
  {
   "cell_type": "code",
   "execution_count": 20,
   "metadata": {},
   "outputs": [
    {
     "data": {
      "text/plain": [
       "россия                     1830.921565\n",
       "соединенные штаты          1069.759158\n",
       "отношения                   784.548648\n",
       "франция                     783.907446\n",
       "сша                         703.818336\n",
       "любовь                      367.976010\n",
       "соединенное королевство     353.638942\n",
       "дружба                      340.458067\n",
       "ссср                        321.341575\n",
       "борьба                      291.650085\n",
       "dtype: float64"
      ]
     },
     "execution_count": 20,
     "metadata": {},
     "output_type": "execute_result"
    }
   ],
   "source": [
    "pd.Series(\n",
    "    data=np.squeeze(np.asarray(X_keywords.sum(axis=0))),\n",
    "    index=keywords_vectorizer.get_feature_names_out()\n",
    "    ).sort_values(ascending=False)[:10]"
   ]
  },
  {
   "cell_type": "code",
   "execution_count": 21,
   "metadata": {},
   "outputs": [
    {
     "data": {
      "text/plain": [
       "(11909, 300)"
      ]
     },
     "execution_count": 21,
     "metadata": {},
     "output_type": "execute_result"
    }
   ],
   "source": [
    "X_movies = np.hstack([X_content_type, X_genres, X_age_rating, X_keywords])\n",
    "X_movies.shape"
   ]
  },
  {
   "cell_type": "markdown",
   "metadata": {},
   "source": [
    "## Users"
   ]
  },
  {
   "cell_type": "code",
   "execution_count": 22,
   "metadata": {},
   "outputs": [
    {
     "data": {
      "text/html": [
       "<div>\n",
       "<style scoped>\n",
       "    .dataframe tbody tr th:only-of-type {\n",
       "        vertical-align: middle;\n",
       "    }\n",
       "\n",
       "    .dataframe tbody tr th {\n",
       "        vertical-align: top;\n",
       "    }\n",
       "\n",
       "    .dataframe thead th {\n",
       "        text-align: right;\n",
       "    }\n",
       "</style>\n",
       "<table border=\"1\" class=\"dataframe\">\n",
       "  <thead>\n",
       "    <tr style=\"text-align: right;\">\n",
       "      <th></th>\n",
       "      <th>user_id</th>\n",
       "      <th>age</th>\n",
       "      <th>income</th>\n",
       "      <th>sex</th>\n",
       "      <th>kids_flg</th>\n",
       "    </tr>\n",
       "  </thead>\n",
       "  <tbody>\n",
       "    <tr>\n",
       "      <th>118733</th>\n",
       "      <td>290705</td>\n",
       "      <td>age_45_54</td>\n",
       "      <td>income_20_40</td>\n",
       "      <td>М</td>\n",
       "      <td>1</td>\n",
       "    </tr>\n",
       "  </tbody>\n",
       "</table>\n",
       "</div>"
      ],
      "text/plain": [
       "        user_id        age        income sex  kids_flg\n",
       "118733   290705  age_45_54  income_20_40   М         1"
      ]
     },
     "execution_count": 22,
     "metadata": {},
     "output_type": "execute_result"
    }
   ],
   "source": [
    "df_users.sample(1)"
   ]
  },
  {
   "cell_type": "code",
   "execution_count": 23,
   "metadata": {},
   "outputs": [],
   "source": [
    "age_encoder = OneHotEncoder(sparse_output=False)\n",
    "X_age = age_encoder.fit_transform(\n",
    "    df_users['age'].values.astype('U').reshape(-1, 1))\n",
    "\n",
    "income_encoder = OneHotEncoder(sparse_output=False)\n",
    "X_income = income_encoder.fit_transform(\n",
    "    df_users['income'].values.astype('U').reshape(-1, 1))\n",
    "\n",
    "X_sex = (df_users['sex'] == 'М').astype(int).values.reshape(-1, 1)"
   ]
  },
  {
   "cell_type": "code",
   "execution_count": 24,
   "metadata": {},
   "outputs": [
    {
     "data": {
      "text/plain": [
       "(448798, 14)"
      ]
     },
     "execution_count": 24,
     "metadata": {},
     "output_type": "execute_result"
    }
   ],
   "source": [
    "X_users = np.hstack([X_age, X_income, X_sex,\n",
    "    df_users['kids_flg'].to_numpy().reshape(-1, 1)])\n",
    "X_users.shape"
   ]
  },
  {
   "cell_type": "code",
   "execution_count": 25,
   "metadata": {},
   "outputs": [],
   "source": [
    "np.savez_compressed('./data/processed/encoded_data',\n",
    "                    X_users=X_users.astype(np.float32),\n",
    "                    X_movies=X_movies.astype(np.float32))"
   ]
  }
 ],
 "metadata": {
  "kernelspec": {
   "display_name": "Python 3",
   "language": "python",
   "name": "python3"
  },
  "language_info": {
   "codemirror_mode": {
    "name": "ipython",
    "version": 3
   },
   "file_extension": ".py",
   "mimetype": "text/x-python",
   "name": "python",
   "nbconvert_exporter": "python",
   "pygments_lexer": "ipython3",
   "version": "3.11.9"
  }
 },
 "nbformat": 4,
 "nbformat_minor": 2
}
