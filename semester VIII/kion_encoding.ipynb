{
 "cells": [
  {
   "cell_type": "code",
   "execution_count": 1,
   "metadata": {},
   "outputs": [],
   "source": [
    "import numpy as np\n",
    "import pandas as pd\n",
    "\n",
    "from sklearn.feature_extraction.text import TfidfVectorizer\n",
    "from sklearn.preprocessing import OneHotEncoder\n",
    "from spacy.lang.ru.stop_words import STOP_WORDS"
   ]
  },
  {
   "cell_type": "code",
   "execution_count": 2,
   "metadata": {},
   "outputs": [],
   "source": [
    "df_inter = pd.read_csv('./mod_data/interactions.csv')\n",
    "df_items = pd.read_csv('./mod_data/items.csv')\n",
    "df_users = pd.read_csv('./mod_data/users.csv')"
   ]
  },
  {
   "cell_type": "markdown",
   "metadata": {},
   "source": [
    "## Items encoding"
   ]
  },
  {
   "cell_type": "code",
   "execution_count": 3,
   "metadata": {},
   "outputs": [
    {
     "data": {
      "text/html": [
       "<div>\n",
       "<style scoped>\n",
       "    .dataframe tbody tr th:only-of-type {\n",
       "        vertical-align: middle;\n",
       "    }\n",
       "\n",
       "    .dataframe tbody tr th {\n",
       "        vertical-align: top;\n",
       "    }\n",
       "\n",
       "    .dataframe thead th {\n",
       "        text-align: right;\n",
       "    }\n",
       "</style>\n",
       "<table border=\"1\" class=\"dataframe\">\n",
       "  <thead>\n",
       "    <tr style=\"text-align: right;\">\n",
       "      <th></th>\n",
       "      <th>item_id</th>\n",
       "      <th>content_type</th>\n",
       "      <th>title</th>\n",
       "      <th>genres</th>\n",
       "      <th>age_rating</th>\n",
       "      <th>keywords</th>\n",
       "    </tr>\n",
       "  </thead>\n",
       "  <tbody>\n",
       "    <tr>\n",
       "      <th>11737</th>\n",
       "      <td>5537</td>\n",
       "      <td>film</td>\n",
       "      <td>Сокровища планеты. Корсика. Сокровища острова</td>\n",
       "      <td>документальное</td>\n",
       "      <td>12</td>\n",
       "      <td>2018, франция, сокровища, планеты, корсика, ос...</td>\n",
       "    </tr>\n",
       "  </tbody>\n",
       "</table>\n",
       "</div>"
      ],
      "text/plain": [
       "       item_id content_type                                          title  \\\n",
       "11737     5537         film  Сокровища планеты. Корсика. Сокровища острова   \n",
       "\n",
       "               genres  age_rating  \\\n",
       "11737  документальное          12   \n",
       "\n",
       "                                                keywords  \n",
       "11737  2018, франция, сокровища, планеты, корсика, ос...  "
      ]
     },
     "execution_count": 3,
     "metadata": {},
     "output_type": "execute_result"
    }
   ],
   "source": [
    "df_items.sample(1)"
   ]
  },
  {
   "cell_type": "code",
   "execution_count": 4,
   "metadata": {},
   "outputs": [],
   "source": [
    "# keywords extraction\n",
    "def tokenize(line):\n",
    "    vec = [word for word in line.split(', ') if not word.isnumeric() and word not in {'', 'nan'}]\n",
    "    return vec\n",
    "\n",
    "keywords_vectorizer = TfidfVectorizer(\n",
    "    tokenizer=tokenize, token_pattern=None,\n",
    "    max_features=100, stop_words=list(STOP_WORDS)\n",
    ")\n",
    "X_keywords = keywords_vectorizer.fit_transform(df_items['keywords'].values.astype('U'))\n",
    "\n",
    "# content type preprocessing\n",
    "X_content_type = (df_items['content_type'] == 'film').astype(int).values.reshape(-1, 1)\n",
    "\n",
    "# age rating preprocessing\n",
    "age_rating_encoder = OneHotEncoder()\n",
    "X_age_rating = age_rating_encoder.fit_transform(df_items['age_rating'].values.astype('U').reshape(-1, 1)).toarray()\n",
    "\n",
    "# genres preprocessing\n",
    "genres_vectorizer = TfidfVectorizer(tokenizer=tokenize, token_pattern=None)\n",
    "X_genres = genres_vectorizer.fit_transform(df_items['genres'].values.astype('U')).toarray()"
   ]
  },
  {
   "cell_type": "code",
   "execution_count": 5,
   "metadata": {},
   "outputs": [
    {
     "data": {
      "text/plain": [
       "россия                     2646.475781\n",
       "соединенные штаты          1650.497265\n",
       "отношения                  1344.449214\n",
       "франция                    1185.161904\n",
       "сша                        1085.736725\n",
       "ссср                        756.435969\n",
       "любовь                      633.931426\n",
       "дружба                      599.568120\n",
       "соединенное королевство     495.680623\n",
       "женщины                     490.716083\n",
       "dtype: float64"
      ]
     },
     "execution_count": 5,
     "metadata": {},
     "output_type": "execute_result"
    }
   ],
   "source": [
    "pd.Series(data=np.squeeze(np.asarray(X_keywords.sum(axis=0))), index=keywords_vectorizer.get_feature_names_out())\\\n",
    "    .sort_values(ascending=False)[:10]"
   ]
  },
  {
   "cell_type": "code",
   "execution_count": 6,
   "metadata": {},
   "outputs": [],
   "source": [
    "X_items = np.hstack([\n",
    "    X_content_type,\n",
    "    X_genres,\n",
    "    X_age_rating,\n",
    "    X_keywords.todense()\n",
    "])"
   ]
  },
  {
   "cell_type": "code",
   "execution_count": 7,
   "metadata": {},
   "outputs": [
    {
     "data": {
      "text/plain": [
       "(15963, 202)"
      ]
     },
     "execution_count": 7,
     "metadata": {},
     "output_type": "execute_result"
    }
   ],
   "source": [
    "X_items.shape"
   ]
  },
  {
   "cell_type": "markdown",
   "metadata": {},
   "source": [
    "## Users encoding"
   ]
  },
  {
   "cell_type": "code",
   "execution_count": 8,
   "metadata": {},
   "outputs": [
    {
     "data": {
      "text/html": [
       "<div>\n",
       "<style scoped>\n",
       "    .dataframe tbody tr th:only-of-type {\n",
       "        vertical-align: middle;\n",
       "    }\n",
       "\n",
       "    .dataframe tbody tr th {\n",
       "        vertical-align: top;\n",
       "    }\n",
       "\n",
       "    .dataframe thead th {\n",
       "        text-align: right;\n",
       "    }\n",
       "</style>\n",
       "<table border=\"1\" class=\"dataframe\">\n",
       "  <thead>\n",
       "    <tr style=\"text-align: right;\">\n",
       "      <th></th>\n",
       "      <th>user_id</th>\n",
       "      <th>age</th>\n",
       "      <th>income</th>\n",
       "      <th>sex</th>\n",
       "      <th>kids_flg</th>\n",
       "    </tr>\n",
       "  </thead>\n",
       "  <tbody>\n",
       "    <tr>\n",
       "      <th>484286</th>\n",
       "      <td>234815</td>\n",
       "      <td>age_18_24</td>\n",
       "      <td>income_40_60</td>\n",
       "      <td>Ж</td>\n",
       "      <td>1</td>\n",
       "    </tr>\n",
       "  </tbody>\n",
       "</table>\n",
       "</div>"
      ],
      "text/plain": [
       "        user_id        age        income sex  kids_flg\n",
       "484286   234815  age_18_24  income_40_60   Ж         1"
      ]
     },
     "execution_count": 8,
     "metadata": {},
     "output_type": "execute_result"
    }
   ],
   "source": [
    "df_users.sample(1)"
   ]
  },
  {
   "cell_type": "code",
   "execution_count": 10,
   "metadata": {},
   "outputs": [],
   "source": [
    "# age extraction\n",
    "age_encoder = OneHotEncoder()\n",
    "X_age = age_encoder.fit_transform(df_users['age'].values.astype('U').reshape(-1, 1)).toarray()\n",
    "\n",
    "# income extraction\n",
    "income_encoder = OneHotEncoder()\n",
    "X_income = income_encoder.fit_transform(df_users['income'].values.astype('U').reshape(-1, 1)).toarray()\n",
    "\n",
    "# sex extraction\n",
    "X_sex = (df_users['sex'] == 'М').astype(int).values.reshape(-1, 1)"
   ]
  },
  {
   "cell_type": "code",
   "execution_count": 11,
   "metadata": {},
   "outputs": [],
   "source": [
    "X_users = np.hstack([\n",
    "    X_age,\n",
    "    X_income,\n",
    "    X_sex,\n",
    "    df_users['kids_flg'].to_numpy().reshape(-1, 1)\n",
    "])"
   ]
  },
  {
   "cell_type": "code",
   "execution_count": 19,
   "metadata": {},
   "outputs": [
    {
     "data": {
      "text/plain": [
       "(840197, 14)"
      ]
     },
     "execution_count": 19,
     "metadata": {},
     "output_type": "execute_result"
    }
   ],
   "source": [
    "X_users.shape"
   ]
  }
 ],
 "metadata": {
  "kernelspec": {
   "display_name": "Python 3",
   "language": "python",
   "name": "python3"
  },
  "language_info": {
   "codemirror_mode": {
    "name": "ipython",
    "version": 3
   },
   "file_extension": ".py",
   "mimetype": "text/x-python",
   "name": "python",
   "nbconvert_exporter": "python",
   "pygments_lexer": "ipython3",
   "version": "3.11.9"
  }
 },
 "nbformat": 4,
 "nbformat_minor": 2
}
