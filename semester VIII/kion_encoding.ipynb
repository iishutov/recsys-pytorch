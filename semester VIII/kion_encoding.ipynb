{
 "cells": [
  {
   "cell_type": "code",
   "execution_count": 1,
   "metadata": {},
   "outputs": [],
   "source": [
    "import numpy as np\n",
    "import pandas as pd\n",
    "from sklearn.feature_extraction.text import TfidfVectorizer\n",
    "from sklearn.preprocessing import OneHotEncoder\n",
    "from spacy.lang.ru.stop_words import STOP_WORDS\n",
    "\n",
    "df_items = pd.read_csv('./processed_data/items.csv')\n",
    "df_users = pd.read_csv('./processed_data/users.csv')"
   ]
  },
  {
   "cell_type": "markdown",
   "metadata": {},
   "source": [
    "## Items"
   ]
  },
  {
   "cell_type": "code",
   "execution_count": 2,
   "metadata": {},
   "outputs": [
    {
     "data": {
      "text/html": [
       "<div>\n",
       "<style scoped>\n",
       "    .dataframe tbody tr th:only-of-type {\n",
       "        vertical-align: middle;\n",
       "    }\n",
       "\n",
       "    .dataframe tbody tr th {\n",
       "        vertical-align: top;\n",
       "    }\n",
       "\n",
       "    .dataframe thead th {\n",
       "        text-align: right;\n",
       "    }\n",
       "</style>\n",
       "<table border=\"1\" class=\"dataframe\">\n",
       "  <thead>\n",
       "    <tr style=\"text-align: right;\">\n",
       "      <th></th>\n",
       "      <th>item_id</th>\n",
       "      <th>content_type</th>\n",
       "      <th>title</th>\n",
       "      <th>genres</th>\n",
       "      <th>age_rating</th>\n",
       "      <th>keywords</th>\n",
       "      <th>views</th>\n",
       "    </tr>\n",
       "  </thead>\n",
       "  <tbody>\n",
       "    <tr>\n",
       "      <th>14081</th>\n",
       "      <td>1263</td>\n",
       "      <td>film</td>\n",
       "      <td>Пришла и говорю</td>\n",
       "      <td>документальное, русские, мюзиклы</td>\n",
       "      <td>12</td>\n",
       "      <td>Пришла, говорю, 1985, СССР</td>\n",
       "      <td>1</td>\n",
       "    </tr>\n",
       "  </tbody>\n",
       "</table>\n",
       "</div>"
      ],
      "text/plain": [
       "       item_id content_type            title  \\\n",
       "14081     1263         film  Пришла и говорю   \n",
       "\n",
       "                                 genres  age_rating  \\\n",
       "14081  документальное, русские, мюзиклы          12   \n",
       "\n",
       "                         keywords  views  \n",
       "14081  Пришла, говорю, 1985, СССР      1  "
      ]
     },
     "execution_count": 2,
     "metadata": {},
     "output_type": "execute_result"
    }
   ],
   "source": [
    "df_items.sample(1)"
   ]
  },
  {
   "cell_type": "code",
   "execution_count": 3,
   "metadata": {},
   "outputs": [],
   "source": [
    "def tokenize(line: str):\n",
    "    return [word for word in line.split(', ') \n",
    "            if not word.isnumeric() and word not in {'', 'nan'}]\n",
    "\n",
    "keywords_vectorizer = TfidfVectorizer(\n",
    "    tokenizer=tokenize, token_pattern=None,\n",
    "    max_features=100, stop_words=list(STOP_WORDS))\n",
    "\n",
    "X_keywords = keywords_vectorizer.fit_transform(\n",
    "    df_items['keywords'].values.astype('U')).todense()\n",
    "\n",
    "X_content_type = (df_items['content_type'] == 'film').\\\n",
    "    astype(int).values.reshape(-1, 1)\n",
    "\n",
    "age_rating_encoder = OneHotEncoder(sparse_output=False)\n",
    "X_age_rating = age_rating_encoder.fit_transform(\n",
    "    df_items['age_rating'].values.astype('U').reshape(-1, 1))\n",
    "\n",
    "genres_vectorizer = TfidfVectorizer(tokenizer=tokenize, token_pattern=None)\n",
    "X_genres = genres_vectorizer.fit_transform(\n",
    "    df_items['genres'].values.astype('U')).todense()"
   ]
  },
  {
   "cell_type": "code",
   "execution_count": 4,
   "metadata": {},
   "outputs": [
    {
     "data": {
      "text/plain": [
       "array(['бандиты', 'бар', 'беременность', 'близких', 'бой', 'больница',\n",
       "       'борьба', 'брак', 'великобритания', 'взрыв', 'война', 'выбор',\n",
       "       'выживание', 'выстрел в грудь', 'гангстеры', 'германия', 'героизм',\n",
       "       'героя', 'дела', 'деньги', 'детей', 'дети', 'дочери', 'дружба',\n",
       "       'друзья', 'женщины', 'жены', 'жертвы', 'жестокость', 'животные',\n",
       "       'жизненных', 'жизнь', 'загадки', 'задание', 'замедленная сцена',\n",
       "       'злом', 'интриги', 'италия', 'канада', 'конфликт', 'конфликты',\n",
       "       'кровь', 'любовные', 'любовь', 'матери', 'месть', 'миссия', 'мужа',\n",
       "       'мужчина с обнаженной грудью', 'мужчины', 'название', 'обман',\n",
       "       'отношения', 'отношениях', 'отца', 'отцы', 'паре', 'пороки',\n",
       "       'потеря', 'правопорядка', 'преображения', 'преодоление',\n",
       "       'преследования', 'преступления', 'приоритетов', 'проблемы',\n",
       "       'прошлое', 'путешествия', 'работа', 'расследование', 'родителей',\n",
       "       'романтические', 'россия', 'сверхъестественное', 'семейные',\n",
       "       'семейный', 'семья', 'силы', 'сильные', 'сказанное персонажем',\n",
       "       'смена', 'смерть', 'соединенное королевство', 'соединенные штаты',\n",
       "       'соперничество', 'спасение', 'справедливость', 'ссср', 'сша',\n",
       "       'сына', 'тайны', 'треугольники', 'трудностей', 'убийства',\n",
       "       'убийство', 'убийцы', 'франция', 'цель', 'человек', 'человеческие'],\n",
       "      dtype=object)"
      ]
     },
     "execution_count": 4,
     "metadata": {},
     "output_type": "execute_result"
    }
   ],
   "source": [
    "keywords_vectorizer.get_feature_names_out()"
   ]
  },
  {
   "cell_type": "code",
   "execution_count": 5,
   "metadata": {},
   "outputs": [
    {
     "data": {
      "text/plain": [
       "россия                     2464.969923\n",
       "соединенные штаты          1540.678985\n",
       "отношения                  1213.487046\n",
       "франция                    1138.964494\n",
       "сша                        1018.792042\n",
       "ссср                        669.475555\n",
       "любовь                      573.267843\n",
       "дружба                      560.706653\n",
       "соединенное королевство     477.921714\n",
       "женщины                     440.855611\n",
       "dtype: float64"
      ]
     },
     "execution_count": 5,
     "metadata": {},
     "output_type": "execute_result"
    }
   ],
   "source": [
    "pd.Series(\n",
    "    data=np.squeeze(np.asarray(X_keywords.sum(axis=0))),\n",
    "    index=keywords_vectorizer.get_feature_names_out()\n",
    "    ).sort_values(ascending=False)[:10]"
   ]
  },
  {
   "cell_type": "code",
   "execution_count": 6,
   "metadata": {},
   "outputs": [
    {
     "data": {
      "text/plain": [
       "(15008, 202)"
      ]
     },
     "execution_count": 6,
     "metadata": {},
     "output_type": "execute_result"
    }
   ],
   "source": [
    "X_movies = np.hstack([X_content_type, X_genres, X_age_rating, X_keywords])\n",
    "X_movies.shape"
   ]
  },
  {
   "cell_type": "markdown",
   "metadata": {},
   "source": [
    "## Users"
   ]
  },
  {
   "cell_type": "code",
   "execution_count": 7,
   "metadata": {},
   "outputs": [
    {
     "data": {
      "text/html": [
       "<div>\n",
       "<style scoped>\n",
       "    .dataframe tbody tr th:only-of-type {\n",
       "        vertical-align: middle;\n",
       "    }\n",
       "\n",
       "    .dataframe tbody tr th {\n",
       "        vertical-align: top;\n",
       "    }\n",
       "\n",
       "    .dataframe thead th {\n",
       "        text-align: right;\n",
       "    }\n",
       "</style>\n",
       "<table border=\"1\" class=\"dataframe\">\n",
       "  <thead>\n",
       "    <tr style=\"text-align: right;\">\n",
       "      <th></th>\n",
       "      <th>user_id</th>\n",
       "      <th>age</th>\n",
       "      <th>income</th>\n",
       "      <th>sex</th>\n",
       "      <th>kids_flg</th>\n",
       "    </tr>\n",
       "  </thead>\n",
       "  <tbody>\n",
       "    <tr>\n",
       "      <th>308804</th>\n",
       "      <td>247148</td>\n",
       "      <td>age_25_34</td>\n",
       "      <td>income_20_40</td>\n",
       "      <td>М</td>\n",
       "      <td>0</td>\n",
       "    </tr>\n",
       "  </tbody>\n",
       "</table>\n",
       "</div>"
      ],
      "text/plain": [
       "        user_id        age        income sex  kids_flg\n",
       "308804   247148  age_25_34  income_20_40   М         0"
      ]
     },
     "execution_count": 7,
     "metadata": {},
     "output_type": "execute_result"
    }
   ],
   "source": [
    "df_users.sample(1)"
   ]
  },
  {
   "cell_type": "code",
   "execution_count": 8,
   "metadata": {},
   "outputs": [],
   "source": [
    "age_encoder = OneHotEncoder(sparse_output=False)\n",
    "X_age = age_encoder.fit_transform(\n",
    "    df_users['age'].values.astype('U').reshape(-1, 1))\n",
    "\n",
    "income_encoder = OneHotEncoder(sparse_output=False)\n",
    "X_income = income_encoder.fit_transform(\n",
    "    df_users['income'].values.astype('U').reshape(-1, 1))\n",
    "\n",
    "X_sex = (df_users['sex'] == 'М').astype(int).values.reshape(-1, 1)"
   ]
  },
  {
   "cell_type": "code",
   "execution_count": 9,
   "metadata": {},
   "outputs": [
    {
     "data": {
      "text/plain": [
       "(744288, 14)"
      ]
     },
     "execution_count": 9,
     "metadata": {},
     "output_type": "execute_result"
    }
   ],
   "source": [
    "X_users = np.hstack([X_age, X_income, X_sex,\n",
    "    df_users['kids_flg'].to_numpy().reshape(-1, 1)])\n",
    "X_users.shape"
   ]
  },
  {
   "cell_type": "code",
   "execution_count": 10,
   "metadata": {},
   "outputs": [],
   "source": [
    "np.savez_compressed('encoded_data',\n",
    "                    X_users=X_users.astype(np.float32),\n",
    "                    X_movies=X_movies.astype(np.float32))"
   ]
  }
 ],
 "metadata": {
  "kernelspec": {
   "display_name": "Python 3",
   "language": "python",
   "name": "python3"
  },
  "language_info": {
   "codemirror_mode": {
    "name": "ipython",
    "version": 3
   },
   "file_extension": ".py",
   "mimetype": "text/x-python",
   "name": "python",
   "nbconvert_exporter": "python",
   "pygments_lexer": "ipython3",
   "version": "3.11.9"
  }
 },
 "nbformat": 4,
 "nbformat_minor": 2
}
