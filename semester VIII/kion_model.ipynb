{
 "cells": [
  {
   "cell_type": "code",
   "execution_count": 1,
   "metadata": {},
   "outputs": [],
   "source": [
    "# cell for Google Colab ipynb opening\n",
    "\n",
    "## %%capture\n",
    "# !pip install torch-scatter torch-sparse torch-cluster torch-spline-conv torch-geometric -f https://pytorch-geometric.com/whl/torch-2.2.1+cu121.html\n",
    "# !pip install pyg-lib -f https://data.pyg.org/whl/nightly/torch-2.2.0+cu121.html\n",
    "# !pip install faiss-gpu"
   ]
  },
  {
   "cell_type": "code",
   "execution_count": 2,
   "metadata": {},
   "outputs": [],
   "source": [
    "import numpy as np\n",
    "import pandas as pd\n",
    "import matplotlib.pyplot as plt\n",
    "from copy import deepcopy\n",
    "\n",
    "import torch\n",
    "from torch_geometric import EdgeIndex\n",
    "from torch_geometric.utils import degree\n",
    "from torch_geometric.loader import LinkNeighborLoader, NeighborLoader\n",
    "from torch_geometric.nn import MIPSKNNIndex\n",
    "from torch_geometric.metrics import LinkPredMAP, LinkPredPrecision, LinkPredRecall\n",
    "from torch_geometric.nn.models.lightgcn import BPRLoss\n",
    "\n",
    "from tqdm import tqdm\n",
    "import os\n",
    "os.environ['PYDEVD_DISABLE_FILE_VALIDATION']='1'\n",
    "os.environ['KMP_DUPLICATE_LIB_OK']='True'\n",
    "\n",
    "from utils.model import GNN\n",
    "\n",
    "device = torch.device('cuda' if torch.cuda.is_available() else 'cpu')\n",
    "faiss_device = torch.device('cpu') # 'cuda' for Colab, 'cpu' for my Windows laptop"
   ]
  },
  {
   "cell_type": "code",
   "execution_count": 3,
   "metadata": {},
   "outputs": [
    {
     "data": {
      "text/plain": [
       "HeteroData(\n",
       "  movie={ x=[11909, 200] },\n",
       "  user={ x=[448798, 14] },\n",
       "  (user, watched, movie)={\n",
       "    edge_index=[2, 1288996],\n",
       "    time=[1288996],\n",
       "  },\n",
       "  (movie, rev_watched, user)={\n",
       "    edge_index=[2, 1288996],\n",
       "    time=[1288996],\n",
       "  }\n",
       ")"
      ]
     },
     "execution_count": 3,
     "metadata": {},
     "output_type": "execute_result"
    }
   ],
   "source": [
    "from utils.data_transformation import data_to_heterograph\n",
    "\n",
    "data, users_rev_mapping, movies_rev_mapping =\\\n",
    "    data_to_heterograph('./data_processed/encoded_data.npz')\n",
    "data"
   ]
  },
  {
   "cell_type": "code",
   "execution_count": 4,
   "metadata": {},
   "outputs": [
    {
     "data": {
      "text/plain": [
       "0.0002411711540184161"
      ]
     },
     "execution_count": 4,
     "metadata": {},
     "output_type": "execute_result"
    }
   ],
   "source": [
    "# sparse interaction matrix\n",
    "1288996 / (11909 * 448798)"
   ]
  },
  {
   "cell_type": "markdown",
   "metadata": {},
   "source": [
    "## Train/test split"
   ]
  },
  {
   "cell_type": "code",
   "execution_count": 5,
   "metadata": {},
   "outputs": [],
   "source": [
    "train_ratio = 0.8\n",
    "train_size = int(train_ratio * data['user', 'movie'].num_edges)\n",
    "watch_threshold = -1\n",
    "\n",
    "edges = data['user', 'movie'].edge_index\n",
    "time = data['user', 'movie'].time\n",
    "num_users, num_movies = data['user'].num_nodes, data['movie'].num_nodes\n",
    "\n",
    "loader_kwargs = dict(\n",
    "    data=data, batch_size=1024,\n",
    "    num_neighbors=[5, 5, 5],\n",
    "    time_attr='time', temporal_strategy='last',\n",
    "    num_workers=4)\n",
    "\n",
    "train_loader = LinkNeighborLoader(\n",
    "    edge_label_index=(('user', 'movie'), edges[:, :train_size]),\n",
    "    edge_label_time=time[torch.arange(train_size)]-1,\n",
    "    neg_sampling=dict(mode='binary', amount=1),\n",
    "    shuffle=True,\n",
    "    **loader_kwargs)\n",
    "\n",
    "user_loader = NeighborLoader(\n",
    "    input_nodes='user',\n",
    "    input_time=(time[train_size]-1).repeat(num_users),\n",
    "    **loader_kwargs)\n",
    "\n",
    "movie_loader = NeighborLoader(\n",
    "    input_nodes='movie',\n",
    "    input_time=(time[train_size]-1).repeat(num_movies),\n",
    "    **loader_kwargs)\n",
    "\n",
    "sparse_size = (num_users, num_movies)\n",
    "train_edges = EdgeIndex(edges[:, :train_size].contiguous().to(device),\n",
    "                        sparse_size=sparse_size).sort_by('row').values\n",
    "test_edges = EdgeIndex(edges[:, train_size:].contiguous().to(device),\n",
    "                       sparse_size=sparse_size).sort_by('row').values\n",
    "\n",
    "is_test_node = degree(train_edges[0], num_nodes=num_users) >= watch_threshold\n",
    "test_edges = test_edges[:, is_test_node[test_edges[0]]]\n",
    "train_edges = train_edges[:, is_test_node[train_edges[0]]]"
   ]
  },
  {
   "cell_type": "markdown",
   "metadata": {},
   "source": [
    "## GNN"
   ]
  },
  {
   "cell_type": "code",
   "execution_count": 6,
   "metadata": {},
   "outputs": [],
   "source": [
    "gnn_model = GNN(num_layers=3, hidden_channels=64).to(device)\n",
    "optimizer = torch.optim.Adam(gnn_model.parameters(), lr=0.001)\n",
    "# optimizer.load_state_dict(torch.load('./adam_state.pt'))\n",
    "# gnn_model.load_state_dict(torch.load('./gnn_state.pt'))\n",
    "# gnn_model.to(device)\n",
    "bpr_loss = BPRLoss()\n",
    "bceligits_loss = torch.nn.BCEWithLogitsLoss()"
   ]
  },
  {
   "cell_type": "code",
   "execution_count": null,
   "metadata": {},
   "outputs": [],
   "source": [
    "from utils.data_transformation import sparse_batch_narrow\n",
    "from torch.nn.modules.loss import _Loss\n",
    "\n",
    "def train(_loss: _Loss):\n",
    "    gnn_model.train()\n",
    "    total_loss = total_examples = 0\n",
    "    for batch in tqdm(train_loader):\n",
    "        batch = batch.to(device)\n",
    "        batch_size = len(batch['user', 'movie'].input_id)\n",
    "        optimizer.zero_grad()\n",
    "\n",
    "        out = gnn_model(batch.x_dict, batch.edge_index_dict,\n",
    "                        batch['user', 'movie'].edge_label_index)\n",
    "\n",
    "        if isinstance(_loss, BPRLoss):\n",
    "            loss = _loss(out[:batch_size], out[batch_size:])\n",
    "        else:\n",
    "            target = batch['user', 'movie'].edge_label\n",
    "            loss = _loss(out, target)\n",
    "\n",
    "        loss.backward(); optimizer.step()\n",
    "\n",
    "        total_loss += float(loss) * batch_size\n",
    "        total_examples += batch_size\n",
    "\n",
    "    return total_loss / total_examples\n",
    "\n",
    "@torch.no_grad()\n",
    "def test(test_edges: EdgeIndex, train_edges: EdgeIndex, k: int, top_count: int = None,\n",
    "         filter_user: bool = False, is_test_node: torch.Tensor = None):\n",
    "    \n",
    "    if filter_user and not is_test_node:\n",
    "        raise Exception('is_test_node needs to be specified if filter_user == True')\n",
    "\n",
    "    gnn_model.eval()\n",
    "    movie_embs = gnn_model.get_movies_embeddings(movie_loader, device)\n",
    "\n",
    "    if top_count is None:\n",
    "        movie_embs = torch.cat(movie_embs, dim=0)\n",
    "    else:\n",
    "        emb_size = movie_embs[0].size()[1]\n",
    "        movie_embs.append(torch.zeros((1, emb_size), device=device))\n",
    "        movie_embs = torch.cat(movie_embs, dim=0)\n",
    "        top_indices = list(range(top_count)) + [len(movie_embs)-1]\n",
    "        movie_embs = movie_embs[top_indices]\n",
    "    \n",
    "    mipsknn = MIPSKNNIndex(movie_embs.to(faiss_device))\n",
    "    metrics = LinkPredMAP(k), LinkPredPrecision(k), LinkPredRecall(k)\n",
    "    users_infered = 0\n",
    "    for batch in user_loader:\n",
    "        batch = batch.to(device)\n",
    "        batch_size = batch['user'].batch_size\n",
    "        batch_user_embs = gnn_model.encoder(batch.x_dict, batch.edge_index_dict)\\\n",
    "            ['user'][:batch_size].to(faiss_device)\n",
    "        \n",
    "        if filter_user:\n",
    "            batch_user_embs = batch_user_embs[is_test_node[users_infered:users_infered+batch_size]]\n",
    "            batch_test_edges = sparse_batch_narrow(test_edges, users_infered, batch_size)\n",
    "            batch_train_edges = sparse_batch_narrow(train_edges, users_infered, batch_size)\n",
    "        else:\n",
    "            batch_test_edges = test_edges.sparse_narrow(0, users_infered, batch_size).to(faiss_device)\n",
    "            batch_train_edges = train_edges.sparse_narrow(0, users_infered, batch_size).to(faiss_device)\n",
    "\n",
    "        if top_count is not None:\n",
    "            batch_test_edges[1, batch_test_edges[1] >= top_count] = top_count\n",
    "            batch_train_edges[1, batch_train_edges[1] >= top_count] = top_count\n",
    "\n",
    "        top_indices_mat = mipsknn.search(batch_user_embs, k, exclude_links=batch_train_edges)[1]\n",
    "        for metric in metrics:\n",
    "            metric.update(top_indices_mat.cpu(), batch_test_edges)\n",
    "\n",
    "        users_infered += batch_size\n",
    "\n",
    "    return tuple(float(metric.compute()) for metric in metrics)\n",
    "\n",
    "k = 20\n",
    "df_metrics = pd.DataFrame(columns=['loss', f'map@{k}', f'precision@{k}', f'recall@{k}'])\n",
    "best_map = 0\n",
    "best_state_dict = []\n",
    "best_map = .0"
   ]
  },
  {
   "cell_type": "code",
   "execution_count": null,
   "metadata": {},
   "outputs": [],
   "source": [
    "try:\n",
    "    for epoch_num in range(1, 100):\n",
    "        loss = train(bpr_loss)\n",
    "        print(f'Train: Epoch №{epoch_num:02d}, Loss: {loss:.4f}')\n",
    "        if epoch_num % 2 == 0:\n",
    "            map, precision, recall = test(test_edges, train_edges, k, top_count=1000, filter_user=False)\n",
    "            print('Test@%d, MAP: %.4f, Precision: %.4f, Recall: %.4f' % (k, map, precision, recall))\n",
    "            df_metrics.loc[2*len(df_metrics), :] = [loss, map, precision, recall]\n",
    "            if map > best_map:\n",
    "                best_map = map\n",
    "                best_state_dict = deepcopy(gnn_model.state_dict())\n",
    "\n",
    "except KeyboardInterrupt:\n",
    "  print('--KeyboardInterrupt--')"
   ]
  },
  {
   "cell_type": "code",
   "execution_count": 99,
   "metadata": {},
   "outputs": [],
   "source": [
    "torch.save(best_state_dict, './model_saves/gnn_state.pt')\n",
    "torch.save(optimizer.state_dict(), './model_saves/adam_state.pt')\n",
    "df_metrics.to_csv('./model_saves/dnn_metrics.csv')"
   ]
  },
  {
   "cell_type": "code",
   "execution_count": null,
   "metadata": {},
   "outputs": [
    {
     "data": {
      "image/png": "[encoded data removed]",
      "text/plain": [
       "<Figure size 1200x300 with 4 Axes>"
      ]
     },
     "metadata": {},
     "output_type": "display_data"
    }
   ],
   "source": [
    "fig, axes = plt.subplots(1, 4, figsize=(12, 3))\n",
    "for i, metric_name in enumerate(df_metrics.columns):\n",
    "    df_metrics[metric_name].plot(ax=axes[i], grid=True, title=metric_name)\n",
    "fig.tight_layout()"
   ]
  },
  {
   "cell_type": "markdown",
   "metadata": {},
   "source": [
    "## Example of making recommendations by Graph Neural Network"
   ]
  },
  {
   "cell_type": "code",
   "execution_count": 9,
   "metadata": {},
   "outputs": [],
   "source": [
    "%%capture\n",
    "gnn_model = GNN(num_layers=3, hidden_channels=64)\n",
    "gnn_model.load_state_dict(torch.load('./gnn_state.pt'))\n",
    "gnn_model.to(device)"
   ]
  },
  {
   "cell_type": "code",
   "execution_count": 10,
   "metadata": {},
   "outputs": [],
   "source": [
    "df_inter = pd.read_csv('data/processed/interactions.csv')\n",
    "df_items = pd.read_csv('data/processed/items.csv')\n",
    "df_users = pd.read_csv('data/processed/users.csv')\n",
    "\n",
    "users_mapping = {user_id: idx for idx, user_id in users_rev_mapping.items()}\n",
    "movies_mapping = {movie_id: idx for idx, movie_id in movies_rev_mapping.items()}\n",
    "movies_id_to_df_idx = {movie_id: df_idx for df_idx, movie_id in df_items['item_id'].items()}"
   ]
  },
  {
   "cell_type": "code",
   "execution_count": 11,
   "metadata": {},
   "outputs": [
    {
     "data": {
      "text/plain": [
       "67771      148609\n",
       "71584      625015\n",
       "71925       66275\n",
       "77383      740520\n",
       "79778      705692\n",
       "            ...  \n",
       "1264765    672407\n",
       "1265072    560584\n",
       "1265139    925000\n",
       "1282297    757110\n",
       "1285436    381646\n",
       "Name: user_id, Length: 444, dtype: int64"
      ]
     },
     "execution_count": 11,
     "metadata": {},
     "output_type": "execute_result"
    }
   ],
   "source": [
    "item_id = 13713\n",
    "df_inter[df_inter['item_id'] == item_id]['user_id']"
   ]
  },
  {
   "cell_type": "code",
   "execution_count": 12,
   "metadata": {},
   "outputs": [
    {
     "data": {
      "text/html": [
       "<div>\n",
       "<style scoped>\n",
       "    .dataframe tbody tr th:only-of-type {\n",
       "        vertical-align: middle;\n",
       "    }\n",
       "\n",
       "    .dataframe tbody tr th {\n",
       "        vertical-align: top;\n",
       "    }\n",
       "\n",
       "    .dataframe thead th {\n",
       "        text-align: right;\n",
       "    }\n",
       "</style>\n",
       "<table border=\"1\" class=\"dataframe\">\n",
       "  <thead>\n",
       "    <tr style=\"text-align: right;\">\n",
       "      <th></th>\n",
       "      <th>user_id</th>\n",
       "      <th>item_id</th>\n",
       "      <th>last_watch_dt</th>\n",
       "      <th>watched_pct</th>\n",
       "      <th>content_type</th>\n",
       "      <th>title</th>\n",
       "      <th>genres</th>\n",
       "      <th>age_rating</th>\n",
       "      <th>keywords</th>\n",
       "      <th>views</th>\n",
       "    </tr>\n",
       "  </thead>\n",
       "  <tbody>\n",
       "    <tr>\n",
       "      <th>0</th>\n",
       "      <td>148609</td>\n",
       "      <td>12395</td>\n",
       "      <td>2021-03-23</td>\n",
       "      <td>100.0</td>\n",
       "      <td>film</td>\n",
       "      <td>Беги, мальчик, беги</td>\n",
       "      <td>боевики, драмы, биография, военные</td>\n",
       "      <td>16</td>\n",
       "      <td>вторая мировая война, варшавское гетто, дети, ...</td>\n",
       "      <td>100</td>\n",
       "    </tr>\n",
       "    <tr>\n",
       "      <th>1</th>\n",
       "      <td>148609</td>\n",
       "      <td>13713</td>\n",
       "      <td>2021-04-01</td>\n",
       "      <td>0.0</td>\n",
       "      <td>film</td>\n",
       "      <td>Звёздные войны: Скрытая угроза</td>\n",
       "      <td>боевики, фантастика, приключения</td>\n",
       "      <td>0</td>\n",
       "      <td>пророчество, сенат, королева, надзиратель, гал...</td>\n",
       "      <td>444</td>\n",
       "    </tr>\n",
       "    <tr>\n",
       "      <th>2</th>\n",
       "      <td>148609</td>\n",
       "      <td>11885</td>\n",
       "      <td>2021-04-01</td>\n",
       "      <td>100.0</td>\n",
       "      <td>film</td>\n",
       "      <td>Хан Соло: Звёздные войны. Истории</td>\n",
       "      <td>боевики, фантастика, приключения</td>\n",
       "      <td>12</td>\n",
       "      <td>космический корабль, приквел, спин-офф, контра...</td>\n",
       "      <td>621</td>\n",
       "    </tr>\n",
       "    <tr>\n",
       "      <th>3</th>\n",
       "      <td>148609</td>\n",
       "      <td>13980</td>\n",
       "      <td>2021-04-11</td>\n",
       "      <td>100.0</td>\n",
       "      <td>film</td>\n",
       "      <td>Изгой-один: Звёздные войны. Истории.</td>\n",
       "      <td>боевики, фантастика, приключения</td>\n",
       "      <td>16</td>\n",
       "      <td>бунтарь, космический корабль, космическое сраж...</td>\n",
       "      <td>416</td>\n",
       "    </tr>\n",
       "  </tbody>\n",
       "</table>\n",
       "</div>"
      ],
      "text/plain": [
       "   user_id  item_id last_watch_dt  watched_pct content_type  \\\n",
       "0   148609    12395    2021-03-23        100.0         film   \n",
       "1   148609    13713    2021-04-01          0.0         film   \n",
       "2   148609    11885    2021-04-01        100.0         film   \n",
       "3   148609    13980    2021-04-11        100.0         film   \n",
       "\n",
       "                                  title                              genres  \\\n",
       "0                   Беги, мальчик, беги  боевики, драмы, биография, военные   \n",
       "1        Звёздные войны: Скрытая угроза    боевики, фантастика, приключения   \n",
       "2     Хан Соло: Звёздные войны. Истории    боевики, фантастика, приключения   \n",
       "3  Изгой-один: Звёздные войны. Истории.    боевики, фантастика, приключения   \n",
       "\n",
       "   age_rating                                           keywords  views  \n",
       "0          16  вторая мировая война, варшавское гетто, дети, ...    100  \n",
       "1           0  пророчество, сенат, королева, надзиратель, гал...    444  \n",
       "2          12  космический корабль, приквел, спин-офф, контра...    621  \n",
       "3          16  бунтарь, космический корабль, космическое сраж...    416  "
      ]
     },
     "execution_count": 12,
     "metadata": {},
     "output_type": "execute_result"
    }
   ],
   "source": [
    "user_id = 148609\n",
    "df_inter[df_inter['user_id'] == user_id].merge(df_items)"
   ]
  },
  {
   "cell_type": "code",
   "execution_count": 13,
   "metadata": {},
   "outputs": [
    {
     "data": {
      "text/html": [
       "<div>\n",
       "<style scoped>\n",
       "    .dataframe tbody tr th:only-of-type {\n",
       "        vertical-align: middle;\n",
       "    }\n",
       "\n",
       "    .dataframe tbody tr th {\n",
       "        vertical-align: top;\n",
       "    }\n",
       "\n",
       "    .dataframe thead th {\n",
       "        text-align: right;\n",
       "    }\n",
       "</style>\n",
       "<table border=\"1\" class=\"dataframe\">\n",
       "  <thead>\n",
       "    <tr style=\"text-align: right;\">\n",
       "      <th></th>\n",
       "      <th>user_id</th>\n",
       "      <th>age</th>\n",
       "      <th>income</th>\n",
       "      <th>sex</th>\n",
       "      <th>kids_flg</th>\n",
       "    </tr>\n",
       "  </thead>\n",
       "  <tbody>\n",
       "    <tr>\n",
       "      <th>80881</th>\n",
       "      <td>148609</td>\n",
       "      <td>age_45_54</td>\n",
       "      <td>income_20_40</td>\n",
       "      <td>М</td>\n",
       "      <td>0</td>\n",
       "    </tr>\n",
       "  </tbody>\n",
       "</table>\n",
       "</div>"
      ],
      "text/plain": [
       "       user_id        age        income sex  kids_flg\n",
       "80881   148609  age_45_54  income_20_40   М         0"
      ]
     },
     "execution_count": 13,
     "metadata": {},
     "output_type": "execute_result"
    }
   ],
   "source": [
    "df_users[df_users['user_id'] == user_id]"
   ]
  },
  {
   "cell_type": "code",
   "execution_count": 100,
   "metadata": {},
   "outputs": [
    {
     "data": {
      "text/html": [
       "<div>\n",
       "<style scoped>\n",
       "    .dataframe tbody tr th:only-of-type {\n",
       "        vertical-align: middle;\n",
       "    }\n",
       "\n",
       "    .dataframe tbody tr th {\n",
       "        vertical-align: top;\n",
       "    }\n",
       "\n",
       "    .dataframe thead th {\n",
       "        text-align: right;\n",
       "    }\n",
       "</style>\n",
       "<table border=\"1\" class=\"dataframe\">\n",
       "  <thead>\n",
       "    <tr style=\"text-align: right;\">\n",
       "      <th></th>\n",
       "      <th>item_id</th>\n",
       "      <th>content_type</th>\n",
       "      <th>title</th>\n",
       "      <th>genres</th>\n",
       "      <th>age_rating</th>\n",
       "      <th>keywords</th>\n",
       "      <th>views</th>\n",
       "    </tr>\n",
       "  </thead>\n",
       "  <tbody>\n",
       "    <tr>\n",
       "      <th>0</th>\n",
       "      <td>13865</td>\n",
       "      <td>film</td>\n",
       "      <td>Девятаев</td>\n",
       "      <td>драмы, военные, приключения</td>\n",
       "      <td>12</td>\n",
       "      <td>Девятаев, Девятаева, Девят, Девя, Девята, Девя...</td>\n",
       "      <td>28375</td>\n",
       "    </tr>\n",
       "    <tr>\n",
       "      <th>1</th>\n",
       "      <td>7102</td>\n",
       "      <td>film</td>\n",
       "      <td>Дочь волка</td>\n",
       "      <td>боевики, триллеры</td>\n",
       "      <td>18</td>\n",
       "      <td>2019, канада, дочь, волка</td>\n",
       "      <td>4811</td>\n",
       "    </tr>\n",
       "    <tr>\n",
       "      <th>2</th>\n",
       "      <td>4151</td>\n",
       "      <td>series</td>\n",
       "      <td>Секреты семейной жизни</td>\n",
       "      <td>комедии</td>\n",
       "      <td>18</td>\n",
       "      <td>брызги крови, кровь, жестокое обращение с живо...</td>\n",
       "      <td>19562</td>\n",
       "    </tr>\n",
       "    <tr>\n",
       "      <th>3</th>\n",
       "      <td>9728</td>\n",
       "      <td>film</td>\n",
       "      <td>Гнев человеческий</td>\n",
       "      <td>боевики, триллеры</td>\n",
       "      <td>18</td>\n",
       "      <td>ограбление, криминальный авторитет, месть, пер...</td>\n",
       "      <td>32953</td>\n",
       "    </tr>\n",
       "    <tr>\n",
       "      <th>4</th>\n",
       "      <td>7571</td>\n",
       "      <td>film</td>\n",
       "      <td>100% волк</td>\n",
       "      <td>мультфильм, приключения, семейное, фэнтези, ко...</td>\n",
       "      <td>6</td>\n",
       "      <td>пудель, подростковая тревога, оборотень, приня...</td>\n",
       "      <td>6805</td>\n",
       "    </tr>\n",
       "  </tbody>\n",
       "</table>\n",
       "</div>"
      ],
      "text/plain": [
       "   item_id content_type                   title  \\\n",
       "0    13865         film                Девятаев   \n",
       "1     7102         film              Дочь волка   \n",
       "2     4151       series  Секреты семейной жизни   \n",
       "3     9728         film       Гнев человеческий   \n",
       "4     7571         film               100% волк   \n",
       "\n",
       "                                              genres  age_rating  \\\n",
       "0                        драмы, военные, приключения          12   \n",
       "1                                  боевики, триллеры          18   \n",
       "2                                            комедии          18   \n",
       "3                                  боевики, триллеры          18   \n",
       "4  мультфильм, приключения, семейное, фэнтези, ко...           6   \n",
       "\n",
       "                                            keywords  views  \n",
       "0  Девятаев, Девятаева, Девят, Девя, Девята, Девя...  28375  \n",
       "1                          2019, канада, дочь, волка   4811  \n",
       "2  брызги крови, кровь, жестокое обращение с живо...  19562  \n",
       "3  ограбление, криминальный авторитет, месть, пер...  32953  \n",
       "4  пудель, подростковая тревога, оборотень, приня...   6805  "
      ]
     },
     "execution_count": 100,
     "metadata": {},
     "output_type": "execute_result"
    }
   ],
   "source": [
    "users_idx = torch.tensor([users_mapping[user_id]])\n",
    "with torch.no_grad():\n",
    "    recs = gnn_model.recommend(users_idx, data,\n",
    "        top_count=1000, k=20, device=device, faiss_device=faiss_device)\n",
    "    \n",
    "rec_ids = np.vectorize(movies_rev_mapping.get)(recs.squeeze())\n",
    "rec_df_idx = np.vectorize(movies_id_to_df_idx.get)(rec_ids)\n",
    "df_items.iloc[rec_df_idx].reset_index(drop=True).head()"
   ]
  }
 ],
 "metadata": {
  "kernelspec": {
   "display_name": "Python 3",
   "language": "python",
   "name": "python3"
  },
  "language_info": {
   "codemirror_mode": {
    "name": "ipython",
    "version": 3
   },
   "file_extension": ".py",
   "mimetype": "text/x-python",
   "name": "python",
   "nbconvert_exporter": "python",
   "pygments_lexer": "ipython3",
   "version": "3.11.9"
  }
 },
 "nbformat": 4,
 "nbformat_minor": 2
}
