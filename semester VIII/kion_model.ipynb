{
 "cells": [
  {
   "cell_type": "code",
   "execution_count": 1,
   "metadata": {},
   "outputs": [],
   "source": [
    "# cell for Google Colab ipynb opening\n",
    "\n",
    "## %%capture\n",
    "# !pip install torch-scatter torch-sparse torch-cluster torch-spline-conv torch-geometric -f https://pytorch-geometric.com/whl/torch-2.2.1+cu121.html\n",
    "# !pip install pyg-lib -f https://data.pyg.org/whl/nightly/torch-2.2.0+cu121.html\n",
    "# !pip install faiss-gpu"
   ]
  },
  {
   "cell_type": "code",
   "execution_count": 2,
   "metadata": {},
   "outputs": [],
   "source": [
    "import numpy as np\n",
    "import pandas as pd\n",
    "import matplotlib.pyplot as plt\n",
    "from copy import deepcopy\n",
    "\n",
    "import torch\n",
    "from torch_geometric import EdgeIndex\n",
    "from torch_geometric.utils import degree\n",
    "from torch_geometric.loader import LinkNeighborLoader, NeighborLoader\n",
    "from torch_geometric.nn import MIPSKNNIndex\n",
    "from torch_geometric.metrics import LinkPredMAP, LinkPredPrecision, LinkPredRecall\n",
    "from torch_geometric.nn.models.lightgcn import BPRLoss\n",
    "\n",
    "from tqdm import tqdm\n",
    "import os\n",
    "os.environ['PYDEVD_DISABLE_FILE_VALIDATION']='1'\n",
    "os.environ['KMP_DUPLICATE_LIB_OK']='True'\n",
    "\n",
    "from utils.model import GNN\n",
    "\n",
    "device = torch.device('cuda' if torch.cuda.is_available() else 'cpu')\n",
    "faiss_device = torch.device('cpu') # 'cuda' for Colab, 'cpu' for my Windows laptop"
   ]
  },
  {
   "cell_type": "code",
   "execution_count": 3,
   "metadata": {},
   "outputs": [
    {
     "data": {
      "text/plain": [
       "HeteroData(\n",
       "  movie={ x=[11909, 300] },\n",
       "  user={ x=[448798, 14] },\n",
       "  (user, watched, movie)={\n",
       "    edge_index=[2, 1288996],\n",
       "    time=[1288996],\n",
       "  },\n",
       "  (movie, rev_watched, user)={\n",
       "    edge_index=[2, 1288996],\n",
       "    time=[1288996],\n",
       "  }\n",
       ")"
      ]
     },
     "execution_count": 3,
     "metadata": {},
     "output_type": "execute_result"
    }
   ],
   "source": [
    "from utils.data_transformation import data_to_heterograph\n",
    "\n",
    "data, users_rev_mapping, movies_rev_mapping =\\\n",
    "    data_to_heterograph('./data/processed/encoded_data.npz')\n",
    "data"
   ]
  },
  {
   "cell_type": "code",
   "execution_count": 4,
   "metadata": {},
   "outputs": [
    {
     "data": {
      "text/plain": [
       "0.0002411711540184161"
      ]
     },
     "execution_count": 4,
     "metadata": {},
     "output_type": "execute_result"
    }
   ],
   "source": [
    "# sparse interaction matrix\n",
    "1288996 / (11909 * 448798)"
   ]
  },
  {
   "cell_type": "markdown",
   "metadata": {},
   "source": [
    "## Train/test split"
   ]
  },
  {
   "cell_type": "code",
   "execution_count": 5,
   "metadata": {},
   "outputs": [],
   "source": [
    "train_ratio = 0.8\n",
    "train_size = int(train_ratio * data['user', 'movie'].num_edges)\n",
    "watch_threshold = -1\n",
    "\n",
    "edges = data['user', 'movie'].edge_index\n",
    "time = data['user', 'movie'].time\n",
    "num_users, num_movies = data['user'].num_nodes, data['movie'].num_nodes\n",
    "\n",
    "loader_kwargs = dict(\n",
    "    data=data, batch_size=1024,\n",
    "    num_neighbors=[15],\n",
    "    time_attr='time', temporal_strategy='last',\n",
    "    num_workers=4)\n",
    "\n",
    "train_loader = LinkNeighborLoader(\n",
    "    edge_label_index=(('user', 'movie'), edges[:, :train_size]),\n",
    "    edge_label_time=time[torch.arange(train_size)]-1,\n",
    "    neg_sampling=dict(mode='binary', amount=1),\n",
    "    shuffle=True,\n",
    "    **loader_kwargs)\n",
    "\n",
    "user_loader = NeighborLoader(\n",
    "    input_nodes='user',\n",
    "    input_time=(time[train_size]-1).repeat(num_users),\n",
    "    **loader_kwargs)\n",
    "\n",
    "movie_loader = NeighborLoader(\n",
    "    input_nodes='movie',\n",
    "    input_time=(time[train_size]-1).repeat(num_movies),\n",
    "    **loader_kwargs)\n",
    "\n",
    "sparse_size = (num_users, num_movies)\n",
    "train_edges = EdgeIndex(edges[:, :train_size].contiguous().to(device),\n",
    "                        sparse_size=sparse_size).sort_by('row').values\n",
    "test_edges = EdgeIndex(edges[:, train_size:].contiguous().to(device),\n",
    "                       sparse_size=sparse_size).sort_by('row').values\n",
    "\n",
    "is_test_node = degree(train_edges[0], num_nodes=num_users) >= watch_threshold\n",
    "test_edges = test_edges[:, is_test_node[test_edges[0]]]\n",
    "train_edges = train_edges[:, is_test_node[train_edges[0]]]"
   ]
  },
  {
   "cell_type": "markdown",
   "metadata": {},
   "source": [
    "## GNN"
   ]
  },
  {
   "cell_type": "code",
   "execution_count": 6,
   "metadata": {},
   "outputs": [],
   "source": [
    "gnn_model = GNN(num_layers=1, hidden_channels=64,\n",
    "                normalize=False, aggr_type='max-pool', dropout_p=None).to(device)\n",
    "optimizer = torch.optim.Adam(gnn_model.parameters(), lr=0.001)\n",
    "# optimizer.load_state_dict(torch.load('./{save_path}/adam_state.pt'))\n",
    "# gnn_model.load_state_dict(torch.load('./{save_path}/gnn_state.pt'))\n",
    "# gnn_model.to(device)\n",
    "bpr_loss = BPRLoss()\n",
    "bceligits_loss = torch.nn.BCEWithLogitsLoss()"
   ]
  },
  {
   "cell_type": "code",
   "execution_count": 7,
   "metadata": {},
   "outputs": [],
   "source": [
    "from utils.data_transformation import sparse_batch_narrow\n",
    "from torch.nn.modules.loss import _Loss\n",
    "\n",
    "def train(_loss: _Loss):\n",
    "    gnn_model.train()\n",
    "    total_loss = total_examples = 0\n",
    "    for batch in tqdm(train_loader):\n",
    "        batch = batch.to(device)\n",
    "        batch_size = len(batch['user', 'movie'].input_id)\n",
    "        optimizer.zero_grad()\n",
    "\n",
    "        out = gnn_model(batch.x_dict, batch.edge_index_dict,\n",
    "                        batch['user', 'movie'].edge_label_index)\n",
    "\n",
    "        if isinstance(_loss, BPRLoss):\n",
    "            loss = _loss(out[:batch_size], out[batch_size:])\n",
    "        else:\n",
    "            target = batch['user', 'movie'].edge_label\n",
    "            loss = _loss(out, target)\n",
    "\n",
    "        loss.backward(); optimizer.step()\n",
    "\n",
    "        total_loss += float(loss) * batch_size\n",
    "        total_examples += batch_size\n",
    "\n",
    "    return total_loss / total_examples\n",
    "\n",
    "@torch.no_grad()\n",
    "def test(test_edges: EdgeIndex, train_edges: EdgeIndex, k: int, top_count: int = None,\n",
    "         filter_user: bool = False, is_test_node: torch.Tensor = None):\n",
    "    \n",
    "    if filter_user and not is_test_node:\n",
    "        raise Exception('is_test_node needs to be specified if filter_user == True')\n",
    "\n",
    "    gnn_model.eval()\n",
    "    movie_embs = gnn_model.get_movies_embeddings(movie_loader, device)\n",
    "\n",
    "    if top_count is None:\n",
    "        movie_embs = torch.cat(movie_embs, dim=0)\n",
    "    else:\n",
    "        emb_size = movie_embs[0].size()[1]\n",
    "        movie_embs.append(torch.zeros((1, emb_size), device=device))\n",
    "        movie_embs = torch.cat(movie_embs, dim=0)\n",
    "        top_indices = list(range(top_count)) + [len(movie_embs)-1]\n",
    "        movie_embs = movie_embs[top_indices]\n",
    "    \n",
    "    mipsknn = MIPSKNNIndex(movie_embs.to(faiss_device))\n",
    "    metrics = LinkPredMAP(k), LinkPredPrecision(k), LinkPredRecall(k)\n",
    "    users_infered = 0\n",
    "    for batch in user_loader:\n",
    "        batch = batch.to(device)\n",
    "        batch_size = batch['user'].batch_size\n",
    "        batch_user_embs = gnn_model.encoder(batch.x_dict, batch.edge_index_dict)\\\n",
    "            ['user'][:batch_size].to(faiss_device)\n",
    "        \n",
    "        if filter_user:\n",
    "            batch_user_embs = batch_user_embs[is_test_node[users_infered:users_infered+batch_size]]\n",
    "            batch_test_edges = sparse_batch_narrow(test_edges, users_infered, batch_size)\n",
    "            batch_train_edges = sparse_batch_narrow(train_edges, users_infered, batch_size)\n",
    "        else:\n",
    "            batch_test_edges = test_edges.sparse_narrow(0, users_infered, batch_size).to(faiss_device)\n",
    "            batch_train_edges = train_edges.sparse_narrow(0, users_infered, batch_size).to(faiss_device)\n",
    "\n",
    "        if top_count is not None:\n",
    "            batch_test_edges[1, batch_test_edges[1] >= top_count] = top_count\n",
    "            batch_train_edges[1, batch_train_edges[1] >= top_count] = top_count\n",
    "\n",
    "        top_indices_mat = mipsknn.search(batch_user_embs, k, exclude_links=batch_train_edges)[1]\n",
    "        for metric in metrics:\n",
    "            metric.update(top_indices_mat.cpu(), batch_test_edges)\n",
    "\n",
    "        users_infered += batch_size\n",
    "\n",
    "    return tuple(float(metric.compute()) for metric in metrics)\n",
    "\n",
    "k = 20\n",
    "df_metrics = pd.DataFrame(columns=['loss', f'map@{k}', f'precision@{k}', f'recall@{k}'])\n",
    "best_state_dict = None\n",
    "best_map = .0"
   ]
  },
  {
   "cell_type": "code",
   "execution_count": 8,
   "metadata": {},
   "outputs": [
    {
     "name": "stderr",
     "output_type": "stream",
     "text": [
      "  0%|          | 0/1008 [00:00<?, ?it/s]"
     ]
    },
    {
     "name": "stderr",
     "output_type": "stream",
     "text": [
      "100%|██████████| 1008/1008 [00:19<00:00, 52.49it/s]\n"
     ]
    },
    {
     "name": "stdout",
     "output_type": "stream",
     "text": [
      "Train: Epoch №01, Loss: 0.2835\n"
     ]
    },
    {
     "name": "stderr",
     "output_type": "stream",
     "text": [
      "100%|██████████| 1008/1008 [00:19<00:00, 51.26it/s]\n"
     ]
    },
    {
     "name": "stdout",
     "output_type": "stream",
     "text": [
      "Train: Epoch №02, Loss: 0.2590\n",
      "Test@20, MAP: 0.0723, Precision: 0.0135, Recall: 0.1802\n"
     ]
    },
    {
     "name": "stderr",
     "output_type": "stream",
     "text": [
      "100%|██████████| 1008/1008 [00:19<00:00, 51.33it/s]\n"
     ]
    },
    {
     "name": "stdout",
     "output_type": "stream",
     "text": [
      "Train: Epoch №03, Loss: 0.2578\n"
     ]
    },
    {
     "name": "stderr",
     "output_type": "stream",
     "text": [
      "100%|██████████| 1008/1008 [00:20<00:00, 48.68it/s]\n"
     ]
    },
    {
     "name": "stdout",
     "output_type": "stream",
     "text": [
      "Train: Epoch №04, Loss: 0.2561\n",
      "Test@20, MAP: 0.0729, Precision: 0.0135, Recall: 0.1807\n"
     ]
    },
    {
     "name": "stderr",
     "output_type": "stream",
     "text": [
      "100%|██████████| 1008/1008 [00:20<00:00, 48.73it/s]\n"
     ]
    },
    {
     "name": "stdout",
     "output_type": "stream",
     "text": [
      "Train: Epoch №05, Loss: 0.2546\n"
     ]
    },
    {
     "name": "stderr",
     "output_type": "stream",
     "text": [
      "100%|██████████| 1008/1008 [00:20<00:00, 48.89it/s]\n"
     ]
    },
    {
     "name": "stdout",
     "output_type": "stream",
     "text": [
      "Train: Epoch №06, Loss: 0.2538\n",
      "Test@20, MAP: 0.0739, Precision: 0.0138, Recall: 0.1846\n"
     ]
    },
    {
     "name": "stderr",
     "output_type": "stream",
     "text": [
      "100%|██████████| 1008/1008 [00:20<00:00, 49.06it/s]\n"
     ]
    },
    {
     "name": "stdout",
     "output_type": "stream",
     "text": [
      "Train: Epoch №07, Loss: 0.2541\n"
     ]
    },
    {
     "name": "stderr",
     "output_type": "stream",
     "text": [
      "100%|██████████| 1008/1008 [00:20<00:00, 49.34it/s]\n"
     ]
    },
    {
     "name": "stdout",
     "output_type": "stream",
     "text": [
      "Train: Epoch №08, Loss: 0.2536\n",
      "Test@20, MAP: 0.0742, Precision: 0.0138, Recall: 0.1842\n"
     ]
    },
    {
     "name": "stderr",
     "output_type": "stream",
     "text": [
      "100%|██████████| 1008/1008 [00:20<00:00, 48.86it/s]\n"
     ]
    },
    {
     "name": "stdout",
     "output_type": "stream",
     "text": [
      "Train: Epoch №09, Loss: 0.2535\n"
     ]
    },
    {
     "name": "stderr",
     "output_type": "stream",
     "text": [
      "100%|██████████| 1008/1008 [00:20<00:00, 48.36it/s]\n"
     ]
    },
    {
     "name": "stdout",
     "output_type": "stream",
     "text": [
      "Train: Epoch №10, Loss: 0.2540\n",
      "Test@20, MAP: 0.0729, Precision: 0.0136, Recall: 0.1821\n"
     ]
    },
    {
     "name": "stderr",
     "output_type": "stream",
     "text": [
      "100%|██████████| 1008/1008 [00:20<00:00, 49.23it/s]\n"
     ]
    },
    {
     "name": "stdout",
     "output_type": "stream",
     "text": [
      "Train: Epoch №11, Loss: 0.2539\n"
     ]
    },
    {
     "name": "stderr",
     "output_type": "stream",
     "text": [
      "100%|██████████| 1008/1008 [00:20<00:00, 48.76it/s]\n"
     ]
    },
    {
     "name": "stdout",
     "output_type": "stream",
     "text": [
      "Train: Epoch №12, Loss: 0.2528\n",
      "Test@20, MAP: 0.0736, Precision: 0.0139, Recall: 0.1857\n"
     ]
    },
    {
     "name": "stderr",
     "output_type": "stream",
     "text": [
      "100%|██████████| 1008/1008 [00:20<00:00, 49.09it/s]\n"
     ]
    },
    {
     "name": "stdout",
     "output_type": "stream",
     "text": [
      "Train: Epoch №13, Loss: 0.2538\n"
     ]
    },
    {
     "name": "stderr",
     "output_type": "stream",
     "text": [
      "100%|██████████| 1008/1008 [00:20<00:00, 48.74it/s]\n"
     ]
    },
    {
     "name": "stdout",
     "output_type": "stream",
     "text": [
      "Train: Epoch №14, Loss: 0.2520\n",
      "Test@20, MAP: 0.0725, Precision: 0.0136, Recall: 0.1820\n"
     ]
    },
    {
     "name": "stderr",
     "output_type": "stream",
     "text": [
      "100%|██████████| 1008/1008 [00:20<00:00, 48.88it/s]\n"
     ]
    },
    {
     "name": "stdout",
     "output_type": "stream",
     "text": [
      "Train: Epoch №15, Loss: 0.2523\n"
     ]
    },
    {
     "name": "stderr",
     "output_type": "stream",
     "text": [
      "100%|██████████| 1008/1008 [00:20<00:00, 49.04it/s]\n"
     ]
    },
    {
     "name": "stdout",
     "output_type": "stream",
     "text": [
      "Train: Epoch №16, Loss: 0.2529\n",
      "Test@20, MAP: 0.0733, Precision: 0.0137, Recall: 0.1825\n"
     ]
    },
    {
     "name": "stderr",
     "output_type": "stream",
     "text": [
      "100%|██████████| 1008/1008 [00:20<00:00, 49.14it/s]\n"
     ]
    },
    {
     "name": "stdout",
     "output_type": "stream",
     "text": [
      "Train: Epoch №17, Loss: 0.2525\n"
     ]
    },
    {
     "name": "stderr",
     "output_type": "stream",
     "text": [
      "100%|██████████| 1008/1008 [00:20<00:00, 49.18it/s]\n"
     ]
    },
    {
     "name": "stdout",
     "output_type": "stream",
     "text": [
      "Train: Epoch №18, Loss: 0.2530\n",
      "Test@20, MAP: 0.0718, Precision: 0.0136, Recall: 0.1811\n"
     ]
    },
    {
     "name": "stderr",
     "output_type": "stream",
     "text": [
      "100%|██████████| 1008/1008 [00:20<00:00, 48.49it/s]\n"
     ]
    },
    {
     "name": "stdout",
     "output_type": "stream",
     "text": [
      "Train: Epoch №19, Loss: 0.2519\n"
     ]
    },
    {
     "name": "stderr",
     "output_type": "stream",
     "text": [
      "100%|██████████| 1008/1008 [00:20<00:00, 49.40it/s]\n"
     ]
    },
    {
     "name": "stdout",
     "output_type": "stream",
     "text": [
      "Train: Epoch №20, Loss: 0.2524\n",
      "Test@20, MAP: 0.0718, Precision: 0.0136, Recall: 0.1822\n"
     ]
    },
    {
     "name": "stderr",
     "output_type": "stream",
     "text": [
      "100%|██████████| 1008/1008 [00:20<00:00, 49.03it/s]\n"
     ]
    },
    {
     "name": "stdout",
     "output_type": "stream",
     "text": [
      "Train: Epoch №21, Loss: 0.2527\n"
     ]
    },
    {
     "name": "stderr",
     "output_type": "stream",
     "text": [
      "100%|██████████| 1008/1008 [00:20<00:00, 48.58it/s]\n"
     ]
    },
    {
     "name": "stdout",
     "output_type": "stream",
     "text": [
      "Train: Epoch №22, Loss: 0.2519\n",
      "Test@20, MAP: 0.0706, Precision: 0.0137, Recall: 0.1825\n"
     ]
    },
    {
     "name": "stderr",
     "output_type": "stream",
     "text": [
      "100%|██████████| 1008/1008 [00:20<00:00, 48.93it/s]\n"
     ]
    },
    {
     "name": "stdout",
     "output_type": "stream",
     "text": [
      "Train: Epoch №23, Loss: 0.2520\n"
     ]
    },
    {
     "name": "stderr",
     "output_type": "stream",
     "text": [
      "100%|██████████| 1008/1008 [00:20<00:00, 48.93it/s]\n"
     ]
    },
    {
     "name": "stdout",
     "output_type": "stream",
     "text": [
      "Train: Epoch №24, Loss: 0.2516\n",
      "Test@20, MAP: 0.0722, Precision: 0.0137, Recall: 0.1835\n"
     ]
    },
    {
     "name": "stderr",
     "output_type": "stream",
     "text": [
      "100%|██████████| 1008/1008 [00:20<00:00, 49.31it/s]\n"
     ]
    },
    {
     "name": "stdout",
     "output_type": "stream",
     "text": [
      "Train: Epoch №25, Loss: 0.2517\n"
     ]
    },
    {
     "name": "stderr",
     "output_type": "stream",
     "text": [
      "100%|██████████| 1008/1008 [00:20<00:00, 48.70it/s]\n"
     ]
    },
    {
     "name": "stdout",
     "output_type": "stream",
     "text": [
      "Train: Epoch №26, Loss: 0.2512\n",
      "Test@20, MAP: 0.0732, Precision: 0.0137, Recall: 0.1827\n"
     ]
    },
    {
     "name": "stderr",
     "output_type": "stream",
     "text": [
      "100%|██████████| 1008/1008 [00:20<00:00, 49.02it/s]\n"
     ]
    },
    {
     "name": "stdout",
     "output_type": "stream",
     "text": [
      "Train: Epoch №27, Loss: 0.2511\n"
     ]
    },
    {
     "name": "stderr",
     "output_type": "stream",
     "text": [
      "100%|██████████| 1008/1008 [00:20<00:00, 48.97it/s]\n"
     ]
    },
    {
     "name": "stdout",
     "output_type": "stream",
     "text": [
      "Train: Epoch №28, Loss: 0.2522\n",
      "Test@20, MAP: 0.0724, Precision: 0.0136, Recall: 0.1815\n"
     ]
    },
    {
     "name": "stderr",
     "output_type": "stream",
     "text": [
      "100%|██████████| 1008/1008 [00:20<00:00, 48.83it/s]\n"
     ]
    },
    {
     "name": "stdout",
     "output_type": "stream",
     "text": [
      "Train: Epoch №29, Loss: 0.2510\n"
     ]
    },
    {
     "name": "stderr",
     "output_type": "stream",
     "text": [
      "100%|██████████| 1008/1008 [00:20<00:00, 48.64it/s]\n"
     ]
    },
    {
     "name": "stdout",
     "output_type": "stream",
     "text": [
      "Train: Epoch №30, Loss: 0.2514\n",
      "Test@20, MAP: 0.0714, Precision: 0.0134, Recall: 0.1795\n"
     ]
    },
    {
     "name": "stderr",
     "output_type": "stream",
     "text": [
      "100%|██████████| 1008/1008 [00:20<00:00, 49.09it/s]\n"
     ]
    },
    {
     "name": "stdout",
     "output_type": "stream",
     "text": [
      "Train: Epoch №31, Loss: 0.2510\n"
     ]
    },
    {
     "name": "stderr",
     "output_type": "stream",
     "text": [
      "100%|██████████| 1008/1008 [00:20<00:00, 48.80it/s]\n"
     ]
    },
    {
     "name": "stdout",
     "output_type": "stream",
     "text": [
      "Train: Epoch №32, Loss: 0.2517\n",
      "Test@20, MAP: 0.0728, Precision: 0.0137, Recall: 0.1838\n"
     ]
    },
    {
     "name": "stderr",
     "output_type": "stream",
     "text": [
      "100%|██████████| 1008/1008 [00:19<00:00, 50.50it/s]\n"
     ]
    },
    {
     "name": "stdout",
     "output_type": "stream",
     "text": [
      "Train: Epoch №33, Loss: 0.2512\n"
     ]
    },
    {
     "name": "stderr",
     "output_type": "stream",
     "text": [
      "100%|██████████| 1008/1008 [00:19<00:00, 52.13it/s]\n"
     ]
    },
    {
     "name": "stdout",
     "output_type": "stream",
     "text": [
      "Train: Epoch №34, Loss: 0.2515\n",
      "Test@20, MAP: 0.0738, Precision: 0.0137, Recall: 0.1829\n"
     ]
    },
    {
     "name": "stderr",
     "output_type": "stream",
     "text": [
      "100%|██████████| 1008/1008 [00:19<00:00, 51.53it/s]\n"
     ]
    },
    {
     "name": "stdout",
     "output_type": "stream",
     "text": [
      "Train: Epoch №35, Loss: 0.2506\n"
     ]
    },
    {
     "name": "stderr",
     "output_type": "stream",
     "text": [
      "100%|██████████| 1008/1008 [00:20<00:00, 48.38it/s]\n"
     ]
    },
    {
     "name": "stdout",
     "output_type": "stream",
     "text": [
      "Train: Epoch №36, Loss: 0.2510\n",
      "Test@20, MAP: 0.0730, Precision: 0.0138, Recall: 0.1839\n"
     ]
    },
    {
     "name": "stderr",
     "output_type": "stream",
     "text": [
      "100%|██████████| 1008/1008 [00:19<00:00, 52.80it/s]\n"
     ]
    },
    {
     "name": "stdout",
     "output_type": "stream",
     "text": [
      "Train: Epoch №37, Loss: 0.2504\n"
     ]
    },
    {
     "name": "stderr",
     "output_type": "stream",
     "text": [
      "100%|██████████| 1008/1008 [00:19<00:00, 51.66it/s]\n"
     ]
    },
    {
     "name": "stdout",
     "output_type": "stream",
     "text": [
      "Train: Epoch №38, Loss: 0.2514\n",
      "Test@20, MAP: 0.0716, Precision: 0.0136, Recall: 0.1816\n"
     ]
    },
    {
     "name": "stderr",
     "output_type": "stream",
     "text": [
      "100%|██████████| 1008/1008 [00:20<00:00, 49.06it/s]\n"
     ]
    },
    {
     "name": "stdout",
     "output_type": "stream",
     "text": [
      "Train: Epoch №39, Loss: 0.2500\n"
     ]
    },
    {
     "name": "stderr",
     "output_type": "stream",
     "text": [
      "100%|██████████| 1008/1008 [00:20<00:00, 48.76it/s]\n"
     ]
    },
    {
     "name": "stdout",
     "output_type": "stream",
     "text": [
      "Train: Epoch №40, Loss: 0.2512\n",
      "Test@20, MAP: 0.0728, Precision: 0.0137, Recall: 0.1827\n"
     ]
    },
    {
     "name": "stderr",
     "output_type": "stream",
     "text": [
      "100%|██████████| 1008/1008 [00:20<00:00, 48.70it/s]\n"
     ]
    },
    {
     "name": "stdout",
     "output_type": "stream",
     "text": [
      "Train: Epoch №41, Loss: 0.2507\n"
     ]
    },
    {
     "name": "stderr",
     "output_type": "stream",
     "text": [
      "100%|██████████| 1008/1008 [00:20<00:00, 49.28it/s]\n"
     ]
    },
    {
     "name": "stdout",
     "output_type": "stream",
     "text": [
      "Train: Epoch №42, Loss: 0.2512\n",
      "Test@20, MAP: 0.0724, Precision: 0.0138, Recall: 0.1836\n"
     ]
    },
    {
     "name": "stderr",
     "output_type": "stream",
     "text": [
      "100%|██████████| 1008/1008 [00:20<00:00, 48.63it/s]\n"
     ]
    },
    {
     "name": "stdout",
     "output_type": "stream",
     "text": [
      "Train: Epoch №43, Loss: 0.2512\n"
     ]
    },
    {
     "name": "stderr",
     "output_type": "stream",
     "text": [
      "100%|██████████| 1008/1008 [00:20<00:00, 49.10it/s]\n"
     ]
    },
    {
     "name": "stdout",
     "output_type": "stream",
     "text": [
      "Train: Epoch №44, Loss: 0.2508\n",
      "Test@20, MAP: 0.0737, Precision: 0.0137, Recall: 0.1825\n"
     ]
    },
    {
     "name": "stderr",
     "output_type": "stream",
     "text": [
      "100%|██████████| 1008/1008 [00:20<00:00, 48.91it/s]\n"
     ]
    },
    {
     "name": "stdout",
     "output_type": "stream",
     "text": [
      "Train: Epoch №45, Loss: 0.2514\n"
     ]
    },
    {
     "name": "stderr",
     "output_type": "stream",
     "text": [
      "100%|██████████| 1008/1008 [00:20<00:00, 49.23it/s]\n"
     ]
    },
    {
     "name": "stdout",
     "output_type": "stream",
     "text": [
      "Train: Epoch №46, Loss: 0.2511\n",
      "Test@20, MAP: 0.0726, Precision: 0.0137, Recall: 0.1827\n"
     ]
    },
    {
     "name": "stderr",
     "output_type": "stream",
     "text": [
      "100%|██████████| 1008/1008 [00:20<00:00, 49.21it/s]\n"
     ]
    },
    {
     "name": "stdout",
     "output_type": "stream",
     "text": [
      "Train: Epoch №47, Loss: 0.2506\n"
     ]
    },
    {
     "name": "stderr",
     "output_type": "stream",
     "text": [
      "100%|██████████| 1008/1008 [00:20<00:00, 49.11it/s]\n"
     ]
    },
    {
     "name": "stdout",
     "output_type": "stream",
     "text": [
      "Train: Epoch №48, Loss: 0.2508\n",
      "Test@20, MAP: 0.0725, Precision: 0.0138, Recall: 0.1841\n"
     ]
    },
    {
     "name": "stderr",
     "output_type": "stream",
     "text": [
      "100%|██████████| 1008/1008 [00:20<00:00, 49.19it/s]\n"
     ]
    },
    {
     "name": "stdout",
     "output_type": "stream",
     "text": [
      "Train: Epoch №49, Loss: 0.2507\n"
     ]
    },
    {
     "name": "stderr",
     "output_type": "stream",
     "text": [
      "100%|██████████| 1008/1008 [00:20<00:00, 49.41it/s]\n"
     ]
    },
    {
     "name": "stdout",
     "output_type": "stream",
     "text": [
      "Train: Epoch №50, Loss: 0.2503\n",
      "Test@20, MAP: 0.0726, Precision: 0.0136, Recall: 0.1824\n"
     ]
    },
    {
     "name": "stderr",
     "output_type": "stream",
     "text": [
      "100%|██████████| 1008/1008 [00:20<00:00, 48.97it/s]\n"
     ]
    },
    {
     "name": "stdout",
     "output_type": "stream",
     "text": [
      "Train: Epoch №51, Loss: 0.2509\n"
     ]
    },
    {
     "name": "stderr",
     "output_type": "stream",
     "text": [
      "100%|██████████| 1008/1008 [00:20<00:00, 49.29it/s]\n"
     ]
    },
    {
     "name": "stdout",
     "output_type": "stream",
     "text": [
      "Train: Epoch №52, Loss: 0.2511\n",
      "Test@20, MAP: 0.0713, Precision: 0.0137, Recall: 0.1828\n"
     ]
    },
    {
     "name": "stderr",
     "output_type": "stream",
     "text": [
      "100%|██████████| 1008/1008 [00:20<00:00, 48.76it/s]\n"
     ]
    },
    {
     "name": "stdout",
     "output_type": "stream",
     "text": [
      "Train: Epoch №53, Loss: 0.2510\n"
     ]
    },
    {
     "name": "stderr",
     "output_type": "stream",
     "text": [
      "100%|██████████| 1008/1008 [00:20<00:00, 49.09it/s]\n"
     ]
    },
    {
     "name": "stdout",
     "output_type": "stream",
     "text": [
      "Train: Epoch №54, Loss: 0.2509\n",
      "Test@20, MAP: 0.0731, Precision: 0.0138, Recall: 0.1840\n"
     ]
    },
    {
     "name": "stderr",
     "output_type": "stream",
     "text": [
      "100%|██████████| 1008/1008 [00:20<00:00, 49.15it/s]\n"
     ]
    },
    {
     "name": "stdout",
     "output_type": "stream",
     "text": [
      "Train: Epoch №55, Loss: 0.2506\n"
     ]
    },
    {
     "name": "stderr",
     "output_type": "stream",
     "text": [
      "100%|██████████| 1008/1008 [00:20<00:00, 48.57it/s]\n"
     ]
    },
    {
     "name": "stdout",
     "output_type": "stream",
     "text": [
      "Train: Epoch №56, Loss: 0.2503\n",
      "Test@20, MAP: 0.0734, Precision: 0.0136, Recall: 0.1823\n"
     ]
    },
    {
     "name": "stderr",
     "output_type": "stream",
     "text": [
      "100%|██████████| 1008/1008 [00:20<00:00, 48.87it/s]\n"
     ]
    },
    {
     "name": "stdout",
     "output_type": "stream",
     "text": [
      "Train: Epoch №57, Loss: 0.2507\n"
     ]
    },
    {
     "name": "stderr",
     "output_type": "stream",
     "text": [
      "100%|██████████| 1008/1008 [00:20<00:00, 48.86it/s]\n"
     ]
    },
    {
     "name": "stdout",
     "output_type": "stream",
     "text": [
      "Train: Epoch №58, Loss: 0.2510\n",
      "Test@20, MAP: 0.0717, Precision: 0.0136, Recall: 0.1814\n"
     ]
    },
    {
     "name": "stderr",
     "output_type": "stream",
     "text": [
      "100%|██████████| 1008/1008 [00:20<00:00, 49.47it/s]\n"
     ]
    },
    {
     "name": "stdout",
     "output_type": "stream",
     "text": [
      "Train: Epoch №59, Loss: 0.2508\n"
     ]
    },
    {
     "name": "stderr",
     "output_type": "stream",
     "text": [
      "100%|██████████| 1008/1008 [00:20<00:00, 48.98it/s]\n"
     ]
    },
    {
     "name": "stdout",
     "output_type": "stream",
     "text": [
      "Train: Epoch №60, Loss: 0.2511\n",
      "Test@20, MAP: 0.0728, Precision: 0.0137, Recall: 0.1831\n"
     ]
    },
    {
     "name": "stderr",
     "output_type": "stream",
     "text": [
      "100%|██████████| 1008/1008 [00:20<00:00, 49.35it/s]\n"
     ]
    },
    {
     "name": "stdout",
     "output_type": "stream",
     "text": [
      "Train: Epoch №61, Loss: 0.2509\n"
     ]
    },
    {
     "name": "stderr",
     "output_type": "stream",
     "text": [
      "100%|██████████| 1008/1008 [00:20<00:00, 49.24it/s]\n"
     ]
    },
    {
     "name": "stdout",
     "output_type": "stream",
     "text": [
      "Train: Epoch №62, Loss: 0.2501\n",
      "Test@20, MAP: 0.0728, Precision: 0.0136, Recall: 0.1821\n"
     ]
    },
    {
     "name": "stderr",
     "output_type": "stream",
     "text": [
      "100%|██████████| 1008/1008 [00:19<00:00, 52.28it/s]\n"
     ]
    },
    {
     "name": "stdout",
     "output_type": "stream",
     "text": [
      "Train: Epoch №63, Loss: 0.2505\n"
     ]
    },
    {
     "name": "stderr",
     "output_type": "stream",
     "text": [
      "100%|██████████| 1008/1008 [00:18<00:00, 53.80it/s]\n"
     ]
    },
    {
     "name": "stdout",
     "output_type": "stream",
     "text": [
      "Train: Epoch №64, Loss: 0.2508\n",
      "Test@20, MAP: 0.0722, Precision: 0.0137, Recall: 0.1834\n"
     ]
    },
    {
     "name": "stderr",
     "output_type": "stream",
     "text": [
      "  0%|          | 3/1008 [00:05<29:39,  1.77s/it]  "
     ]
    },
    {
     "name": "stdout",
     "output_type": "stream",
     "text": [
      "--KeyboardInterrupt--\n",
      "best_map=0.074\n"
     ]
    },
    {
     "name": "stderr",
     "output_type": "stream",
     "text": [
      "\n"
     ]
    }
   ],
   "source": [
    "try:\n",
    "    for epoch_num in range(1, 100):\n",
    "        loss = train(bpr_loss)\n",
    "        print(f'Train: Epoch №{epoch_num:02d}, Loss: {loss:.4f}')\n",
    "        if epoch_num % 2 == 0:\n",
    "            map, precision, recall = test(test_edges, train_edges, k, top_count=2000, filter_user=False)\n",
    "            print('Test@%d, MAP: %.4f, Precision: %.4f, Recall: %.4f' % (k, map, precision, recall))\n",
    "            df_metrics.loc[2*len(df_metrics), :] = [loss, map, precision, recall]\n",
    "            if map > best_map:\n",
    "                best_map = map\n",
    "                best_state_dict = deepcopy(gnn_model.state_dict())\n",
    "except KeyboardInterrupt:\n",
    "  print('--KeyboardInterrupt--')\n",
    "\n",
    "print(f'{best_map=:.3f}')"
   ]
  },
  {
   "cell_type": "code",
   "execution_count": null,
   "metadata": {},
   "outputs": [
    {
     "data": {
      "image/png": "[encoded data removed]",
      "text/plain": [
       "<Figure size 1200x300 with 4 Axes>"
      ]
     },
     "metadata": {},
     "output_type": "display_data"
    }
   ],
   "source": [
    "fig, axes = plt.subplots(1, 4, figsize=(12, 3))\n",
    "for i, metric_name in enumerate(df_metrics.columns):\n",
    "    df_metrics[metric_name].plot(ax=axes[i], grid=True, title=metric_name)\n",
    "fig.tight_layout()"
   ]
  },
  {
   "cell_type": "markdown",
   "metadata": {},
   "source": [
    "## Save model"
   ]
  },
  {
   "cell_type": "code",
   "execution_count": 42,
   "metadata": {},
   "outputs": [],
   "source": [
    "#model_name = '1layer074'\n",
    "model_name = 'none'\n",
    "\n",
    "save_folder_name = f'model_saves/{model_name}'\n",
    "! mkdir \"$save_folder_name\"\n",
    "torch.save(best_state_dict, f'./{save_folder_name}/gnn_state.pt')\n",
    "torch.save(optimizer.state_dict(), f'./{save_folder_name}/adam_state.pt')\n",
    "df_metrics.to_csv(f'./model_saves/dnn_metrics.csv')"
   ]
  },
  {
   "cell_type": "markdown",
   "metadata": {},
   "source": [
    "## Example of making recommendations by Graph Neural Network"
   ]
  },
  {
   "cell_type": "code",
   "execution_count": 49,
   "metadata": {},
   "outputs": [],
   "source": [
    "gnn_model = GNN(num_layers=1, hidden_channels=64,\n",
    "                normalize=False, aggr_type='max-pool', dropout_p=None)\n",
    "\n",
    "model_name = '1layer074'\n",
    "save_folder_name = f'model_saves/{model_name}'\n",
    "gnn_model.load_state_dict(torch.load(f'./{save_folder_name}/gnn_state.pt'))\n",
    "gnn_model.to(device);"
   ]
  },
  {
   "cell_type": "code",
   "execution_count": 50,
   "metadata": {},
   "outputs": [],
   "source": [
    "df_inter = pd.read_csv('data/processed/interactions.csv')\n",
    "df_items = pd.read_csv('data/processed/items.csv')\n",
    "df_users = pd.read_csv('data/processed/users.csv')\n",
    "\n",
    "users_mapping = {user_id: idx for idx, user_id in users_rev_mapping.items()}\n",
    "movies_mapping = {movie_id: idx for idx, movie_id in movies_rev_mapping.items()}\n",
    "movies_id_to_df_idx = {movie_id: df_idx for df_idx, movie_id in df_items['item_id'].items()}"
   ]
  },
  {
   "cell_type": "code",
   "execution_count": 52,
   "metadata": {},
   "outputs": [
    {
     "data": {
      "text/html": [
       "<div>\n",
       "<style scoped>\n",
       "    .dataframe tbody tr th:only-of-type {\n",
       "        vertical-align: middle;\n",
       "    }\n",
       "\n",
       "    .dataframe tbody tr th {\n",
       "        vertical-align: top;\n",
       "    }\n",
       "\n",
       "    .dataframe thead th {\n",
       "        text-align: right;\n",
       "    }\n",
       "</style>\n",
       "<table border=\"1\" class=\"dataframe\">\n",
       "  <thead>\n",
       "    <tr style=\"text-align: right;\">\n",
       "      <th></th>\n",
       "      <th>user_id</th>\n",
       "      <th>item_id</th>\n",
       "      <th>last_watch_dt</th>\n",
       "      <th>watched_pct</th>\n",
       "      <th>content_type</th>\n",
       "      <th>title</th>\n",
       "      <th>genres</th>\n",
       "      <th>age_rating</th>\n",
       "      <th>keywords</th>\n",
       "      <th>views</th>\n",
       "    </tr>\n",
       "  </thead>\n",
       "  <tbody>\n",
       "    <tr>\n",
       "      <th>0</th>\n",
       "      <td>148609</td>\n",
       "      <td>12395</td>\n",
       "      <td>2021-03-23</td>\n",
       "      <td>100.0</td>\n",
       "      <td>film</td>\n",
       "      <td>Беги, мальчик, беги</td>\n",
       "      <td>боевики, драмы, биография, военные</td>\n",
       "      <td>16</td>\n",
       "      <td>вторая мировая война, варшавское гетто, дети, ...</td>\n",
       "      <td>100</td>\n",
       "    </tr>\n",
       "    <tr>\n",
       "      <th>1</th>\n",
       "      <td>148609</td>\n",
       "      <td>13713</td>\n",
       "      <td>2021-04-01</td>\n",
       "      <td>0.0</td>\n",
       "      <td>film</td>\n",
       "      <td>Звёздные войны: Скрытая угроза</td>\n",
       "      <td>боевики, фантастика, приключения</td>\n",
       "      <td>0</td>\n",
       "      <td>пророчество, сенат, королева, надзиратель, гал...</td>\n",
       "      <td>444</td>\n",
       "    </tr>\n",
       "    <tr>\n",
       "      <th>2</th>\n",
       "      <td>148609</td>\n",
       "      <td>11885</td>\n",
       "      <td>2021-04-01</td>\n",
       "      <td>100.0</td>\n",
       "      <td>film</td>\n",
       "      <td>Хан Соло: Звёздные войны. Истории</td>\n",
       "      <td>боевики, фантастика, приключения</td>\n",
       "      <td>12</td>\n",
       "      <td>космический корабль, приквел, спин-офф, контра...</td>\n",
       "      <td>621</td>\n",
       "    </tr>\n",
       "    <tr>\n",
       "      <th>3</th>\n",
       "      <td>148609</td>\n",
       "      <td>13980</td>\n",
       "      <td>2021-04-11</td>\n",
       "      <td>100.0</td>\n",
       "      <td>film</td>\n",
       "      <td>Изгой-один: Звёздные войны. Истории.</td>\n",
       "      <td>боевики, фантастика, приключения</td>\n",
       "      <td>16</td>\n",
       "      <td>бунтарь, космический корабль, космическое сраж...</td>\n",
       "      <td>416</td>\n",
       "    </tr>\n",
       "  </tbody>\n",
       "</table>\n",
       "</div>"
      ],
      "text/plain": [
       "   user_id  item_id last_watch_dt  watched_pct content_type  \\\n",
       "0   148609    12395    2021-03-23        100.0         film   \n",
       "1   148609    13713    2021-04-01          0.0         film   \n",
       "2   148609    11885    2021-04-01        100.0         film   \n",
       "3   148609    13980    2021-04-11        100.0         film   \n",
       "\n",
       "                                  title                              genres  \\\n",
       "0                   Беги, мальчик, беги  боевики, драмы, биография, военные   \n",
       "1        Звёздные войны: Скрытая угроза    боевики, фантастика, приключения   \n",
       "2     Хан Соло: Звёздные войны. Истории    боевики, фантастика, приключения   \n",
       "3  Изгой-один: Звёздные войны. Истории.    боевики, фантастика, приключения   \n",
       "\n",
       "   age_rating                                           keywords  views  \n",
       "0          16  вторая мировая война, варшавское гетто, дети, ...    100  \n",
       "1           0  пророчество, сенат, королева, надзиратель, гал...    444  \n",
       "2          12  космический корабль, приквел, спин-офф, контра...    621  \n",
       "3          16  бунтарь, космический корабль, космическое сраж...    416  "
      ]
     },
     "execution_count": 52,
     "metadata": {},
     "output_type": "execute_result"
    }
   ],
   "source": [
    "user_id = 148609\n",
    "df_inter[df_inter['user_id'] == user_id].merge(df_items)"
   ]
  },
  {
   "cell_type": "code",
   "execution_count": 53,
   "metadata": {},
   "outputs": [
    {
     "data": {
      "text/html": [
       "<div>\n",
       "<style scoped>\n",
       "    .dataframe tbody tr th:only-of-type {\n",
       "        vertical-align: middle;\n",
       "    }\n",
       "\n",
       "    .dataframe tbody tr th {\n",
       "        vertical-align: top;\n",
       "    }\n",
       "\n",
       "    .dataframe thead th {\n",
       "        text-align: right;\n",
       "    }\n",
       "</style>\n",
       "<table border=\"1\" class=\"dataframe\">\n",
       "  <thead>\n",
       "    <tr style=\"text-align: right;\">\n",
       "      <th></th>\n",
       "      <th>user_id</th>\n",
       "      <th>age</th>\n",
       "      <th>income</th>\n",
       "      <th>sex</th>\n",
       "      <th>kids_flg</th>\n",
       "    </tr>\n",
       "  </thead>\n",
       "  <tbody>\n",
       "    <tr>\n",
       "      <th>80881</th>\n",
       "      <td>148609</td>\n",
       "      <td>age_45_54</td>\n",
       "      <td>income_20_40</td>\n",
       "      <td>М</td>\n",
       "      <td>0</td>\n",
       "    </tr>\n",
       "  </tbody>\n",
       "</table>\n",
       "</div>"
      ],
      "text/plain": [
       "       user_id        age        income sex  kids_flg\n",
       "80881   148609  age_45_54  income_20_40   М         0"
      ]
     },
     "execution_count": 53,
     "metadata": {},
     "output_type": "execute_result"
    }
   ],
   "source": [
    "df_users[df_users['user_id'] == user_id]"
   ]
  },
  {
   "cell_type": "code",
   "execution_count": 56,
   "metadata": {},
   "outputs": [
    {
     "data": {
      "text/html": [
       "<div>\n",
       "<style scoped>\n",
       "    .dataframe tbody tr th:only-of-type {\n",
       "        vertical-align: middle;\n",
       "    }\n",
       "\n",
       "    .dataframe tbody tr th {\n",
       "        vertical-align: top;\n",
       "    }\n",
       "\n",
       "    .dataframe thead th {\n",
       "        text-align: right;\n",
       "    }\n",
       "</style>\n",
       "<table border=\"1\" class=\"dataframe\">\n",
       "  <thead>\n",
       "    <tr style=\"text-align: right;\">\n",
       "      <th></th>\n",
       "      <th>item_id</th>\n",
       "      <th>content_type</th>\n",
       "      <th>title</th>\n",
       "      <th>genres</th>\n",
       "      <th>age_rating</th>\n",
       "      <th>keywords</th>\n",
       "      <th>views</th>\n",
       "    </tr>\n",
       "  </thead>\n",
       "  <tbody>\n",
       "    <tr>\n",
       "      <th>0</th>\n",
       "      <td>1915</td>\n",
       "      <td>film</td>\n",
       "      <td>Трон: Наследие</td>\n",
       "      <td>боевики, фантастика, фэнтези</td>\n",
       "      <td>12</td>\n",
       "      <td>искусственный интеллект, секретная личность, к...</td>\n",
       "      <td>180</td>\n",
       "    </tr>\n",
       "    <tr>\n",
       "      <th>1</th>\n",
       "      <td>8821</td>\n",
       "      <td>film</td>\n",
       "      <td>Стражи Галактики. Часть 2</td>\n",
       "      <td>боевики, фантастика, приключения, комедии</td>\n",
       "      <td>16</td>\n",
       "      <td>продолжение, супергерой, основанный на комиксе...</td>\n",
       "      <td>1146</td>\n",
       "    </tr>\n",
       "    <tr>\n",
       "      <th>2</th>\n",
       "      <td>13865</td>\n",
       "      <td>film</td>\n",
       "      <td>Девятаев</td>\n",
       "      <td>драмы, военные, приключения</td>\n",
       "      <td>12</td>\n",
       "      <td>Девятаев, Девятаева, Девят, Девя, Девята, Девя...</td>\n",
       "      <td>28375</td>\n",
       "    </tr>\n",
       "    <tr>\n",
       "      <th>3</th>\n",
       "      <td>8980</td>\n",
       "      <td>film</td>\n",
       "      <td>Звёздные войны: Эпизод 4 — Новая надежда</td>\n",
       "      <td>боевики, фантастика, фэнтези, приключения</td>\n",
       "      <td>6</td>\n",
       "      <td>андроид, галактика, отшельник, звезда смерти, ...</td>\n",
       "      <td>458</td>\n",
       "    </tr>\n",
       "    <tr>\n",
       "      <th>4</th>\n",
       "      <td>3936</td>\n",
       "      <td>film</td>\n",
       "      <td>Звёздные войны: Скайуокер. Восход</td>\n",
       "      <td>боевики, фантастика, приключения</td>\n",
       "      <td>16</td>\n",
       "      <td>космическая сага, Аварийная посадка, Актер уме...</td>\n",
       "      <td>546</td>\n",
       "    </tr>\n",
       "  </tbody>\n",
       "</table>\n",
       "</div>"
      ],
      "text/plain": [
       "   item_id content_type                                     title  \\\n",
       "0     1915         film                            Трон: Наследие   \n",
       "1     8821         film                 Стражи Галактики. Часть 2   \n",
       "2    13865         film                                  Девятаев   \n",
       "3     8980         film  Звёздные войны: Эпизод 4 — Новая надежда   \n",
       "4     3936         film         Звёздные войны: Скайуокер. Восход   \n",
       "\n",
       "                                      genres  age_rating  \\\n",
       "0               боевики, фантастика, фэнтези          12   \n",
       "1  боевики, фантастика, приключения, комедии          16   \n",
       "2                драмы, военные, приключения          12   \n",
       "3  боевики, фантастика, фэнтези, приключения           6   \n",
       "4           боевики, фантастика, приключения          16   \n",
       "\n",
       "                                            keywords  views  \n",
       "0  искусственный интеллект, секретная личность, к...    180  \n",
       "1  продолжение, супергерой, основанный на комиксе...   1146  \n",
       "2  Девятаев, Девятаева, Девят, Девя, Девята, Девя...  28375  \n",
       "3  андроид, галактика, отшельник, звезда смерти, ...    458  \n",
       "4  космическая сага, Аварийная посадка, Актер уме...    546  "
      ]
     },
     "execution_count": 56,
     "metadata": {},
     "output_type": "execute_result"
    }
   ],
   "source": [
    "users_idx = torch.tensor([users_mapping[user_id]])\n",
    "with torch.no_grad():\n",
    "    recs = gnn_model.recommend(users_idx, data,\n",
    "        top_count=2000, k=20, model_device=device, faiss_device=faiss_device)\n",
    "    \n",
    "rec_ids = np.vectorize(movies_rev_mapping.get)(recs.squeeze())\n",
    "rec_df_idx = np.vectorize(movies_id_to_df_idx.get)(rec_ids)\n",
    "df_items.iloc[rec_df_idx].reset_index(drop=True).head()"
   ]
  },
  {
   "cell_type": "code",
   "execution_count": 57,
   "metadata": {},
   "outputs": [
    {
     "data": {
      "text/html": [
       "<div>\n",
       "<style scoped>\n",
       "    .dataframe tbody tr th:only-of-type {\n",
       "        vertical-align: middle;\n",
       "    }\n",
       "\n",
       "    .dataframe tbody tr th {\n",
       "        vertical-align: top;\n",
       "    }\n",
       "\n",
       "    .dataframe thead th {\n",
       "        text-align: right;\n",
       "    }\n",
       "</style>\n",
       "<table border=\"1\" class=\"dataframe\">\n",
       "  <thead>\n",
       "    <tr style=\"text-align: right;\">\n",
       "      <th></th>\n",
       "      <th>item_id</th>\n",
       "      <th>content_type</th>\n",
       "      <th>title</th>\n",
       "      <th>genres</th>\n",
       "      <th>age_rating</th>\n",
       "      <th>keywords</th>\n",
       "      <th>views</th>\n",
       "    </tr>\n",
       "  </thead>\n",
       "  <tbody>\n",
       "    <tr>\n",
       "      <th>0</th>\n",
       "      <td>1915</td>\n",
       "      <td>film</td>\n",
       "      <td>Трон: Наследие</td>\n",
       "      <td>боевики, фантастика, фэнтези</td>\n",
       "      <td>12</td>\n",
       "      <td>искусственный интеллект, секретная личность, к...</td>\n",
       "      <td>180</td>\n",
       "    </tr>\n",
       "    <tr>\n",
       "      <th>1</th>\n",
       "      <td>8821</td>\n",
       "      <td>film</td>\n",
       "      <td>Стражи Галактики. Часть 2</td>\n",
       "      <td>боевики, фантастика, приключения, комедии</td>\n",
       "      <td>16</td>\n",
       "      <td>продолжение, супергерой, основанный на комиксе...</td>\n",
       "      <td>1146</td>\n",
       "    </tr>\n",
       "    <tr>\n",
       "      <th>2</th>\n",
       "      <td>13865</td>\n",
       "      <td>film</td>\n",
       "      <td>Девятаев</td>\n",
       "      <td>драмы, военные, приключения</td>\n",
       "      <td>12</td>\n",
       "      <td>Девятаев, Девятаева, Девят, Девя, Девята, Девя...</td>\n",
       "      <td>28375</td>\n",
       "    </tr>\n",
       "    <tr>\n",
       "      <th>3</th>\n",
       "      <td>8980</td>\n",
       "      <td>film</td>\n",
       "      <td>Звёздные войны: Эпизод 4 — Новая надежда</td>\n",
       "      <td>боевики, фантастика, фэнтези, приключения</td>\n",
       "      <td>6</td>\n",
       "      <td>андроид, галактика, отшельник, звезда смерти, ...</td>\n",
       "      <td>458</td>\n",
       "    </tr>\n",
       "    <tr>\n",
       "      <th>4</th>\n",
       "      <td>3936</td>\n",
       "      <td>film</td>\n",
       "      <td>Звёздные войны: Скайуокер. Восход</td>\n",
       "      <td>боевики, фантастика, приключения</td>\n",
       "      <td>16</td>\n",
       "      <td>космическая сага, Аварийная посадка, Актер уме...</td>\n",
       "      <td>546</td>\n",
       "    </tr>\n",
       "    <tr>\n",
       "      <th>5</th>\n",
       "      <td>1785</td>\n",
       "      <td>film</td>\n",
       "      <td>Чёрная пантера</td>\n",
       "      <td>боевики, фантастика, приключения</td>\n",
       "      <td>16</td>\n",
       "      <td>африка, супергерой, по мотивам комиксов, 1990-...</td>\n",
       "      <td>1910</td>\n",
       "    </tr>\n",
       "    <tr>\n",
       "      <th>6</th>\n",
       "      <td>4927</td>\n",
       "      <td>film</td>\n",
       "      <td>День независимости: Возрождение</td>\n",
       "      <td>боевики, фантастика, приключения</td>\n",
       "      <td>12</td>\n",
       "      <td>инопланетянин, вторжение пришельцев, , 2010-е,...</td>\n",
       "      <td>403</td>\n",
       "    </tr>\n",
       "    <tr>\n",
       "      <th>7</th>\n",
       "      <td>6738</td>\n",
       "      <td>film</td>\n",
       "      <td>Человек-паук: Возвращение домой</td>\n",
       "      <td>боевики, популярное, фантастика, приключения</td>\n",
       "      <td>16</td>\n",
       "      <td>Нью-Йорк, Вашингтон, округ Колумбия, старшая ш...</td>\n",
       "      <td>667</td>\n",
       "    </tr>\n",
       "    <tr>\n",
       "      <th>8</th>\n",
       "      <td>15297</td>\n",
       "      <td>series</td>\n",
       "      <td>Клиника счастья</td>\n",
       "      <td>драмы, мелодрамы</td>\n",
       "      <td>18</td>\n",
       "      <td>Клиника счастья, Клиника, Счастье, Клиника сча...</td>\n",
       "      <td>37113</td>\n",
       "    </tr>\n",
       "    <tr>\n",
       "      <th>9</th>\n",
       "      <td>4774</td>\n",
       "      <td>film</td>\n",
       "      <td>Морской бой</td>\n",
       "      <td>боевики, фантастика, триллеры, приключения</td>\n",
       "      <td>12</td>\n",
       "      <td>борьба, военно-морской флот соединенных штатов...</td>\n",
       "      <td>761</td>\n",
       "    </tr>\n",
       "    <tr>\n",
       "      <th>10</th>\n",
       "      <td>12446</td>\n",
       "      <td>film</td>\n",
       "      <td>Звёздные войны: Последние джедаи</td>\n",
       "      <td>боевики, фантастика, приключения</td>\n",
       "      <td>16</td>\n",
       "      <td>бункер, космическая битва, провал, поражение, ...</td>\n",
       "      <td>352</td>\n",
       "    </tr>\n",
       "    <tr>\n",
       "      <th>11</th>\n",
       "      <td>10680</td>\n",
       "      <td>film</td>\n",
       "      <td>Дэдпул 2</td>\n",
       "      <td>боевики, фантастика, приключения, комедии</td>\n",
       "      <td>18</td>\n",
       "      <td>герой, мутант, наемник, сиквел, супергерой, ос...</td>\n",
       "      <td>625</td>\n",
       "    </tr>\n",
       "    <tr>\n",
       "      <th>12</th>\n",
       "      <td>15751</td>\n",
       "      <td>film</td>\n",
       "      <td>Александр</td>\n",
       "      <td>историческое, биография, приключения, драмы, в...</td>\n",
       "      <td>16</td>\n",
       "      <td>аристотель, египет, греция, персия, слон, камп...</td>\n",
       "      <td>128</td>\n",
       "    </tr>\n",
       "    <tr>\n",
       "      <th>13</th>\n",
       "      <td>8437</td>\n",
       "      <td>film</td>\n",
       "      <td>Капитан Марвел</td>\n",
       "      <td>боевики, фантастика</td>\n",
       "      <td>16</td>\n",
       "      <td>супергерой, основанный на комиксе, супергероин...</td>\n",
       "      <td>1228</td>\n",
       "    </tr>\n",
       "    <tr>\n",
       "      <th>14</th>\n",
       "      <td>11348</td>\n",
       "      <td>film</td>\n",
       "      <td>Пираты Карибского моря: Мертвецы не рассказыва...</td>\n",
       "      <td>боевики, фэнтези, приключения</td>\n",
       "      <td>16</td>\n",
       "      <td>море, корабль, сиквел, артефакт, карта сокрови...</td>\n",
       "      <td>1033</td>\n",
       "    </tr>\n",
       "    <tr>\n",
       "      <th>15</th>\n",
       "      <td>5754</td>\n",
       "      <td>film</td>\n",
       "      <td>Доктор Стрэндж</td>\n",
       "      <td>боевики, фантастика, фэнтези, приключения</td>\n",
       "      <td>16</td>\n",
       "      <td>магия, время, обучение, супергерой, по мотивам...</td>\n",
       "      <td>1163</td>\n",
       "    </tr>\n",
       "    <tr>\n",
       "      <th>16</th>\n",
       "      <td>7382</td>\n",
       "      <td>film</td>\n",
       "      <td>Люди Икс: Начало. Росомаха</td>\n",
       "      <td>боевики, фантастика, приключения</td>\n",
       "      <td>12</td>\n",
       "      <td>коррупция, мутант, боксер, армия, приквел, суп...</td>\n",
       "      <td>436</td>\n",
       "    </tr>\n",
       "    <tr>\n",
       "      <th>17</th>\n",
       "      <td>2852</td>\n",
       "      <td>film</td>\n",
       "      <td>Сквозь снег</td>\n",
       "      <td>боевики, драмы, фантастика</td>\n",
       "      <td>18</td>\n",
       "      <td>дистопия, постапокалиптическое будущее, поезд,...</td>\n",
       "      <td>1163</td>\n",
       "    </tr>\n",
       "    <tr>\n",
       "      <th>18</th>\n",
       "      <td>11912</td>\n",
       "      <td>film</td>\n",
       "      <td>Одиссея капитана Блада</td>\n",
       "      <td>боевики, историческое, приключения, мелодрамы</td>\n",
       "      <td>0</td>\n",
       "      <td>Ямайка, изгнание, губернатор, бой на мечах, из...</td>\n",
       "      <td>254</td>\n",
       "    </tr>\n",
       "    <tr>\n",
       "      <th>19</th>\n",
       "      <td>3587</td>\n",
       "      <td>film</td>\n",
       "      <td>Железный человек</td>\n",
       "      <td>боевики, фантастика, приключения</td>\n",
       "      <td>12</td>\n",
       "      <td>Ближний Восток, торговец оружием, Малибу, супе...</td>\n",
       "      <td>912</td>\n",
       "    </tr>\n",
       "  </tbody>\n",
       "</table>\n",
       "</div>"
      ],
      "text/plain": [
       "    item_id content_type                                              title  \\\n",
       "0      1915         film                                     Трон: Наследие   \n",
       "1      8821         film                          Стражи Галактики. Часть 2   \n",
       "2     13865         film                                           Девятаев   \n",
       "3      8980         film           Звёздные войны: Эпизод 4 — Новая надежда   \n",
       "4      3936         film                  Звёздные войны: Скайуокер. Восход   \n",
       "5      1785         film                                     Чёрная пантера   \n",
       "6      4927         film                    День независимости: Возрождение   \n",
       "7      6738         film                    Человек-паук: Возвращение домой   \n",
       "8     15297       series                                    Клиника счастья   \n",
       "9      4774         film                                        Морской бой   \n",
       "10    12446         film                   Звёздные войны: Последние джедаи   \n",
       "11    10680         film                                           Дэдпул 2   \n",
       "12    15751         film                                          Александр   \n",
       "13     8437         film                                     Капитан Марвел   \n",
       "14    11348         film  Пираты Карибского моря: Мертвецы не рассказыва...   \n",
       "15     5754         film                                     Доктор Стрэндж   \n",
       "16     7382         film                         Люди Икс: Начало. Росомаха   \n",
       "17     2852         film                                        Сквозь снег   \n",
       "18    11912         film                             Одиссея капитана Блада   \n",
       "19     3587         film                                   Железный человек   \n",
       "\n",
       "                                               genres  age_rating  \\\n",
       "0                        боевики, фантастика, фэнтези          12   \n",
       "1           боевики, фантастика, приключения, комедии          16   \n",
       "2                         драмы, военные, приключения          12   \n",
       "3           боевики, фантастика, фэнтези, приключения           6   \n",
       "4                    боевики, фантастика, приключения          16   \n",
       "5                    боевики, фантастика, приключения          16   \n",
       "6                    боевики, фантастика, приключения          12   \n",
       "7        боевики, популярное, фантастика, приключения          16   \n",
       "8                                    драмы, мелодрамы          18   \n",
       "9          боевики, фантастика, триллеры, приключения          12   \n",
       "10                   боевики, фантастика, приключения          16   \n",
       "11          боевики, фантастика, приключения, комедии          18   \n",
       "12  историческое, биография, приключения, драмы, в...          16   \n",
       "13                                боевики, фантастика          16   \n",
       "14                      боевики, фэнтези, приключения          16   \n",
       "15          боевики, фантастика, фэнтези, приключения          16   \n",
       "16                   боевики, фантастика, приключения          12   \n",
       "17                         боевики, драмы, фантастика          18   \n",
       "18      боевики, историческое, приключения, мелодрамы           0   \n",
       "19                   боевики, фантастика, приключения          12   \n",
       "\n",
       "                                             keywords  views  \n",
       "0   искусственный интеллект, секретная личность, к...    180  \n",
       "1   продолжение, супергерой, основанный на комиксе...   1146  \n",
       "2   Девятаев, Девятаева, Девят, Девя, Девята, Девя...  28375  \n",
       "3   андроид, галактика, отшельник, звезда смерти, ...    458  \n",
       "4   космическая сага, Аварийная посадка, Актер уме...    546  \n",
       "5   африка, супергерой, по мотивам комиксов, 1990-...   1910  \n",
       "6   инопланетянин, вторжение пришельцев, , 2010-е,...    403  \n",
       "7   Нью-Йорк, Вашингтон, округ Колумбия, старшая ш...    667  \n",
       "8   Клиника счастья, Клиника, Счастье, Клиника сча...  37113  \n",
       "9   борьба, военно-морской флот соединенных штатов...    761  \n",
       "10  бункер, космическая битва, провал, поражение, ...    352  \n",
       "11  герой, мутант, наемник, сиквел, супергерой, ос...    625  \n",
       "12  аристотель, египет, греция, персия, слон, камп...    128  \n",
       "13  супергерой, основанный на комиксе, супергероин...   1228  \n",
       "14  море, корабль, сиквел, артефакт, карта сокрови...   1033  \n",
       "15  магия, время, обучение, супергерой, по мотивам...   1163  \n",
       "16  коррупция, мутант, боксер, армия, приквел, суп...    436  \n",
       "17  дистопия, постапокалиптическое будущее, поезд,...   1163  \n",
       "18  Ямайка, изгнание, губернатор, бой на мечах, из...    254  \n",
       "19  Ближний Восток, торговец оружием, Малибу, супе...    912  "
      ]
     },
     "execution_count": 57,
     "metadata": {},
     "output_type": "execute_result"
    }
   ],
   "source": [
    "df_items.iloc[rec_df_idx].reset_index(drop=True)"
   ]
  }
 ],
 "metadata": {
  "kernelspec": {
   "display_name": "Python 3",
   "language": "python",
   "name": "python3"
  },
  "language_info": {
   "codemirror_mode": {
    "name": "ipython",
    "version": 3
   },
   "file_extension": ".py",
   "mimetype": "text/x-python",
   "name": "python",
   "nbconvert_exporter": "python",
   "pygments_lexer": "ipython3",
   "version": "3.11.9"
  }
 },
 "nbformat": 4,
 "nbformat_minor": 2
}
