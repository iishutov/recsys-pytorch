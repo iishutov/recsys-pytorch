{
 "cells": [
  {
   "cell_type": "code",
   "execution_count": 102,
   "metadata": {},
   "outputs": [],
   "source": [
    "# pip install pyg-lib -f https://data.pyg.org/whl/nightly/torch-2.1.0+cu121.html\n",
    "\n",
    "import torch\n",
    "from torch_geometric.data import HeteroData\n",
    "from torch_geometric import EdgeIndex\n",
    "from torch_geometric.loader import LinkNeighborLoader, NeighborLoader\n",
    "from torch_geometric.metrics import LinkPredMAP, LinkPredPrecision, LinkPredRecall\n",
    "\n",
    "from tqdm import tqdm\n",
    "# import os\n",
    "# os.environ['PYDEVD_DISABLE_FILE_VALIDATION']='1'\n",
    "# os.environ['KMP_DUPLICATE_LIB_OK']='True'\n",
    "\n",
    "device = torch.device('cuda' if torch.cuda.is_available() else 'cpu')"
   ]
  },
  {
   "cell_type": "markdown",
   "metadata": {},
   "source": [
    "## HeteroData, train/test loaders"
   ]
  },
  {
   "cell_type": "code",
   "execution_count": 28,
   "metadata": {},
   "outputs": [
    {
     "data": {
      "text/plain": [
       "HeteroData(\n",
       "  movie={ x=[11909, 200] },\n",
       "  user={ x=[448798, 14] },\n",
       "  (user, watched, movie)={\n",
       "    edge_index=[2, 1288996],\n",
       "    time=[1288996],\n",
       "  },\n",
       "  (movie, rev_watched, user)={\n",
       "    edge_index=[2, 1288996],\n",
       "    time=[1288996],\n",
       "  }\n",
       ")"
      ]
     },
     "execution_count": 28,
     "metadata": {},
     "output_type": "execute_result"
    }
   ],
   "source": [
    "from utils.data_transformation import data_to_heterograph\n",
    "\n",
    "data = data_to_heterograph('encoded_data.npz')\n",
    "data"
   ]
  },
  {
   "cell_type": "code",
   "execution_count": 30,
   "metadata": {},
   "outputs": [
    {
     "data": {
      "text/plain": [
       "0.0002411711540184161"
      ]
     },
     "execution_count": 30,
     "metadata": {},
     "output_type": "execute_result"
    }
   ],
   "source": [
    "# vary sparse interaction matrix\n",
    "1288996 / (11909 * 448798)"
   ]
  },
  {
   "cell_type": "markdown",
   "metadata": {},
   "source": [
    "## MetaPath2Vec"
   ]
  },
  {
   "cell_type": "code",
   "execution_count": 35,
   "metadata": {},
   "outputs": [],
   "source": [
    "from utils.node_representation import Metapath2Vec\n",
    "\n",
    "mp2v = Metapath2Vec(train_data.edge_index_dict, train_data.num_nodes_dict, device=device)\n",
    "mp2v.train()\n",
    "\n",
    "users_emb = mp2v.get_embeddings('user').numpy()\n",
    "movies_emb = mp2v.get_embeddings('movie').numpy()"
   ]
  },
  {
   "cell_type": "markdown",
   "metadata": {},
   "source": [
    "## GNN"
   ]
  },
  {
   "cell_type": "code",
   "execution_count": null,
   "metadata": {},
   "outputs": [],
   "source": [
    "data['user'].x = torch.cat([data['user'].x, users_emb], dim=1)\n",
    "data['movie'].x = torch.cat([data['movie'].x, movies_emb], dim=1)"
   ]
  },
  {
   "cell_type": "code",
   "execution_count": null,
   "metadata": {},
   "outputs": [],
   "source": [
    "from utils.model import GNN\n",
    "\n",
    "gnn_model = GNN(data.metadata(), hidden_channels=64, decoder='IP',\n",
    "                dropout_encoder_p=0.2, dropout_decoder_p=0.4)\n",
    "\n",
    "optimizer = torch.optim.Adam(gnn_model.parameters(), lr=0.01)\n",
    "\n",
    "# train()\n",
    "\n",
    "# test()"
   ]
  }
 ],
 "metadata": {
  "kernelspec": {
   "display_name": "Python 3",
   "language": "python",
   "name": "python3"
  },
  "language_info": {
   "codemirror_mode": {
    "name": "ipython",
    "version": 3
   },
   "file_extension": ".py",
   "mimetype": "text/x-python",
   "name": "python",
   "nbconvert_exporter": "python",
   "pygments_lexer": "ipython3",
   "version": "3.11.9"
  }
 },
 "nbformat": 4,
 "nbformat_minor": 2
}
