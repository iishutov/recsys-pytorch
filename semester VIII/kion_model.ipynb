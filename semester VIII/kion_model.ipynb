{
 "cells": [
  {
   "cell_type": "code",
   "execution_count": 27,
   "metadata": {},
   "outputs": [],
   "source": [
    "# pip install pyg-lib -f https://data.pyg.org/whl/nightly/torch-2.1.0+cu121.html\n",
    "\n",
    "import torch\n",
    "from torch.nn.functional import binary_cross_entropy_with_logits\n",
    "\n",
    "from torch_geometric import EdgeIndex\n",
    "from torch_geometric.utils import degree\n",
    "from torch_geometric.loader import LinkNeighborLoader, NeighborLoader\n",
    "from torch_geometric.nn import MIPSKNNIndex\n",
    "from torch_geometric.metrics import LinkPredMAP, LinkPredPrecision, LinkPredRecall\n",
    "\n",
    "from copy import deepcopy\n",
    "from tqdm import tqdm\n",
    "# import os\n",
    "# os.environ['PYDEVD_DISABLE_FILE_VALIDATION']='1'\n",
    "# os.environ['KMP_DUPLICATE_LIB_OK']='True'\n",
    "\n",
    "device = torch.device('cuda' if torch.cuda.is_available() else 'cpu')"
   ]
  },
  {
   "cell_type": "markdown",
   "metadata": {},
   "source": [
    "## HeteroData, train/test split"
   ]
  },
  {
   "cell_type": "code",
   "execution_count": 28,
   "metadata": {},
   "outputs": [
    {
     "data": {
      "text/plain": [
       "HeteroData(\n",
       "  movie={ x=[11909, 200] },\n",
       "  user={ x=[448798, 14] },\n",
       "  (user, watched, movie)={\n",
       "    edge_index=[2, 1288996],\n",
       "    time=[1288996],\n",
       "  },\n",
       "  (movie, rev_watched, user)={\n",
       "    edge_index=[2, 1288996],\n",
       "    time=[1288996],\n",
       "  }\n",
       ")"
      ]
     },
     "execution_count": 28,
     "metadata": {},
     "output_type": "execute_result"
    }
   ],
   "source": [
    "from utils.data_transformation import data_to_heterograph\n",
    "\n",
    "data = data_to_heterograph('encoded_data.npz', temporal_order=True)\n",
    "data"
   ]
  },
  {
   "cell_type": "code",
   "execution_count": 29,
   "metadata": {},
   "outputs": [
    {
     "data": {
      "text/plain": [
       "0.0002411711540184161"
      ]
     },
     "execution_count": 29,
     "metadata": {},
     "output_type": "execute_result"
    }
   ],
   "source": [
    "# vary sparse interaction matrix\n",
    "1288996 / (11909 * 448798)"
   ]
  },
  {
   "cell_type": "code",
   "execution_count": 30,
   "metadata": {},
   "outputs": [],
   "source": [
    "train_size = int(0.8 * data['user', 'movie'].num_edges)\n",
    "watch_threshold = 5\n",
    "\n",
    "edges = data['user', 'movie'].edge_index\n",
    "time = data['user', 'movie'].time\n",
    "\n",
    "loader_kwargs = dict(\n",
    "    data=data, batch_size=256,\n",
    "    num_neighbors=[5, 5, 5],\n",
    "    time_attr='time', temporal_strategy='last',\n",
    "    num_workers=0)\n",
    "\n",
    "train_loader = LinkNeighborLoader(\n",
    "    edge_label_index=(('user', 'movie'), edges[:, :train_size]),\n",
    "    edge_label_time=time[torch.arange(train_size)]-1,\n",
    "    neg_sampling=dict(mode='binary', amount=2),\n",
    "    shuffle=True,\n",
    "    **loader_kwargs)\n",
    "\n",
    "user_loader = NeighborLoader(\n",
    "    input_nodes='user',\n",
    "    input_time=(time[train_size:].min()-1).repeat(data['user'].num_nodes),\n",
    "    **loader_kwargs)\n",
    "\n",
    "movie_loader = NeighborLoader(\n",
    "    input_nodes='movie',\n",
    "    input_time=(time[train_size:].min()-1).repeat(data['movie'].num_nodes),\n",
    "    **loader_kwargs)\n",
    "\n",
    "sparse_size = data['user'].num_nodes, data['movie'].num_nodes\n",
    "train_edges = EdgeIndex(edges[:, :train_size].contiguous().to(device),\n",
    "                        sparse_size=sparse_size).sort_by('row').values\n",
    "test_edges = EdgeIndex(edges[:, train_size:].contiguous().to(device),\n",
    "                       sparse_size=sparse_size).sort_by('row').values\n",
    "\n",
    "is_test_node = degree(train_edges[0], num_nodes=data['user'].num_nodes) >= watch_threshold\n",
    "test_edges = test_edges[:, is_test_node[test_edges[0]]]\n",
    "train_edges = train_edges[:, is_test_node[train_edges[0]]]"
   ]
  },
  {
   "cell_type": "markdown",
   "metadata": {},
   "source": [
    "## MetaPath2Vec"
   ]
  },
  {
   "cell_type": "code",
   "execution_count": 35,
   "metadata": {},
   "outputs": [],
   "source": [
    "from utils.node_representation import Metapath2Vec\n",
    "\n",
    "train_edge_index_dict = {\n",
    "    ('user', 'watched', 'movie'):\n",
    "        data.edge_index_dict[('user', 'watched', 'movie')][:, :train_size],\n",
    "    ('movie', 'rev_watched', 'user'):\n",
    "        data.edge_index_dict[('movie', 'rev_watched', 'user')][:, :train_size]}\n",
    "\n",
    "mp2v = Metapath2Vec(train_edge_index_dict, data.num_nodes_dict, device=device)\n",
    "mp2v.train()\n",
    "\n",
    "users_emb = mp2v.get_embeddings('user').numpy()\n",
    "movies_emb = mp2v.get_embeddings('movie').numpy()"
   ]
  },
  {
   "cell_type": "markdown",
   "metadata": {},
   "source": [
    "## GNN"
   ]
  },
  {
   "cell_type": "code",
   "execution_count": null,
   "metadata": {},
   "outputs": [],
   "source": [
    "data['user'].x = torch.cat([data['user'].x, users_emb], dim=1)\n",
    "data['movie'].x = torch.cat([data['movie'].x, movies_emb], dim=1)"
   ]
  },
  {
   "cell_type": "code",
   "execution_count": null,
   "metadata": {},
   "outputs": [],
   "source": [
    "from utils.model import GNN\n",
    "\n",
    "gnn_model = GNN(data.metadata(), hidden_channels=64, decoder='IP',\n",
    "                dropout_encoder_p=0.2, dropout_decoder_p=0.4)\n",
    "\n",
    "optimizer = torch.optim.Adam(gnn_model.parameters(), lr=0.01)"
   ]
  },
  {
   "cell_type": "code",
   "execution_count": null,
   "metadata": {},
   "outputs": [],
   "source": [
    "from utils.data_transformation import sparse_batch_narrow\n",
    "\n",
    "def train():\n",
    "    gnn_model.train()\n",
    "    total_loss = total_examples = 0\n",
    "    for batch in tqdm(train_loader):\n",
    "        batch = batch.to(device)\n",
    "        batch_size = len(batch['user', 'movie'].edge_label)\n",
    "        optimizer.zero_grad()\n",
    "\n",
    "        out = gnn_model(batch.x_dict, batch.edge_index_dict,\n",
    "                        batch['user', 'movie'].edge_label_index)\n",
    "        target = batch['user', 'movie'].edge_label\n",
    "\n",
    "        loss = binary_cross_entropy_with_logits(out, target)\n",
    "        loss.backward(); optimizer.step()\n",
    "\n",
    "        total_loss += float(loss) * batch_size\n",
    "        total_examples += batch_size\n",
    "\n",
    "    return total_loss / total_examples\n",
    "\n",
    "@torch.no_grad()\n",
    "def test(k: int, test_edges: EdgeIndex, train_edges: EdgeIndex):\n",
    "    gnn_model.eval()\n",
    "    movie_embs = []\n",
    "    for batch in movie_loader:\n",
    "        batch = batch.to(device)\n",
    "        batch_size = batch['movie'].batch_size\n",
    "        batch_movie_embs = gnn_model.encoder(batch.x_dict, batch.edge_index_dict)\\\n",
    "            ['movie'][:batch_size].cpu()\n",
    "        movie_embs.append(batch_movie_embs)\n",
    "    \n",
    "    mipsknn = MIPSKNNIndex( torch.cat(movie_embs, dim=0) )\n",
    "    metrics = LinkPredMAP(k), LinkPredPrecision(k), LinkPredRecall(k)\n",
    "    users_infered = 0\n",
    "    for batch in user_loader:\n",
    "        batch = batch.to(device)\n",
    "        batch_size = batch['user'].batch_size\n",
    "        batch_user_embs = gnn_model.encoder(batch.x_dict, batch.edge_index_dict)\\\n",
    "            ['user'][:batch_size].cpu()\n",
    "        \n",
    "        batch_test_user_embs =\\\n",
    "            batch_user_embs[is_test_node[users_infered:users_infered+batch_size]]\n",
    "\n",
    "        batch_test_edges = sparse_batch_narrow(test_edges, users_infered, batch_size).cpu()\n",
    "        batch_train_edges = sparse_batch_narrow(train_edges, users_infered, batch_size).cpu()\n",
    "\n",
    "        top_indices_mat = mipsknn.search(batch_test_user_embs, k, exclude_links=batch_train_edges)[1]\n",
    "        for metric in metrics:\n",
    "            metric.update(top_indices_mat, batch_test_edges)\n",
    "\n",
    "        users_infered += batch_size\n",
    "\n",
    "    return tuple(float(metric.compute()) for metric in metrics)\n",
    "\n",
    "k = 10\n",
    "for epoch_num in range(1, 16):\n",
    "    loss = train()\n",
    "    print(f'Train: Epoch №{epoch_num:02d}, Loss: {loss:.4f}')\n",
    "    map, precision, recall = test(k, test_edges, train_edges)\n",
    "    print('Test@%d, MAP: %.4f, Precision: %.4f, Recall: %.4f' % k, map, precision, recall)"
   ]
  }
 ],
 "metadata": {
  "kernelspec": {
   "display_name": "Python 3",
   "language": "python",
   "name": "python3"
  },
  "language_info": {
   "codemirror_mode": {
    "name": "ipython",
    "version": 3
   },
   "file_extension": ".py",
   "mimetype": "text/x-python",
   "name": "python",
   "nbconvert_exporter": "python",
   "pygments_lexer": "ipython3",
   "version": "3.11.9"
  }
 },
 "nbformat": 4,
 "nbformat_minor": 2
}
