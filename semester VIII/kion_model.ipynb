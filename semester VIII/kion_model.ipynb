{
 "cells": [
  {
   "cell_type": "code",
   "execution_count": 1,
   "metadata": {},
   "outputs": [],
   "source": [
    "# cell for Google Colab ipynb opening\n",
    "\n",
    "## %%capture\n",
    "# !pip install torch-scatter torch-sparse torch-cluster torch-spline-conv torch-geometric -f https://pytorch-geometric.com/whl/torch-2.2.1+cu121.html\n",
    "# !pip install pyg-lib -f https://data.pyg.org/whl/nightly/torch-2.2.0+cu121.html\n",
    "# !pip install faiss-gpu"
   ]
  },
  {
   "cell_type": "code",
   "execution_count": 1,
   "metadata": {},
   "outputs": [],
   "source": [
    "import numpy as np\n",
    "import pandas as pd\n",
    "import torch\n",
    "\n",
    "from torch_geometric import EdgeIndex\n",
    "from torch_geometric.utils import degree\n",
    "from torch_geometric.loader import LinkNeighborLoader, NeighborLoader\n",
    "from torch_geometric.nn import MIPSKNNIndex\n",
    "from torch_geometric.metrics import LinkPredMAP, LinkPredPrecision, LinkPredRecall\n",
    "from torch_geometric.nn.models.lightgcn import BPRLoss\n",
    "\n",
    "from tqdm import tqdm\n",
    "import os\n",
    "os.environ['PYDEVD_DISABLE_FILE_VALIDATION']='1'\n",
    "os.environ['KMP_DUPLICATE_LIB_OK']='True'\n",
    "\n",
    "from utils.model import GNN\n",
    "\n",
    "device = torch.device('cuda' if torch.cuda.is_available() else 'cpu')\n",
    "faiss_device = torch.device('cpu') # 'cuda' for Colab, 'cpu' for my Windows laptop"
   ]
  },
  {
   "cell_type": "markdown",
   "metadata": {},
   "source": [
    "## HeteroData, train/test split"
   ]
  },
  {
   "cell_type": "code",
   "execution_count": 2,
   "metadata": {},
   "outputs": [
    {
     "data": {
      "text/plain": [
       "HeteroData(\n",
       "  movie={ x=[15008, 202] },\n",
       "  user={ x=[744288, 14] },\n",
       "  (user, watched, movie)={\n",
       "    edge_index=[2, 4424477],\n",
       "    time=[4424477],\n",
       "  },\n",
       "  (movie, rev_watched, user)={\n",
       "    edge_index=[2, 4424477],\n",
       "    time=[4424477],\n",
       "  }\n",
       ")"
      ]
     },
     "execution_count": 2,
     "metadata": {},
     "output_type": "execute_result"
    }
   ],
   "source": [
    "from utils.data_transformation import data_to_heterograph\n",
    "\n",
    "data, users_rev_mapping, movies_rev_mapping = data_to_heterograph('encoded_data.npz')\n",
    "data"
   ]
  },
  {
   "cell_type": "code",
   "execution_count": 3,
   "metadata": {},
   "outputs": [
    {
     "data": {
      "text/plain": [
       "0.0003960938540619029"
      ]
     },
     "execution_count": 3,
     "metadata": {},
     "output_type": "execute_result"
    }
   ],
   "source": [
    "# sparse interaction matrix\n",
    "4424477 / (15008 * 744288)"
   ]
  },
  {
   "cell_type": "code",
   "execution_count": 4,
   "metadata": {},
   "outputs": [],
   "source": [
    "train_ratio = 0.8\n",
    "train_size = int(train_ratio * data['user', 'movie'].num_edges)\n",
    "watch_threshold = 5\n",
    "\n",
    "edges = data['user', 'movie'].edge_index\n",
    "time = data['user', 'movie'].time\n",
    "\n",
    "loader_kwargs = dict(\n",
    "    data=data, batch_size=1024,\n",
    "    num_neighbors=[5, 5, 5],\n",
    "    time_attr='time', temporal_strategy='last',\n",
    "    num_workers=4)\n",
    "\n",
    "train_loader = LinkNeighborLoader(\n",
    "    edge_label_index=(('user', 'movie'), edges[:, :train_size]),\n",
    "    edge_label_time=time[torch.arange(train_size)]-1,\n",
    "    neg_sampling=dict(mode='binary', amount=1),\n",
    "    shuffle=True,\n",
    "    **loader_kwargs)\n",
    "\n",
    "user_loader = NeighborLoader(\n",
    "    input_nodes='user',\n",
    "    input_time=(time[train_size]-1).repeat(data['user'].num_nodes),\n",
    "    **loader_kwargs)\n",
    "\n",
    "movie_loader = NeighborLoader(\n",
    "    input_nodes='movie',\n",
    "    input_time=(time[train_size]-1).repeat(data['movie'].num_nodes),\n",
    "    **loader_kwargs)\n",
    "\n",
    "sparse_size = data['user'].num_nodes, data['movie'].num_nodes\n",
    "train_edges = EdgeIndex(edges[:, :train_size].contiguous().to(device),\n",
    "                        sparse_size=sparse_size).sort_by('row').values\n",
    "test_edges = EdgeIndex(edges[:, train_size:].contiguous().to(device),\n",
    "                       sparse_size=sparse_size).sort_by('row').values\n",
    "\n",
    "is_test_node = degree(train_edges[0], num_nodes=data['user'].num_nodes) >= watch_threshold\n",
    "\n",
    "test_edges = test_edges[:, is_test_node[test_edges[0]]]\n",
    "train_edges = train_edges[:, is_test_node[train_edges[0]]]"
   ]
  },
  {
   "cell_type": "markdown",
   "metadata": {},
   "source": [
    "## GNN"
   ]
  },
  {
   "cell_type": "code",
   "execution_count": 7,
   "metadata": {},
   "outputs": [],
   "source": [
    "gnn_model = GNN(num_layers=3, hidden_channels=64).to(device)\n",
    "optimizer = torch.optim.Adam(gnn_model.parameters(), lr=0.005, weight_decay=1e-4)\n",
    "bpr_loss = BPRLoss()"
   ]
  },
  {
   "cell_type": "code",
   "execution_count": 8,
   "metadata": {},
   "outputs": [
    {
     "name": "stderr",
     "output_type": "stream",
     "text": [
      "  0%|          | 0/3457 [00:00<?, ?it/s]"
     ]
    },
    {
     "name": "stderr",
     "output_type": "stream",
     "text": [
      "100%|██████████| 3457/3457 [07:48<00:00,  7.38it/s]\n"
     ]
    },
    {
     "name": "stdout",
     "output_type": "stream",
     "text": [
      "Train: Epoch №01, Loss: 0.1225\n",
      "Test@20, MAP: 0.0304, Precision: 0.0192, Recall: 0.1208\n"
     ]
    },
    {
     "name": "stderr",
     "output_type": "stream",
     "text": [
      "100%|██████████| 3457/3457 [07:52<00:00,  7.31it/s]\n"
     ]
    },
    {
     "name": "stdout",
     "output_type": "stream",
     "text": [
      "Train: Epoch №02, Loss: 0.1056\n",
      "Test@20, MAP: 0.0380, Precision: 0.0199, Recall: 0.1241\n"
     ]
    },
    {
     "name": "stderr",
     "output_type": "stream",
     "text": [
      "100%|██████████| 3457/3457 [07:55<00:00,  7.28it/s]\n"
     ]
    },
    {
     "name": "stdout",
     "output_type": "stream",
     "text": [
      "Train: Epoch №03, Loss: 0.1031\n",
      "Test@20, MAP: 0.0310, Precision: 0.0197, Recall: 0.1224\n"
     ]
    },
    {
     "name": "stderr",
     "output_type": "stream",
     "text": [
      "100%|██████████| 3457/3457 [07:50<00:00,  7.34it/s]\n"
     ]
    },
    {
     "name": "stdout",
     "output_type": "stream",
     "text": [
      "Train: Epoch №04, Loss: 0.1020\n",
      "Test@20, MAP: 0.0305, Precision: 0.0199, Recall: 0.1222\n"
     ]
    },
    {
     "name": "stderr",
     "output_type": "stream",
     "text": [
      "100%|██████████| 3457/3457 [07:35<00:00,  7.59it/s]\n"
     ]
    },
    {
     "name": "stdout",
     "output_type": "stream",
     "text": [
      "Train: Epoch №05, Loss: 0.1014\n",
      "Test@20, MAP: 0.0329, Precision: 0.0197, Recall: 0.1205\n"
     ]
    },
    {
     "name": "stderr",
     "output_type": "stream",
     "text": [
      "100%|██████████| 3457/3457 [07:56<00:00,  7.25it/s]\n"
     ]
    },
    {
     "name": "stdout",
     "output_type": "stream",
     "text": [
      "Train: Epoch №06, Loss: 0.1010\n",
      "Test@20, MAP: 0.0389, Precision: 0.0204, Recall: 0.1274\n"
     ]
    },
    {
     "name": "stderr",
     "output_type": "stream",
     "text": [
      "100%|██████████| 3457/3457 [07:44<00:00,  7.44it/s]\n"
     ]
    },
    {
     "name": "stdout",
     "output_type": "stream",
     "text": [
      "Train: Epoch №07, Loss: 0.1002\n",
      "Test@20, MAP: 0.0323, Precision: 0.0195, Recall: 0.1175\n"
     ]
    },
    {
     "name": "stderr",
     "output_type": "stream",
     "text": [
      "100%|██████████| 3457/3457 [07:30<00:00,  7.68it/s]\n"
     ]
    },
    {
     "name": "stdout",
     "output_type": "stream",
     "text": [
      "Train: Epoch №08, Loss: 0.0999\n",
      "Test@20, MAP: 0.0302, Precision: 0.0195, Recall: 0.1219\n"
     ]
    },
    {
     "name": "stderr",
     "output_type": "stream",
     "text": [
      " 47%|████▋     | 1610/3457 [03:32<04:04,  7.56it/s]"
     ]
    },
    {
     "name": "stdout",
     "output_type": "stream",
     "text": [
      "--KeyboardInterrupt--\n"
     ]
    },
    {
     "name": "stderr",
     "output_type": "stream",
     "text": [
      "\n"
     ]
    }
   ],
   "source": [
    "from utils.data_transformation import sparse_batch_narrow\n",
    "\n",
    "def train():\n",
    "    gnn_model.train()\n",
    "    total_loss = total_examples = 0\n",
    "    for batch in tqdm(train_loader):\n",
    "        batch = batch.to(device)\n",
    "        batch_size = len(batch['user', 'movie'].input_id)\n",
    "        optimizer.zero_grad()\n",
    "\n",
    "        out = gnn_model(batch.x_dict, batch.edge_index_dict,\n",
    "                        batch['user', 'movie'].edge_label_index)\n",
    "\n",
    "        loss = bpr_loss(out[:batch_size], out[batch_size:])\n",
    "        loss.backward(); optimizer.step()\n",
    "\n",
    "        total_loss += float(loss) * batch_size\n",
    "        total_examples += batch_size\n",
    "\n",
    "    return total_loss / total_examples\n",
    "\n",
    "@torch.no_grad()\n",
    "def test(test_edges: EdgeIndex, train_edges: EdgeIndex, k: int, top_count: int = None):\n",
    "    gnn_model.eval()\n",
    "    movie_embs = gnn_model.get_movies_embeddings(movie_loader, device)\n",
    "\n",
    "    if top_count is None:\n",
    "        movie_embs = torch.cat(movie_embs, dim=0)\n",
    "    else:\n",
    "        test_edges[1, test_edges[1] >= top_count] = top_count\n",
    "        train_edges[1, train_edges[1] >= top_count] = top_count\n",
    "        emb_size = movie_embs[0].size()[1]\n",
    "        movie_embs.append(torch.zeros((1, emb_size), device=device))\n",
    "        movie_embs = torch.cat(movie_embs, dim=0)\n",
    "        top_indices = list(range(top_count)) + [len(movie_embs)-1]\n",
    "        movie_embs = movie_embs[top_indices]\n",
    "    \n",
    "    mipsknn = MIPSKNNIndex(movie_embs.to(faiss_device))\n",
    "    metrics = LinkPredMAP(k), LinkPredPrecision(k), LinkPredRecall(k)\n",
    "    users_infered = 0\n",
    "    for batch in user_loader:\n",
    "        batch = batch.to(device)\n",
    "        batch_size = batch['user'].batch_size\n",
    "        batch_user_embs = gnn_model.encoder(batch.x_dict, batch.edge_index_dict)\\\n",
    "            ['user'][:batch_size]\n",
    "        \n",
    "        batch_test_user_embs =\\\n",
    "            batch_user_embs[is_test_node[users_infered:users_infered+batch_size]].to(faiss_device)\n",
    "\n",
    "        batch_test_edges = sparse_batch_narrow(test_edges, users_infered, batch_size)\n",
    "        batch_train_edges = sparse_batch_narrow(train_edges, users_infered, batch_size).to(faiss_device)\n",
    "\n",
    "        top_indices_mat = mipsknn.search(batch_test_user_embs, k, exclude_links=batch_train_edges)[1]\n",
    "        for metric in metrics:\n",
    "            metric.update(top_indices_mat.cpu(), batch_test_edges)\n",
    "\n",
    "        users_infered += batch_size\n",
    "\n",
    "    return tuple(float(metric.compute()) for metric in metrics)\n",
    "\n",
    "k = 20\n",
    "metrics_list = []\n",
    "try:\n",
    "    for epoch_num in range(1, 30):\n",
    "        loss = train()\n",
    "        print(f'Train: Epoch №{epoch_num:02d}, Loss: {loss:.4f}')\n",
    "        map, precision, recall = test(test_edges, train_edges, k=20, top_count=2000)\n",
    "        print('Test@%d, MAP: %.4f, Precision: %.4f, Recall: %.4f' % (k, map, precision, recall))\n",
    "        metrics_list.append([loss, map, precision, recall])\n",
    "\n",
    "except KeyboardInterrupt:\n",
    "  print('--KeyboardInterrupt--')"
   ]
  },
  {
   "cell_type": "code",
   "execution_count": 137,
   "metadata": {},
   "outputs": [],
   "source": [
    "torch.save(gnn_model.state_dict(), './gnn_state.pt')"
   ]
  },
  {
   "cell_type": "markdown",
   "metadata": {},
   "source": [
    "## Example of making recommendations by Graph Neural Network"
   ]
  },
  {
   "cell_type": "code",
   "execution_count": 5,
   "metadata": {},
   "outputs": [],
   "source": [
    "%%capture\n",
    "gnn_model = GNN(num_layers=3, hidden_channels=64)\n",
    "gnn_model.load_state_dict(torch.load('./gnn_state.pt'))\n",
    "gnn_model.to(device)"
   ]
  },
  {
   "cell_type": "code",
   "execution_count": 6,
   "metadata": {},
   "outputs": [],
   "source": [
    "df_inter = pd.read_csv('processed_data/interactions.csv')\n",
    "df_items = pd.read_csv('processed_data/items.csv')\n",
    "df_users = pd.read_csv('processed_data/users.csv')"
   ]
  },
  {
   "cell_type": "code",
   "execution_count": 40,
   "metadata": {},
   "outputs": [
    {
     "data": {
      "text/html": [
       "<div>\n",
       "<style scoped>\n",
       "    .dataframe tbody tr th:only-of-type {\n",
       "        vertical-align: middle;\n",
       "    }\n",
       "\n",
       "    .dataframe tbody tr th {\n",
       "        vertical-align: top;\n",
       "    }\n",
       "\n",
       "    .dataframe thead th {\n",
       "        text-align: right;\n",
       "    }\n",
       "</style>\n",
       "<table border=\"1\" class=\"dataframe\">\n",
       "  <thead>\n",
       "    <tr style=\"text-align: right;\">\n",
       "      <th></th>\n",
       "      <th>user_id</th>\n",
       "      <th>item_id</th>\n",
       "      <th>last_watch_dt</th>\n",
       "      <th>watched_pct</th>\n",
       "      <th>content_type</th>\n",
       "      <th>title</th>\n",
       "      <th>genres</th>\n",
       "      <th>age_rating</th>\n",
       "      <th>keywords</th>\n",
       "      <th>views</th>\n",
       "    </tr>\n",
       "  </thead>\n",
       "  <tbody>\n",
       "    <tr>\n",
       "      <th>0</th>\n",
       "      <td>6343</td>\n",
       "      <td>13867</td>\n",
       "      <td>2021-07-26</td>\n",
       "      <td>100.0</td>\n",
       "      <td>film</td>\n",
       "      <td>Рио</td>\n",
       "      <td>мультфильм, криминал, приключения, мюзиклы, ко...</td>\n",
       "      <td>0</td>\n",
       "      <td>домашнее животное, птица, попугай, мюзикл, кан...</td>\n",
       "      <td>2074</td>\n",
       "    </tr>\n",
       "    <tr>\n",
       "      <th>1</th>\n",
       "      <td>6343</td>\n",
       "      <td>15568</td>\n",
       "      <td>2021-07-26</td>\n",
       "      <td>100.0</td>\n",
       "      <td>film</td>\n",
       "      <td>Как поймать перо Жар-Птицы</td>\n",
       "      <td>мультфильм, фэнтези</td>\n",
       "      <td>0</td>\n",
       "      <td>2013, россия, как, поймать, перо, жар, птицы</td>\n",
       "      <td>853</td>\n",
       "    </tr>\n",
       "    <tr>\n",
       "      <th>2</th>\n",
       "      <td>6343</td>\n",
       "      <td>85</td>\n",
       "      <td>2021-07-29</td>\n",
       "      <td>13.0</td>\n",
       "      <td>film</td>\n",
       "      <td>Турбо</td>\n",
       "      <td>мультфильм, приключения, спорт, фантастика, ко...</td>\n",
       "      <td>0</td>\n",
       "      <td>аутсайдер, гоночный автомобиль, мечта, скорост...</td>\n",
       "      <td>914</td>\n",
       "    </tr>\n",
       "    <tr>\n",
       "      <th>3</th>\n",
       "      <td>6343</td>\n",
       "      <td>7310</td>\n",
       "      <td>2021-07-29</td>\n",
       "      <td>27.0</td>\n",
       "      <td>film</td>\n",
       "      <td>Гадкий я 2</td>\n",
       "      <td>мультфильм, приключения, фантастика, фэнтези, ...</td>\n",
       "      <td>0</td>\n",
       "      <td>отношения родитель-ребенок, секретный агент, п...</td>\n",
       "      <td>3289</td>\n",
       "    </tr>\n",
       "    <tr>\n",
       "      <th>4</th>\n",
       "      <td>6343</td>\n",
       "      <td>565</td>\n",
       "      <td>2021-08-02</td>\n",
       "      <td>34.0</td>\n",
       "      <td>film</td>\n",
       "      <td>Ледниковый период 3: Эра динозавров</td>\n",
       "      <td>мультфильм, приключения, комедии</td>\n",
       "      <td>0</td>\n",
       "      <td>ледниковый период, мост, безумие, джунгли, дин...</td>\n",
       "      <td>2687</td>\n",
       "    </tr>\n",
       "  </tbody>\n",
       "</table>\n",
       "</div>"
      ],
      "text/plain": [
       "   user_id  item_id last_watch_dt  watched_pct content_type  \\\n",
       "0     6343    13867    2021-07-26        100.0         film   \n",
       "1     6343    15568    2021-07-26        100.0         film   \n",
       "2     6343       85    2021-07-29         13.0         film   \n",
       "3     6343     7310    2021-07-29         27.0         film   \n",
       "4     6343      565    2021-08-02         34.0         film   \n",
       "\n",
       "                                 title  \\\n",
       "0                                  Рио   \n",
       "1           Как поймать перо Жар-Птицы   \n",
       "2                                Турбо   \n",
       "3                           Гадкий я 2   \n",
       "4  Ледниковый период 3: Эра динозавров   \n",
       "\n",
       "                                              genres  age_rating  \\\n",
       "0  мультфильм, криминал, приключения, мюзиклы, ко...           0   \n",
       "1                                мультфильм, фэнтези           0   \n",
       "2  мультфильм, приключения, спорт, фантастика, ко...           0   \n",
       "3  мультфильм, приключения, фантастика, фэнтези, ...           0   \n",
       "4                   мультфильм, приключения, комедии           0   \n",
       "\n",
       "                                            keywords  views  \n",
       "0  домашнее животное, птица, попугай, мюзикл, кан...   2074  \n",
       "1       2013, россия, как, поймать, перо, жар, птицы    853  \n",
       "2  аутсайдер, гоночный автомобиль, мечта, скорост...    914  \n",
       "3  отношения родитель-ребенок, секретный агент, п...   3289  \n",
       "4  ледниковый период, мост, безумие, джунгли, дин...   2687  "
      ]
     },
     "execution_count": 40,
     "metadata": {},
     "output_type": "execute_result"
    }
   ],
   "source": [
    "user_id = 6343\n",
    "df_inter[df_inter['user_id'] == user_id].merge(df_items)"
   ]
  },
  {
   "cell_type": "code",
   "execution_count": 41,
   "metadata": {},
   "outputs": [
    {
     "data": {
      "text/html": [
       "<div>\n",
       "<style scoped>\n",
       "    .dataframe tbody tr th:only-of-type {\n",
       "        vertical-align: middle;\n",
       "    }\n",
       "\n",
       "    .dataframe tbody tr th {\n",
       "        vertical-align: top;\n",
       "    }\n",
       "\n",
       "    .dataframe thead th {\n",
       "        text-align: right;\n",
       "    }\n",
       "</style>\n",
       "<table border=\"1\" class=\"dataframe\">\n",
       "  <thead>\n",
       "    <tr style=\"text-align: right;\">\n",
       "      <th></th>\n",
       "      <th>user_id</th>\n",
       "      <th>age</th>\n",
       "      <th>income</th>\n",
       "      <th>sex</th>\n",
       "      <th>kids_flg</th>\n",
       "    </tr>\n",
       "  </thead>\n",
       "  <tbody>\n",
       "    <tr>\n",
       "      <th>543304</th>\n",
       "      <td>6343</td>\n",
       "      <td>age_25_34</td>\n",
       "      <td>income_40_60</td>\n",
       "      <td>Ж</td>\n",
       "      <td>0</td>\n",
       "    </tr>\n",
       "  </tbody>\n",
       "</table>\n",
       "</div>"
      ],
      "text/plain": [
       "        user_id        age        income sex  kids_flg\n",
       "543304     6343  age_25_34  income_40_60   Ж         0"
      ]
     },
     "execution_count": 41,
     "metadata": {},
     "output_type": "execute_result"
    }
   ],
   "source": [
    "df_users[df_users['user_id'] == user_id]"
   ]
  },
  {
   "cell_type": "code",
   "execution_count": 42,
   "metadata": {},
   "outputs": [],
   "source": [
    "users_mapping = {user_id: idx for idx, user_id in users_rev_mapping.items()}\n",
    "movies_mapping = {movie_id: idx for idx, movie_id in movies_rev_mapping.items()}\n",
    "movies_id_to_df_idx = {movie_id: df_idx for df_idx, movie_id in df_items['item_id'].items()}"
   ]
  },
  {
   "cell_type": "code",
   "execution_count": 43,
   "metadata": {},
   "outputs": [],
   "source": [
    "top_count, k = 1000, 20\n",
    "with torch.no_grad():\n",
    "    gnn_model.eval()\n",
    "    movie_embs = gnn_model.get_movies_embeddings(movie_loader, device)\n",
    "    movie_embs = torch.cat(movie_embs, dim=0).to(faiss_device)\n",
    "    if top_count is not None:\n",
    "        movie_embs = movie_embs[:top_count]\n",
    "\n",
    "    mipsknn = MIPSKNNIndex(movie_embs)\n",
    "\n",
    "    user_neighbors_loader = NeighborLoader(\n",
    "    data=data,\n",
    "    num_neighbors=[5, 5, 5],\n",
    "    time_attr='time', temporal_strategy='last',\n",
    "    input_nodes=('user', torch.tensor([users_mapping[user_id]])),\n",
    "    input_time=(time[train_size]-1).repeat(1))\n",
    "\n",
    "    batch = next(iter(user_neighbors_loader)).to(device)\n",
    "    user_emb = gnn_model.encoder(batch.x_dict, batch.edge_index_dict)\\\n",
    "        ['user'][0].unsqueeze(0).to(faiss_device)\n",
    "    \n",
    "    user_edges_mask = (train_edges[0] == users_mapping[user_id]) & (train_edges[1] < top_count)\n",
    "    user_train_edges = train_edges[:, user_edges_mask].to(faiss_device)\n",
    "    user_train_edges[0, :] = torch.zeros(user_train_edges.size()[1])\n",
    "\n",
    "    top_indices_mat = mipsknn.search(user_emb, k, exclude_links=user_train_edges)[1]"
   ]
  },
  {
   "cell_type": "code",
   "execution_count": 44,
   "metadata": {},
   "outputs": [
    {
     "data": {
      "text/html": [
       "<div>\n",
       "<style scoped>\n",
       "    .dataframe tbody tr th:only-of-type {\n",
       "        vertical-align: middle;\n",
       "    }\n",
       "\n",
       "    .dataframe tbody tr th {\n",
       "        vertical-align: top;\n",
       "    }\n",
       "\n",
       "    .dataframe thead th {\n",
       "        text-align: right;\n",
       "    }\n",
       "</style>\n",
       "<table border=\"1\" class=\"dataframe\">\n",
       "  <thead>\n",
       "    <tr style=\"text-align: right;\">\n",
       "      <th></th>\n",
       "      <th>item_id</th>\n",
       "      <th>content_type</th>\n",
       "      <th>title</th>\n",
       "      <th>genres</th>\n",
       "      <th>age_rating</th>\n",
       "      <th>keywords</th>\n",
       "      <th>views</th>\n",
       "    </tr>\n",
       "  </thead>\n",
       "  <tbody>\n",
       "    <tr>\n",
       "      <th>0</th>\n",
       "      <td>12743</td>\n",
       "      <td>film</td>\n",
       "      <td>Ледниковый период 4: Континентальный дрейф</td>\n",
       "      <td>мультфильм, приключения, комедии</td>\n",
       "      <td>0</td>\n",
       "      <td>тюлень (животное), доисторические времена, таю...</td>\n",
       "      <td>5410</td>\n",
       "    </tr>\n",
       "    <tr>\n",
       "      <th>1</th>\n",
       "      <td>12988</td>\n",
       "      <td>film</td>\n",
       "      <td>Гномео и Джульетта</td>\n",
       "      <td>мелодрамы, мультфильм, приключения, комедии</td>\n",
       "      <td>0</td>\n",
       "      <td>сад, запретная любовь, поцелуй, садовый гном, ...</td>\n",
       "      <td>1826</td>\n",
       "    </tr>\n",
       "    <tr>\n",
       "      <th>2</th>\n",
       "      <td>14942</td>\n",
       "      <td>film</td>\n",
       "      <td>История игрушек: Большой побег</td>\n",
       "      <td>мультфильм, фэнтези, комедии</td>\n",
       "      <td>6</td>\n",
       "      <td>заложник, колледж, игрушка, побег, детский сад...</td>\n",
       "      <td>2525</td>\n",
       "    </tr>\n",
       "    <tr>\n",
       "      <th>3</th>\n",
       "      <td>16270</td>\n",
       "      <td>film</td>\n",
       "      <td>Тайна Коко</td>\n",
       "      <td>мультфильм, фэнтези, приключения</td>\n",
       "      <td>12</td>\n",
       "      <td>Мексика, гитара, музыкант, скелет, музыка, заг...</td>\n",
       "      <td>6201</td>\n",
       "    </tr>\n",
       "    <tr>\n",
       "      <th>4</th>\n",
       "      <td>6774</td>\n",
       "      <td>film</td>\n",
       "      <td>Тачки 2</td>\n",
       "      <td>мультфильм, комедии</td>\n",
       "      <td>0</td>\n",
       "      <td>автомобильная гонка, продолжение, антропоморфи...</td>\n",
       "      <td>3287</td>\n",
       "    </tr>\n",
       "  </tbody>\n",
       "</table>\n",
       "</div>"
      ],
      "text/plain": [
       "   item_id content_type                                       title  \\\n",
       "0    12743         film  Ледниковый период 4: Континентальный дрейф   \n",
       "1    12988         film                          Гномео и Джульетта   \n",
       "2    14942         film              История игрушек: Большой побег   \n",
       "3    16270         film                                  Тайна Коко   \n",
       "4     6774         film                                     Тачки 2   \n",
       "\n",
       "                                        genres  age_rating  \\\n",
       "0             мультфильм, приключения, комедии           0   \n",
       "1  мелодрамы, мультфильм, приключения, комедии           0   \n",
       "2                 мультфильм, фэнтези, комедии           6   \n",
       "3             мультфильм, фэнтези, приключения          12   \n",
       "4                          мультфильм, комедии           0   \n",
       "\n",
       "                                            keywords  views  \n",
       "0  тюлень (животное), доисторические времена, таю...   5410  \n",
       "1  сад, запретная любовь, поцелуй, садовый гном, ...   1826  \n",
       "2  заложник, колледж, игрушка, побег, детский сад...   2525  \n",
       "3  Мексика, гитара, музыкант, скелет, музыка, заг...   6201  \n",
       "4  автомобильная гонка, продолжение, антропоморфи...   3287  "
      ]
     },
     "execution_count": 44,
     "metadata": {},
     "output_type": "execute_result"
    }
   ],
   "source": [
    "rec_ids = np.vectorize(movies_rev_mapping.get)(top_indices_mat.squeeze())\n",
    "rec_df_idx = np.vectorize(movies_id_to_df_idx.get)(rec_ids)\n",
    "df_items.iloc[rec_df_idx].head().reset_index(drop=True)"
   ]
  }
 ],
 "metadata": {
  "kernelspec": {
   "display_name": "Python 3",
   "language": "python",
   "name": "python3"
  },
  "language_info": {
   "codemirror_mode": {
    "name": "ipython",
    "version": 3
   },
   "file_extension": ".py",
   "mimetype": "text/x-python",
   "name": "python",
   "nbconvert_exporter": "python",
   "pygments_lexer": "ipython3",
   "version": "3.11.9"
  }
 },
 "nbformat": 4,
 "nbformat_minor": 2
}
