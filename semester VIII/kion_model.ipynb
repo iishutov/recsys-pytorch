{
 "cells": [
  {
   "cell_type": "code",
   "execution_count": 1,
   "metadata": {},
   "outputs": [],
   "source": [
    "import numpy as np\n",
    "import pandas as pd\n",
    "import matplotlib.pyplot as plt\n",
    "from copy import deepcopy\n",
    "\n",
    "import torch\n",
    "from torch_geometric import EdgeIndex\n",
    "from torch_geometric.utils import degree\n",
    "from torch_geometric.loader import LinkNeighborLoader, NeighborLoader\n",
    "from torch_geometric.nn import MIPSKNNIndex\n",
    "from torch_geometric.metrics import LinkPredMAP, LinkPredPrecision, LinkPredRecall\n",
    "from torch_geometric.nn.models.lightgcn import BPRLoss\n",
    "\n",
    "from tqdm import tqdm\n",
    "import os\n",
    "os.environ['PYDEVD_DISABLE_FILE_VALIDATION']='1'\n",
    "os.environ['KMP_DUPLICATE_LIB_OK']='True'\n",
    "\n",
    "from utils.model import GNN\n",
    "\n",
    "device = torch.device('cuda' if torch.cuda.is_available() else 'cpu')\n",
    "faiss_device = torch.device('cpu')"
   ]
  },
  {
   "cell_type": "code",
   "execution_count": 2,
   "metadata": {},
   "outputs": [
    {
     "data": {
      "text/plain": [
       "HeteroData(\n",
       "  movie={ x=[11909, 300] },\n",
       "  user={ x=[448798, 14] },\n",
       "  (user, watched, movie)={\n",
       "    edge_index=[2, 1288996],\n",
       "    time=[1288996],\n",
       "  },\n",
       "  (movie, rev_watched, user)={\n",
       "    edge_index=[2, 1288996],\n",
       "    time=[1288996],\n",
       "  }\n",
       ")"
      ]
     },
     "execution_count": 2,
     "metadata": {},
     "output_type": "execute_result"
    }
   ],
   "source": [
    "from utils.data_transformation import data_to_heterograph\n",
    "\n",
    "data, users_rev_mapping, movies_rev_mapping =\\\n",
    "    data_to_heterograph('./data/processed/encoded_data.npz')\n",
    "data"
   ]
  },
  {
   "cell_type": "code",
   "execution_count": 3,
   "metadata": {},
   "outputs": [
    {
     "data": {
      "text/plain": [
       "0.0002411711540184161"
      ]
     },
     "execution_count": 3,
     "metadata": {},
     "output_type": "execute_result"
    }
   ],
   "source": [
    "# sparse interaction matrix\n",
    "1288996 / (11909 * 448798)"
   ]
  },
  {
   "cell_type": "markdown",
   "metadata": {},
   "source": [
    "## Train/test split"
   ]
  },
  {
   "cell_type": "code",
   "execution_count": 4,
   "metadata": {},
   "outputs": [],
   "source": [
    "train_ratio = 0.8\n",
    "train_size = int(train_ratio * data['user', 'movie'].num_edges)\n",
    "watch_threshold = -1\n",
    "\n",
    "edges = data['user', 'movie'].edge_index\n",
    "time = data['user', 'movie'].time\n",
    "num_users, num_movies = data['user'].num_nodes, data['movie'].num_nodes\n",
    "\n",
    "loader_kwargs = dict(\n",
    "    data=data, batch_size=1024,\n",
    "    num_neighbors=[15],\n",
    "    time_attr='time', temporal_strategy='last',\n",
    "    num_workers=4)\n",
    "\n",
    "train_loader = LinkNeighborLoader(\n",
    "    edge_label_index=(('user', 'movie'), edges[:, :train_size]),\n",
    "    edge_label_time=time[torch.arange(train_size)]-1,\n",
    "    neg_sampling=dict(mode='binary', amount=1),\n",
    "    shuffle=True,\n",
    "    **loader_kwargs)\n",
    "\n",
    "user_loader = NeighborLoader(\n",
    "    input_nodes='user',\n",
    "    input_time=(time[train_size]-1).repeat(num_users),\n",
    "    **loader_kwargs)\n",
    "\n",
    "movie_loader = NeighborLoader(\n",
    "    input_nodes='movie',\n",
    "    input_time=(time[train_size]-1).repeat(num_movies),\n",
    "    **loader_kwargs)\n",
    "\n",
    "sparse_size = (num_users, num_movies)\n",
    "train_edges = EdgeIndex(edges[:, :train_size].contiguous().to(device),\n",
    "                        sparse_size=sparse_size).sort_by('row').values\n",
    "test_edges = EdgeIndex(edges[:, train_size:].contiguous().to(device),\n",
    "                       sparse_size=sparse_size).sort_by('row').values\n",
    "\n",
    "is_test_node = degree(train_edges[0], num_nodes=num_users) >= watch_threshold\n",
    "test_edges = test_edges[:, is_test_node[test_edges[0]]]\n",
    "train_edges = train_edges[:, is_test_node[train_edges[0]]]"
   ]
  },
  {
   "cell_type": "markdown",
   "metadata": {},
   "source": [
    "## GNN"
   ]
  },
  {
   "cell_type": "code",
   "execution_count": 5,
   "metadata": {},
   "outputs": [],
   "source": [
    "gnn_model = GNN(num_layers=1, hidden_channels=64,\n",
    "                normalize=False, aggr_type='max-pool', dropout_p=None).to(device)\n",
    "optimizer = torch.optim.Adam(gnn_model.parameters(), lr=0.001)\n",
    "\n",
    "bpr_loss = BPRLoss()\n",
    "bceligits_loss = torch.nn.BCEWithLogitsLoss()"
   ]
  },
  {
   "cell_type": "code",
   "execution_count": 6,
   "metadata": {},
   "outputs": [],
   "source": [
    "from utils.data_transformation import sparse_batch_narrow\n",
    "from torch.nn.modules.loss import _Loss\n",
    "\n",
    "def train(_loss: _Loss):\n",
    "    gnn_model.train()\n",
    "    total_loss = total_examples = 0\n",
    "    for batch in tqdm(train_loader):\n",
    "        batch = batch.to(device)\n",
    "        batch_size = len(batch['user', 'movie'].input_id)\n",
    "        optimizer.zero_grad()\n",
    "\n",
    "        out = gnn_model(batch.x_dict, batch.edge_index_dict,\n",
    "                        batch['user', 'movie'].edge_label_index)\n",
    "\n",
    "        if isinstance(_loss, BPRLoss):\n",
    "            loss = _loss(out[:batch_size], out[batch_size:])\n",
    "        else:\n",
    "            target = batch['user', 'movie'].edge_label\n",
    "            loss = _loss(out, target)\n",
    "\n",
    "        loss.backward(); optimizer.step()\n",
    "\n",
    "        total_loss += float(loss) * batch_size\n",
    "        total_examples += batch_size\n",
    "\n",
    "    return total_loss / total_examples\n",
    "\n",
    "@torch.no_grad()\n",
    "def test(test_edges: EdgeIndex, train_edges: EdgeIndex, k: int, top_count: int = None,\n",
    "         filter_user: bool = False, is_test_node: torch.Tensor = None):\n",
    "    \n",
    "    if filter_user and not is_test_node:\n",
    "        raise Exception('is_test_node needs to be specified if filter_user == True')\n",
    "\n",
    "    gnn_model.eval()\n",
    "    movie_embs = gnn_model.get_movies_embeddings(movie_loader, device)\n",
    "\n",
    "    if top_count is None:\n",
    "        movie_embs = torch.cat(movie_embs, dim=0)\n",
    "    else:\n",
    "        emb_size = movie_embs[0].size()[1]\n",
    "        movie_embs.append(torch.zeros((1, emb_size), device=device))\n",
    "        movie_embs = torch.cat(movie_embs, dim=0)\n",
    "        top_indices = list(range(top_count)) + [len(movie_embs)-1]\n",
    "        movie_embs = movie_embs[top_indices]\n",
    "    \n",
    "    mipsknn = MIPSKNNIndex(movie_embs.to(faiss_device))\n",
    "    metrics = LinkPredMAP(k), LinkPredPrecision(k), LinkPredRecall(k)\n",
    "    users_infered = 0\n",
    "    for batch in user_loader:\n",
    "        batch = batch.to(device)\n",
    "        batch_size = batch['user'].batch_size\n",
    "        batch_user_embs = gnn_model.encoder(batch.x_dict, batch.edge_index_dict)\\\n",
    "            ['user'][:batch_size].to(faiss_device)\n",
    "        \n",
    "        if filter_user:\n",
    "            batch_user_embs = batch_user_embs[is_test_node[users_infered:users_infered+batch_size]]\n",
    "            batch_test_edges = sparse_batch_narrow(test_edges, users_infered, batch_size)\n",
    "            batch_train_edges = sparse_batch_narrow(train_edges, users_infered, batch_size)\n",
    "        else:\n",
    "            batch_test_edges = test_edges.sparse_narrow(0, users_infered, batch_size).to(faiss_device)\n",
    "            batch_train_edges = train_edges.sparse_narrow(0, users_infered, batch_size).to(faiss_device)\n",
    "\n",
    "        if top_count is not None:\n",
    "            batch_test_edges[1, batch_test_edges[1] >= top_count] = top_count\n",
    "            batch_train_edges[1, batch_train_edges[1] >= top_count] = top_count\n",
    "\n",
    "        top_indices_mat = mipsknn.search(batch_user_embs, k, exclude_links=batch_train_edges)[1]\n",
    "        for metric in metrics:\n",
    "            metric.update(top_indices_mat.cpu(), batch_test_edges)\n",
    "\n",
    "        users_infered += batch_size\n",
    "\n",
    "    return tuple(float(metric.compute()) for metric in metrics)\n",
    "\n",
    "k = 20\n",
    "df_metrics = pd.DataFrame(columns=['loss', f'map@{k}', f'precision@{k}', f'recall@{k}'])\n",
    "best_state_dict = None\n",
    "best_map = .0"
   ]
  },
  {
   "cell_type": "code",
   "execution_count": 7,
   "metadata": {},
   "outputs": [
    {
     "name": "stderr",
     "output_type": "stream",
     "text": [
      "100%|██████████| 1008/1008 [00:18<00:00, 53.27it/s]\n"
     ]
    },
    {
     "name": "stdout",
     "output_type": "stream",
     "text": [
      "Train: Epoch №01, Loss: 0.2821\n"
     ]
    },
    {
     "name": "stderr",
     "output_type": "stream",
     "text": [
      "100%|██████████| 1008/1008 [00:18<00:00, 54.50it/s]\n"
     ]
    },
    {
     "name": "stdout",
     "output_type": "stream",
     "text": [
      "Train: Epoch №02, Loss: 0.2595\n",
      "Test@20, MAP: 0.0693, Precision: 0.0135, Recall: 0.1815\n"
     ]
    },
    {
     "name": "stderr",
     "output_type": "stream",
     "text": [
      "100%|██████████| 1008/1008 [00:18<00:00, 55.26it/s]\n"
     ]
    },
    {
     "name": "stdout",
     "output_type": "stream",
     "text": [
      "Train: Epoch №03, Loss: 0.2565\n"
     ]
    },
    {
     "name": "stderr",
     "output_type": "stream",
     "text": [
      "100%|██████████| 1008/1008 [00:18<00:00, 54.93it/s]\n"
     ]
    },
    {
     "name": "stdout",
     "output_type": "stream",
     "text": [
      "Train: Epoch №04, Loss: 0.2564\n",
      "Test@20, MAP: 0.0671, Precision: 0.0134, Recall: 0.1800\n"
     ]
    },
    {
     "name": "stderr",
     "output_type": "stream",
     "text": [
      "100%|██████████| 1008/1008 [00:18<00:00, 54.89it/s]\n"
     ]
    },
    {
     "name": "stdout",
     "output_type": "stream",
     "text": [
      "Train: Epoch №05, Loss: 0.2557\n"
     ]
    },
    {
     "name": "stderr",
     "output_type": "stream",
     "text": [
      "100%|██████████| 1008/1008 [00:18<00:00, 53.42it/s]\n"
     ]
    },
    {
     "name": "stdout",
     "output_type": "stream",
     "text": [
      "Train: Epoch №06, Loss: 0.2546\n",
      "Test@20, MAP: 0.0662, Precision: 0.0135, Recall: 0.1802\n"
     ]
    },
    {
     "name": "stderr",
     "output_type": "stream",
     "text": [
      "100%|██████████| 1008/1008 [00:18<00:00, 55.47it/s]\n"
     ]
    },
    {
     "name": "stdout",
     "output_type": "stream",
     "text": [
      "Train: Epoch №07, Loss: 0.2543\n"
     ]
    },
    {
     "name": "stderr",
     "output_type": "stream",
     "text": [
      "100%|██████████| 1008/1008 [00:18<00:00, 55.09it/s]\n"
     ]
    },
    {
     "name": "stdout",
     "output_type": "stream",
     "text": [
      "Train: Epoch №08, Loss: 0.2540\n",
      "Test@20, MAP: 0.0676, Precision: 0.0135, Recall: 0.1809\n"
     ]
    },
    {
     "name": "stderr",
     "output_type": "stream",
     "text": [
      " 25%|██▌       | 255/1008 [00:08<00:25, 29.99it/s]"
     ]
    },
    {
     "name": "stdout",
     "output_type": "stream",
     "text": [
      "--KeyboardInterrupt--\n",
      "best_map=0.0693\n"
     ]
    },
    {
     "name": "stderr",
     "output_type": "stream",
     "text": [
      "\n"
     ]
    }
   ],
   "source": [
    "try:\n",
    "    for epoch_num in range(1, 100):\n",
    "        loss = train(bpr_loss)\n",
    "        print(f'Train: Epoch №{epoch_num:02d}, Loss: {loss:.4f}')\n",
    "        if epoch_num % 2 == 0:\n",
    "            map, precision, recall = test(test_edges, train_edges, k, top_count=2000, filter_user=False)\n",
    "            print('Test@%d, MAP: %.4f, Precision: %.4f, Recall: %.4f' % (k, map, precision, recall))\n",
    "            df_metrics.loc[2*len(df_metrics), :] = [loss, map, precision, recall]\n",
    "            if map > best_map:\n",
    "                best_map = map\n",
    "                best_state_dict = deepcopy(gnn_model.state_dict())\n",
    "except KeyboardInterrupt:\n",
    "  print('--KeyboardInterrupt--')\n",
    "\n",
    "print(f'{best_map=:.4f}')"
   ]
  },
  {
   "cell_type": "code",
   "execution_count": 8,
   "metadata": {},
   "outputs": [
    {
     "data": {
      "image/png": "[encoded data removed]",
      "text/plain": [
       "<Figure size 1200x300 with 4 Axes>"
      ]
     },
     "metadata": {},
     "output_type": "display_data"
    }
   ],
   "source": [
    "fig, axes = plt.subplots(1, 4, figsize=(12, 3))\n",
    "for i, metric_name in enumerate(df_metrics.columns):\n",
    "    df_metrics[metric_name].plot(ax=axes[i], grid=True, title=metric_name)\n",
    "fig.tight_layout()"
   ]
  },
  {
   "cell_type": "markdown",
   "metadata": {},
   "source": [
    "## Save model"
   ]
  },
  {
   "cell_type": "code",
   "execution_count": 14,
   "metadata": {},
   "outputs": [],
   "source": [
    "model_name = '1layer069-pipelined_data'\n",
    "\n",
    "save_folder_name = f'model_saves/{model_name}'\n",
    "! mkdir \"$save_folder_name\"\n",
    "torch.save(best_state_dict, f'./{save_folder_name}/gnn_state.pt')\n",
    "torch.save(optimizer.state_dict(), f'./{save_folder_name}/adam_state.pt')\n",
    "df_metrics.to_csv(f'./model_saves/dnn_metrics.csv')"
   ]
  },
  {
   "cell_type": "markdown",
   "metadata": {},
   "source": [
    "## Example of making recommendations by Graph Neural Network"
   ]
  },
  {
   "cell_type": "code",
   "execution_count": null,
   "metadata": {},
   "outputs": [],
   "source": [
    "gnn_model = GNN(num_layers=1, hidden_channels=64,\n",
    "                normalize=False, aggr_type='max-pool', dropout_p=None)\n",
    "\n",
    "model_name = '1layer074'\n",
    "save_folder_name = f'model_saves/{model_name}'\n",
    "gnn_model.load_state_dict(torch.load(f'./{save_folder_name}/gnn_state.pt'))\n",
    "gnn_model.to(device);"
   ]
  },
  {
   "cell_type": "code",
   "execution_count": 9,
   "metadata": {},
   "outputs": [],
   "source": [
    "df_inter = pd.read_csv('data/processed/interactions.csv')\n",
    "df_items = pd.read_csv('data/processed/items.csv')\n",
    "df_users = pd.read_csv('data/processed/users.csv')\n",
    "\n",
    "users_mapping = {user_id: idx for idx, user_id in users_rev_mapping.items()}\n",
    "movies_mapping = {movie_id: idx for idx, movie_id in movies_rev_mapping.items()}\n",
    "movies_id_to_df_idx = {movie_id: df_idx for df_idx, movie_id in df_items['item_id'].items()}"
   ]
  },
  {
   "cell_type": "code",
   "execution_count": 10,
   "metadata": {},
   "outputs": [
    {
     "data": {
      "text/html": [
       "<div>\n",
       "<style scoped>\n",
       "    .dataframe tbody tr th:only-of-type {\n",
       "        vertical-align: middle;\n",
       "    }\n",
       "\n",
       "    .dataframe tbody tr th {\n",
       "        vertical-align: top;\n",
       "    }\n",
       "\n",
       "    .dataframe thead th {\n",
       "        text-align: right;\n",
       "    }\n",
       "</style>\n",
       "<table border=\"1\" class=\"dataframe\">\n",
       "  <thead>\n",
       "    <tr style=\"text-align: right;\">\n",
       "      <th></th>\n",
       "      <th>user_id</th>\n",
       "      <th>item_id</th>\n",
       "      <th>last_watch_dt</th>\n",
       "      <th>watched_pct</th>\n",
       "      <th>content_type</th>\n",
       "      <th>title</th>\n",
       "      <th>genres</th>\n",
       "      <th>age_rating</th>\n",
       "      <th>keywords</th>\n",
       "      <th>views</th>\n",
       "    </tr>\n",
       "  </thead>\n",
       "  <tbody>\n",
       "    <tr>\n",
       "      <th>0</th>\n",
       "      <td>148609</td>\n",
       "      <td>12395</td>\n",
       "      <td>2021-03-23</td>\n",
       "      <td>100.0</td>\n",
       "      <td>film</td>\n",
       "      <td>Беги, мальчик, беги</td>\n",
       "      <td>боевики, драмы, биография, военные</td>\n",
       "      <td>16</td>\n",
       "      <td>вторая мировая война, варшавское гетто, дети, ...</td>\n",
       "      <td>100</td>\n",
       "    </tr>\n",
       "    <tr>\n",
       "      <th>1</th>\n",
       "      <td>148609</td>\n",
       "      <td>11885</td>\n",
       "      <td>2021-04-01</td>\n",
       "      <td>100.0</td>\n",
       "      <td>film</td>\n",
       "      <td>Хан Соло: Звёздные войны. Истории</td>\n",
       "      <td>боевики, фантастика, приключения</td>\n",
       "      <td>12</td>\n",
       "      <td>космический корабль, приквел, спин-офф, контра...</td>\n",
       "      <td>523</td>\n",
       "    </tr>\n",
       "    <tr>\n",
       "      <th>2</th>\n",
       "      <td>148609</td>\n",
       "      <td>13713</td>\n",
       "      <td>2021-04-01</td>\n",
       "      <td>0.0</td>\n",
       "      <td>film</td>\n",
       "      <td>Звёздные войны: Скрытая угроза</td>\n",
       "      <td>боевики, фантастика, приключения</td>\n",
       "      <td>0</td>\n",
       "      <td>пророчество, сенат, королева, надзиратель, гал...</td>\n",
       "      <td>362</td>\n",
       "    </tr>\n",
       "    <tr>\n",
       "      <th>3</th>\n",
       "      <td>148609</td>\n",
       "      <td>13980</td>\n",
       "      <td>2021-04-11</td>\n",
       "      <td>100.0</td>\n",
       "      <td>film</td>\n",
       "      <td>Изгой-один: Звёздные войны. Истории.</td>\n",
       "      <td>боевики, фантастика, приключения</td>\n",
       "      <td>16</td>\n",
       "      <td>бунтарь, космический корабль, космическое сраж...</td>\n",
       "      <td>362</td>\n",
       "    </tr>\n",
       "  </tbody>\n",
       "</table>\n",
       "</div>"
      ],
      "text/plain": [
       "   user_id  item_id last_watch_dt  watched_pct content_type  \\\n",
       "0   148609    12395    2021-03-23        100.0         film   \n",
       "1   148609    11885    2021-04-01        100.0         film   \n",
       "2   148609    13713    2021-04-01          0.0         film   \n",
       "3   148609    13980    2021-04-11        100.0         film   \n",
       "\n",
       "                                  title                              genres  \\\n",
       "0                   Беги, мальчик, беги  боевики, драмы, биография, военные   \n",
       "1     Хан Соло: Звёздные войны. Истории    боевики, фантастика, приключения   \n",
       "2        Звёздные войны: Скрытая угроза    боевики, фантастика, приключения   \n",
       "3  Изгой-один: Звёздные войны. Истории.    боевики, фантастика, приключения   \n",
       "\n",
       "   age_rating                                           keywords  views  \n",
       "0          16  вторая мировая война, варшавское гетто, дети, ...    100  \n",
       "1          12  космический корабль, приквел, спин-офф, контра...    523  \n",
       "2           0  пророчество, сенат, королева, надзиратель, гал...    362  \n",
       "3          16  бунтарь, космический корабль, космическое сраж...    362  "
      ]
     },
     "execution_count": 10,
     "metadata": {},
     "output_type": "execute_result"
    }
   ],
   "source": [
    "user_id = 148609\n",
    "df_inter[df_inter['user_id'] == user_id].merge(df_items)"
   ]
  },
  {
   "cell_type": "code",
   "execution_count": 11,
   "metadata": {},
   "outputs": [
    {
     "data": {
      "text/html": [
       "<div>\n",
       "<style scoped>\n",
       "    .dataframe tbody tr th:only-of-type {\n",
       "        vertical-align: middle;\n",
       "    }\n",
       "\n",
       "    .dataframe tbody tr th {\n",
       "        vertical-align: top;\n",
       "    }\n",
       "\n",
       "    .dataframe thead th {\n",
       "        text-align: right;\n",
       "    }\n",
       "</style>\n",
       "<table border=\"1\" class=\"dataframe\">\n",
       "  <thead>\n",
       "    <tr style=\"text-align: right;\">\n",
       "      <th></th>\n",
       "      <th>user_id</th>\n",
       "      <th>age</th>\n",
       "      <th>income</th>\n",
       "      <th>sex</th>\n",
       "      <th>kids_flg</th>\n",
       "    </tr>\n",
       "  </thead>\n",
       "  <tbody>\n",
       "    <tr>\n",
       "      <th>80881</th>\n",
       "      <td>148609</td>\n",
       "      <td>age_45_54</td>\n",
       "      <td>income_20_40</td>\n",
       "      <td>М</td>\n",
       "      <td>0</td>\n",
       "    </tr>\n",
       "  </tbody>\n",
       "</table>\n",
       "</div>"
      ],
      "text/plain": [
       "       user_id        age        income sex  kids_flg\n",
       "80881   148609  age_45_54  income_20_40   М         0"
      ]
     },
     "execution_count": 11,
     "metadata": {},
     "output_type": "execute_result"
    }
   ],
   "source": [
    "df_users[df_users['user_id'] == user_id]"
   ]
  },
  {
   "cell_type": "code",
   "execution_count": 12,
   "metadata": {},
   "outputs": [
    {
     "data": {
      "text/html": [
       "<div>\n",
       "<style scoped>\n",
       "    .dataframe tbody tr th:only-of-type {\n",
       "        vertical-align: middle;\n",
       "    }\n",
       "\n",
       "    .dataframe tbody tr th {\n",
       "        vertical-align: top;\n",
       "    }\n",
       "\n",
       "    .dataframe thead th {\n",
       "        text-align: right;\n",
       "    }\n",
       "</style>\n",
       "<table border=\"1\" class=\"dataframe\">\n",
       "  <thead>\n",
       "    <tr style=\"text-align: right;\">\n",
       "      <th></th>\n",
       "      <th>item_id</th>\n",
       "      <th>content_type</th>\n",
       "      <th>title</th>\n",
       "      <th>genres</th>\n",
       "      <th>age_rating</th>\n",
       "      <th>keywords</th>\n",
       "      <th>views</th>\n",
       "    </tr>\n",
       "  </thead>\n",
       "  <tbody>\n",
       "    <tr>\n",
       "      <th>0</th>\n",
       "      <td>1915</td>\n",
       "      <td>film</td>\n",
       "      <td>Трон: Наследие</td>\n",
       "      <td>боевики, фантастика, фэнтези</td>\n",
       "      <td>12</td>\n",
       "      <td>искусственный интеллект, секретная личность, к...</td>\n",
       "      <td>126</td>\n",
       "    </tr>\n",
       "    <tr>\n",
       "      <th>1</th>\n",
       "      <td>8980</td>\n",
       "      <td>film</td>\n",
       "      <td>Звёздные войны: Эпизод 4 — Новая надежда</td>\n",
       "      <td>боевики, фантастика, фэнтези, приключения</td>\n",
       "      <td>6</td>\n",
       "      <td>андроид, галактика, отшельник, звезда смерти, ...</td>\n",
       "      <td>407</td>\n",
       "    </tr>\n",
       "    <tr>\n",
       "      <th>2</th>\n",
       "      <td>8821</td>\n",
       "      <td>film</td>\n",
       "      <td>Стражи Галактики. Часть 2</td>\n",
       "      <td>боевики, фантастика, приключения, комедии</td>\n",
       "      <td>16</td>\n",
       "      <td>продолжение, супергерой, основанный на комиксе...</td>\n",
       "      <td>812</td>\n",
       "    </tr>\n",
       "    <tr>\n",
       "      <th>3</th>\n",
       "      <td>3936</td>\n",
       "      <td>film</td>\n",
       "      <td>Звёздные войны: Скайуокер. Восход</td>\n",
       "      <td>боевики, фантастика, приключения</td>\n",
       "      <td>16</td>\n",
       "      <td>космическая сага, Аварийная посадка, Актер уме...</td>\n",
       "      <td>465</td>\n",
       "    </tr>\n",
       "    <tr>\n",
       "      <th>4</th>\n",
       "      <td>1785</td>\n",
       "      <td>film</td>\n",
       "      <td>Чёрная пантера</td>\n",
       "      <td>боевики, фантастика, приключения</td>\n",
       "      <td>16</td>\n",
       "      <td>африка, супергерой, по мотивам комиксов, 1990-...</td>\n",
       "      <td>1530</td>\n",
       "    </tr>\n",
       "  </tbody>\n",
       "</table>\n",
       "</div>"
      ],
      "text/plain": [
       "   item_id content_type                                     title  \\\n",
       "0     1915         film                            Трон: Наследие   \n",
       "1     8980         film  Звёздные войны: Эпизод 4 — Новая надежда   \n",
       "2     8821         film                 Стражи Галактики. Часть 2   \n",
       "3     3936         film         Звёздные войны: Скайуокер. Восход   \n",
       "4     1785         film                            Чёрная пантера   \n",
       "\n",
       "                                      genres  age_rating  \\\n",
       "0               боевики, фантастика, фэнтези          12   \n",
       "1  боевики, фантастика, фэнтези, приключения           6   \n",
       "2  боевики, фантастика, приключения, комедии          16   \n",
       "3           боевики, фантастика, приключения          16   \n",
       "4           боевики, фантастика, приключения          16   \n",
       "\n",
       "                                            keywords  views  \n",
       "0  искусственный интеллект, секретная личность, к...    126  \n",
       "1  андроид, галактика, отшельник, звезда смерти, ...    407  \n",
       "2  продолжение, супергерой, основанный на комиксе...    812  \n",
       "3  космическая сага, Аварийная посадка, Актер уме...    465  \n",
       "4  африка, супергерой, по мотивам комиксов, 1990-...   1530  "
      ]
     },
     "execution_count": 12,
     "metadata": {},
     "output_type": "execute_result"
    }
   ],
   "source": [
    "users_idx = torch.tensor([users_mapping[user_id]])\n",
    "with torch.no_grad():\n",
    "    recs = gnn_model.recommend(users_idx, data,\n",
    "        top_count=2000, k=20, model_device=device, faiss_device=faiss_device)\n",
    "    \n",
    "rec_ids = np.vectorize(movies_rev_mapping.get)(recs.squeeze())\n",
    "rec_df_idx = np.vectorize(movies_id_to_df_idx.get)(rec_ids)\n",
    "df_items.iloc[rec_df_idx].reset_index(drop=True).head()"
   ]
  },
  {
   "cell_type": "code",
   "execution_count": 13,
   "metadata": {},
   "outputs": [
    {
     "data": {
      "text/html": [
       "<div>\n",
       "<style scoped>\n",
       "    .dataframe tbody tr th:only-of-type {\n",
       "        vertical-align: middle;\n",
       "    }\n",
       "\n",
       "    .dataframe tbody tr th {\n",
       "        vertical-align: top;\n",
       "    }\n",
       "\n",
       "    .dataframe thead th {\n",
       "        text-align: right;\n",
       "    }\n",
       "</style>\n",
       "<table border=\"1\" class=\"dataframe\">\n",
       "  <thead>\n",
       "    <tr style=\"text-align: right;\">\n",
       "      <th></th>\n",
       "      <th>item_id</th>\n",
       "      <th>content_type</th>\n",
       "      <th>title</th>\n",
       "      <th>genres</th>\n",
       "      <th>age_rating</th>\n",
       "      <th>keywords</th>\n",
       "      <th>views</th>\n",
       "    </tr>\n",
       "  </thead>\n",
       "  <tbody>\n",
       "    <tr>\n",
       "      <th>0</th>\n",
       "      <td>1915</td>\n",
       "      <td>film</td>\n",
       "      <td>Трон: Наследие</td>\n",
       "      <td>боевики, фантастика, фэнтези</td>\n",
       "      <td>12</td>\n",
       "      <td>искусственный интеллект, секретная личность, к...</td>\n",
       "      <td>126</td>\n",
       "    </tr>\n",
       "    <tr>\n",
       "      <th>1</th>\n",
       "      <td>8980</td>\n",
       "      <td>film</td>\n",
       "      <td>Звёздные войны: Эпизод 4 — Новая надежда</td>\n",
       "      <td>боевики, фантастика, фэнтези, приключения</td>\n",
       "      <td>6</td>\n",
       "      <td>андроид, галактика, отшельник, звезда смерти, ...</td>\n",
       "      <td>407</td>\n",
       "    </tr>\n",
       "    <tr>\n",
       "      <th>2</th>\n",
       "      <td>8821</td>\n",
       "      <td>film</td>\n",
       "      <td>Стражи Галактики. Часть 2</td>\n",
       "      <td>боевики, фантастика, приключения, комедии</td>\n",
       "      <td>16</td>\n",
       "      <td>продолжение, супергерой, основанный на комиксе...</td>\n",
       "      <td>812</td>\n",
       "    </tr>\n",
       "    <tr>\n",
       "      <th>3</th>\n",
       "      <td>3936</td>\n",
       "      <td>film</td>\n",
       "      <td>Звёздные войны: Скайуокер. Восход</td>\n",
       "      <td>боевики, фантастика, приключения</td>\n",
       "      <td>16</td>\n",
       "      <td>космическая сага, Аварийная посадка, Актер уме...</td>\n",
       "      <td>465</td>\n",
       "    </tr>\n",
       "    <tr>\n",
       "      <th>4</th>\n",
       "      <td>1785</td>\n",
       "      <td>film</td>\n",
       "      <td>Чёрная пантера</td>\n",
       "      <td>боевики, фантастика, приключения</td>\n",
       "      <td>16</td>\n",
       "      <td>африка, супергерой, по мотивам комиксов, 1990-...</td>\n",
       "      <td>1530</td>\n",
       "    </tr>\n",
       "    <tr>\n",
       "      <th>5</th>\n",
       "      <td>8437</td>\n",
       "      <td>film</td>\n",
       "      <td>Капитан Марвел</td>\n",
       "      <td>боевики, фантастика</td>\n",
       "      <td>16</td>\n",
       "      <td>супергерой, основанный на комиксе, супергероин...</td>\n",
       "      <td>1019</td>\n",
       "    </tr>\n",
       "    <tr>\n",
       "      <th>6</th>\n",
       "      <td>15297</td>\n",
       "      <td>series</td>\n",
       "      <td>Клиника счастья</td>\n",
       "      <td>драмы, мелодрамы</td>\n",
       "      <td>18</td>\n",
       "      <td>Клиника счастья, Клиника, Счастье, Клиника сча...</td>\n",
       "      <td>30157</td>\n",
       "    </tr>\n",
       "    <tr>\n",
       "      <th>7</th>\n",
       "      <td>4774</td>\n",
       "      <td>film</td>\n",
       "      <td>Морской бой</td>\n",
       "      <td>боевики, фантастика, триллеры, приключения</td>\n",
       "      <td>12</td>\n",
       "      <td>борьба, военно-морской флот соединенных штатов...</td>\n",
       "      <td>716</td>\n",
       "    </tr>\n",
       "    <tr>\n",
       "      <th>8</th>\n",
       "      <td>10680</td>\n",
       "      <td>film</td>\n",
       "      <td>Дэдпул 2</td>\n",
       "      <td>боевики, фантастика, приключения, комедии</td>\n",
       "      <td>18</td>\n",
       "      <td>герой, мутант, наемник, сиквел, супергерой, ос...</td>\n",
       "      <td>625</td>\n",
       "    </tr>\n",
       "    <tr>\n",
       "      <th>9</th>\n",
       "      <td>6738</td>\n",
       "      <td>film</td>\n",
       "      <td>Человек-паук: Возвращение домой</td>\n",
       "      <td>боевики, популярное, фантастика, приключения</td>\n",
       "      <td>16</td>\n",
       "      <td>Нью-Йорк, Вашингтон, округ Колумбия, старшая ш...</td>\n",
       "      <td>460</td>\n",
       "    </tr>\n",
       "    <tr>\n",
       "      <th>10</th>\n",
       "      <td>12446</td>\n",
       "      <td>film</td>\n",
       "      <td>Звёздные войны: Последние джедаи</td>\n",
       "      <td>боевики, фантастика, приключения</td>\n",
       "      <td>16</td>\n",
       "      <td>бункер, космическая битва, провал, поражение, ...</td>\n",
       "      <td>305</td>\n",
       "    </tr>\n",
       "    <tr>\n",
       "      <th>11</th>\n",
       "      <td>11348</td>\n",
       "      <td>film</td>\n",
       "      <td>Пираты Карибского моря: Мертвецы не рассказыва...</td>\n",
       "      <td>боевики, фэнтези, приключения</td>\n",
       "      <td>16</td>\n",
       "      <td>море, корабль, сиквел, артефакт, карта сокрови...</td>\n",
       "      <td>858</td>\n",
       "    </tr>\n",
       "    <tr>\n",
       "      <th>12</th>\n",
       "      <td>3587</td>\n",
       "      <td>film</td>\n",
       "      <td>Железный человек</td>\n",
       "      <td>боевики, фантастика, приключения</td>\n",
       "      <td>12</td>\n",
       "      <td>Ближний Восток, торговец оружием, Малибу, супе...</td>\n",
       "      <td>767</td>\n",
       "    </tr>\n",
       "    <tr>\n",
       "      <th>13</th>\n",
       "      <td>12841</td>\n",
       "      <td>film</td>\n",
       "      <td>Стражи Галактики</td>\n",
       "      <td>боевики, фантастика, приключения, комедии</td>\n",
       "      <td>12</td>\n",
       "      <td>космический корабль, основанный на комиксе, ко...</td>\n",
       "      <td>1316</td>\n",
       "    </tr>\n",
       "    <tr>\n",
       "      <th>14</th>\n",
       "      <td>7210</td>\n",
       "      <td>film</td>\n",
       "      <td>Тор: Рагнарёк</td>\n",
       "      <td>приключения, фантастика, боевики, фэнтези, ком...</td>\n",
       "      <td>16</td>\n",
       "      <td>продолжение, супергерой, основанный на комиксе...</td>\n",
       "      <td>1241</td>\n",
       "    </tr>\n",
       "    <tr>\n",
       "      <th>15</th>\n",
       "      <td>9993</td>\n",
       "      <td>film</td>\n",
       "      <td>Звёздные войны: Пробуждение силы</td>\n",
       "      <td>боевики, фантастика, приключения</td>\n",
       "      <td>12</td>\n",
       "      <td>андроид, космический корабль, джедай, космичес...</td>\n",
       "      <td>229</td>\n",
       "    </tr>\n",
       "    <tr>\n",
       "      <th>16</th>\n",
       "      <td>15751</td>\n",
       "      <td>film</td>\n",
       "      <td>Александр</td>\n",
       "      <td>историческое, биография, приключения, драмы, в...</td>\n",
       "      <td>16</td>\n",
       "      <td>аристотель, египет, греция, персия, слон, камп...</td>\n",
       "      <td>98</td>\n",
       "    </tr>\n",
       "    <tr>\n",
       "      <th>17</th>\n",
       "      <td>7612</td>\n",
       "      <td>film</td>\n",
       "      <td>Тор</td>\n",
       "      <td>боевики, фантастика, фэнтези, приключения</td>\n",
       "      <td>12</td>\n",
       "      <td>Нью-Мексико, изгнание, супергерой, основанный ...</td>\n",
       "      <td>736</td>\n",
       "    </tr>\n",
       "    <tr>\n",
       "      <th>18</th>\n",
       "      <td>12848</td>\n",
       "      <td>film</td>\n",
       "      <td>Книга Илая</td>\n",
       "      <td>боевики, драмы, фантастика</td>\n",
       "      <td>18</td>\n",
       "      <td>Библия, книга, постапокалиптическое будущее, д...</td>\n",
       "      <td>211</td>\n",
       "    </tr>\n",
       "    <tr>\n",
       "      <th>19</th>\n",
       "      <td>4927</td>\n",
       "      <td>film</td>\n",
       "      <td>День независимости: Возрождение</td>\n",
       "      <td>боевики, фантастика, приключения</td>\n",
       "      <td>12</td>\n",
       "      <td>инопланетянин, вторжение пришельцев, , 2010-е,...</td>\n",
       "      <td>346</td>\n",
       "    </tr>\n",
       "  </tbody>\n",
       "</table>\n",
       "</div>"
      ],
      "text/plain": [
       "    item_id content_type                                              title  \\\n",
       "0      1915         film                                     Трон: Наследие   \n",
       "1      8980         film           Звёздные войны: Эпизод 4 — Новая надежда   \n",
       "2      8821         film                          Стражи Галактики. Часть 2   \n",
       "3      3936         film                  Звёздные войны: Скайуокер. Восход   \n",
       "4      1785         film                                     Чёрная пантера   \n",
       "5      8437         film                                     Капитан Марвел   \n",
       "6     15297       series                                    Клиника счастья   \n",
       "7      4774         film                                        Морской бой   \n",
       "8     10680         film                                           Дэдпул 2   \n",
       "9      6738         film                    Человек-паук: Возвращение домой   \n",
       "10    12446         film                   Звёздные войны: Последние джедаи   \n",
       "11    11348         film  Пираты Карибского моря: Мертвецы не рассказыва...   \n",
       "12     3587         film                                   Железный человек   \n",
       "13    12841         film                                   Стражи Галактики   \n",
       "14     7210         film                                      Тор: Рагнарёк   \n",
       "15     9993         film                   Звёздные войны: Пробуждение силы   \n",
       "16    15751         film                                          Александр   \n",
       "17     7612         film                                                Тор   \n",
       "18    12848         film                                         Книга Илая   \n",
       "19     4927         film                    День независимости: Возрождение   \n",
       "\n",
       "                                               genres  age_rating  \\\n",
       "0                        боевики, фантастика, фэнтези          12   \n",
       "1           боевики, фантастика, фэнтези, приключения           6   \n",
       "2           боевики, фантастика, приключения, комедии          16   \n",
       "3                    боевики, фантастика, приключения          16   \n",
       "4                    боевики, фантастика, приключения          16   \n",
       "5                                 боевики, фантастика          16   \n",
       "6                                    драмы, мелодрамы          18   \n",
       "7          боевики, фантастика, триллеры, приключения          12   \n",
       "8           боевики, фантастика, приключения, комедии          18   \n",
       "9        боевики, популярное, фантастика, приключения          16   \n",
       "10                   боевики, фантастика, приключения          16   \n",
       "11                      боевики, фэнтези, приключения          16   \n",
       "12                   боевики, фантастика, приключения          12   \n",
       "13          боевики, фантастика, приключения, комедии          12   \n",
       "14  приключения, фантастика, боевики, фэнтези, ком...          16   \n",
       "15                   боевики, фантастика, приключения          12   \n",
       "16  историческое, биография, приключения, драмы, в...          16   \n",
       "17          боевики, фантастика, фэнтези, приключения          12   \n",
       "18                         боевики, драмы, фантастика          18   \n",
       "19                   боевики, фантастика, приключения          12   \n",
       "\n",
       "                                             keywords  views  \n",
       "0   искусственный интеллект, секретная личность, к...    126  \n",
       "1   андроид, галактика, отшельник, звезда смерти, ...    407  \n",
       "2   продолжение, супергерой, основанный на комиксе...    812  \n",
       "3   космическая сага, Аварийная посадка, Актер уме...    465  \n",
       "4   африка, супергерой, по мотивам комиксов, 1990-...   1530  \n",
       "5   супергерой, основанный на комиксе, супергероин...   1019  \n",
       "6   Клиника счастья, Клиника, Счастье, Клиника сча...  30157  \n",
       "7   борьба, военно-морской флот соединенных штатов...    716  \n",
       "8   герой, мутант, наемник, сиквел, супергерой, ос...    625  \n",
       "9   Нью-Йорк, Вашингтон, округ Колумбия, старшая ш...    460  \n",
       "10  бункер, космическая битва, провал, поражение, ...    305  \n",
       "11  море, корабль, сиквел, артефакт, карта сокрови...    858  \n",
       "12  Ближний Восток, торговец оружием, Малибу, супе...    767  \n",
       "13  космический корабль, основанный на комиксе, ко...   1316  \n",
       "14  продолжение, супергерой, основанный на комиксе...   1241  \n",
       "15  андроид, космический корабль, джедай, космичес...    229  \n",
       "16  аристотель, египет, греция, персия, слон, камп...     98  \n",
       "17  Нью-Мексико, изгнание, супергерой, основанный ...    736  \n",
       "18  Библия, книга, постапокалиптическое будущее, д...    211  \n",
       "19  инопланетянин, вторжение пришельцев, , 2010-е,...    346  "
      ]
     },
     "execution_count": 13,
     "metadata": {},
     "output_type": "execute_result"
    }
   ],
   "source": [
    "df_items.iloc[rec_df_idx].reset_index(drop=True)"
   ]
  }
 ],
 "metadata": {
  "kernelspec": {
   "display_name": "Python 3",
   "language": "python",
   "name": "python3"
  },
  "language_info": {
   "codemirror_mode": {
    "name": "ipython",
    "version": 3
   },
   "file_extension": ".py",
   "mimetype": "text/x-python",
   "name": "python",
   "nbconvert_exporter": "python",
   "pygments_lexer": "ipython3",
   "version": "3.11.9"
  }
 },
 "nbformat": 4,
 "nbformat_minor": 2
}
