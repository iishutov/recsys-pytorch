{
 "cells": [
  {
   "cell_type": "code",
   "execution_count": 1,
   "metadata": {},
   "outputs": [],
   "source": [
    "import numpy as np\n",
    "import pandas as pd\n",
    "import matplotlib.pyplot as plt\n",
    "import seaborn as sns"
   ]
  },
  {
   "cell_type": "code",
   "execution_count": 2,
   "metadata": {},
   "outputs": [],
   "source": [
    "df_inter = pd.read_csv('./data/interactions.csv')\n",
    "df_items = pd.read_csv('./data/items.csv')\n",
    "df_users = pd.read_csv('./data/users.csv')"
   ]
  },
  {
   "cell_type": "code",
   "execution_count": 3,
   "metadata": {},
   "outputs": [],
   "source": [
    "users_in_df_users = set(df_users['user_id'].values)\n",
    "users_in_df_inter = set(df_inter['user_id'].values)\n",
    "users_to_stay = users_in_df_users.intersection(users_in_df_inter)\n",
    "\n",
    "df_users_mask = df_users['user_id'].apply(lambda user: user in users_to_stay)\n",
    "df_inter_mask = df_inter['user_id'].apply(lambda user: user in users_to_stay)\n",
    "\n",
    "df_users = df_users[df_users_mask].reset_index(drop=True)\n",
    "df_inter = df_inter[df_inter_mask].reset_index(drop=True)\n",
    "\n",
    "\n",
    "items_in_df_items = set(df_items['item_id'].values)\n",
    "items_in_df_inter = set(df_inter['item_id'].values)\n",
    "items_to_stay = items_in_df_items.intersection(items_in_df_inter)\n",
    "\n",
    "df_items_mask = df_items['item_id'].apply(lambda item: item in items_to_stay)\n",
    "df_inter_mask = df_inter['item_id'].apply(lambda item: item in items_to_stay)\n",
    "\n",
    "df_items = df_items[df_items_mask].reset_index(drop=True)\n",
    "df_inter = df_inter[df_inter_mask].reset_index(drop=True)"
   ]
  },
  {
   "cell_type": "code",
   "execution_count": 4,
   "metadata": {},
   "outputs": [
    {
     "data": {
      "text/html": [
       "<div>\n",
       "<style scoped>\n",
       "    .dataframe tbody tr th:only-of-type {\n",
       "        vertical-align: middle;\n",
       "    }\n",
       "\n",
       "    .dataframe tbody tr th {\n",
       "        vertical-align: top;\n",
       "    }\n",
       "\n",
       "    .dataframe thead th {\n",
       "        text-align: right;\n",
       "    }\n",
       "</style>\n",
       "<table border=\"1\" class=\"dataframe\">\n",
       "  <thead>\n",
       "    <tr style=\"text-align: right;\">\n",
       "      <th></th>\n",
       "      <th>user_id</th>\n",
       "      <th>item_id</th>\n",
       "      <th>last_watch_dt</th>\n",
       "      <th>total_dur</th>\n",
       "      <th>watched_pct</th>\n",
       "    </tr>\n",
       "  </thead>\n",
       "  <tbody>\n",
       "    <tr>\n",
       "      <th>1005287</th>\n",
       "      <td>785765</td>\n",
       "      <td>952</td>\n",
       "      <td>2021-07-13</td>\n",
       "      <td>26.0</td>\n",
       "      <td>1.0</td>\n",
       "    </tr>\n",
       "    <tr>\n",
       "      <th>258467</th>\n",
       "      <td>496165</td>\n",
       "      <td>4457</td>\n",
       "      <td>2021-07-10</td>\n",
       "      <td>8101.0</td>\n",
       "      <td>100.0</td>\n",
       "    </tr>\n",
       "  </tbody>\n",
       "</table>\n",
       "</div>"
      ],
      "text/plain": [
       "         user_id  item_id last_watch_dt  total_dur  watched_pct\n",
       "1005287   785765      952    2021-07-13       26.0          1.0\n",
       "258467    496165     4457    2021-07-10     8101.0        100.0"
      ]
     },
     "execution_count": 4,
     "metadata": {},
     "output_type": "execute_result"
    }
   ],
   "source": [
    "df_inter.sample(2)"
   ]
  },
  {
   "cell_type": "code",
   "execution_count": 5,
   "metadata": {},
   "outputs": [
    {
     "data": {
      "text/html": [
       "<div>\n",
       "<style scoped>\n",
       "    .dataframe tbody tr th:only-of-type {\n",
       "        vertical-align: middle;\n",
       "    }\n",
       "\n",
       "    .dataframe tbody tr th {\n",
       "        vertical-align: top;\n",
       "    }\n",
       "\n",
       "    .dataframe thead th {\n",
       "        text-align: right;\n",
       "    }\n",
       "</style>\n",
       "<table border=\"1\" class=\"dataframe\">\n",
       "  <thead>\n",
       "    <tr style=\"text-align: right;\">\n",
       "      <th></th>\n",
       "      <th>item_id</th>\n",
       "      <th>content_type</th>\n",
       "      <th>title</th>\n",
       "      <th>title_orig</th>\n",
       "      <th>release_year</th>\n",
       "      <th>genres</th>\n",
       "      <th>countries</th>\n",
       "      <th>for_kids</th>\n",
       "      <th>age_rating</th>\n",
       "      <th>studios</th>\n",
       "      <th>directors</th>\n",
       "      <th>actors</th>\n",
       "      <th>description</th>\n",
       "      <th>keywords</th>\n",
       "    </tr>\n",
       "  </thead>\n",
       "  <tbody>\n",
       "    <tr>\n",
       "      <th>3299</th>\n",
       "      <td>2155</td>\n",
       "      <td>film</td>\n",
       "      <td>Робакоп 2077</td>\n",
       "      <td>Automation</td>\n",
       "      <td>2019.0</td>\n",
       "      <td>фантастика, зарубежные, комедии</td>\n",
       "      <td>США</td>\n",
       "      <td>NaN</td>\n",
       "      <td>16.0</td>\n",
       "      <td>NaN</td>\n",
       "      <td>NaN</td>\n",
       "      <td>Виктория ДеМаре, Грэхэм Скиппер, Парри Шен, Сэ...</td>\n",
       "      <td>Действие фантастической комедии разворачиваетс...</td>\n",
       "      <td>Робакоп, 2077, 2019, США, друзья, месть, убийс...</td>\n",
       "    </tr>\n",
       "    <tr>\n",
       "      <th>910</th>\n",
       "      <td>7623</td>\n",
       "      <td>series</td>\n",
       "      <td>Допрос</td>\n",
       "      <td>Interrogation</td>\n",
       "      <td>2020.0</td>\n",
       "      <td>драмы, триллеры, криминал, детективы</td>\n",
       "      <td>Великобритания</td>\n",
       "      <td>NaN</td>\n",
       "      <td>18.0</td>\n",
       "      <td>CBS</td>\n",
       "      <td>Патрик Кейди, Эрнест Р. Дикерсон</td>\n",
       "      <td>Андре Ройо, Кайл Галлнер, Коди Смит-Макфи, Эбо...</td>\n",
       "      <td>«Основано на реальных событиях» — эта надпись ...</td>\n",
       "      <td>Допрос, 2020, Великобритания</td>\n",
       "    </tr>\n",
       "  </tbody>\n",
       "</table>\n",
       "</div>"
      ],
      "text/plain": [
       "      item_id content_type         title     title_orig  release_year  \\\n",
       "3299     2155         film  Робакоп 2077     Automation        2019.0   \n",
       "910      7623       series        Допрос  Interrogation        2020.0   \n",
       "\n",
       "                                    genres       countries  for_kids  \\\n",
       "3299       фантастика, зарубежные, комедии             США       NaN   \n",
       "910   драмы, триллеры, криминал, детективы  Великобритания       NaN   \n",
       "\n",
       "      age_rating studios                         directors  \\\n",
       "3299        16.0     NaN                               NaN   \n",
       "910         18.0     CBS  Патрик Кейди, Эрнест Р. Дикерсон   \n",
       "\n",
       "                                                 actors  \\\n",
       "3299  Виктория ДеМаре, Грэхэм Скиппер, Парри Шен, Сэ...   \n",
       "910   Андре Ройо, Кайл Галлнер, Коди Смит-Макфи, Эбо...   \n",
       "\n",
       "                                            description  \\\n",
       "3299  Действие фантастической комедии разворачиваетс...   \n",
       "910   «Основано на реальных событиях» — эта надпись ...   \n",
       "\n",
       "                                               keywords  \n",
       "3299  Робакоп, 2077, 2019, США, друзья, месть, убийс...  \n",
       "910                        Допрос, 2020, Великобритания  "
      ]
     },
     "execution_count": 5,
     "metadata": {},
     "output_type": "execute_result"
    }
   ],
   "source": [
    "df_items.sample(2)"
   ]
  },
  {
   "cell_type": "code",
   "execution_count": 6,
   "metadata": {},
   "outputs": [
    {
     "data": {
      "text/html": [
       "<div>\n",
       "<style scoped>\n",
       "    .dataframe tbody tr th:only-of-type {\n",
       "        vertical-align: middle;\n",
       "    }\n",
       "\n",
       "    .dataframe tbody tr th {\n",
       "        vertical-align: top;\n",
       "    }\n",
       "\n",
       "    .dataframe thead th {\n",
       "        text-align: right;\n",
       "    }\n",
       "</style>\n",
       "<table border=\"1\" class=\"dataframe\">\n",
       "  <thead>\n",
       "    <tr style=\"text-align: right;\">\n",
       "      <th></th>\n",
       "      <th>user_id</th>\n",
       "      <th>age</th>\n",
       "      <th>income</th>\n",
       "      <th>sex</th>\n",
       "      <th>kids_flg</th>\n",
       "    </tr>\n",
       "  </thead>\n",
       "  <tbody>\n",
       "    <tr>\n",
       "      <th>270783</th>\n",
       "      <td>1076072</td>\n",
       "      <td>age_25_34</td>\n",
       "      <td>income_20_40</td>\n",
       "      <td>Ж</td>\n",
       "      <td>0</td>\n",
       "    </tr>\n",
       "    <tr>\n",
       "      <th>13268</th>\n",
       "      <td>486459</td>\n",
       "      <td>age_18_24</td>\n",
       "      <td>income_40_60</td>\n",
       "      <td>М</td>\n",
       "      <td>0</td>\n",
       "    </tr>\n",
       "  </tbody>\n",
       "</table>\n",
       "</div>"
      ],
      "text/plain": [
       "        user_id        age        income sex  kids_flg\n",
       "270783  1076072  age_25_34  income_20_40   Ж         0\n",
       "13268    486459  age_18_24  income_40_60   М         0"
      ]
     },
     "execution_count": 6,
     "metadata": {},
     "output_type": "execute_result"
    }
   ],
   "source": [
    "df_users.sample(2)"
   ]
  },
  {
   "cell_type": "markdown",
   "metadata": {},
   "source": [
    "## Interactions"
   ]
  },
  {
   "cell_type": "markdown",
   "metadata": {},
   "source": [
    "### Overview"
   ]
  },
  {
   "cell_type": "code",
   "execution_count": 7,
   "metadata": {},
   "outputs": [
    {
     "name": "stdout",
     "output_type": "stream",
     "text": [
      "<class 'pandas.core.frame.DataFrame'>\n",
      "RangeIndex: 1288997 entries, 0 to 1288996\n",
      "Data columns (total 5 columns):\n",
      " #   Column         Non-Null Count    Dtype  \n",
      "---  ------         --------------    -----  \n",
      " 0   user_id        1288997 non-null  int64  \n",
      " 1   item_id        1288997 non-null  int64  \n",
      " 2   last_watch_dt  1288997 non-null  object \n",
      " 3   total_dur      1288996 non-null  float64\n",
      " 4   watched_pct    1288786 non-null  float64\n",
      "dtypes: float64(2), int64(2), object(1)\n",
      "memory usage: 49.2+ MB\n"
     ]
    }
   ],
   "source": [
    "df_inter.info()"
   ]
  },
  {
   "cell_type": "code",
   "execution_count": 8,
   "metadata": {},
   "outputs": [
    {
     "data": {
      "image/png": "[encoded data removed]",
      "text/plain": [
       "<Figure size 640x480 with 1 Axes>"
      ]
     },
     "metadata": {},
     "output_type": "display_data"
    }
   ],
   "source": [
    "sns.kdeplot(data=df_inter, x='watched_pct')\n",
    "plt.grid()"
   ]
  },
  {
   "cell_type": "code",
   "execution_count": 9,
   "metadata": {},
   "outputs": [
    {
     "data": {
      "image/png": "[encoded data removed]",
      "text/plain": [
       "<Figure size 640x480 with 1 Axes>"
      ]
     },
     "metadata": {},
     "output_type": "display_data"
    }
   ],
   "source": [
    "sns.kdeplot(df_inter.groupby('user_id').size())\n",
    "plt.xlim([-1, 10])\n",
    "plt.xlabel('Total count of interactions per user')\n",
    "plt.grid()"
   ]
  },
  {
   "cell_type": "markdown",
   "metadata": {},
   "source": [
    "### Preparation"
   ]
  },
  {
   "cell_type": "code",
   "execution_count": 22,
   "metadata": {},
   "outputs": [
    {
     "data": {
      "text/html": [
       "<div>\n",
       "<style scoped>\n",
       "    .dataframe tbody tr th:only-of-type {\n",
       "        vertical-align: middle;\n",
       "    }\n",
       "\n",
       "    .dataframe tbody tr th {\n",
       "        vertical-align: top;\n",
       "    }\n",
       "\n",
       "    .dataframe thead th {\n",
       "        text-align: right;\n",
       "    }\n",
       "</style>\n",
       "<table border=\"1\" class=\"dataframe\">\n",
       "  <thead>\n",
       "    <tr style=\"text-align: right;\">\n",
       "      <th></th>\n",
       "      <th>user_id</th>\n",
       "      <th>item_id</th>\n",
       "      <th>last_watch_dt</th>\n",
       "      <th>total_dur</th>\n",
       "      <th>watched_pct</th>\n",
       "    </tr>\n",
       "  </thead>\n",
       "  <tbody>\n",
       "    <tr>\n",
       "      <th>1288994</th>\n",
       "      <td>32937</td>\n",
       "      <td>10954</td>\n",
       "      <td>2021-05-13</td>\n",
       "      <td>71.0</td>\n",
       "      <td>1.0</td>\n",
       "    </tr>\n",
       "    <tr>\n",
       "      <th>1288995</th>\n",
       "      <td>311112</td>\n",
       "      <td>4151</td>\n",
       "      <td>2021-07-06</td>\n",
       "      <td>1480.0</td>\n",
       "      <td>13.0</td>\n",
       "    </tr>\n",
       "    <tr>\n",
       "      <th>1288996</th>\n",
       "      <td>498722</td>\n",
       "      <td>6143</td>\n",
       "      <td>20</td>\n",
       "      <td>NaN</td>\n",
       "      <td>NaN</td>\n",
       "    </tr>\n",
       "  </tbody>\n",
       "</table>\n",
       "</div>"
      ],
      "text/plain": [
       "         user_id  item_id last_watch_dt  total_dur  watched_pct\n",
       "1288994    32937    10954    2021-05-13       71.0          1.0\n",
       "1288995   311112     4151    2021-07-06     1480.0         13.0\n",
       "1288996   498722     6143            20        NaN          NaN"
      ]
     },
     "execution_count": 22,
     "metadata": {},
     "output_type": "execute_result"
    }
   ],
   "source": [
    "df_inter.tail(3)"
   ]
  },
  {
   "cell_type": "code",
   "execution_count": 23,
   "metadata": {},
   "outputs": [],
   "source": [
    "# drop defect interaction\n",
    "df_inter.drop(index=len(df_inter)-1, inplace=True)\n",
    "\n",
    "# total_dur is fully correlated with watched_pct.\n",
    "df_inter.drop(['total_dur'], axis=1, inplace=True)\n",
    "\n",
    "df_inter['watched_pct'] = df_inter['watched_pct'].fillna(50.)"
   ]
  },
  {
   "cell_type": "code",
   "execution_count": 25,
   "metadata": {},
   "outputs": [
    {
     "data": {
      "text/html": [
       "<div>\n",
       "<style scoped>\n",
       "    .dataframe tbody tr th:only-of-type {\n",
       "        vertical-align: middle;\n",
       "    }\n",
       "\n",
       "    .dataframe tbody tr th {\n",
       "        vertical-align: top;\n",
       "    }\n",
       "\n",
       "    .dataframe thead th {\n",
       "        text-align: right;\n",
       "    }\n",
       "</style>\n",
       "<table border=\"1\" class=\"dataframe\">\n",
       "  <thead>\n",
       "    <tr style=\"text-align: right;\">\n",
       "      <th></th>\n",
       "      <th>user_id</th>\n",
       "      <th>item_id</th>\n",
       "      <th>last_watch_dt</th>\n",
       "      <th>watched_pct</th>\n",
       "    </tr>\n",
       "  </thead>\n",
       "  <tbody>\n",
       "    <tr>\n",
       "      <th>799775</th>\n",
       "      <td>1052310</td>\n",
       "      <td>12820</td>\n",
       "      <td>2021-06-27</td>\n",
       "      <td>17.0</td>\n",
       "    </tr>\n",
       "  </tbody>\n",
       "</table>\n",
       "</div>"
      ],
      "text/plain": [
       "        user_id  item_id last_watch_dt  watched_pct\n",
       "799775  1052310    12820    2021-06-27         17.0"
      ]
     },
     "execution_count": 25,
     "metadata": {},
     "output_type": "execute_result"
    }
   ],
   "source": [
    "df_inter.sample(1)"
   ]
  },
  {
   "cell_type": "markdown",
   "metadata": {},
   "source": [
    "Save modified data to new csv-file."
   ]
  },
  {
   "cell_type": "code",
   "execution_count": 26,
   "metadata": {},
   "outputs": [],
   "source": [
    "df_inter.to_csv('./mod_data/interactions.csv', index=False)"
   ]
  },
  {
   "cell_type": "markdown",
   "metadata": {},
   "source": [
    "## Items"
   ]
  },
  {
   "cell_type": "markdown",
   "metadata": {},
   "source": [
    "### Overview"
   ]
  },
  {
   "cell_type": "code",
   "execution_count": 27,
   "metadata": {},
   "outputs": [
    {
     "data": {
      "text/html": [
       "<div>\n",
       "<style scoped>\n",
       "    .dataframe tbody tr th:only-of-type {\n",
       "        vertical-align: middle;\n",
       "    }\n",
       "\n",
       "    .dataframe tbody tr th {\n",
       "        vertical-align: top;\n",
       "    }\n",
       "\n",
       "    .dataframe thead th {\n",
       "        text-align: right;\n",
       "    }\n",
       "</style>\n",
       "<table border=\"1\" class=\"dataframe\">\n",
       "  <thead>\n",
       "    <tr style=\"text-align: right;\">\n",
       "      <th></th>\n",
       "      <th>content_type</th>\n",
       "      <th>title</th>\n",
       "      <th>title_orig</th>\n",
       "      <th>genres</th>\n",
       "      <th>countries</th>\n",
       "      <th>studios</th>\n",
       "      <th>directors</th>\n",
       "      <th>actors</th>\n",
       "      <th>description</th>\n",
       "      <th>keywords</th>\n",
       "    </tr>\n",
       "  </thead>\n",
       "  <tbody>\n",
       "    <tr>\n",
       "      <th>count</th>\n",
       "      <td>11909</td>\n",
       "      <td>11909</td>\n",
       "      <td>9090</td>\n",
       "      <td>11909</td>\n",
       "      <td>11894</td>\n",
       "      <td>755</td>\n",
       "      <td>11039</td>\n",
       "      <td>10156</td>\n",
       "      <td>11908</td>\n",
       "      <td>11502</td>\n",
       "    </tr>\n",
       "    <tr>\n",
       "      <th>unique</th>\n",
       "      <td>2</td>\n",
       "      <td>11461</td>\n",
       "      <td>8631</td>\n",
       "      <td>2273</td>\n",
       "      <td>635</td>\n",
       "      <td>37</td>\n",
       "      <td>6541</td>\n",
       "      <td>9943</td>\n",
       "      <td>11674</td>\n",
       "      <td>11459</td>\n",
       "    </tr>\n",
       "    <tr>\n",
       "      <th>top</th>\n",
       "      <td>film</td>\n",
       "      <td>Охота</td>\n",
       "      <td>Pet Sematary</td>\n",
       "      <td>документальное</td>\n",
       "      <td>США</td>\n",
       "      <td>HBO</td>\n",
       "      <td>Оливье Шиабоду</td>\n",
       "      <td>Александр Клюквин</td>\n",
       "      <td>МТС «Карантинники» — это домашние акустические...</td>\n",
       "      <td>2015, чехия, компания, трех</td>\n",
       "    </tr>\n",
       "    <tr>\n",
       "      <th>freq</th>\n",
       "      <td>9189</td>\n",
       "      <td>4</td>\n",
       "      <td>4</td>\n",
       "      <td>634</td>\n",
       "      <td>3337</td>\n",
       "      <td>242</td>\n",
       "      <td>388</td>\n",
       "      <td>20</td>\n",
       "      <td>35</td>\n",
       "      <td>6</td>\n",
       "    </tr>\n",
       "  </tbody>\n",
       "</table>\n",
       "</div>"
      ],
      "text/plain": [
       "       content_type  title    title_orig          genres countries studios  \\\n",
       "count         11909  11909          9090           11909     11894     755   \n",
       "unique            2  11461          8631            2273       635      37   \n",
       "top            film  Охота  Pet Sematary  документальное       США     HBO   \n",
       "freq           9189      4             4             634      3337     242   \n",
       "\n",
       "             directors             actors  \\\n",
       "count            11039              10156   \n",
       "unique            6541               9943   \n",
       "top     Оливье Шиабоду  Александр Клюквин   \n",
       "freq               388                 20   \n",
       "\n",
       "                                              description  \\\n",
       "count                                               11908   \n",
       "unique                                              11674   \n",
       "top     МТС «Карантинники» — это домашние акустические...   \n",
       "freq                                                   35   \n",
       "\n",
       "                           keywords  \n",
       "count                         11502  \n",
       "unique                        11459  \n",
       "top     2015, чехия, компания, трех  \n",
       "freq                              6  "
      ]
     },
     "execution_count": 27,
     "metadata": {},
     "output_type": "execute_result"
    }
   ],
   "source": [
    "df_items.describe(include='object')"
   ]
  },
  {
   "cell_type": "code",
   "execution_count": 28,
   "metadata": {},
   "outputs": [
    {
     "data": {
      "text/plain": [
       "content_type\n",
       "film      9189\n",
       "series    2720\n",
       "Name: count, dtype: int64"
      ]
     },
     "execution_count": 28,
     "metadata": {},
     "output_type": "execute_result"
    }
   ],
   "source": [
    "df_items['content_type'].value_counts()"
   ]
  },
  {
   "cell_type": "code",
   "execution_count": 29,
   "metadata": {},
   "outputs": [
    {
     "data": {
      "text/plain": [
       "age_rating\n",
       "0.0     1053\n",
       "6.0     1038\n",
       "12.0    2915\n",
       "16.0    4335\n",
       "18.0    2108\n",
       "21.0     459\n",
       "Name: count, dtype: int64"
      ]
     },
     "execution_count": 29,
     "metadata": {},
     "output_type": "execute_result"
    }
   ],
   "source": [
    "df_items['age_rating'].value_counts().sort_index()"
   ]
  },
  {
   "cell_type": "code",
   "execution_count": 30,
   "metadata": {},
   "outputs": [
    {
     "data": {
      "text/plain": [
       "genres\n",
       "документальное                                           634\n",
       "драмы                                                    614\n",
       "комедии                                                  474\n",
       "для взрослых                                             459\n",
       "мелодрамы, комедии                                       236\n",
       "                                                        ... \n",
       "фантастика, зарубежные, семейное, комедии                  1\n",
       "русские, приключения, исторические, семейное, фэнтези      1\n",
       "советские, экранизации, комедии                            1\n",
       "драмы, зарубежные, боевики, ужасы                          1\n",
       "драмы, спорт, криминал                                     1\n",
       "Name: count, Length: 2273, dtype: int64"
      ]
     },
     "execution_count": 30,
     "metadata": {},
     "output_type": "execute_result"
    }
   ],
   "source": [
    "df_items['genres'].value_counts()"
   ]
  },
  {
   "cell_type": "code",
   "execution_count": 31,
   "metadata": {},
   "outputs": [
    {
     "data": {
      "image/png": "[encoded data removed]",
      "text/plain": [
       "<Figure size 640x480 with 1 Axes>"
      ]
     },
     "metadata": {},
     "output_type": "display_data"
    }
   ],
   "source": [
    "df_items['release_year'].value_counts().sort_index().plot(logy=True);"
   ]
  },
  {
   "cell_type": "code",
   "execution_count": 32,
   "metadata": {},
   "outputs": [
    {
     "data": {
      "text/plain": [
       "отношения            5575\n",
       "соединенные штаты    2611\n",
       "Россия               2050\n",
       "женщины              1637\n",
       "любовь               1591\n",
       "США                  1497\n",
       "борьба               1374\n",
       "мужчины              1366\n",
       "преодоление          1283\n",
       "трудностей           1281\n",
       "Name: count, dtype: int64"
      ]
     },
     "execution_count": 32,
     "metadata": {},
     "output_type": "execute_result"
    }
   ],
   "source": [
    "listoflists = df_items['keywords'].apply(lambda line: str(line).split(', '))\n",
    "keywords = [word for line in listoflists for word in line]\n",
    "pd.Series(keywords).value_counts().head(10)"
   ]
  },
  {
   "cell_type": "code",
   "execution_count": 33,
   "metadata": {},
   "outputs": [
    {
     "data": {
      "text/html": [
       "<div>\n",
       "<style scoped>\n",
       "    .dataframe tbody tr th:only-of-type {\n",
       "        vertical-align: middle;\n",
       "    }\n",
       "\n",
       "    .dataframe tbody tr th {\n",
       "        vertical-align: top;\n",
       "    }\n",
       "\n",
       "    .dataframe thead th {\n",
       "        text-align: right;\n",
       "    }\n",
       "</style>\n",
       "<table border=\"1\" class=\"dataframe\">\n",
       "  <thead>\n",
       "    <tr style=\"text-align: right;\">\n",
       "      <th></th>\n",
       "      <th>item_id</th>\n",
       "      <th>content_type</th>\n",
       "      <th>title</th>\n",
       "      <th>title_orig</th>\n",
       "      <th>release_year</th>\n",
       "      <th>genres</th>\n",
       "      <th>countries</th>\n",
       "      <th>for_kids</th>\n",
       "      <th>age_rating</th>\n",
       "      <th>studios</th>\n",
       "      <th>directors</th>\n",
       "      <th>actors</th>\n",
       "      <th>description</th>\n",
       "      <th>keywords</th>\n",
       "    </tr>\n",
       "  </thead>\n",
       "  <tbody>\n",
       "    <tr>\n",
       "      <th>4637</th>\n",
       "      <td>16165</td>\n",
       "      <td>series</td>\n",
       "      <td>Стартап</td>\n",
       "      <td>NaN</td>\n",
       "      <td>2018.0</td>\n",
       "      <td>зарубежные, семейное, комедии</td>\n",
       "      <td>США</td>\n",
       "      <td>NaN</td>\n",
       "      <td>12.0</td>\n",
       "      <td>Sony Pictures</td>\n",
       "      <td>Зак Брафф, Майкл Патрик Джэнн, Ричи Кин</td>\n",
       "      <td>Боб Кленденин, Зак Брафф, Майкл Империоли, Мор...</td>\n",
       "      <td>Комедийное шоу о кризисе среднего возраста при...</td>\n",
       "      <td>Стартап, 2018, США, бизнес, брак, работа, семе...</td>\n",
       "    </tr>\n",
       "  </tbody>\n",
       "</table>\n",
       "</div>"
      ],
      "text/plain": [
       "      item_id content_type    title title_orig  release_year  \\\n",
       "4637    16165       series  Стартап        NaN        2018.0   \n",
       "\n",
       "                             genres countries  for_kids  age_rating  \\\n",
       "4637  зарубежные, семейное, комедии       США       NaN        12.0   \n",
       "\n",
       "            studios                                directors  \\\n",
       "4637  Sony Pictures  Зак Брафф, Майкл Патрик Джэнн, Ричи Кин   \n",
       "\n",
       "                                                 actors  \\\n",
       "4637  Боб Кленденин, Зак Брафф, Майкл Империоли, Мор...   \n",
       "\n",
       "                                            description  \\\n",
       "4637  Комедийное шоу о кризисе среднего возраста при...   \n",
       "\n",
       "                                               keywords  \n",
       "4637  Стартап, 2018, США, бизнес, брак, работа, семе...  "
      ]
     },
     "execution_count": 33,
     "metadata": {},
     "output_type": "execute_result"
    }
   ],
   "source": [
    "df_items.sample(1)"
   ]
  },
  {
   "cell_type": "markdown",
   "metadata": {},
   "source": [
    "### Preparation"
   ]
  },
  {
   "cell_type": "code",
   "execution_count": 40,
   "metadata": {},
   "outputs": [],
   "source": [
    "df_items_mod = df_items.drop(\n",
    "    ['title_orig', 'release_year', 'countries', 'for_kids', 'studios',\n",
    "     'directors', 'actors', 'description'], axis=1)"
   ]
  },
  {
   "cell_type": "code",
   "execution_count": 41,
   "metadata": {},
   "outputs": [
    {
     "data": {
      "text/plain": [
       "item_id           0\n",
       "content_type      0\n",
       "title             0\n",
       "genres            0\n",
       "age_rating        1\n",
       "keywords        407\n",
       "dtype: int64"
      ]
     },
     "execution_count": 41,
     "metadata": {},
     "output_type": "execute_result"
    }
   ],
   "source": [
    "df_items_mod.isnull().sum()"
   ]
  },
  {
   "cell_type": "code",
   "execution_count": 42,
   "metadata": {},
   "outputs": [],
   "source": [
    "df_items_mod['age_rating'] = df_items_mod['age_rating'].fillna(0)\n",
    "df_items_mod['age_rating'] = df_items_mod['age_rating'].astype(int)\n",
    "df_items_mod['age_rating'] = df_items_mod['age_rating'].astype('object')"
   ]
  },
  {
   "cell_type": "code",
   "execution_count": 43,
   "metadata": {},
   "outputs": [
    {
     "data": {
      "text/html": [
       "<div>\n",
       "<style scoped>\n",
       "    .dataframe tbody tr th:only-of-type {\n",
       "        vertical-align: middle;\n",
       "    }\n",
       "\n",
       "    .dataframe tbody tr th {\n",
       "        vertical-align: top;\n",
       "    }\n",
       "\n",
       "    .dataframe thead th {\n",
       "        text-align: right;\n",
       "    }\n",
       "</style>\n",
       "<table border=\"1\" class=\"dataframe\">\n",
       "  <thead>\n",
       "    <tr style=\"text-align: right;\">\n",
       "      <th></th>\n",
       "      <th>item_id</th>\n",
       "      <th>content_type</th>\n",
       "      <th>title</th>\n",
       "      <th>genres</th>\n",
       "      <th>age_rating</th>\n",
       "      <th>keywords</th>\n",
       "    </tr>\n",
       "  </thead>\n",
       "  <tbody>\n",
       "    <tr>\n",
       "      <th>6222</th>\n",
       "      <td>14260</td>\n",
       "      <td>film</td>\n",
       "      <td>Легендарные крушения Корсики</td>\n",
       "      <td>документальное</td>\n",
       "      <td>12</td>\n",
       "      <td>2020, франция, легендарные, крушения, корсики</td>\n",
       "    </tr>\n",
       "  </tbody>\n",
       "</table>\n",
       "</div>"
      ],
      "text/plain": [
       "      item_id content_type                         title          genres  \\\n",
       "6222    14260         film  Легендарные крушения Корсики  документальное   \n",
       "\n",
       "     age_rating                                       keywords  \n",
       "6222         12  2020, франция, легендарные, крушения, корсики  "
      ]
     },
     "execution_count": 43,
     "metadata": {},
     "output_type": "execute_result"
    }
   ],
   "source": [
    "df_items_mod.sample(1)"
   ]
  },
  {
   "cell_type": "code",
   "execution_count": 44,
   "metadata": {},
   "outputs": [],
   "source": [
    "df_items_mod.to_csv('./mod_data/items.csv', index=False)"
   ]
  },
  {
   "cell_type": "markdown",
   "metadata": {},
   "source": [
    "## Users overview"
   ]
  },
  {
   "cell_type": "markdown",
   "metadata": {},
   "source": [
    "### Overview"
   ]
  },
  {
   "cell_type": "code",
   "execution_count": 45,
   "metadata": {},
   "outputs": [
    {
     "name": "stdout",
     "output_type": "stream",
     "text": [
      "<class 'pandas.core.frame.DataFrame'>\n",
      "RangeIndex: 448798 entries, 0 to 448797\n",
      "Data columns (total 5 columns):\n",
      " #   Column    Non-Null Count   Dtype \n",
      "---  ------    --------------   ----- \n",
      " 0   user_id   448798 non-null  int64 \n",
      " 1   age       443303 non-null  object\n",
      " 2   income    443417 non-null  object\n",
      " 3   sex       443377 non-null  object\n",
      " 4   kids_flg  448798 non-null  int64 \n",
      "dtypes: int64(2), object(3)\n",
      "memory usage: 17.1+ MB\n"
     ]
    }
   ],
   "source": [
    "df_users.info()"
   ]
  },
  {
   "cell_type": "code",
   "execution_count": 46,
   "metadata": {},
   "outputs": [
    {
     "data": {
      "image/png": "[encoded data removed]",
      "text/plain": [
       "<Figure size 800x600 with 2 Axes>"
      ]
     },
     "metadata": {},
     "output_type": "display_data"
    }
   ],
   "source": [
    "plt.figure(figsize=(8, 6))\n",
    "plt.subplot(2, 1, 1)\n",
    "sns.lineplot(df_users['age'].value_counts().sort_index()/len(df_users), linestyle='dotted', marker='o')\n",
    "plt.ylabel('count, %')\n",
    "plt.grid()\n",
    "\n",
    "plt.subplot(2, 1, 2)\n",
    "sns.lineplot(df_users['income'].value_counts().sort_index()/len(df_users), linestyle='dotted', marker='o')\n",
    "plt.ylabel('count, %')\n",
    "plt.grid()\n",
    "\n",
    "plt.tight_layout()"
   ]
  },
  {
   "cell_type": "code",
   "execution_count": 47,
   "metadata": {},
   "outputs": [
    {
     "data": {
      "text/html": [
       "<div>\n",
       "<style scoped>\n",
       "    .dataframe tbody tr th:only-of-type {\n",
       "        vertical-align: middle;\n",
       "    }\n",
       "\n",
       "    .dataframe tbody tr th {\n",
       "        vertical-align: top;\n",
       "    }\n",
       "\n",
       "    .dataframe thead th {\n",
       "        text-align: right;\n",
       "    }\n",
       "</style>\n",
       "<table border=\"1\" class=\"dataframe\">\n",
       "  <thead>\n",
       "    <tr style=\"text-align: right;\">\n",
       "      <th></th>\n",
       "      <th>age</th>\n",
       "      <th>income</th>\n",
       "      <th>sex</th>\n",
       "    </tr>\n",
       "  </thead>\n",
       "  <tbody>\n",
       "    <tr>\n",
       "      <th>count</th>\n",
       "      <td>443303</td>\n",
       "      <td>443417</td>\n",
       "      <td>443377</td>\n",
       "    </tr>\n",
       "    <tr>\n",
       "      <th>unique</th>\n",
       "      <td>6</td>\n",
       "      <td>6</td>\n",
       "      <td>2</td>\n",
       "    </tr>\n",
       "    <tr>\n",
       "      <th>top</th>\n",
       "      <td>age_25_34</td>\n",
       "      <td>income_20_40</td>\n",
       "      <td>Ж</td>\n",
       "    </tr>\n",
       "    <tr>\n",
       "      <th>freq</th>\n",
       "      <td>128909</td>\n",
       "      <td>250031</td>\n",
       "      <td>225550</td>\n",
       "    </tr>\n",
       "  </tbody>\n",
       "</table>\n",
       "</div>"
      ],
      "text/plain": [
       "              age        income     sex\n",
       "count      443303        443417  443377\n",
       "unique          6             6       2\n",
       "top     age_25_34  income_20_40       Ж\n",
       "freq       128909        250031  225550"
      ]
     },
     "execution_count": 47,
     "metadata": {},
     "output_type": "execute_result"
    }
   ],
   "source": [
    "df_users.describe(include='object')"
   ]
  },
  {
   "cell_type": "code",
   "execution_count": 48,
   "metadata": {},
   "outputs": [
    {
     "data": {
      "text/plain": [
       "kids_flg\n",
       "0    305867\n",
       "1    142931\n",
       "Name: count, dtype: int64"
      ]
     },
     "execution_count": 48,
     "metadata": {},
     "output_type": "execute_result"
    }
   ],
   "source": [
    "df_users['kids_flg'].value_counts()"
   ]
  },
  {
   "cell_type": "markdown",
   "metadata": {},
   "source": [
    "### Preparation"
   ]
  },
  {
   "cell_type": "code",
   "execution_count": 49,
   "metadata": {},
   "outputs": [],
   "source": [
    "df_users['kids_flg'] = df_users['kids_flg'].fillna(0)\n",
    "df_users['age'] = df_users['age'].fillna('age_25_34')\n",
    "df_users['income'] = df_users['income'].fillna('income_20_40')\n",
    "df_users['sex'] = df_users['sex'].fillna('Ж')"
   ]
  },
  {
   "cell_type": "code",
   "execution_count": 51,
   "metadata": {},
   "outputs": [],
   "source": [
    "df_users.to_csv('./mod_data/users.csv', index=False)"
   ]
  }
 ],
 "metadata": {
  "kernelspec": {
   "display_name": "Python 3",
   "language": "python",
   "name": "python3"
  },
  "language_info": {
   "codemirror_mode": {
    "name": "ipython",
    "version": 3
   },
   "file_extension": ".py",
   "mimetype": "text/x-python",
   "name": "python",
   "nbconvert_exporter": "python",
   "pygments_lexer": "ipython3",
   "version": "3.11.9"
  }
 },
 "nbformat": 4,
 "nbformat_minor": 2
}
