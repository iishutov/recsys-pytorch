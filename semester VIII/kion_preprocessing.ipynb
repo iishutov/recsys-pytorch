{
 "cells": [
  {
   "cell_type": "code",
   "execution_count": 1,
   "metadata": {},
   "outputs": [],
   "source": [
    "import numpy as np\n",
    "import pandas as pd\n",
    "import matplotlib.pyplot as plt\n",
    "import seaborn as sns"
   ]
  },
  {
   "cell_type": "code",
   "execution_count": 2,
   "metadata": {},
   "outputs": [],
   "source": [
    "df_inter = pd.read_csv('./data/interactions.csv')\n",
    "df_items = pd.read_csv('./data/items.csv')\n",
    "df_users = pd.read_csv('./data/users.csv')"
   ]
  },
  {
   "cell_type": "code",
   "execution_count": 3,
   "metadata": {},
   "outputs": [
    {
     "data": {
      "text/html": [
       "<div>\n",
       "<style scoped>\n",
       "    .dataframe tbody tr th:only-of-type {\n",
       "        vertical-align: middle;\n",
       "    }\n",
       "\n",
       "    .dataframe tbody tr th {\n",
       "        vertical-align: top;\n",
       "    }\n",
       "\n",
       "    .dataframe thead th {\n",
       "        text-align: right;\n",
       "    }\n",
       "</style>\n",
       "<table border=\"1\" class=\"dataframe\">\n",
       "  <thead>\n",
       "    <tr style=\"text-align: right;\">\n",
       "      <th></th>\n",
       "      <th>user_id</th>\n",
       "      <th>item_id</th>\n",
       "      <th>last_watch_dt</th>\n",
       "      <th>total_dur</th>\n",
       "      <th>watched_pct</th>\n",
       "    </tr>\n",
       "  </thead>\n",
       "  <tbody>\n",
       "    <tr>\n",
       "      <th>806402</th>\n",
       "      <td>787847</td>\n",
       "      <td>9996</td>\n",
       "      <td>2021-08-20</td>\n",
       "      <td>39831.0</td>\n",
       "      <td>90.0</td>\n",
       "    </tr>\n",
       "    <tr>\n",
       "      <th>254103</th>\n",
       "      <td>462090</td>\n",
       "      <td>6382</td>\n",
       "      <td>2021-08-21</td>\n",
       "      <td>5856.0</td>\n",
       "      <td>19.0</td>\n",
       "    </tr>\n",
       "  </tbody>\n",
       "</table>\n",
       "</div>"
      ],
      "text/plain": [
       "        user_id  item_id last_watch_dt  total_dur  watched_pct\n",
       "806402   787847     9996    2021-08-20    39831.0         90.0\n",
       "254103   462090     6382    2021-08-21     5856.0         19.0"
      ]
     },
     "execution_count": 3,
     "metadata": {},
     "output_type": "execute_result"
    }
   ],
   "source": [
    "df_inter.sample(2)"
   ]
  },
  {
   "cell_type": "code",
   "execution_count": 4,
   "metadata": {},
   "outputs": [
    {
     "data": {
      "text/html": [
       "<div>\n",
       "<style scoped>\n",
       "    .dataframe tbody tr th:only-of-type {\n",
       "        vertical-align: middle;\n",
       "    }\n",
       "\n",
       "    .dataframe tbody tr th {\n",
       "        vertical-align: top;\n",
       "    }\n",
       "\n",
       "    .dataframe thead th {\n",
       "        text-align: right;\n",
       "    }\n",
       "</style>\n",
       "<table border=\"1\" class=\"dataframe\">\n",
       "  <thead>\n",
       "    <tr style=\"text-align: right;\">\n",
       "      <th></th>\n",
       "      <th>item_id</th>\n",
       "      <th>content_type</th>\n",
       "      <th>title</th>\n",
       "      <th>title_orig</th>\n",
       "      <th>release_year</th>\n",
       "      <th>genres</th>\n",
       "      <th>countries</th>\n",
       "      <th>for_kids</th>\n",
       "      <th>age_rating</th>\n",
       "      <th>studios</th>\n",
       "      <th>directors</th>\n",
       "      <th>actors</th>\n",
       "      <th>description</th>\n",
       "      <th>keywords</th>\n",
       "    </tr>\n",
       "  </thead>\n",
       "  <tbody>\n",
       "    <tr>\n",
       "      <th>11410</th>\n",
       "      <td>5355</td>\n",
       "      <td>film</td>\n",
       "      <td>Интимная студия</td>\n",
       "      <td>Intimate Studio</td>\n",
       "      <td>2015.0</td>\n",
       "      <td>для взрослых</td>\n",
       "      <td>Испания</td>\n",
       "      <td>NaN</td>\n",
       "      <td>21.0</td>\n",
       "      <td>NaN</td>\n",
       "      <td>ДиСанто</td>\n",
       "      <td>Стелла Кокс, Тина Кэй, Миша Кросс, Челси Ланет...</td>\n",
       "      <td>Челси владеет фотостудией, которая оказывает э...</td>\n",
       "      <td>Интимная студия, Intimate Studio, Стелла Кокс,...</td>\n",
       "    </tr>\n",
       "    <tr>\n",
       "      <th>6116</th>\n",
       "      <td>14099</td>\n",
       "      <td>film</td>\n",
       "      <td>Мумия: Гробница Императора Драконов</td>\n",
       "      <td>The Mummy: Tomb of the Dragon Emperor</td>\n",
       "      <td>2008.0</td>\n",
       "      <td>боевики, ужасы, триллеры, фэнтези</td>\n",
       "      <td>США, Германия, Китай, Канада</td>\n",
       "      <td>NaN</td>\n",
       "      <td>12.0</td>\n",
       "      <td>NaN</td>\n",
       "      <td>Роб Коэн</td>\n",
       "      <td>Брендан Фрейзер, Джет Ли, Мария Белло, Джон Ха...</td>\n",
       "      <td>Заколдованный волшебницей, безжалостный китайс...</td>\n",
       "      <td>Китай, меч, пирамида, мумия, йети, китайский и...</td>\n",
       "    </tr>\n",
       "  </tbody>\n",
       "</table>\n",
       "</div>"
      ],
      "text/plain": [
       "       item_id content_type                                title  \\\n",
       "11410     5355         film                      Интимная студия   \n",
       "6116     14099         film  Мумия: Гробница Императора Драконов   \n",
       "\n",
       "                                  title_orig  release_year  \\\n",
       "11410                        Intimate Studio        2015.0   \n",
       "6116   The Mummy: Tomb of the Dragon Emperor        2008.0   \n",
       "\n",
       "                                  genres                     countries  \\\n",
       "11410                       для взрослых                       Испания   \n",
       "6116   боевики, ужасы, триллеры, фэнтези  США, Германия, Китай, Канада   \n",
       "\n",
       "       for_kids  age_rating studios directors  \\\n",
       "11410       NaN        21.0     NaN   ДиСанто   \n",
       "6116        NaN        12.0     NaN  Роб Коэн   \n",
       "\n",
       "                                                  actors  \\\n",
       "11410  Стелла Кокс, Тина Кэй, Миша Кросс, Челси Ланет...   \n",
       "6116   Брендан Фрейзер, Джет Ли, Мария Белло, Джон Ха...   \n",
       "\n",
       "                                             description  \\\n",
       "11410  Челси владеет фотостудией, которая оказывает э...   \n",
       "6116   Заколдованный волшебницей, безжалостный китайс...   \n",
       "\n",
       "                                                keywords  \n",
       "11410  Интимная студия, Intimate Studio, Стелла Кокс,...  \n",
       "6116   Китай, меч, пирамида, мумия, йети, китайский и...  "
      ]
     },
     "execution_count": 4,
     "metadata": {},
     "output_type": "execute_result"
    }
   ],
   "source": [
    "df_items.sample(2)"
   ]
  },
  {
   "cell_type": "code",
   "execution_count": 5,
   "metadata": {},
   "outputs": [
    {
     "data": {
      "text/html": [
       "<div>\n",
       "<style scoped>\n",
       "    .dataframe tbody tr th:only-of-type {\n",
       "        vertical-align: middle;\n",
       "    }\n",
       "\n",
       "    .dataframe tbody tr th {\n",
       "        vertical-align: top;\n",
       "    }\n",
       "\n",
       "    .dataframe thead th {\n",
       "        text-align: right;\n",
       "    }\n",
       "</style>\n",
       "<table border=\"1\" class=\"dataframe\">\n",
       "  <thead>\n",
       "    <tr style=\"text-align: right;\">\n",
       "      <th></th>\n",
       "      <th>user_id</th>\n",
       "      <th>age</th>\n",
       "      <th>income</th>\n",
       "      <th>sex</th>\n",
       "      <th>kids_flg</th>\n",
       "    </tr>\n",
       "  </thead>\n",
       "  <tbody>\n",
       "    <tr>\n",
       "      <th>557812</th>\n",
       "      <td>851018</td>\n",
       "      <td>age_35_44</td>\n",
       "      <td>income_40_60</td>\n",
       "      <td>М</td>\n",
       "      <td>1</td>\n",
       "    </tr>\n",
       "    <tr>\n",
       "      <th>254955</th>\n",
       "      <td>782768</td>\n",
       "      <td>age_25_34</td>\n",
       "      <td>income_40_60</td>\n",
       "      <td>Ж</td>\n",
       "      <td>0</td>\n",
       "    </tr>\n",
       "  </tbody>\n",
       "</table>\n",
       "</div>"
      ],
      "text/plain": [
       "        user_id        age        income sex  kids_flg\n",
       "557812   851018  age_35_44  income_40_60   М         1\n",
       "254955   782768  age_25_34  income_40_60   Ж         0"
      ]
     },
     "execution_count": 5,
     "metadata": {},
     "output_type": "execute_result"
    }
   ],
   "source": [
    "df_users.sample(2)"
   ]
  },
  {
   "cell_type": "markdown",
   "metadata": {},
   "source": [
    "## Interactions"
   ]
  },
  {
   "cell_type": "markdown",
   "metadata": {},
   "source": [
    "### Overview"
   ]
  },
  {
   "cell_type": "code",
   "execution_count": 6,
   "metadata": {},
   "outputs": [
    {
     "name": "stdout",
     "output_type": "stream",
     "text": [
      "<class 'pandas.core.frame.DataFrame'>\n",
      "RangeIndex: 1594787 entries, 0 to 1594786\n",
      "Data columns (total 5 columns):\n",
      " #   Column         Non-Null Count    Dtype  \n",
      "---  ------         --------------    -----  \n",
      " 0   user_id        1594787 non-null  int64  \n",
      " 1   item_id        1594787 non-null  int64  \n",
      " 2   last_watch_dt  1594787 non-null  object \n",
      " 3   total_dur      1594786 non-null  float64\n",
      " 4   watched_pct    1594519 non-null  float64\n",
      "dtypes: float64(2), int64(2), object(1)\n",
      "memory usage: 60.8+ MB\n"
     ]
    }
   ],
   "source": [
    "df_inter.info()"
   ]
  },
  {
   "cell_type": "code",
   "execution_count": 7,
   "metadata": {},
   "outputs": [
    {
     "data": {
      "image/png": "[encoded data removed]",
      "text/plain": [
       "<Figure size 640x480 with 1 Axes>"
      ]
     },
     "metadata": {},
     "output_type": "display_data"
    }
   ],
   "source": [
    "sns.kdeplot(data=df_inter, x=df_inter['watched_pct'])\n",
    "plt.grid()"
   ]
  },
  {
   "cell_type": "markdown",
   "metadata": {},
   "source": [
    "### Preparation"
   ]
  },
  {
   "cell_type": "markdown",
   "metadata": {},
   "source": [
    "There`re some rows with NaN. Lets fill watched_pct with mean watched_pct value."
   ]
  },
  {
   "cell_type": "code",
   "execution_count": 8,
   "metadata": {},
   "outputs": [],
   "source": [
    "df_inter['watched_pct'] = df_inter['watched_pct'].fillna(df_inter['watched_pct'].mean())"
   ]
  },
  {
   "cell_type": "markdown",
   "metadata": {},
   "source": [
    "We will not study time series, so lets remove last_watch_dt. Also total_dur is fully correlated with watched_pct."
   ]
  },
  {
   "cell_type": "code",
   "execution_count": 9,
   "metadata": {},
   "outputs": [],
   "source": [
    "df_inter.drop(['last_watch_dt', 'total_dur'], axis=1, inplace=True)"
   ]
  },
  {
   "cell_type": "code",
   "execution_count": 10,
   "metadata": {},
   "outputs": [
    {
     "data": {
      "text/html": [
       "<div>\n",
       "<style scoped>\n",
       "    .dataframe tbody tr th:only-of-type {\n",
       "        vertical-align: middle;\n",
       "    }\n",
       "\n",
       "    .dataframe tbody tr th {\n",
       "        vertical-align: top;\n",
       "    }\n",
       "\n",
       "    .dataframe thead th {\n",
       "        text-align: right;\n",
       "    }\n",
       "</style>\n",
       "<table border=\"1\" class=\"dataframe\">\n",
       "  <thead>\n",
       "    <tr style=\"text-align: right;\">\n",
       "      <th></th>\n",
       "      <th>user_id</th>\n",
       "      <th>item_id</th>\n",
       "      <th>watched_pct</th>\n",
       "    </tr>\n",
       "  </thead>\n",
       "  <tbody>\n",
       "    <tr>\n",
       "      <th>1547925</th>\n",
       "      <td>476749</td>\n",
       "      <td>12841</td>\n",
       "      <td>41.0</td>\n",
       "    </tr>\n",
       "  </tbody>\n",
       "</table>\n",
       "</div>"
      ],
      "text/plain": [
       "         user_id  item_id  watched_pct\n",
       "1547925   476749    12841         41.0"
      ]
     },
     "execution_count": 10,
     "metadata": {},
     "output_type": "execute_result"
    }
   ],
   "source": [
    "df_inter.sample(1)"
   ]
  },
  {
   "cell_type": "markdown",
   "metadata": {},
   "source": [
    "Save modified data to new csv-file."
   ]
  },
  {
   "cell_type": "code",
   "execution_count": 11,
   "metadata": {},
   "outputs": [],
   "source": [
    "df_inter.to_csv('./mod_data/interactions.csv', index=False)"
   ]
  },
  {
   "cell_type": "markdown",
   "metadata": {},
   "source": [
    "## Items"
   ]
  },
  {
   "cell_type": "markdown",
   "metadata": {},
   "source": [
    "### Overview"
   ]
  },
  {
   "cell_type": "code",
   "execution_count": 12,
   "metadata": {},
   "outputs": [
    {
     "data": {
      "text/html": [
       "<div>\n",
       "<style scoped>\n",
       "    .dataframe tbody tr th:only-of-type {\n",
       "        vertical-align: middle;\n",
       "    }\n",
       "\n",
       "    .dataframe tbody tr th {\n",
       "        vertical-align: top;\n",
       "    }\n",
       "\n",
       "    .dataframe thead th {\n",
       "        text-align: right;\n",
       "    }\n",
       "</style>\n",
       "<table border=\"1\" class=\"dataframe\">\n",
       "  <thead>\n",
       "    <tr style=\"text-align: right;\">\n",
       "      <th></th>\n",
       "      <th>content_type</th>\n",
       "      <th>title</th>\n",
       "      <th>title_orig</th>\n",
       "      <th>genres</th>\n",
       "      <th>countries</th>\n",
       "      <th>studios</th>\n",
       "      <th>directors</th>\n",
       "      <th>actors</th>\n",
       "      <th>description</th>\n",
       "      <th>keywords</th>\n",
       "    </tr>\n",
       "  </thead>\n",
       "  <tbody>\n",
       "    <tr>\n",
       "      <th>count</th>\n",
       "      <td>15963</td>\n",
       "      <td>15963</td>\n",
       "      <td>11218</td>\n",
       "      <td>15963</td>\n",
       "      <td>15926</td>\n",
       "      <td>1065</td>\n",
       "      <td>14454</td>\n",
       "      <td>13344</td>\n",
       "      <td>15961</td>\n",
       "      <td>15540</td>\n",
       "    </tr>\n",
       "    <tr>\n",
       "      <th>unique</th>\n",
       "      <td>2</td>\n",
       "      <td>15293</td>\n",
       "      <td>10575</td>\n",
       "      <td>2771</td>\n",
       "      <td>687</td>\n",
       "      <td>38</td>\n",
       "      <td>7973</td>\n",
       "      <td>12996</td>\n",
       "      <td>15619</td>\n",
       "      <td>15492</td>\n",
       "    </tr>\n",
       "    <tr>\n",
       "      <th>top</th>\n",
       "      <td>film</td>\n",
       "      <td>Охота</td>\n",
       "      <td>Little Women</td>\n",
       "      <td>документальное</td>\n",
       "      <td>Россия</td>\n",
       "      <td>HBO</td>\n",
       "      <td>Оливье Шиабоду</td>\n",
       "      <td>Александр Клюквин</td>\n",
       "      <td>МТС «Карантинники» — это домашние акустические...</td>\n",
       "      <td>2015, чехия, компания, трех</td>\n",
       "    </tr>\n",
       "    <tr>\n",
       "      <th>freq</th>\n",
       "      <td>12002</td>\n",
       "      <td>5</td>\n",
       "      <td>4</td>\n",
       "      <td>816</td>\n",
       "      <td>4237</td>\n",
       "      <td>353</td>\n",
       "      <td>511</td>\n",
       "      <td>25</td>\n",
       "      <td>36</td>\n",
       "      <td>6</td>\n",
       "    </tr>\n",
       "  </tbody>\n",
       "</table>\n",
       "</div>"
      ],
      "text/plain": [
       "       content_type  title    title_orig          genres countries studios  \\\n",
       "count         15963  15963         11218           15963     15926    1065   \n",
       "unique            2  15293         10575            2771       687      38   \n",
       "top            film  Охота  Little Women  документальное    Россия     HBO   \n",
       "freq          12002      5             4             816      4237     353   \n",
       "\n",
       "             directors             actors  \\\n",
       "count            14454              13344   \n",
       "unique            7973              12996   \n",
       "top     Оливье Шиабоду  Александр Клюквин   \n",
       "freq               511                 25   \n",
       "\n",
       "                                              description  \\\n",
       "count                                               15961   \n",
       "unique                                              15619   \n",
       "top     МТС «Карантинники» — это домашние акустические...   \n",
       "freq                                                   36   \n",
       "\n",
       "                           keywords  \n",
       "count                         15540  \n",
       "unique                        15492  \n",
       "top     2015, чехия, компания, трех  \n",
       "freq                              6  "
      ]
     },
     "execution_count": 12,
     "metadata": {},
     "output_type": "execute_result"
    }
   ],
   "source": [
    "df_items.describe(include='object')"
   ]
  },
  {
   "cell_type": "code",
   "execution_count": 13,
   "metadata": {},
   "outputs": [
    {
     "data": {
      "text/plain": [
       "content_type\n",
       "film      12002\n",
       "series     3961\n",
       "Name: count, dtype: int64"
      ]
     },
     "execution_count": 13,
     "metadata": {},
     "output_type": "execute_result"
    }
   ],
   "source": [
    "df_items['content_type'].value_counts()"
   ]
  },
  {
   "cell_type": "code",
   "execution_count": 14,
   "metadata": {},
   "outputs": [
    {
     "data": {
      "text/plain": [
       "age_rating\n",
       "0.0     1518\n",
       "6.0     1538\n",
       "12.0    4147\n",
       "16.0    5729\n",
       "18.0    2547\n",
       "21.0     482\n",
       "Name: count, dtype: int64"
      ]
     },
     "execution_count": 14,
     "metadata": {},
     "output_type": "execute_result"
    }
   ],
   "source": [
    "df_items['age_rating'].value_counts().sort_index()"
   ]
  },
  {
   "cell_type": "code",
   "execution_count": 15,
   "metadata": {},
   "outputs": [
    {
     "data": {
      "text/plain": [
       "genres\n",
       "документальное                                                             816\n",
       "драмы                                                                      719\n",
       "комедии                                                                    564\n",
       "для взрослых                                                               482\n",
       "русские, мелодрамы                                                         416\n",
       "                                                                          ... \n",
       "драмы, зарубежные, спорт, семейное, комедии                                  1\n",
       "музыкальные, драмы, зарубежные, семейное, комедии                            1\n",
       "приключения, полнометражные, зарубежные, семейное, западные мультфильмы      1\n",
       "детективы, приключения, зарубежные, триллеры, ужасы                          1\n",
       "фэнтези, семейное, криминал, комедии                                         1\n",
       "Name: count, Length: 2771, dtype: int64"
      ]
     },
     "execution_count": 15,
     "metadata": {},
     "output_type": "execute_result"
    }
   ],
   "source": [
    "df_items['genres'].value_counts()"
   ]
  },
  {
   "cell_type": "code",
   "execution_count": 16,
   "metadata": {},
   "outputs": [
    {
     "data": {
      "image/png": "[encoded data removed]",
      "text/plain": [
       "<Figure size 640x480 with 1 Axes>"
      ]
     },
     "metadata": {},
     "output_type": "display_data"
    }
   ],
   "source": [
    "df_items['release_year'].value_counts().sort_index().plot(logy=True);"
   ]
  },
  {
   "cell_type": "code",
   "execution_count": 17,
   "metadata": {},
   "outputs": [
    {
     "data": {
      "text/plain": [
       "отношения            9208\n",
       "Россия               3294\n",
       "соединенные штаты    2844\n",
       "женщины              2714\n",
       "любовь               2639\n",
       "                     ... \n",
       "дальний космос          1\n",
       "ушедшие                 1\n",
       "Съёмка от лица ге       1\n",
       "Сукияки                 1\n",
       "Гоша                    1\n",
       "Name: count, Length: 43693, dtype: int64"
      ]
     },
     "execution_count": 17,
     "metadata": {},
     "output_type": "execute_result"
    }
   ],
   "source": [
    "listoflists = df_items['keywords'].apply(lambda line: str(line).split(', '))\n",
    "keywords = [word for line in listoflists for word in line]\n",
    "pd.Series(keywords).value_counts()"
   ]
  },
  {
   "cell_type": "code",
   "execution_count": 18,
   "metadata": {},
   "outputs": [
    {
     "data": {
      "text/html": [
       "<div>\n",
       "<style scoped>\n",
       "    .dataframe tbody tr th:only-of-type {\n",
       "        vertical-align: middle;\n",
       "    }\n",
       "\n",
       "    .dataframe tbody tr th {\n",
       "        vertical-align: top;\n",
       "    }\n",
       "\n",
       "    .dataframe thead th {\n",
       "        text-align: right;\n",
       "    }\n",
       "</style>\n",
       "<table border=\"1\" class=\"dataframe\">\n",
       "  <thead>\n",
       "    <tr style=\"text-align: right;\">\n",
       "      <th></th>\n",
       "      <th>item_id</th>\n",
       "      <th>content_type</th>\n",
       "      <th>title</th>\n",
       "      <th>title_orig</th>\n",
       "      <th>release_year</th>\n",
       "      <th>genres</th>\n",
       "      <th>countries</th>\n",
       "      <th>for_kids</th>\n",
       "      <th>age_rating</th>\n",
       "      <th>studios</th>\n",
       "      <th>directors</th>\n",
       "      <th>actors</th>\n",
       "      <th>description</th>\n",
       "      <th>keywords</th>\n",
       "    </tr>\n",
       "  </thead>\n",
       "  <tbody>\n",
       "    <tr>\n",
       "      <th>1834</th>\n",
       "      <td>16143</td>\n",
       "      <td>film</td>\n",
       "      <td>В тылу врага</td>\n",
       "      <td>Behind Enemy Lines</td>\n",
       "      <td>2001.0</td>\n",
       "      <td>боевики, драмы, триллеры, военные</td>\n",
       "      <td>США</td>\n",
       "      <td>NaN</td>\n",
       "      <td>18.0</td>\n",
       "      <td>NaN</td>\n",
       "      <td>Джон Мур</td>\n",
       "      <td>Оуэн Уилсон, Джин Хэкмен, Гэбриел Махт, Чарльз...</td>\n",
       "      <td>Молодой лейтенант ВВС США Крис Бернетт, один и...</td>\n",
       "      <td>вертолет, военные преступления, снайпер, Босни...</td>\n",
       "    </tr>\n",
       "  </tbody>\n",
       "</table>\n",
       "</div>"
      ],
      "text/plain": [
       "      item_id content_type         title          title_orig  release_year  \\\n",
       "1834    16143         film  В тылу врага  Behind Enemy Lines        2001.0   \n",
       "\n",
       "                                 genres countries  for_kids  age_rating  \\\n",
       "1834  боевики, драмы, триллеры, военные       США       NaN        18.0   \n",
       "\n",
       "     studios directors                                             actors  \\\n",
       "1834     NaN  Джон Мур  Оуэн Уилсон, Джин Хэкмен, Гэбриел Махт, Чарльз...   \n",
       "\n",
       "                                            description  \\\n",
       "1834  Молодой лейтенант ВВС США Крис Бернетт, один и...   \n",
       "\n",
       "                                               keywords  \n",
       "1834  вертолет, военные преступления, снайпер, Босни...  "
      ]
     },
     "execution_count": 18,
     "metadata": {},
     "output_type": "execute_result"
    }
   ],
   "source": [
    "df_items.sample(1)"
   ]
  },
  {
   "cell_type": "markdown",
   "metadata": {},
   "source": [
    "### Preparation"
   ]
  },
  {
   "cell_type": "code",
   "execution_count": 19,
   "metadata": {},
   "outputs": [
    {
     "data": {
      "text/html": [
       "<div>\n",
       "<style scoped>\n",
       "    .dataframe tbody tr th:only-of-type {\n",
       "        vertical-align: middle;\n",
       "    }\n",
       "\n",
       "    .dataframe tbody tr th {\n",
       "        vertical-align: top;\n",
       "    }\n",
       "\n",
       "    .dataframe thead th {\n",
       "        text-align: right;\n",
       "    }\n",
       "</style>\n",
       "<table border=\"1\" class=\"dataframe\">\n",
       "  <thead>\n",
       "    <tr style=\"text-align: right;\">\n",
       "      <th></th>\n",
       "      <th>item_id</th>\n",
       "      <th>content_type</th>\n",
       "      <th>title</th>\n",
       "      <th>genres</th>\n",
       "      <th>age_rating</th>\n",
       "      <th>keywords</th>\n",
       "    </tr>\n",
       "  </thead>\n",
       "  <tbody>\n",
       "    <tr>\n",
       "      <th>277</th>\n",
       "      <td>5091</td>\n",
       "      <td>film</td>\n",
       "      <td>[4К] Наветренные острова – жемчужина Полинезии</td>\n",
       "      <td>документальное</td>\n",
       "      <td>12.0</td>\n",
       "      <td>2020, франция, 4к, наветренные, острова, жемчу...</td>\n",
       "    </tr>\n",
       "  </tbody>\n",
       "</table>\n",
       "</div>"
      ],
      "text/plain": [
       "     item_id content_type                                           title  \\\n",
       "277     5091         film  [4К] Наветренные острова – жемчужина Полинезии   \n",
       "\n",
       "             genres  age_rating  \\\n",
       "277  документальное        12.0   \n",
       "\n",
       "                                              keywords  \n",
       "277  2020, франция, 4к, наветренные, острова, жемчу...  "
      ]
     },
     "execution_count": 19,
     "metadata": {},
     "output_type": "execute_result"
    }
   ],
   "source": [
    "df_items_mod = df_items.drop(\n",
    "    ['title_orig', 'release_year', 'countries', 'for_kids', 'studios',\n",
    "     'directors', 'actors', 'description'], axis=1)\n",
    "\n",
    "df_items_mod.sample(1)"
   ]
  },
  {
   "cell_type": "code",
   "execution_count": 20,
   "metadata": {},
   "outputs": [],
   "source": [
    "df_items_mod['age_rating'] = df_items_mod['age_rating'].fillna(0)\n",
    "df_items_mod['age_rating'] = df_items_mod['age_rating'].astype(int)\n",
    "df_items_mod['age_rating'] = df_items_mod['age_rating'].astype('object')"
   ]
  },
  {
   "cell_type": "code",
   "execution_count": 21,
   "metadata": {},
   "outputs": [
    {
     "data": {
      "text/html": [
       "<div>\n",
       "<style scoped>\n",
       "    .dataframe tbody tr th:only-of-type {\n",
       "        vertical-align: middle;\n",
       "    }\n",
       "\n",
       "    .dataframe tbody tr th {\n",
       "        vertical-align: top;\n",
       "    }\n",
       "\n",
       "    .dataframe thead th {\n",
       "        text-align: right;\n",
       "    }\n",
       "</style>\n",
       "<table border=\"1\" class=\"dataframe\">\n",
       "  <thead>\n",
       "    <tr style=\"text-align: right;\">\n",
       "      <th></th>\n",
       "      <th>item_id</th>\n",
       "      <th>content_type</th>\n",
       "      <th>title</th>\n",
       "      <th>genres</th>\n",
       "      <th>age_rating</th>\n",
       "      <th>keywords</th>\n",
       "    </tr>\n",
       "  </thead>\n",
       "  <tbody>\n",
       "    <tr>\n",
       "      <th>12222</th>\n",
       "      <td>6413</td>\n",
       "      <td>film</td>\n",
       "      <td>Братство крови</td>\n",
       "      <td>зарубежные, триллеры, ужасы</td>\n",
       "      <td>16</td>\n",
       "      <td>Братство, крови, 2007, США, вампиры, оборотни,...</td>\n",
       "    </tr>\n",
       "  </tbody>\n",
       "</table>\n",
       "</div>"
      ],
      "text/plain": [
       "       item_id content_type           title                       genres  \\\n",
       "12222     6413         film  Братство крови  зарубежные, триллеры, ужасы   \n",
       "\n",
       "      age_rating                                           keywords  \n",
       "12222         16  Братство, крови, 2007, США, вампиры, оборотни,...  "
      ]
     },
     "execution_count": 21,
     "metadata": {},
     "output_type": "execute_result"
    }
   ],
   "source": [
    "df_items_mod.sample(1)"
   ]
  },
  {
   "cell_type": "code",
   "execution_count": 22,
   "metadata": {},
   "outputs": [],
   "source": [
    "df_items_mod.to_csv('./mod_data/items.csv', index=False)"
   ]
  },
  {
   "cell_type": "markdown",
   "metadata": {},
   "source": [
    "## Users overview"
   ]
  },
  {
   "cell_type": "markdown",
   "metadata": {},
   "source": [
    "### Overview"
   ]
  },
  {
   "cell_type": "code",
   "execution_count": 23,
   "metadata": {},
   "outputs": [
    {
     "name": "stdout",
     "output_type": "stream",
     "text": [
      "<class 'pandas.core.frame.DataFrame'>\n",
      "RangeIndex: 840197 entries, 0 to 840196\n",
      "Data columns (total 5 columns):\n",
      " #   Column    Non-Null Count   Dtype \n",
      "---  ------    --------------   ----- \n",
      " 0   user_id   840197 non-null  int64 \n",
      " 1   age       826102 non-null  object\n",
      " 2   income    825421 non-null  object\n",
      " 3   sex       826366 non-null  object\n",
      " 4   kids_flg  840197 non-null  int64 \n",
      "dtypes: int64(2), object(3)\n",
      "memory usage: 32.1+ MB\n"
     ]
    }
   ],
   "source": [
    "df_users.info()"
   ]
  },
  {
   "cell_type": "code",
   "execution_count": 24,
   "metadata": {},
   "outputs": [
    {
     "data": {
      "image/png": "[encoded data removed]",
      "text/plain": [
       "<Figure size 800x600 with 2 Axes>"
      ]
     },
     "metadata": {},
     "output_type": "display_data"
    }
   ],
   "source": [
    "plt.figure(figsize=(8, 6))\n",
    "plt.subplot(2, 1, 1)\n",
    "sns.lineplot(df_users['age'].value_counts().sort_index()/len(df_users), linestyle='dotted', marker='o')\n",
    "plt.ylabel('count, %')\n",
    "plt.grid()\n",
    "\n",
    "plt.subplot(2, 1, 2)\n",
    "sns.lineplot(df_users['income'].value_counts().sort_index()/len(df_users), linestyle='dotted', marker='o')\n",
    "plt.ylabel('count, %')\n",
    "plt.grid()\n",
    "\n",
    "plt.tight_layout()"
   ]
  },
  {
   "cell_type": "code",
   "execution_count": 25,
   "metadata": {},
   "outputs": [
    {
     "data": {
      "text/html": [
       "<div>\n",
       "<style scoped>\n",
       "    .dataframe tbody tr th:only-of-type {\n",
       "        vertical-align: middle;\n",
       "    }\n",
       "\n",
       "    .dataframe tbody tr th {\n",
       "        vertical-align: top;\n",
       "    }\n",
       "\n",
       "    .dataframe thead th {\n",
       "        text-align: right;\n",
       "    }\n",
       "</style>\n",
       "<table border=\"1\" class=\"dataframe\">\n",
       "  <thead>\n",
       "    <tr style=\"text-align: right;\">\n",
       "      <th></th>\n",
       "      <th>age</th>\n",
       "      <th>income</th>\n",
       "      <th>sex</th>\n",
       "    </tr>\n",
       "  </thead>\n",
       "  <tbody>\n",
       "    <tr>\n",
       "      <th>count</th>\n",
       "      <td>826102</td>\n",
       "      <td>825421</td>\n",
       "      <td>826366</td>\n",
       "    </tr>\n",
       "    <tr>\n",
       "      <th>unique</th>\n",
       "      <td>6</td>\n",
       "      <td>6</td>\n",
       "      <td>2</td>\n",
       "    </tr>\n",
       "    <tr>\n",
       "      <th>top</th>\n",
       "      <td>age_25_34</td>\n",
       "      <td>income_20_40</td>\n",
       "      <td>Ж</td>\n",
       "    </tr>\n",
       "    <tr>\n",
       "      <th>freq</th>\n",
       "      <td>233926</td>\n",
       "      <td>471519</td>\n",
       "      <td>425270</td>\n",
       "    </tr>\n",
       "  </tbody>\n",
       "</table>\n",
       "</div>"
      ],
      "text/plain": [
       "              age        income     sex\n",
       "count      826102        825421  826366\n",
       "unique          6             6       2\n",
       "top     age_25_34  income_20_40       Ж\n",
       "freq       233926        471519  425270"
      ]
     },
     "execution_count": 25,
     "metadata": {},
     "output_type": "execute_result"
    }
   ],
   "source": [
    "df_users.describe(include='object')"
   ]
  },
  {
   "cell_type": "code",
   "execution_count": 26,
   "metadata": {},
   "outputs": [
    {
     "data": {
      "text/plain": [
       "kids_flg\n",
       "0    587209\n",
       "1    252988\n",
       "Name: count, dtype: int64"
      ]
     },
     "execution_count": 26,
     "metadata": {},
     "output_type": "execute_result"
    }
   ],
   "source": [
    "df_users['kids_flg'].value_counts()"
   ]
  },
  {
   "cell_type": "markdown",
   "metadata": {},
   "source": [
    "### Preparation"
   ]
  },
  {
   "cell_type": "code",
   "execution_count": 27,
   "metadata": {},
   "outputs": [],
   "source": [
    "df_users['kids_flg'] = df_users['kids_flg'].fillna(0)\n",
    "df_users['age'] = df_users['age'].fillna('age_25_34')\n",
    "df_users['income'] = df_users['income'].fillna('income_20_40')\n",
    "df_users['sex'] = df_users['sex'].fillna('Ж')"
   ]
  },
  {
   "cell_type": "code",
   "execution_count": 28,
   "metadata": {},
   "outputs": [],
   "source": [
    "df_users.to_csv('./mod_data/users.csv', index=False)"
   ]
  }
 ],
 "metadata": {
  "kernelspec": {
   "display_name": "Python 3",
   "language": "python",
   "name": "python3"
  },
  "language_info": {
   "codemirror_mode": {
    "name": "ipython",
    "version": 3
   },
   "file_extension": ".py",
   "mimetype": "text/x-python",
   "name": "python",
   "nbconvert_exporter": "python",
   "pygments_lexer": "ipython3",
   "version": "3.11.9"
  }
 },
 "nbformat": 4,
 "nbformat_minor": 2
}
