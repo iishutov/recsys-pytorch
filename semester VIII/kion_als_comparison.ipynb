{
 "cells": [
  {
   "cell_type": "code",
   "execution_count": 1,
   "metadata": {},
   "outputs": [],
   "source": [
    "# !pip install implicit\n",
    "\n",
    "import numpy as np\n",
    "import pandas as pd\n",
    "\n",
    "from utils.data_transformation import get_train_csr_matrix, get_test_warm_data\n",
    "from utils.evaluation import compute_metrics\n",
    "\n",
    "from scipy.sparse import csr_matrix\n",
    "from implicit.als import AlternatingLeastSquares\n",
    "from implicit.evaluation import precision_at_k, mean_average_precision_at_k"
   ]
  },
  {
   "cell_type": "code",
   "execution_count": 2,
   "metadata": {},
   "outputs": [
    {
     "data": {
      "application/vnd.jupyter.widget-view+json": {
       "model_id": "78be6e4b253d4c6ebdbe196f305d5834",
       "version_major": 2,
       "version_minor": 0
      },
      "text/plain": [
       "  0%|          | 0/30 [00:00<?, ?it/s]"
      ]
     },
     "metadata": {},
     "output_type": "display_data"
    }
   ],
   "source": [
    "train_ratio, watched_pct_threshold = 0.8, 50\n",
    "user_movies, users_rev_mapping, movies_rev_mapping = get_train_csr_matrix(train_ratio, watched_pct_threshold)\n",
    "\n",
    "als_model = AlternatingLeastSquares(factors=50, regularization=0.05, iterations=30, random_state=42)\n",
    "als_model.fit(user_movies)"
   ]
  },
  {
   "cell_type": "code",
   "execution_count": 3,
   "metadata": {},
   "outputs": [],
   "source": [
    "df_inter = pd.read_csv('processed_data/interactions.csv')\n",
    "df_items = pd.read_csv('processed_data/items.csv')\n",
    "\n",
    "train_size = int(train_ratio*len(df_inter))\n",
    "\n",
    "users_mapping = {user_id: idx for idx, user_id in users_rev_mapping.items()}\n",
    "movies_mapping = {movie_id: idx for idx, movie_id in movies_rev_mapping.items()}\n",
    "\n",
    "id_df_idx_mapping = {id: idx for idx, id in df_items['item_id'].items()}"
   ]
  },
  {
   "cell_type": "markdown",
   "metadata": {},
   "source": [
    "### Example of making recommendations by AlternatingLeastSquares"
   ]
  },
  {
   "cell_type": "code",
   "execution_count": 4,
   "metadata": {},
   "outputs": [
    {
     "data": {
      "text/html": [
       "<div>\n",
       "<style scoped>\n",
       "    .dataframe tbody tr th:only-of-type {\n",
       "        vertical-align: middle;\n",
       "    }\n",
       "\n",
       "    .dataframe tbody tr th {\n",
       "        vertical-align: top;\n",
       "    }\n",
       "\n",
       "    .dataframe thead th {\n",
       "        text-align: right;\n",
       "    }\n",
       "</style>\n",
       "<table border=\"1\" class=\"dataframe\">\n",
       "  <thead>\n",
       "    <tr style=\"text-align: right;\">\n",
       "      <th></th>\n",
       "      <th>user_id</th>\n",
       "      <th>item_id</th>\n",
       "      <th>last_watch_dt</th>\n",
       "      <th>watched_pct</th>\n",
       "      <th>content_type</th>\n",
       "      <th>title</th>\n",
       "      <th>genres</th>\n",
       "      <th>age_rating</th>\n",
       "      <th>keywords</th>\n",
       "    </tr>\n",
       "  </thead>\n",
       "  <tbody>\n",
       "    <tr>\n",
       "      <th>0</th>\n",
       "      <td>11420</td>\n",
       "      <td>9342</td>\n",
       "      <td>2021-03-13</td>\n",
       "      <td>85.0</td>\n",
       "      <td>film</td>\n",
       "      <td>Дэдпул</td>\n",
       "      <td>боевики, фантастика, приключения, комедии</td>\n",
       "      <td>18</td>\n",
       "      <td>антигерой, наемник, супергерой, основанный на ...</td>\n",
       "    </tr>\n",
       "    <tr>\n",
       "      <th>1</th>\n",
       "      <td>11420</td>\n",
       "      <td>12849</td>\n",
       "      <td>2021-03-13</td>\n",
       "      <td>38.0</td>\n",
       "      <td>film</td>\n",
       "      <td>Первый мститель</td>\n",
       "      <td>боевики, фантастика, приключения</td>\n",
       "      <td>12</td>\n",
       "      <td>нью-йорк, вторая мировая война, нацисты, супер...</td>\n",
       "    </tr>\n",
       "    <tr>\n",
       "      <th>2</th>\n",
       "      <td>11420</td>\n",
       "      <td>3095</td>\n",
       "      <td>2021-03-13</td>\n",
       "      <td>0.0</td>\n",
       "      <td>film</td>\n",
       "      <td>Тор: Царство тьмы</td>\n",
       "      <td>боевики, фэнтези, приключения</td>\n",
       "      <td>12</td>\n",
       "      <td>супергерой, основанный на комическом, скандина...</td>\n",
       "    </tr>\n",
       "    <tr>\n",
       "      <th>3</th>\n",
       "      <td>11420</td>\n",
       "      <td>2280</td>\n",
       "      <td>2021-05-05</td>\n",
       "      <td>25.0</td>\n",
       "      <td>series</td>\n",
       "      <td>На безымянной высоте</td>\n",
       "      <td>боевики, историческое, военные</td>\n",
       "      <td>16</td>\n",
       "      <td>NaN</td>\n",
       "    </tr>\n",
       "    <tr>\n",
       "      <th>4</th>\n",
       "      <td>11420</td>\n",
       "      <td>3734</td>\n",
       "      <td>2021-07-03</td>\n",
       "      <td>0.0</td>\n",
       "      <td>film</td>\n",
       "      <td>Прабабушка легкого поведения</td>\n",
       "      <td>комедии</td>\n",
       "      <td>16</td>\n",
       "      <td>, 2021, россия, прабабушка, легкого, поведения</td>\n",
       "    </tr>\n",
       "  </tbody>\n",
       "</table>\n",
       "</div>"
      ],
      "text/plain": [
       "   user_id  item_id last_watch_dt  watched_pct content_type  \\\n",
       "0    11420     9342    2021-03-13         85.0         film   \n",
       "1    11420    12849    2021-03-13         38.0         film   \n",
       "2    11420     3095    2021-03-13          0.0         film   \n",
       "3    11420     2280    2021-05-05         25.0       series   \n",
       "4    11420     3734    2021-07-03          0.0         film   \n",
       "\n",
       "                          title                                     genres  \\\n",
       "0                        Дэдпул  боевики, фантастика, приключения, комедии   \n",
       "1               Первый мститель           боевики, фантастика, приключения   \n",
       "2             Тор: Царство тьмы              боевики, фэнтези, приключения   \n",
       "3          На безымянной высоте             боевики, историческое, военные   \n",
       "4  Прабабушка легкого поведения                                    комедии   \n",
       "\n",
       "   age_rating                                           keywords  \n",
       "0          18  антигерой, наемник, супергерой, основанный на ...  \n",
       "1          12  нью-йорк, вторая мировая война, нацисты, супер...  \n",
       "2          12  супергерой, основанный на комическом, скандина...  \n",
       "3          16                                                NaN  \n",
       "4          16     , 2021, россия, прабабушка, легкого, поведения  "
      ]
     },
     "execution_count": 4,
     "metadata": {},
     "output_type": "execute_result"
    }
   ],
   "source": [
    "user_id = df_inter[:train_size].loc[12321, 'user_id']\n",
    "df_inter[df_inter['user_id'] == user_id].merge(df_items)"
   ]
  },
  {
   "cell_type": "code",
   "execution_count": 5,
   "metadata": {},
   "outputs": [
    {
     "data": {
      "text/html": [
       "<div>\n",
       "<style scoped>\n",
       "    .dataframe tbody tr th:only-of-type {\n",
       "        vertical-align: middle;\n",
       "    }\n",
       "\n",
       "    .dataframe tbody tr th {\n",
       "        vertical-align: top;\n",
       "    }\n",
       "\n",
       "    .dataframe thead th {\n",
       "        text-align: right;\n",
       "    }\n",
       "</style>\n",
       "<table border=\"1\" class=\"dataframe\">\n",
       "  <thead>\n",
       "    <tr style=\"text-align: right;\">\n",
       "      <th></th>\n",
       "      <th>item_id</th>\n",
       "      <th>content_type</th>\n",
       "      <th>title</th>\n",
       "      <th>genres</th>\n",
       "      <th>age_rating</th>\n",
       "      <th>keywords</th>\n",
       "    </tr>\n",
       "  </thead>\n",
       "  <tbody>\n",
       "    <tr>\n",
       "      <th>6037</th>\n",
       "      <td>14317</td>\n",
       "      <td>film</td>\n",
       "      <td>Веном</td>\n",
       "      <td>популярное, фантастика, триллеры, боевики, ужасы</td>\n",
       "      <td>16</td>\n",
       "      <td>Сан-Франциско, Калифорния, космический корабль...</td>\n",
       "    </tr>\n",
       "    <tr>\n",
       "      <th>8762</th>\n",
       "      <td>11754</td>\n",
       "      <td>film</td>\n",
       "      <td>Kingsman: Секретная служба</td>\n",
       "      <td>боевики, криминал, приключения, комедии</td>\n",
       "      <td>18</td>\n",
       "      <td>шпион, великобритания, секретная организация, ...</td>\n",
       "    </tr>\n",
       "    <tr>\n",
       "      <th>1547</th>\n",
       "      <td>10942</td>\n",
       "      <td>film</td>\n",
       "      <td>Мстители</td>\n",
       "      <td>боевики, фантастика, фэнтези, приключения</td>\n",
       "      <td>12</td>\n",
       "      <td>нью-йорк, щит, супергерой, основанный на комик...</td>\n",
       "    </tr>\n",
       "    <tr>\n",
       "      <th>2638</th>\n",
       "      <td>12841</td>\n",
       "      <td>film</td>\n",
       "      <td>Стражи Галактики</td>\n",
       "      <td>боевики, фантастика, приключения, комедии</td>\n",
       "      <td>12</td>\n",
       "      <td>космический корабль, основанный на комиксе, ко...</td>\n",
       "    </tr>\n",
       "    <tr>\n",
       "      <th>11782</th>\n",
       "      <td>7210</td>\n",
       "      <td>film</td>\n",
       "      <td>Тор: Рагнарёк</td>\n",
       "      <td>приключения, фантастика, боевики, фэнтези, ком...</td>\n",
       "      <td>16</td>\n",
       "      <td>продолжение, супергерой, основанный на комиксе...</td>\n",
       "    </tr>\n",
       "  </tbody>\n",
       "</table>\n",
       "</div>"
      ],
      "text/plain": [
       "       item_id content_type                       title  \\\n",
       "6037     14317         film                       Веном   \n",
       "8762     11754         film  Kingsman: Секретная служба   \n",
       "1547     10942         film                    Мстители   \n",
       "2638     12841         film            Стражи Галактики   \n",
       "11782     7210         film               Тор: Рагнарёк   \n",
       "\n",
       "                                                  genres  age_rating  \\\n",
       "6037    популярное, фантастика, триллеры, боевики, ужасы          16   \n",
       "8762             боевики, криминал, приключения, комедии          18   \n",
       "1547           боевики, фантастика, фэнтези, приключения          12   \n",
       "2638           боевики, фантастика, приключения, комедии          12   \n",
       "11782  приключения, фантастика, боевики, фэнтези, ком...          16   \n",
       "\n",
       "                                                keywords  \n",
       "6037   Сан-Франциско, Калифорния, космический корабль...  \n",
       "8762   шпион, великобритания, секретная организация, ...  \n",
       "1547   нью-йорк, щит, супергерой, основанный на комик...  \n",
       "2638   космический корабль, основанный на комиксе, ко...  \n",
       "11782  продолжение, супергерой, основанный на комиксе...  "
      ]
     },
     "execution_count": 5,
     "metadata": {},
     "output_type": "execute_result"
    }
   ],
   "source": [
    "test_user_idx = users_mapping[user_id]\n",
    "rec_movies_idx = als_model.recommend(test_user_idx, user_movies[test_user_idx], N=20)[0]\n",
    "\n",
    "rec_movies_id = np.vectorize(movies_rev_mapping.get)(rec_movies_idx)\n",
    "rec_movies_id = np.vectorize(id_df_idx_mapping.get)(rec_movies_id)\n",
    "df_items.iloc[rec_movies_id].head().reset_index(drop=True)"
   ]
  },
  {
   "cell_type": "markdown",
   "metadata": {},
   "source": [
    "### Metrics"
   ]
  },
  {
   "cell_type": "code",
   "execution_count": 6,
   "metadata": {},
   "outputs": [
    {
     "data": {
      "text/plain": [
       "(0.01634743367094225, 0.07352864974885133, 0.004866656530971885)"
      ]
     },
     "execution_count": 6,
     "metadata": {},
     "output_type": "execute_result"
    }
   ],
   "source": [
    "test_data = get_test_warm_data(train_ratio, watch_threshold=5)\n",
    "\n",
    "test_interactions = {}\n",
    "for user_id, item_id in test_data[['user_id', 'item_id']].values:\n",
    "    user_idx = users_mapping[user_id]\n",
    "    if user_idx not in test_interactions:\n",
    "        test_interactions[user_idx] = set()\n",
    "    test_interactions[user_idx].add(movies_mapping[item_id])\n",
    "\n",
    "users_idx = np.array(list(test_interactions.keys()))\n",
    "recommendations = als_model.recommend(users_idx, user_movies[users_idx], N=20)[0]\n",
    "\n",
    "precision, recall, map = compute_metrics(users_idx, test_interactions, recommendations)\n",
    "precision, recall, map"
   ]
  },
  {
   "cell_type": "code",
   "execution_count": 35,
   "metadata": {},
   "outputs": [],
   "source": [
    "train_data = df_inter[:train_size].copy()\n",
    "train_data['liked'] = train_data['watched_pct'] > 90\n",
    "train_data = train_data[train_data['liked']]\n",
    "\n",
    "train_count = train_data['user_id'].value_counts().to_dict()\n",
    "movies = set(df_inter[:train_size]['item_id'].unique())\n",
    "\n",
    "test_mask = test_data.apply(lambda inter:\n",
    "    train_count.get(inter['user_id'], 0) >= 5 and\n",
    "    inter['item_id'] in movies,\n",
    "    axis=1)\n",
    "\n",
    "test_data = test_data[test_mask]"
   ]
  },
  {
   "cell_type": "code",
   "execution_count": 36,
   "metadata": {},
   "outputs": [
    {
     "data": {
      "text/plain": [
       "18331"
      ]
     },
     "execution_count": 36,
     "metadata": {},
     "output_type": "execute_result"
    }
   ],
   "source": [
    "test_data.user_id.nunique()"
   ]
  },
  {
   "cell_type": "code",
   "execution_count": 39,
   "metadata": {},
   "outputs": [
    {
     "data": {
      "text/plain": [
       "(634181, 14548)"
      ]
     },
     "execution_count": 39,
     "metadata": {},
     "output_type": "execute_result"
    }
   ],
   "source": [
    "user_movies.shape"
   ]
  },
  {
   "cell_type": "code",
   "execution_count": 7,
   "metadata": {},
   "outputs": [],
   "source": [
    "users = test_data['user_id'].map(users_mapping)\n",
    "movies = test_data['item_id'].map(movies_mapping)\n",
    "\n",
    "test_user_movies = csr_matrix(\n",
    "    (np.ones(len(test_data)), (users, movies)),\n",
    "    shape=(len(users_mapping), len(movies_mapping)))"
   ]
  },
  {
   "cell_type": "code",
   "execution_count": 8,
   "metadata": {},
   "outputs": [
    {
     "data": {
      "application/vnd.jupyter.widget-view+json": {
       "model_id": "fdda440a32a140088e8a0d23ce81f6f9",
       "version_major": 2,
       "version_minor": 0
      },
      "text/plain": [
       "  0%|          | 0/78887 [00:00<?, ?it/s]"
      ]
     },
     "metadata": {},
     "output_type": "display_data"
    },
    {
     "data": {
      "application/vnd.jupyter.widget-view+json": {
       "model_id": "6fd1909513d64a4f9c7a1ee0124b5906",
       "version_major": 2,
       "version_minor": 0
      },
      "text/plain": [
       "  0%|          | 0/78887 [00:00<?, ?it/s]"
      ]
     },
     "metadata": {},
     "output_type": "display_data"
    },
    {
     "data": {
      "text/plain": [
       "(0.07610706687400964, 0.01964516917255615)"
      ]
     },
     "execution_count": 8,
     "metadata": {},
     "output_type": "execute_result"
    }
   ],
   "source": [
    "precision = precision_at_k(als_model, user_movies, test_user_movies, K=20)\n",
    "map = mean_average_precision_at_k(als_model, user_movies, test_user_movies, K=20)\n",
    "\n",
    "precision, map"
   ]
  }
 ],
 "metadata": {
  "kernelspec": {
   "display_name": "Python 3",
   "language": "python",
   "name": "python3"
  },
  "language_info": {
   "codemirror_mode": {
    "name": "ipython",
    "version": 3
   },
   "file_extension": ".py",
   "mimetype": "text/x-python",
   "name": "python",
   "nbconvert_exporter": "python",
   "pygments_lexer": "ipython3",
   "version": "3.11.9"
  }
 },
 "nbformat": 4,
 "nbformat_minor": 2
}
