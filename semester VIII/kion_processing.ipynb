{
 "cells": [
  {
   "cell_type": "code",
   "execution_count": 19,
   "metadata": {},
   "outputs": [],
   "source": [
    "import numpy as np\n",
    "import pandas as pd\n",
    "import matplotlib.pyplot as plt\n",
    "import seaborn as sns\n",
    "\n",
    "from utils.pipeline import \\\n",
    "    PrepInteractionPipeline, PrepMoviePipeline, PrepUserPipeline"
   ]
  },
  {
   "cell_type": "code",
   "execution_count": 20,
   "metadata": {},
   "outputs": [],
   "source": [
    "data_folder = 'raw_small'\n",
    "\n",
    "df_users = pd.read_csv(f'./data/{data_folder}/users.csv')\n",
    "df_items = pd.read_csv(f'./data/{data_folder}/items.csv')\n",
    "df_inter = pd.read_csv(f'./data/{data_folder}/interactions.csv',\n",
    "                       parse_dates=['last_watch_dt'], dayfirst=True)"
   ]
  },
  {
   "cell_type": "code",
   "execution_count": 21,
   "metadata": {},
   "outputs": [],
   "source": [
    "for df_obj, obj_id in zip([df_users, df_items], ['user_id', 'item_id']):\n",
    "    obj_in_df_obj = set(df_obj[obj_id].values)\n",
    "    obj_in_df_inter = set(df_inter[obj_id].values)\n",
    "    obj_to_stay = obj_in_df_obj.intersection(obj_in_df_inter)\n",
    "\n",
    "    df_obj_mask = df_obj[obj_id].apply(lambda obj: obj in obj_to_stay)\n",
    "    df_inter_mask = df_inter[obj_id].apply(lambda obj: obj in obj_to_stay)\n",
    "\n",
    "    df_obj.drop(df_obj[~df_obj_mask].index, inplace=True)\n",
    "    df_obj.reset_index(drop=True, inplace=True)\n",
    "    df_inter.drop(df_inter[~df_inter_mask].index, inplace=True)\n",
    "    df_inter.reset_index(drop=True, inplace=True)"
   ]
  },
  {
   "cell_type": "markdown",
   "metadata": {},
   "source": [
    "## Train-test split"
   ]
  },
  {
   "cell_type": "code",
   "execution_count": 22,
   "metadata": {},
   "outputs": [],
   "source": [
    "df_inter.sort_values('last_watch_dt', inplace=True)\n",
    "\n",
    "train_ratio = 0.8\n",
    "train_size = int(train_ratio * len(df_inter))\n",
    "df_train, df_test = df_inter[:train_size].copy(), df_inter[train_size:].copy()\n",
    "\n",
    "# train users and items for data analysis with no data leakage\n",
    "train_users = df_train['user_id'].unique()\n",
    "train_items = df_train['item_id'].unique()\n",
    "df_users_train = df_users[df_users['user_id'].isin(train_users)].copy()\n",
    "df_items_train = df_items[df_items['item_id'].isin(train_items)].copy()\n",
    "\n",
    "df_users_test = df_users[~df_users['user_id'].isin(train_users)].copy()\n",
    "df_items_test = df_items[~df_items['item_id'].isin(train_items)].copy()"
   ]
  },
  {
   "cell_type": "markdown",
   "metadata": {},
   "source": [
    "## Samples"
   ]
  },
  {
   "cell_type": "code",
   "execution_count": 23,
   "metadata": {},
   "outputs": [
    {
     "data": {
      "text/html": [
       "<div>\n",
       "<style scoped>\n",
       "    .dataframe tbody tr th:only-of-type {\n",
       "        vertical-align: middle;\n",
       "    }\n",
       "\n",
       "    .dataframe tbody tr th {\n",
       "        vertical-align: top;\n",
       "    }\n",
       "\n",
       "    .dataframe thead th {\n",
       "        text-align: right;\n",
       "    }\n",
       "</style>\n",
       "<table border=\"1\" class=\"dataframe\">\n",
       "  <thead>\n",
       "    <tr style=\"text-align: right;\">\n",
       "      <th></th>\n",
       "      <th>user_id</th>\n",
       "      <th>item_id</th>\n",
       "      <th>last_watch_dt</th>\n",
       "      <th>total_dur</th>\n",
       "      <th>watched_pct</th>\n",
       "    </tr>\n",
       "  </thead>\n",
       "  <tbody>\n",
       "    <tr>\n",
       "      <th>222809</th>\n",
       "      <td>398518</td>\n",
       "      <td>7417</td>\n",
       "      <td>2021-06-02</td>\n",
       "      <td>1628.0</td>\n",
       "      <td>26.0</td>\n",
       "    </tr>\n",
       "    <tr>\n",
       "      <th>214654</th>\n",
       "      <td>946683</td>\n",
       "      <td>14025</td>\n",
       "      <td>2021-04-30</td>\n",
       "      <td>35.0</td>\n",
       "      <td>1.0</td>\n",
       "    </tr>\n",
       "  </tbody>\n",
       "</table>\n",
       "</div>"
      ],
      "text/plain": [
       "        user_id  item_id last_watch_dt  total_dur  watched_pct\n",
       "222809   398518     7417    2021-06-02     1628.0         26.0\n",
       "214654   946683    14025    2021-04-30       35.0          1.0"
      ]
     },
     "execution_count": 23,
     "metadata": {},
     "output_type": "execute_result"
    }
   ],
   "source": [
    "df_train.sample(2)"
   ]
  },
  {
   "cell_type": "code",
   "execution_count": 24,
   "metadata": {},
   "outputs": [
    {
     "data": {
      "text/html": [
       "<div>\n",
       "<style scoped>\n",
       "    .dataframe tbody tr th:only-of-type {\n",
       "        vertical-align: middle;\n",
       "    }\n",
       "\n",
       "    .dataframe tbody tr th {\n",
       "        vertical-align: top;\n",
       "    }\n",
       "\n",
       "    .dataframe thead th {\n",
       "        text-align: right;\n",
       "    }\n",
       "</style>\n",
       "<table border=\"1\" class=\"dataframe\">\n",
       "  <thead>\n",
       "    <tr style=\"text-align: right;\">\n",
       "      <th></th>\n",
       "      <th>item_id</th>\n",
       "      <th>content_type</th>\n",
       "      <th>title</th>\n",
       "      <th>title_orig</th>\n",
       "      <th>release_year</th>\n",
       "      <th>genres</th>\n",
       "      <th>countries</th>\n",
       "      <th>for_kids</th>\n",
       "      <th>age_rating</th>\n",
       "      <th>studios</th>\n",
       "      <th>directors</th>\n",
       "      <th>actors</th>\n",
       "      <th>description</th>\n",
       "      <th>keywords</th>\n",
       "    </tr>\n",
       "  </thead>\n",
       "  <tbody>\n",
       "    <tr>\n",
       "      <th>8555</th>\n",
       "      <td>16434</td>\n",
       "      <td>film</td>\n",
       "      <td>Поздняя любовь</td>\n",
       "      <td>Pozdnyaya lubov</td>\n",
       "      <td>2012.0</td>\n",
       "      <td>мелодрамы</td>\n",
       "      <td>Россия</td>\n",
       "      <td>NaN</td>\n",
       "      <td>12.0</td>\n",
       "      <td>NaN</td>\n",
       "      <td>Сергей Алёшечкин</td>\n",
       "      <td>Евгения Дмитриева, Андрей Егоров, Алёна Конста...</td>\n",
       "      <td>Работница швейной мастерской Лида и ее муж Ант...</td>\n",
       "      <td>2012, россия, поздняя, любовь</td>\n",
       "    </tr>\n",
       "    <tr>\n",
       "      <th>8859</th>\n",
       "      <td>12379</td>\n",
       "      <td>film</td>\n",
       "      <td>Пять лет и один день</td>\n",
       "      <td>NaN</td>\n",
       "      <td>2012.0</td>\n",
       "      <td>драмы</td>\n",
       "      <td>Россия</td>\n",
       "      <td>NaN</td>\n",
       "      <td>12.0</td>\n",
       "      <td>NaN</td>\n",
       "      <td>Борис Квашнев</td>\n",
       "      <td>Алина Сергеева, Юрий Батурин, Юлия Галкина, Се...</td>\n",
       "      <td>Мирослава приходит в себя после 5 лет комы и у...</td>\n",
       "      <td>2012, россия, пять, лет, один, день</td>\n",
       "    </tr>\n",
       "  </tbody>\n",
       "</table>\n",
       "</div>"
      ],
      "text/plain": [
       "      item_id content_type                 title       title_orig  \\\n",
       "8555    16434         film        Поздняя любовь  Pozdnyaya lubov   \n",
       "8859    12379         film  Пять лет и один день              NaN   \n",
       "\n",
       "      release_year     genres countries  for_kids  age_rating studios  \\\n",
       "8555        2012.0  мелодрамы    Россия       NaN        12.0     NaN   \n",
       "8859        2012.0      драмы    Россия       NaN        12.0     NaN   \n",
       "\n",
       "             directors                                             actors  \\\n",
       "8555  Сергей Алёшечкин  Евгения Дмитриева, Андрей Егоров, Алёна Конста...   \n",
       "8859     Борис Квашнев  Алина Сергеева, Юрий Батурин, Юлия Галкина, Се...   \n",
       "\n",
       "                                            description  \\\n",
       "8555  Работница швейной мастерской Лида и ее муж Ант...   \n",
       "8859  Мирослава приходит в себя после 5 лет комы и у...   \n",
       "\n",
       "                                 keywords  \n",
       "8555        2012, россия, поздняя, любовь  \n",
       "8859  2012, россия, пять, лет, один, день  "
      ]
     },
     "execution_count": 24,
     "metadata": {},
     "output_type": "execute_result"
    }
   ],
   "source": [
    "df_items_train.sample(2)"
   ]
  },
  {
   "cell_type": "code",
   "execution_count": 25,
   "metadata": {},
   "outputs": [
    {
     "data": {
      "text/html": [
       "<div>\n",
       "<style scoped>\n",
       "    .dataframe tbody tr th:only-of-type {\n",
       "        vertical-align: middle;\n",
       "    }\n",
       "\n",
       "    .dataframe tbody tr th {\n",
       "        vertical-align: top;\n",
       "    }\n",
       "\n",
       "    .dataframe thead th {\n",
       "        text-align: right;\n",
       "    }\n",
       "</style>\n",
       "<table border=\"1\" class=\"dataframe\">\n",
       "  <thead>\n",
       "    <tr style=\"text-align: right;\">\n",
       "      <th></th>\n",
       "      <th>user_id</th>\n",
       "      <th>age</th>\n",
       "      <th>income</th>\n",
       "      <th>sex</th>\n",
       "      <th>kids_flg</th>\n",
       "    </tr>\n",
       "  </thead>\n",
       "  <tbody>\n",
       "    <tr>\n",
       "      <th>439198</th>\n",
       "      <td>1083802</td>\n",
       "      <td>age_18_24</td>\n",
       "      <td>income_20_40</td>\n",
       "      <td>М</td>\n",
       "      <td>0</td>\n",
       "    </tr>\n",
       "    <tr>\n",
       "      <th>253474</th>\n",
       "      <td>63778</td>\n",
       "      <td>age_18_24</td>\n",
       "      <td>income_20_40</td>\n",
       "      <td>М</td>\n",
       "      <td>0</td>\n",
       "    </tr>\n",
       "  </tbody>\n",
       "</table>\n",
       "</div>"
      ],
      "text/plain": [
       "        user_id        age        income sex  kids_flg\n",
       "439198  1083802  age_18_24  income_20_40   М         0\n",
       "253474    63778  age_18_24  income_20_40   М         0"
      ]
     },
     "execution_count": 25,
     "metadata": {},
     "output_type": "execute_result"
    }
   ],
   "source": [
    "df_users_train.sample(2)"
   ]
  },
  {
   "cell_type": "markdown",
   "metadata": {},
   "source": [
    "## Interactions"
   ]
  },
  {
   "cell_type": "markdown",
   "metadata": {},
   "source": [
    "### Overview"
   ]
  },
  {
   "cell_type": "markdown",
   "metadata": {},
   "source": [
    "The most popular movies"
   ]
  },
  {
   "cell_type": "code",
   "execution_count": 26,
   "metadata": {},
   "outputs": [
    {
     "data": {
      "text/html": [
       "<div>\n",
       "<style scoped>\n",
       "    .dataframe tbody tr th:only-of-type {\n",
       "        vertical-align: middle;\n",
       "    }\n",
       "\n",
       "    .dataframe tbody tr th {\n",
       "        vertical-align: top;\n",
       "    }\n",
       "\n",
       "    .dataframe thead th {\n",
       "        text-align: right;\n",
       "    }\n",
       "</style>\n",
       "<table border=\"1\" class=\"dataframe\">\n",
       "  <thead>\n",
       "    <tr style=\"text-align: right;\">\n",
       "      <th></th>\n",
       "      <th>title</th>\n",
       "      <th>views</th>\n",
       "      <th>release_year</th>\n",
       "      <th>actors</th>\n",
       "      <th>description</th>\n",
       "    </tr>\n",
       "  </thead>\n",
       "  <tbody>\n",
       "    <tr>\n",
       "      <th>0</th>\n",
       "      <td>Хрустальный</td>\n",
       "      <td>31837</td>\n",
       "      <td>2021.0</td>\n",
       "      <td>Антон Васильев, Николай Шрайбер, Екатерина Оль...</td>\n",
       "      <td>Сергей Смирнов — один из лучших «охотников на ...</td>\n",
       "    </tr>\n",
       "    <tr>\n",
       "      <th>1</th>\n",
       "      <td>Клиника счастья</td>\n",
       "      <td>30157</td>\n",
       "      <td>2021.0</td>\n",
       "      <td>Дарья Мороз, Анатолий Белый, Данил Акутин, Мар...</td>\n",
       "      <td>Успешный сексолог Алена уверена, что нашла фор...</td>\n",
       "    </tr>\n",
       "    <tr>\n",
       "      <th>2</th>\n",
       "      <td>Гнев человеческий</td>\n",
       "      <td>24371</td>\n",
       "      <td>2021.0</td>\n",
       "      <td>Джейсон Стэйтем, Холт МакКэллани, Джеффри Доно...</td>\n",
       "      <td>Грузовики лос-анджелесской инкассаторской комп...</td>\n",
       "    </tr>\n",
       "    <tr>\n",
       "      <th>3</th>\n",
       "      <td>Девятаев</td>\n",
       "      <td>24350</td>\n",
       "      <td>2021.0</td>\n",
       "      <td>Павел Прилучный, Павел Чинарёв, Тимофей Трибун...</td>\n",
       "      <td>Военно-исторический блокбастер от режиссёров Т...</td>\n",
       "    </tr>\n",
       "    <tr>\n",
       "      <th>4</th>\n",
       "      <td>Секреты семейной жизни</td>\n",
       "      <td>16481</td>\n",
       "      <td>2021.0</td>\n",
       "      <td>Петр Скворцов, Алена Михайлова, Федор Лавров, ...</td>\n",
       "      <td>У Никиты и Полины всё начиналось прекрасно: об...</td>\n",
       "    </tr>\n",
       "    <tr>\n",
       "      <th>5</th>\n",
       "      <td>Прабабушка легкого поведения</td>\n",
       "      <td>14285</td>\n",
       "      <td>2021.0</td>\n",
       "      <td>Александр Ревва, Глюкоза, Дмитрий Нагиев, Миха...</td>\n",
       "      <td>1980 год, вся страна следит за событиями моско...</td>\n",
       "    </tr>\n",
       "    <tr>\n",
       "      <th>6</th>\n",
       "      <td>Афера</td>\n",
       "      <td>11495</td>\n",
       "      <td>2021.0</td>\n",
       "      <td>Сергей Степин, Игорь Царегородцев, Татьяна Лял...</td>\n",
       "      <td>Смотри:- как кино- как сериалКарантин окончен,...</td>\n",
       "    </tr>\n",
       "    <tr>\n",
       "      <th>7</th>\n",
       "      <td>Подслушано</td>\n",
       "      <td>10775</td>\n",
       "      <td>2021.0</td>\n",
       "      <td>Александр Hовиков, Валентина Ляпина, Никита Па...</td>\n",
       "      <td>Смотри:- как кино- как сериалПодростковый псих...</td>\n",
       "    </tr>\n",
       "    <tr>\n",
       "      <th>8</th>\n",
       "      <td>Маша</td>\n",
       "      <td>8798</td>\n",
       "      <td>2020.0</td>\n",
       "      <td>Максим Суханов, Аня Чиповская, Полина Гухман, ...</td>\n",
       "      <td>13-летняя Маша растёт между боксёрским рингом ...</td>\n",
       "    </tr>\n",
       "    <tr>\n",
       "      <th>9</th>\n",
       "      <td>Белый снег</td>\n",
       "      <td>7655</td>\n",
       "      <td>2021.0</td>\n",
       "      <td>Ольга Лерман, Федор Добронравов, Надежда Марки...</td>\n",
       "      <td>Отечественная спортивная драма про лыжницу и о...</td>\n",
       "    </tr>\n",
       "  </tbody>\n",
       "</table>\n",
       "</div>"
      ],
      "text/plain": [
       "                          title  views  release_year  \\\n",
       "0                   Хрустальный  31837        2021.0   \n",
       "1               Клиника счастья  30157        2021.0   \n",
       "2             Гнев человеческий  24371        2021.0   \n",
       "3                      Девятаев  24350        2021.0   \n",
       "4        Секреты семейной жизни  16481        2021.0   \n",
       "5  Прабабушка легкого поведения  14285        2021.0   \n",
       "6                         Афера  11495        2021.0   \n",
       "7                    Подслушано  10775        2021.0   \n",
       "8                          Маша   8798        2020.0   \n",
       "9                    Белый снег   7655        2021.0   \n",
       "\n",
       "                                              actors  \\\n",
       "0  Антон Васильев, Николай Шрайбер, Екатерина Оль...   \n",
       "1  Дарья Мороз, Анатолий Белый, Данил Акутин, Мар...   \n",
       "2  Джейсон Стэйтем, Холт МакКэллани, Джеффри Доно...   \n",
       "3  Павел Прилучный, Павел Чинарёв, Тимофей Трибун...   \n",
       "4  Петр Скворцов, Алена Михайлова, Федор Лавров, ...   \n",
       "5  Александр Ревва, Глюкоза, Дмитрий Нагиев, Миха...   \n",
       "6  Сергей Степин, Игорь Царегородцев, Татьяна Лял...   \n",
       "7  Александр Hовиков, Валентина Ляпина, Никита Па...   \n",
       "8  Максим Суханов, Аня Чиповская, Полина Гухман, ...   \n",
       "9  Ольга Лерман, Федор Добронравов, Надежда Марки...   \n",
       "\n",
       "                                         description  \n",
       "0  Сергей Смирнов — один из лучших «охотников на ...  \n",
       "1  Успешный сексолог Алена уверена, что нашла фор...  \n",
       "2  Грузовики лос-анджелесской инкассаторской комп...  \n",
       "3  Военно-исторический блокбастер от режиссёров Т...  \n",
       "4  У Никиты и Полины всё начиналось прекрасно: об...  \n",
       "5  1980 год, вся страна следит за событиями моско...  \n",
       "6  Смотри:- как кино- как сериалКарантин окончен,...  \n",
       "7  Смотри:- как кино- как сериалПодростковый псих...  \n",
       "8  13-летняя Маша растёт между боксёрским рингом ...  \n",
       "9  Отечественная спортивная драма про лыжницу и о...  "
      ]
     },
     "execution_count": 26,
     "metadata": {},
     "output_type": "execute_result"
    }
   ],
   "source": [
    "train_views = df_train.groupby('item_id').size().rename('views')\n",
    "\n",
    "df_items = df_items.merge(pd.DataFrame(train_views).reset_index(), how='left', on='item_id')\n",
    "df_items['views'] = df_items['views'].fillna(0).astype(int)\n",
    "df_items = df_items.sort_values('views', ascending=False)\n",
    "\n",
    "df_items_train = df_items_train.merge(train_views, left_on='item_id', right_index=True).\\\n",
    "    sort_values('views', ignore_index=True, ascending=False)\n",
    "\n",
    "df_items_train[:10][['title', 'views', 'release_year', 'actors', 'description']]"
   ]
  },
  {
   "cell_type": "code",
   "execution_count": 9,
   "metadata": {},
   "outputs": [
    {
     "data": {
      "image/png": "[encoded data removed]",
      "text/plain": [
       "<Figure size 1000x400 with 2 Axes>"
      ]
     },
     "metadata": {},
     "output_type": "display_data"
    }
   ],
   "source": [
    "df_views = df_items_train['views']\n",
    "cumsum = df_views.cumsum()\n",
    "cumsum = cumsum / cumsum.iloc[-1]\n",
    "cumsum.index = np.arange(1, len(df_views)+1)\n",
    "\n",
    "fig, ax = plt.subplots(1, 2, figsize=(10, 4))\n",
    "cumsum.plot(grid=True, ax=ax[0]);\n",
    "ax[0].set_ylabel('Доля от общего числа просмотров контента')\n",
    "ax[0].set_xlabel('Порядковый номер фильма')\n",
    "cumsum[0:30].plot(grid=True, xticks=np.arange(1, 33, step=3), ax=ax[1])\n",
    "ax[1].set_xlabel('Порядковый номер фильма')\n",
    "plt.tight_layout()"
   ]
  },
  {
   "cell_type": "code",
   "execution_count": 10,
   "metadata": {},
   "outputs": [
    {
     "data": {
      "image/png": "[encoded data removed]",
      "text/plain": [
       "<Figure size 640x480 with 1 Axes>"
      ]
     },
     "metadata": {},
     "output_type": "display_data"
    }
   ],
   "source": [
    "sns.histplot(data=df_train, x='watched_pct')\n",
    "plt.grid()"
   ]
  },
  {
   "cell_type": "code",
   "execution_count": 11,
   "metadata": {},
   "outputs": [
    {
     "data": {
      "image/png": "[encoded data removed]",
      "text/plain": [
       "<Figure size 640x480 with 1 Axes>"
      ]
     },
     "metadata": {},
     "output_type": "display_data"
    }
   ],
   "source": [
    "a = df_train.groupby('user_id').size().value_counts()\n",
    "a[0] = 0\n",
    "a.sort_index().plot()\n",
    "plt.xlabel('Число просмотров у пользователя')\n",
    "plt.xlim([-1, 20]); plt.xticks(range(20))\n",
    "plt.grid()"
   ]
  },
  {
   "cell_type": "markdown",
   "metadata": {},
   "source": [
    "### Preparation"
   ]
  },
  {
   "cell_type": "code",
   "execution_count": 12,
   "metadata": {},
   "outputs": [
    {
     "data": {
      "text/plain": [
       "user_id            0\n",
       "item_id            0\n",
       "last_watch_dt      0\n",
       "total_dur          1\n",
       "watched_pct      209\n",
       "dtype: int64"
      ]
     },
     "execution_count": 12,
     "metadata": {},
     "output_type": "execute_result"
    }
   ],
   "source": [
    "df_train.isna().sum()"
   ]
  },
  {
   "cell_type": "code",
   "execution_count": 13,
   "metadata": {},
   "outputs": [],
   "source": [
    "inter_pipe = PrepInteractionPipeline()\n",
    "inter_pipe.transform(df_train)\n",
    "inter_pipe.transform(df_test)\n",
    "inter_pipe.transform(df_inter)"
   ]
  },
  {
   "cell_type": "code",
   "execution_count": 14,
   "metadata": {},
   "outputs": [
    {
     "data": {
      "text/html": [
       "<div>\n",
       "<style scoped>\n",
       "    .dataframe tbody tr th:only-of-type {\n",
       "        vertical-align: middle;\n",
       "    }\n",
       "\n",
       "    .dataframe tbody tr th {\n",
       "        vertical-align: top;\n",
       "    }\n",
       "\n",
       "    .dataframe thead th {\n",
       "        text-align: right;\n",
       "    }\n",
       "</style>\n",
       "<table border=\"1\" class=\"dataframe\">\n",
       "  <thead>\n",
       "    <tr style=\"text-align: right;\">\n",
       "      <th></th>\n",
       "      <th>user_id</th>\n",
       "      <th>item_id</th>\n",
       "      <th>last_watch_dt</th>\n",
       "      <th>watched_pct</th>\n",
       "    </tr>\n",
       "  </thead>\n",
       "  <tbody>\n",
       "    <tr>\n",
       "      <th>235743</th>\n",
       "      <td>790270</td>\n",
       "      <td>14275</td>\n",
       "      <td>2021-08-03</td>\n",
       "      <td>4.0</td>\n",
       "    </tr>\n",
       "  </tbody>\n",
       "</table>\n",
       "</div>"
      ],
      "text/plain": [
       "        user_id  item_id last_watch_dt  watched_pct\n",
       "235743   790270    14275    2021-08-03          4.0"
      ]
     },
     "execution_count": 14,
     "metadata": {},
     "output_type": "execute_result"
    }
   ],
   "source": [
    "df_train.sample(1)"
   ]
  },
  {
   "cell_type": "code",
   "execution_count": 15,
   "metadata": {},
   "outputs": [],
   "source": [
    "df_train.to_csv('./data/processed/interactions_train.csv', index=False)\n",
    "df_test.to_csv('./data/processed/interactions_test.csv', index=False)\n",
    "df_inter.to_csv('./data/processed/interactions.csv', index=False)"
   ]
  },
  {
   "cell_type": "markdown",
   "metadata": {},
   "source": [
    "## Items"
   ]
  },
  {
   "cell_type": "markdown",
   "metadata": {},
   "source": [
    "### Overview"
   ]
  },
  {
   "cell_type": "code",
   "execution_count": 16,
   "metadata": {},
   "outputs": [
    {
     "data": {
      "text/html": [
       "<div>\n",
       "<style scoped>\n",
       "    .dataframe tbody tr th:only-of-type {\n",
       "        vertical-align: middle;\n",
       "    }\n",
       "\n",
       "    .dataframe tbody tr th {\n",
       "        vertical-align: top;\n",
       "    }\n",
       "\n",
       "    .dataframe thead th {\n",
       "        text-align: right;\n",
       "    }\n",
       "</style>\n",
       "<table border=\"1\" class=\"dataframe\">\n",
       "  <thead>\n",
       "    <tr style=\"text-align: right;\">\n",
       "      <th></th>\n",
       "      <th>content_type</th>\n",
       "      <th>title</th>\n",
       "      <th>title_orig</th>\n",
       "      <th>genres</th>\n",
       "      <th>countries</th>\n",
       "      <th>studios</th>\n",
       "      <th>directors</th>\n",
       "      <th>actors</th>\n",
       "      <th>description</th>\n",
       "      <th>keywords</th>\n",
       "    </tr>\n",
       "  </thead>\n",
       "  <tbody>\n",
       "    <tr>\n",
       "      <th>count</th>\n",
       "      <td>11391</td>\n",
       "      <td>11391</td>\n",
       "      <td>8773</td>\n",
       "      <td>11391</td>\n",
       "      <td>11376</td>\n",
       "      <td>704</td>\n",
       "      <td>10578</td>\n",
       "      <td>9721</td>\n",
       "      <td>11390</td>\n",
       "      <td>11016</td>\n",
       "    </tr>\n",
       "    <tr>\n",
       "      <th>unique</th>\n",
       "      <td>2</td>\n",
       "      <td>10984</td>\n",
       "      <td>8334</td>\n",
       "      <td>2215</td>\n",
       "      <td>625</td>\n",
       "      <td>35</td>\n",
       "      <td>6337</td>\n",
       "      <td>9515</td>\n",
       "      <td>11163</td>\n",
       "      <td>10976</td>\n",
       "    </tr>\n",
       "    <tr>\n",
       "      <th>top</th>\n",
       "      <td>film</td>\n",
       "      <td>Охота</td>\n",
       "      <td>Pet Sematary</td>\n",
       "      <td>документальное</td>\n",
       "      <td>США</td>\n",
       "      <td>HBO</td>\n",
       "      <td>Оливье Шиабоду</td>\n",
       "      <td>Александр Клюквин</td>\n",
       "      <td>МТС «Карантинники» — это домашние акустические...</td>\n",
       "      <td>2015, чехия, компания, трех</td>\n",
       "    </tr>\n",
       "    <tr>\n",
       "      <th>freq</th>\n",
       "      <td>8787</td>\n",
       "      <td>4</td>\n",
       "      <td>4</td>\n",
       "      <td>613</td>\n",
       "      <td>3219</td>\n",
       "      <td>228</td>\n",
       "      <td>380</td>\n",
       "      <td>18</td>\n",
       "      <td>35</td>\n",
       "      <td>6</td>\n",
       "    </tr>\n",
       "  </tbody>\n",
       "</table>\n",
       "</div>"
      ],
      "text/plain": [
       "       content_type  title    title_orig          genres countries studios  \\\n",
       "count         11391  11391          8773           11391     11376     704   \n",
       "unique            2  10984          8334            2215       625      35   \n",
       "top            film  Охота  Pet Sematary  документальное       США     HBO   \n",
       "freq           8787      4             4             613      3219     228   \n",
       "\n",
       "             directors             actors  \\\n",
       "count            10578               9721   \n",
       "unique            6337               9515   \n",
       "top     Оливье Шиабоду  Александр Клюквин   \n",
       "freq               380                 18   \n",
       "\n",
       "                                              description  \\\n",
       "count                                               11390   \n",
       "unique                                              11163   \n",
       "top     МТС «Карантинники» — это домашние акустические...   \n",
       "freq                                                   35   \n",
       "\n",
       "                           keywords  \n",
       "count                         11016  \n",
       "unique                        10976  \n",
       "top     2015, чехия, компания, трех  \n",
       "freq                              6  "
      ]
     },
     "execution_count": 16,
     "metadata": {},
     "output_type": "execute_result"
    }
   ],
   "source": [
    "df_items_train.describe(include='object')"
   ]
  },
  {
   "cell_type": "code",
   "execution_count": 17,
   "metadata": {},
   "outputs": [
    {
     "data": {
      "text/plain": [
       "content_type\n",
       "film      8787\n",
       "series    2604\n",
       "Name: count, dtype: int64"
      ]
     },
     "execution_count": 17,
     "metadata": {},
     "output_type": "execute_result"
    }
   ],
   "source": [
    "df_items_train['content_type'].value_counts()"
   ]
  },
  {
   "cell_type": "code",
   "execution_count": 18,
   "metadata": {},
   "outputs": [
    {
     "data": {
      "text/plain": [
       "age_rating\n",
       "0.0      978\n",
       "6.0      999\n",
       "12.0    2783\n",
       "16.0    4169\n",
       "18.0    2025\n",
       "21.0     437\n",
       "Name: count, dtype: int64"
      ]
     },
     "execution_count": 18,
     "metadata": {},
     "output_type": "execute_result"
    }
   ],
   "source": [
    "df_items_train['age_rating'].value_counts().sort_index()"
   ]
  },
  {
   "cell_type": "code",
   "execution_count": 19,
   "metadata": {},
   "outputs": [
    {
     "data": {
      "text/plain": [
       "genres\n",
       "документальное                                                                       613\n",
       "драмы                                                                                580\n",
       "комедии                                                                              461\n",
       "для взрослых                                                                         437\n",
       "мелодрамы, комедии                                                                   226\n",
       "                                                                                    ... \n",
       "русские мультфильмы, русские, для детей, комедии                                       1\n",
       "криминал, детективы, драмы, триллеры, фантастика                                       1\n",
       "для детей, полнометражные, приключения, зарубежные, семейное                           1\n",
       "для детей, приключения, полнометражные, зарубежные, фэнтези, западные мультфильмы      1\n",
       "биография, драмы, зарубежные, исторические, мелодрамы                                  1\n",
       "Name: count, Length: 2215, dtype: int64"
      ]
     },
     "execution_count": 19,
     "metadata": {},
     "output_type": "execute_result"
    }
   ],
   "source": [
    "df_items_train['genres'].value_counts()"
   ]
  },
  {
   "cell_type": "code",
   "execution_count": 20,
   "metadata": {},
   "outputs": [
    {
     "data": {
      "image/png": "[encoded data removed]",
      "text/plain": [
       "<Figure size 640x480 with 1 Axes>"
      ]
     },
     "metadata": {},
     "output_type": "display_data"
    }
   ],
   "source": [
    "df_items_train['release_year'].value_counts().sort_index().plot(logy=True);"
   ]
  },
  {
   "cell_type": "code",
   "execution_count": 21,
   "metadata": {},
   "outputs": [
    {
     "data": {
      "text/plain": [
       "отношения            5170\n",
       "соединенные штаты    2529\n",
       "Россия               1950\n",
       "женщины              1529\n",
       "любовь               1469\n",
       "США                  1446\n",
       "борьба               1310\n",
       "мужчины              1277\n",
       "2020                 1227\n",
       "преодоление          1203\n",
       "Name: count, dtype: int64"
      ]
     },
     "execution_count": 21,
     "metadata": {},
     "output_type": "execute_result"
    }
   ],
   "source": [
    "listoflists = df_items_train['keywords'].apply(lambda line: str(line).split(', '))\n",
    "keywords = [word for line in listoflists for word in line]\n",
    "pd.Series(keywords).value_counts().head(10)"
   ]
  },
  {
   "cell_type": "code",
   "execution_count": 22,
   "metadata": {},
   "outputs": [
    {
     "data": {
      "text/html": [
       "<div>\n",
       "<style scoped>\n",
       "    .dataframe tbody tr th:only-of-type {\n",
       "        vertical-align: middle;\n",
       "    }\n",
       "\n",
       "    .dataframe tbody tr th {\n",
       "        vertical-align: top;\n",
       "    }\n",
       "\n",
       "    .dataframe thead th {\n",
       "        text-align: right;\n",
       "    }\n",
       "</style>\n",
       "<table border=\"1\" class=\"dataframe\">\n",
       "  <thead>\n",
       "    <tr style=\"text-align: right;\">\n",
       "      <th></th>\n",
       "      <th>item_id</th>\n",
       "      <th>content_type</th>\n",
       "      <th>title</th>\n",
       "      <th>title_orig</th>\n",
       "      <th>release_year</th>\n",
       "      <th>genres</th>\n",
       "      <th>countries</th>\n",
       "      <th>for_kids</th>\n",
       "      <th>age_rating</th>\n",
       "      <th>studios</th>\n",
       "      <th>directors</th>\n",
       "      <th>actors</th>\n",
       "      <th>description</th>\n",
       "      <th>keywords</th>\n",
       "      <th>views</th>\n",
       "    </tr>\n",
       "  </thead>\n",
       "  <tbody>\n",
       "    <tr>\n",
       "      <th>9417</th>\n",
       "      <td>12886</td>\n",
       "      <td>series</td>\n",
       "      <td>Два силуэта на закате солнца</td>\n",
       "      <td>NaN</td>\n",
       "      <td>2020.0</td>\n",
       "      <td>русские, детективы</td>\n",
       "      <td>Россия</td>\n",
       "      <td>NaN</td>\n",
       "      <td>16.0</td>\n",
       "      <td>NaN</td>\n",
       "      <td>Александра Бутько</td>\n",
       "      <td>Александр Пашков, Александра Бутько, Алиса Вар...</td>\n",
       "      <td>Талантливая фотограф Инга неожиданно узнаёт, ч...</td>\n",
       "      <td>Два, силуэта, закате, солнца, 2020, Россия, лю...</td>\n",
       "      <td>1</td>\n",
       "    </tr>\n",
       "  </tbody>\n",
       "</table>\n",
       "</div>"
      ],
      "text/plain": [
       "      item_id content_type                         title title_orig  \\\n",
       "9417    12886       series  Два силуэта на закате солнца        NaN   \n",
       "\n",
       "      release_year              genres countries  for_kids  age_rating  \\\n",
       "9417        2020.0  русские, детективы    Россия       NaN        16.0   \n",
       "\n",
       "     studios          directors  \\\n",
       "9417     NaN  Александра Бутько   \n",
       "\n",
       "                                                 actors  \\\n",
       "9417  Александр Пашков, Александра Бутько, Алиса Вар...   \n",
       "\n",
       "                                            description  \\\n",
       "9417  Талантливая фотограф Инга неожиданно узнаёт, ч...   \n",
       "\n",
       "                                               keywords  views  \n",
       "9417  Два, силуэта, закате, солнца, 2020, Россия, лю...      1  "
      ]
     },
     "execution_count": 22,
     "metadata": {},
     "output_type": "execute_result"
    }
   ],
   "source": [
    "df_items_train.sample(1)"
   ]
  },
  {
   "cell_type": "markdown",
   "metadata": {},
   "source": [
    "### Preparation"
   ]
  },
  {
   "cell_type": "code",
   "execution_count": 23,
   "metadata": {},
   "outputs": [
    {
     "data": {
      "text/plain": [
       "item_id             0\n",
       "content_type        0\n",
       "title               0\n",
       "title_orig       2618\n",
       "release_year       45\n",
       "genres              0\n",
       "countries          15\n",
       "for_kids        10870\n",
       "age_rating          0\n",
       "studios         10687\n",
       "directors         813\n",
       "actors           1670\n",
       "description         1\n",
       "keywords          375\n",
       "views               0\n",
       "dtype: int64"
      ]
     },
     "execution_count": 23,
     "metadata": {},
     "output_type": "execute_result"
    }
   ],
   "source": [
    "df_items_train.isnull().sum()"
   ]
  },
  {
   "cell_type": "code",
   "execution_count": 24,
   "metadata": {},
   "outputs": [],
   "source": [
    "movie_pipe = PrepMoviePipeline(keyword_features_count=200)\n",
    "X_movies_train = movie_pipe.fit_transform(df_items_train)\n",
    "X_movies_test = movie_pipe.transform(df_items_test)\n",
    "X_movies = movie_pipe.transform(df_items)"
   ]
  },
  {
   "cell_type": "code",
   "execution_count": 25,
   "metadata": {},
   "outputs": [
    {
     "data": {
      "text/html": [
       "<div>\n",
       "<style scoped>\n",
       "    .dataframe tbody tr th:only-of-type {\n",
       "        vertical-align: middle;\n",
       "    }\n",
       "\n",
       "    .dataframe tbody tr th {\n",
       "        vertical-align: top;\n",
       "    }\n",
       "\n",
       "    .dataframe thead th {\n",
       "        text-align: right;\n",
       "    }\n",
       "</style>\n",
       "<table border=\"1\" class=\"dataframe\">\n",
       "  <thead>\n",
       "    <tr style=\"text-align: right;\">\n",
       "      <th></th>\n",
       "      <th>item_id</th>\n",
       "      <th>content_type</th>\n",
       "      <th>title</th>\n",
       "      <th>genres</th>\n",
       "      <th>age_rating</th>\n",
       "      <th>description</th>\n",
       "      <th>keywords</th>\n",
       "      <th>views</th>\n",
       "    </tr>\n",
       "  </thead>\n",
       "  <tbody>\n",
       "    <tr>\n",
       "      <th>9353</th>\n",
       "      <td>6456</td>\n",
       "      <td>series</td>\n",
       "      <td>Ищите женщину</td>\n",
       "      <td>русские, криминал, комедии</td>\n",
       "      <td>0</td>\n",
       "      <td>Детективная история, которая полна неожиданных...</td>\n",
       "      <td>Ищите, женщину, 1983, СССР</td>\n",
       "      <td>1</td>\n",
       "    </tr>\n",
       "  </tbody>\n",
       "</table>\n",
       "</div>"
      ],
      "text/plain": [
       "      item_id content_type          title                      genres  \\\n",
       "9353     6456       series  Ищите женщину  русские, криминал, комедии   \n",
       "\n",
       "     age_rating                                        description  \\\n",
       "9353          0  Детективная история, которая полна неожиданных...   \n",
       "\n",
       "                        keywords  views  \n",
       "9353  Ищите, женщину, 1983, СССР      1  "
      ]
     },
     "execution_count": 25,
     "metadata": {},
     "output_type": "execute_result"
    }
   ],
   "source": [
    "df_items_train.sample(1)"
   ]
  },
  {
   "cell_type": "code",
   "execution_count": 26,
   "metadata": {},
   "outputs": [],
   "source": [
    "df_items_train.to_csv('./data/processed/items_train.csv', index=False)\n",
    "df_items_test.to_csv('./data/processed/items_test.csv', index=False)\n",
    "df_items.to_csv('./data/processed/items.csv', index=False)"
   ]
  },
  {
   "cell_type": "markdown",
   "metadata": {},
   "source": [
    "## Users overview"
   ]
  },
  {
   "cell_type": "markdown",
   "metadata": {},
   "source": [
    "### Overview"
   ]
  },
  {
   "cell_type": "code",
   "execution_count": 27,
   "metadata": {},
   "outputs": [
    {
     "data": {
      "image/png": "[encoded data removed]",
      "text/plain": [
       "<Figure size 1500x400 with 2 Axes>"
      ]
     },
     "metadata": {},
     "output_type": "display_data"
    }
   ],
   "source": [
    "fig, ax = plt.subplots(1, 2, figsize=(15, 4), sharey=True)\n",
    "sns.lineplot(df_users_train['age'].value_counts().sort_index()/len(df_users_train),\n",
    "             linestyle='dotted', marker='o', ax=ax[0])\n",
    "sns.lineplot(df_users_train['income'].value_counts().sort_index()/len(df_users_train),\n",
    "             linestyle='dotted', marker='o', ax=ax[1])\n",
    "ax[0].set_ylabel('count, %')\n",
    "ax[0].grid(); ax[1].grid(); plt.tight_layout()"
   ]
  },
  {
   "cell_type": "code",
   "execution_count": 28,
   "metadata": {},
   "outputs": [
    {
     "data": {
      "text/html": [
       "<div>\n",
       "<style scoped>\n",
       "    .dataframe tbody tr th:only-of-type {\n",
       "        vertical-align: middle;\n",
       "    }\n",
       "\n",
       "    .dataframe tbody tr th {\n",
       "        vertical-align: top;\n",
       "    }\n",
       "\n",
       "    .dataframe thead th {\n",
       "        text-align: right;\n",
       "    }\n",
       "</style>\n",
       "<table border=\"1\" class=\"dataframe\">\n",
       "  <thead>\n",
       "    <tr style=\"text-align: right;\">\n",
       "      <th></th>\n",
       "      <th>age</th>\n",
       "      <th>income</th>\n",
       "      <th>sex</th>\n",
       "    </tr>\n",
       "  </thead>\n",
       "  <tbody>\n",
       "    <tr>\n",
       "      <th>count</th>\n",
       "      <td>373331</td>\n",
       "      <td>373533</td>\n",
       "      <td>372869</td>\n",
       "    </tr>\n",
       "    <tr>\n",
       "      <th>unique</th>\n",
       "      <td>6</td>\n",
       "      <td>6</td>\n",
       "      <td>2</td>\n",
       "    </tr>\n",
       "    <tr>\n",
       "      <th>top</th>\n",
       "      <td>age_25_34</td>\n",
       "      <td>income_20_40</td>\n",
       "      <td>Ж</td>\n",
       "    </tr>\n",
       "    <tr>\n",
       "      <th>freq</th>\n",
       "      <td>108843</td>\n",
       "      <td>209294</td>\n",
       "      <td>189304</td>\n",
       "    </tr>\n",
       "  </tbody>\n",
       "</table>\n",
       "</div>"
      ],
      "text/plain": [
       "              age        income     sex\n",
       "count      373331        373533  372869\n",
       "unique          6             6       2\n",
       "top     age_25_34  income_20_40       Ж\n",
       "freq       108843        209294  189304"
      ]
     },
     "execution_count": 28,
     "metadata": {},
     "output_type": "execute_result"
    }
   ],
   "source": [
    "df_users_train.describe(include='object')"
   ]
  },
  {
   "cell_type": "code",
   "execution_count": 29,
   "metadata": {},
   "outputs": [
    {
     "data": {
      "text/plain": [
       "kids_flg\n",
       "0    0.676182\n",
       "1    0.323818\n",
       "Name: proportion, dtype: float64"
      ]
     },
     "execution_count": 29,
     "metadata": {},
     "output_type": "execute_result"
    }
   ],
   "source": [
    "df_users_train['kids_flg'].value_counts(normalize=True)"
   ]
  },
  {
   "cell_type": "markdown",
   "metadata": {},
   "source": [
    "### Preparation"
   ]
  },
  {
   "cell_type": "code",
   "execution_count": 30,
   "metadata": {},
   "outputs": [],
   "source": [
    "user_pipe = PrepUserPipeline()\n",
    "X_users_train = user_pipe.fit_transform(df_users_train)\n",
    "X_users_test = user_pipe.transform(df_users_test)\n",
    "X_users = user_pipe.transform(df_users)"
   ]
  },
  {
   "cell_type": "code",
   "execution_count": 31,
   "metadata": {},
   "outputs": [],
   "source": [
    "df_users_train.to_csv('./data/processed/users_train.csv', index=False)\n",
    "df_users_test.to_csv('./data/processed/users_test.csv', index=False)\n",
    "df_users.to_csv('./data/processed/users.csv', index=False)"
   ]
  },
  {
   "cell_type": "code",
   "execution_count": 32,
   "metadata": {},
   "outputs": [],
   "source": [
    "np.savez_compressed('./data/processed/encoded_data_train',\n",
    "                    X_users_train=X_users_train.astype(np.float32),\n",
    "                    X_movies_train=X_movies_train.astype(np.float32))\n",
    "\n",
    "np.savez_compressed('./data/processed/encoded_data_test',\n",
    "                    X_users_test=X_users_test.astype(np.float32),\n",
    "                    X_movies_test=X_movies_test.astype(np.float32))\n",
    "\n",
    "np.savez_compressed('./data/processed/encoded_data',\n",
    "                    X_users=X_users.astype(np.float32),\n",
    "                    X_movies=X_movies.astype(np.float32))"
   ]
  }
 ],
 "metadata": {
  "kernelspec": {
   "display_name": "Python 3",
   "language": "python",
   "name": "python3"
  },
  "language_info": {
   "codemirror_mode": {
    "name": "ipython",
    "version": 3
   },
   "file_extension": ".py",
   "mimetype": "text/x-python",
   "name": "python",
   "nbconvert_exporter": "python",
   "pygments_lexer": "ipython3",
   "version": "3.11.9"
  }
 },
 "nbformat": 4,
 "nbformat_minor": 2
}
