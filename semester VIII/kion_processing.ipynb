{
 "cells": [
  {
   "cell_type": "code",
   "execution_count": 42,
   "metadata": {},
   "outputs": [],
   "source": [
    "import numpy as np\n",
    "import pandas as pd\n",
    "import matplotlib.pyplot as plt\n",
    "import seaborn as sns"
   ]
  },
  {
   "cell_type": "code",
   "execution_count": 43,
   "metadata": {},
   "outputs": [],
   "source": [
    "df_users = pd.read_csv('./data/raw_small/users.csv')\n",
    "df_items = pd.read_csv('./data/raw_small/items.csv')\n",
    "df_inter = pd.read_csv('./data/raw_small/interactions.csv',\n",
    "                       parse_dates=['last_watch_dt'], dayfirst=True)"
   ]
  },
  {
   "cell_type": "code",
   "execution_count": 44,
   "metadata": {},
   "outputs": [],
   "source": [
    "users_in_df_users = set(df_users['user_id'].values)\n",
    "users_in_df_inter = set(df_inter['user_id'].values)\n",
    "users_to_stay = users_in_df_users.intersection(users_in_df_inter)\n",
    "\n",
    "df_users_mask = df_users['user_id'].apply(lambda user: user in users_to_stay)\n",
    "df_inter_mask = df_inter['user_id'].apply(lambda user: user in users_to_stay)\n",
    "\n",
    "df_users = df_users[df_users_mask].reset_index(drop=True)\n",
    "df_inter = df_inter[df_inter_mask].reset_index(drop=True)\n",
    "\n",
    "\n",
    "items_in_df_items = set(df_items['item_id'].values)\n",
    "items_in_df_inter = set(df_inter['item_id'].values)\n",
    "items_to_stay = items_in_df_items.intersection(items_in_df_inter)\n",
    "\n",
    "df_items_mask = df_items['item_id'].apply(lambda item: item in items_to_stay)\n",
    "df_inter_mask = df_inter['item_id'].apply(lambda item: item in items_to_stay)\n",
    "\n",
    "df_items = df_items[df_items_mask].reset_index(drop=True)\n",
    "df_inter = df_inter[df_inter_mask].reset_index(drop=True)"
   ]
  },
  {
   "cell_type": "code",
   "execution_count": 45,
   "metadata": {},
   "outputs": [
    {
     "name": "stdout",
     "output_type": "stream",
     "text": [
      "<class 'pandas.core.frame.DataFrame'>\n",
      "RangeIndex: 11909 entries, 0 to 11908\n",
      "Data columns (total 14 columns):\n",
      " #   Column        Non-Null Count  Dtype  \n",
      "---  ------        --------------  -----  \n",
      " 0   item_id       11909 non-null  int64  \n",
      " 1   content_type  11909 non-null  object \n",
      " 2   title         11909 non-null  object \n",
      " 3   title_orig    9090 non-null   object \n",
      " 4   release_year  11861 non-null  float64\n",
      " 5   genres        11909 non-null  object \n",
      " 6   countries     11894 non-null  object \n",
      " 7   for_kids      533 non-null    float64\n",
      " 8   age_rating    11908 non-null  float64\n",
      " 9   studios       755 non-null    object \n",
      " 10  directors     11039 non-null  object \n",
      " 11  actors        10156 non-null  object \n",
      " 12  description   11908 non-null  object \n",
      " 13  keywords      11502 non-null  object \n",
      "dtypes: float64(3), int64(1), object(10)\n",
      "memory usage: 1.3+ MB\n"
     ]
    }
   ],
   "source": [
    "df_items.info()"
   ]
  },
  {
   "cell_type": "code",
   "execution_count": 46,
   "metadata": {},
   "outputs": [
    {
     "data": {
      "text/html": [
       "<div>\n",
       "<style scoped>\n",
       "    .dataframe tbody tr th:only-of-type {\n",
       "        vertical-align: middle;\n",
       "    }\n",
       "\n",
       "    .dataframe tbody tr th {\n",
       "        vertical-align: top;\n",
       "    }\n",
       "\n",
       "    .dataframe thead th {\n",
       "        text-align: right;\n",
       "    }\n",
       "</style>\n",
       "<table border=\"1\" class=\"dataframe\">\n",
       "  <thead>\n",
       "    <tr style=\"text-align: right;\">\n",
       "      <th></th>\n",
       "      <th>user_id</th>\n",
       "      <th>item_id</th>\n",
       "      <th>last_watch_dt</th>\n",
       "      <th>total_dur</th>\n",
       "      <th>watched_pct</th>\n",
       "    </tr>\n",
       "  </thead>\n",
       "  <tbody>\n",
       "    <tr>\n",
       "      <th>1035258</th>\n",
       "      <td>7699</td>\n",
       "      <td>15297</td>\n",
       "      <td>2021-06-07</td>\n",
       "      <td>13778.0</td>\n",
       "      <td>13.0</td>\n",
       "    </tr>\n",
       "    <tr>\n",
       "      <th>723687</th>\n",
       "      <td>594272</td>\n",
       "      <td>8014</td>\n",
       "      <td>2021-04-04</td>\n",
       "      <td>32.0</td>\n",
       "      <td>0.0</td>\n",
       "    </tr>\n",
       "  </tbody>\n",
       "</table>\n",
       "</div>"
      ],
      "text/plain": [
       "         user_id  item_id last_watch_dt  total_dur  watched_pct\n",
       "1035258     7699    15297    2021-06-07    13778.0         13.0\n",
       "723687    594272     8014    2021-04-04       32.0          0.0"
      ]
     },
     "execution_count": 46,
     "metadata": {},
     "output_type": "execute_result"
    }
   ],
   "source": [
    "df_inter.sample(2)"
   ]
  },
  {
   "cell_type": "code",
   "execution_count": 47,
   "metadata": {},
   "outputs": [
    {
     "data": {
      "text/html": [
       "<div>\n",
       "<style scoped>\n",
       "    .dataframe tbody tr th:only-of-type {\n",
       "        vertical-align: middle;\n",
       "    }\n",
       "\n",
       "    .dataframe tbody tr th {\n",
       "        vertical-align: top;\n",
       "    }\n",
       "\n",
       "    .dataframe thead th {\n",
       "        text-align: right;\n",
       "    }\n",
       "</style>\n",
       "<table border=\"1\" class=\"dataframe\">\n",
       "  <thead>\n",
       "    <tr style=\"text-align: right;\">\n",
       "      <th></th>\n",
       "      <th>item_id</th>\n",
       "      <th>content_type</th>\n",
       "      <th>title</th>\n",
       "      <th>title_orig</th>\n",
       "      <th>release_year</th>\n",
       "      <th>genres</th>\n",
       "      <th>countries</th>\n",
       "      <th>for_kids</th>\n",
       "      <th>age_rating</th>\n",
       "      <th>studios</th>\n",
       "      <th>directors</th>\n",
       "      <th>actors</th>\n",
       "      <th>description</th>\n",
       "      <th>keywords</th>\n",
       "    </tr>\n",
       "  </thead>\n",
       "  <tbody>\n",
       "    <tr>\n",
       "      <th>5621</th>\n",
       "      <td>4856</td>\n",
       "      <td>series</td>\n",
       "      <td>Рейс 222</td>\n",
       "      <td>NaN</td>\n",
       "      <td>1985.0</td>\n",
       "      <td>драмы, советские, мелодрамы</td>\n",
       "      <td>СССР</td>\n",
       "      <td>NaN</td>\n",
       "      <td>12.0</td>\n",
       "      <td>Ленфильм, рентв</td>\n",
       "      <td>Сергей Микаэлян</td>\n",
       "      <td>Александр Бабанов, Александр Иванов, Александр...</td>\n",
       "      <td>В 1979 году, в самый разгар холодной войны лид...</td>\n",
       "      <td>Рейс, 222, 1985, СССР, брак, интриги, политика...</td>\n",
       "    </tr>\n",
       "    <tr>\n",
       "      <th>3036</th>\n",
       "      <td>13204</td>\n",
       "      <td>film</td>\n",
       "      <td>Корова</td>\n",
       "      <td>Cow</td>\n",
       "      <td>2018.0</td>\n",
       "      <td>драмы</td>\n",
       "      <td>Испания</td>\n",
       "      <td>NaN</td>\n",
       "      <td>12.0</td>\n",
       "      <td>NaN</td>\n",
       "      <td>Марта Байари</td>\n",
       "      <td>Марта Байарри, Пепо Бласко</td>\n",
       "      <td>Марга застряла в рутинной жизни, работая на ск...</td>\n",
       "      <td>2018, испания, корова</td>\n",
       "    </tr>\n",
       "  </tbody>\n",
       "</table>\n",
       "</div>"
      ],
      "text/plain": [
       "      item_id content_type     title title_orig  release_year  \\\n",
       "5621     4856       series  Рейс 222        NaN        1985.0   \n",
       "3036    13204         film    Корова        Cow        2018.0   \n",
       "\n",
       "                           genres countries  for_kids  age_rating  \\\n",
       "5621  драмы, советские, мелодрамы      СССР       NaN        12.0   \n",
       "3036                        драмы   Испания       NaN        12.0   \n",
       "\n",
       "              studios        directors  \\\n",
       "5621  Ленфильм, рентв  Сергей Микаэлян   \n",
       "3036              NaN     Марта Байари   \n",
       "\n",
       "                                                 actors  \\\n",
       "5621  Александр Бабанов, Александр Иванов, Александр...   \n",
       "3036                         Марта Байарри, Пепо Бласко   \n",
       "\n",
       "                                            description  \\\n",
       "5621  В 1979 году, в самый разгар холодной войны лид...   \n",
       "3036  Марга застряла в рутинной жизни, работая на ск...   \n",
       "\n",
       "                                               keywords  \n",
       "5621  Рейс, 222, 1985, СССР, брак, интриги, политика...  \n",
       "3036                              2018, испания, корова  "
      ]
     },
     "execution_count": 47,
     "metadata": {},
     "output_type": "execute_result"
    }
   ],
   "source": [
    "df_items.sample(2)"
   ]
  },
  {
   "cell_type": "code",
   "execution_count": 48,
   "metadata": {},
   "outputs": [
    {
     "data": {
      "text/html": [
       "<div>\n",
       "<style scoped>\n",
       "    .dataframe tbody tr th:only-of-type {\n",
       "        vertical-align: middle;\n",
       "    }\n",
       "\n",
       "    .dataframe tbody tr th {\n",
       "        vertical-align: top;\n",
       "    }\n",
       "\n",
       "    .dataframe thead th {\n",
       "        text-align: right;\n",
       "    }\n",
       "</style>\n",
       "<table border=\"1\" class=\"dataframe\">\n",
       "  <thead>\n",
       "    <tr style=\"text-align: right;\">\n",
       "      <th></th>\n",
       "      <th>user_id</th>\n",
       "      <th>age</th>\n",
       "      <th>income</th>\n",
       "      <th>sex</th>\n",
       "      <th>kids_flg</th>\n",
       "    </tr>\n",
       "  </thead>\n",
       "  <tbody>\n",
       "    <tr>\n",
       "      <th>410612</th>\n",
       "      <td>573855</td>\n",
       "      <td>age_18_24</td>\n",
       "      <td>income_20_40</td>\n",
       "      <td>Ж</td>\n",
       "      <td>0</td>\n",
       "    </tr>\n",
       "    <tr>\n",
       "      <th>257142</th>\n",
       "      <td>62913</td>\n",
       "      <td>age_25_34</td>\n",
       "      <td>income_20_40</td>\n",
       "      <td>М</td>\n",
       "      <td>1</td>\n",
       "    </tr>\n",
       "  </tbody>\n",
       "</table>\n",
       "</div>"
      ],
      "text/plain": [
       "        user_id        age        income sex  kids_flg\n",
       "410612   573855  age_18_24  income_20_40   Ж         0\n",
       "257142    62913  age_25_34  income_20_40   М         1"
      ]
     },
     "execution_count": 48,
     "metadata": {},
     "output_type": "execute_result"
    }
   ],
   "source": [
    "df_users.sample(2)"
   ]
  },
  {
   "cell_type": "markdown",
   "metadata": {},
   "source": [
    "## Interactions"
   ]
  },
  {
   "cell_type": "markdown",
   "metadata": {},
   "source": [
    "### Overview"
   ]
  },
  {
   "cell_type": "markdown",
   "metadata": {},
   "source": [
    "The most popular movies"
   ]
  },
  {
   "cell_type": "code",
   "execution_count": 49,
   "metadata": {},
   "outputs": [
    {
     "data": {
      "text/html": [
       "<div>\n",
       "<style scoped>\n",
       "    .dataframe tbody tr th:only-of-type {\n",
       "        vertical-align: middle;\n",
       "    }\n",
       "\n",
       "    .dataframe tbody tr th {\n",
       "        vertical-align: top;\n",
       "    }\n",
       "\n",
       "    .dataframe thead th {\n",
       "        text-align: right;\n",
       "    }\n",
       "</style>\n",
       "<table border=\"1\" class=\"dataframe\">\n",
       "  <thead>\n",
       "    <tr style=\"text-align: right;\">\n",
       "      <th></th>\n",
       "      <th>title</th>\n",
       "      <th>views</th>\n",
       "      <th>release_year</th>\n",
       "      <th>actors</th>\n",
       "      <th>description</th>\n",
       "    </tr>\n",
       "  </thead>\n",
       "  <tbody>\n",
       "    <tr>\n",
       "      <th>0</th>\n",
       "      <td>Хрустальный</td>\n",
       "      <td>38876</td>\n",
       "      <td>2021.0</td>\n",
       "      <td>Антон Васильев, Николай Шрайбер, Екатерина Оль...</td>\n",
       "      <td>Сергей Смирнов — один из лучших «охотников на ...</td>\n",
       "    </tr>\n",
       "    <tr>\n",
       "      <th>1</th>\n",
       "      <td>Клиника счастья</td>\n",
       "      <td>37113</td>\n",
       "      <td>2021.0</td>\n",
       "      <td>Дарья Мороз, Анатолий Белый, Данил Акутин, Мар...</td>\n",
       "      <td>Успешный сексолог Алена уверена, что нашла фор...</td>\n",
       "    </tr>\n",
       "    <tr>\n",
       "      <th>2</th>\n",
       "      <td>Гнев человеческий</td>\n",
       "      <td>32953</td>\n",
       "      <td>2021.0</td>\n",
       "      <td>Джейсон Стэйтем, Холт МакКэллани, Джеффри Доно...</td>\n",
       "      <td>Грузовики лос-анджелесской инкассаторской комп...</td>\n",
       "    </tr>\n",
       "    <tr>\n",
       "      <th>3</th>\n",
       "      <td>Девятаев</td>\n",
       "      <td>28375</td>\n",
       "      <td>2021.0</td>\n",
       "      <td>Павел Прилучный, Павел Чинарёв, Тимофей Трибун...</td>\n",
       "      <td>Военно-исторический блокбастер от режиссёров Т...</td>\n",
       "    </tr>\n",
       "    <tr>\n",
       "      <th>4</th>\n",
       "      <td>Секреты семейной жизни</td>\n",
       "      <td>19562</td>\n",
       "      <td>2021.0</td>\n",
       "      <td>Петр Скворцов, Алена Михайлова, Федор Лавров, ...</td>\n",
       "      <td>У Никиты и Полины всё начиналось прекрасно: об...</td>\n",
       "    </tr>\n",
       "    <tr>\n",
       "      <th>5</th>\n",
       "      <td>Прабабушка легкого поведения</td>\n",
       "      <td>17432</td>\n",
       "      <td>2021.0</td>\n",
       "      <td>Александр Ревва, Глюкоза, Дмитрий Нагиев, Миха...</td>\n",
       "      <td>1980 год, вся страна следит за событиями моско...</td>\n",
       "    </tr>\n",
       "    <tr>\n",
       "      <th>6</th>\n",
       "      <td>Афера</td>\n",
       "      <td>12604</td>\n",
       "      <td>2021.0</td>\n",
       "      <td>Сергей Степин, Игорь Царегородцев, Татьяна Лял...</td>\n",
       "      <td>Смотри:- как кино- как сериалКарантин окончен,...</td>\n",
       "    </tr>\n",
       "    <tr>\n",
       "      <th>7</th>\n",
       "      <td>Подслушано</td>\n",
       "      <td>12134</td>\n",
       "      <td>2021.0</td>\n",
       "      <td>Александр Hовиков, Валентина Ляпина, Никита Па...</td>\n",
       "      <td>Смотри:- как кино- как сериалПодростковый псих...</td>\n",
       "    </tr>\n",
       "    <tr>\n",
       "      <th>8</th>\n",
       "      <td>Маша</td>\n",
       "      <td>10042</td>\n",
       "      <td>2020.0</td>\n",
       "      <td>Максим Суханов, Аня Чиповская, Полина Гухман, ...</td>\n",
       "      <td>13-летняя Маша растёт между боксёрским рингом ...</td>\n",
       "    </tr>\n",
       "    <tr>\n",
       "      <th>9</th>\n",
       "      <td>Белый снег</td>\n",
       "      <td>8622</td>\n",
       "      <td>2021.0</td>\n",
       "      <td>Ольга Лерман, Федор Добронравов, Надежда Марки...</td>\n",
       "      <td>Отечественная спортивная драма про лыжницу и о...</td>\n",
       "    </tr>\n",
       "  </tbody>\n",
       "</table>\n",
       "</div>"
      ],
      "text/plain": [
       "                          title  views  release_year  \\\n",
       "0                   Хрустальный  38876        2021.0   \n",
       "1               Клиника счастья  37113        2021.0   \n",
       "2             Гнев человеческий  32953        2021.0   \n",
       "3                      Девятаев  28375        2021.0   \n",
       "4        Секреты семейной жизни  19562        2021.0   \n",
       "5  Прабабушка легкого поведения  17432        2021.0   \n",
       "6                         Афера  12604        2021.0   \n",
       "7                    Подслушано  12134        2021.0   \n",
       "8                          Маша  10042        2020.0   \n",
       "9                    Белый снег   8622        2021.0   \n",
       "\n",
       "                                              actors  \\\n",
       "0  Антон Васильев, Николай Шрайбер, Екатерина Оль...   \n",
       "1  Дарья Мороз, Анатолий Белый, Данил Акутин, Мар...   \n",
       "2  Джейсон Стэйтем, Холт МакКэллани, Джеффри Доно...   \n",
       "3  Павел Прилучный, Павел Чинарёв, Тимофей Трибун...   \n",
       "4  Петр Скворцов, Алена Михайлова, Федор Лавров, ...   \n",
       "5  Александр Ревва, Глюкоза, Дмитрий Нагиев, Миха...   \n",
       "6  Сергей Степин, Игорь Царегородцев, Татьяна Лял...   \n",
       "7  Александр Hовиков, Валентина Ляпина, Никита Па...   \n",
       "8  Максим Суханов, Аня Чиповская, Полина Гухман, ...   \n",
       "9  Ольга Лерман, Федор Добронравов, Надежда Марки...   \n",
       "\n",
       "                                         description  \n",
       "0  Сергей Смирнов — один из лучших «охотников на ...  \n",
       "1  Успешный сексолог Алена уверена, что нашла фор...  \n",
       "2  Грузовики лос-анджелесской инкассаторской комп...  \n",
       "3  Военно-исторический блокбастер от режиссёров Т...  \n",
       "4  У Никиты и Полины всё начиналось прекрасно: об...  \n",
       "5  1980 год, вся страна следит за событиями моско...  \n",
       "6  Смотри:- как кино- как сериалКарантин окончен,...  \n",
       "7  Смотри:- как кино- как сериалПодростковый псих...  \n",
       "8  13-летняя Маша растёт между боксёрским рингом ...  \n",
       "9  Отечественная спортивная драма про лыжницу и о...  "
      ]
     },
     "execution_count": 49,
     "metadata": {},
     "output_type": "execute_result"
    }
   ],
   "source": [
    "views = df_inter.groupby('item_id').size().rename('views')\n",
    "df_items = df_items.merge(views, left_on='item_id', right_index=True).\\\n",
    "    sort_values('views', ignore_index=True, ascending=False)\n",
    "\n",
    "df_items[:10][['title', 'views', 'release_year', 'actors', 'description']]"
   ]
  },
  {
   "cell_type": "markdown",
   "metadata": {},
   "source": [
    "cumplots of views"
   ]
  },
  {
   "cell_type": "code",
   "execution_count": 50,
   "metadata": {},
   "outputs": [
    {
     "data": {
      "image/png": "[encoded data removed]",
      "text/plain": [
       "<Figure size 640x480 with 1 Axes>"
      ]
     },
     "metadata": {},
     "output_type": "display_data"
    }
   ],
   "source": [
    "df_views = df_items['views']\n",
    "sns.histplot(df_views, log_scale=True, cumulative=True)\n",
    "plt.grid()"
   ]
  },
  {
   "cell_type": "code",
   "execution_count": 51,
   "metadata": {},
   "outputs": [
    {
     "data": {
      "image/png": "[encoded data removed]",
      "text/plain": [
       "<Figure size 640x480 with 1 Axes>"
      ]
     },
     "metadata": {},
     "output_type": "display_data"
    }
   ],
   "source": [
    "cumsum = df_views.cumsum()\n",
    "cumsum = cumsum / cumsum.iloc[-1]\n",
    "cumsum.index = np.arange(1, len(df_views)+1)\n",
    "cumsum.plot()\n",
    "plt.grid()"
   ]
  },
  {
   "cell_type": "code",
   "execution_count": 52,
   "metadata": {},
   "outputs": [
    {
     "data": {
      "text/plain": [
       "(0.8910307781942084, 102)"
      ]
     },
     "execution_count": 52,
     "metadata": {},
     "output_type": "execute_result"
    }
   ],
   "source": [
    "cumsum[1999], df_views[1999]"
   ]
  },
  {
   "cell_type": "code",
   "execution_count": 53,
   "metadata": {},
   "outputs": [
    {
     "data": {
      "image/png": "[encoded data removed]",
      "text/plain": [
       "<Figure size 640x480 with 1 Axes>"
      ]
     },
     "metadata": {},
     "output_type": "display_data"
    }
   ],
   "source": [
    "sns.histplot(data=df_inter, x='watched_pct')\n",
    "plt.grid()"
   ]
  },
  {
   "cell_type": "code",
   "execution_count": 54,
   "metadata": {},
   "outputs": [
    {
     "data": {
      "image/png": "[encoded data removed]",
      "text/plain": [
       "<Figure size 640x480 with 1 Axes>"
      ]
     },
     "metadata": {},
     "output_type": "display_data"
    }
   ],
   "source": [
    "a = df_inter.groupby('user_id').size().value_counts()\n",
    "a[0] = 0\n",
    "a.sort_index().plot()\n",
    "plt.xlabel('Total count of interactions per user')\n",
    "plt.xlim([-1, 20])\n",
    "plt.xticks(range(20))\n",
    "plt.grid()"
   ]
  },
  {
   "cell_type": "markdown",
   "metadata": {},
   "source": [
    "### Preparation"
   ]
  },
  {
   "cell_type": "code",
   "execution_count": 55,
   "metadata": {},
   "outputs": [
    {
     "data": {
      "text/plain": [
       "user_id            0\n",
       "item_id            0\n",
       "last_watch_dt      0\n",
       "total_dur          1\n",
       "watched_pct      211\n",
       "dtype: int64"
      ]
     },
     "execution_count": 55,
     "metadata": {},
     "output_type": "execute_result"
    }
   ],
   "source": [
    "df_inter.isna().sum()"
   ]
  },
  {
   "cell_type": "code",
   "execution_count": 56,
   "metadata": {},
   "outputs": [],
   "source": [
    "####\n",
    "df_inter.drop(1288996, inplace=True)"
   ]
  },
  {
   "cell_type": "code",
   "execution_count": 57,
   "metadata": {},
   "outputs": [],
   "source": [
    "df_inter.drop(['total_dur'], axis=1, inplace=True)\n",
    "df_inter['watched_pct'] = df_inter['watched_pct'].fillna(50.)\n",
    "\n",
    "df_inter.sort_values('last_watch_dt', inplace=True)"
   ]
  },
  {
   "cell_type": "code",
   "execution_count": 58,
   "metadata": {},
   "outputs": [
    {
     "data": {
      "text/html": [
       "<div>\n",
       "<style scoped>\n",
       "    .dataframe tbody tr th:only-of-type {\n",
       "        vertical-align: middle;\n",
       "    }\n",
       "\n",
       "    .dataframe tbody tr th {\n",
       "        vertical-align: top;\n",
       "    }\n",
       "\n",
       "    .dataframe thead th {\n",
       "        text-align: right;\n",
       "    }\n",
       "</style>\n",
       "<table border=\"1\" class=\"dataframe\">\n",
       "  <thead>\n",
       "    <tr style=\"text-align: right;\">\n",
       "      <th></th>\n",
       "      <th>user_id</th>\n",
       "      <th>item_id</th>\n",
       "      <th>last_watch_dt</th>\n",
       "      <th>watched_pct</th>\n",
       "    </tr>\n",
       "  </thead>\n",
       "  <tbody>\n",
       "    <tr>\n",
       "      <th>1099006</th>\n",
       "      <td>826814</td>\n",
       "      <td>12743</td>\n",
       "      <td>2021-06-23</td>\n",
       "      <td>100.0</td>\n",
       "    </tr>\n",
       "  </tbody>\n",
       "</table>\n",
       "</div>"
      ],
      "text/plain": [
       "         user_id  item_id last_watch_dt  watched_pct\n",
       "1099006   826814    12743    2021-06-23        100.0"
      ]
     },
     "execution_count": 58,
     "metadata": {},
     "output_type": "execute_result"
    }
   ],
   "source": [
    "df_inter.sample(1)"
   ]
  },
  {
   "cell_type": "markdown",
   "metadata": {},
   "source": [
    "Save modified data to new csv-file."
   ]
  },
  {
   "cell_type": "code",
   "execution_count": 59,
   "metadata": {},
   "outputs": [],
   "source": [
    "df_inter.to_csv('./data/processed/interactions.csv', index=False)"
   ]
  },
  {
   "cell_type": "markdown",
   "metadata": {},
   "source": [
    "## Items"
   ]
  },
  {
   "cell_type": "markdown",
   "metadata": {},
   "source": [
    "### Overview"
   ]
  },
  {
   "cell_type": "code",
   "execution_count": 60,
   "metadata": {},
   "outputs": [
    {
     "data": {
      "text/html": [
       "<div>\n",
       "<style scoped>\n",
       "    .dataframe tbody tr th:only-of-type {\n",
       "        vertical-align: middle;\n",
       "    }\n",
       "\n",
       "    .dataframe tbody tr th {\n",
       "        vertical-align: top;\n",
       "    }\n",
       "\n",
       "    .dataframe thead th {\n",
       "        text-align: right;\n",
       "    }\n",
       "</style>\n",
       "<table border=\"1\" class=\"dataframe\">\n",
       "  <thead>\n",
       "    <tr style=\"text-align: right;\">\n",
       "      <th></th>\n",
       "      <th>content_type</th>\n",
       "      <th>title</th>\n",
       "      <th>title_orig</th>\n",
       "      <th>genres</th>\n",
       "      <th>countries</th>\n",
       "      <th>studios</th>\n",
       "      <th>directors</th>\n",
       "      <th>actors</th>\n",
       "      <th>description</th>\n",
       "      <th>keywords</th>\n",
       "    </tr>\n",
       "  </thead>\n",
       "  <tbody>\n",
       "    <tr>\n",
       "      <th>count</th>\n",
       "      <td>11909</td>\n",
       "      <td>11909</td>\n",
       "      <td>9090</td>\n",
       "      <td>11909</td>\n",
       "      <td>11894</td>\n",
       "      <td>755</td>\n",
       "      <td>11039</td>\n",
       "      <td>10156</td>\n",
       "      <td>11908</td>\n",
       "      <td>11502</td>\n",
       "    </tr>\n",
       "    <tr>\n",
       "      <th>unique</th>\n",
       "      <td>2</td>\n",
       "      <td>11461</td>\n",
       "      <td>8631</td>\n",
       "      <td>2273</td>\n",
       "      <td>635</td>\n",
       "      <td>37</td>\n",
       "      <td>6541</td>\n",
       "      <td>9943</td>\n",
       "      <td>11674</td>\n",
       "      <td>11459</td>\n",
       "    </tr>\n",
       "    <tr>\n",
       "      <th>top</th>\n",
       "      <td>film</td>\n",
       "      <td>Родина</td>\n",
       "      <td>Pet Sematary</td>\n",
       "      <td>документальное</td>\n",
       "      <td>США</td>\n",
       "      <td>HBO</td>\n",
       "      <td>Оливье Шиабоду</td>\n",
       "      <td>Александр Клюквин</td>\n",
       "      <td>МТС «Карантинники» — это домашние акустические...</td>\n",
       "      <td>2015, чехия, секс, страсть</td>\n",
       "    </tr>\n",
       "    <tr>\n",
       "      <th>freq</th>\n",
       "      <td>9189</td>\n",
       "      <td>4</td>\n",
       "      <td>4</td>\n",
       "      <td>634</td>\n",
       "      <td>3337</td>\n",
       "      <td>242</td>\n",
       "      <td>388</td>\n",
       "      <td>20</td>\n",
       "      <td>35</td>\n",
       "      <td>6</td>\n",
       "    </tr>\n",
       "  </tbody>\n",
       "</table>\n",
       "</div>"
      ],
      "text/plain": [
       "       content_type   title    title_orig          genres countries studios  \\\n",
       "count         11909   11909          9090           11909     11894     755   \n",
       "unique            2   11461          8631            2273       635      37   \n",
       "top            film  Родина  Pet Sematary  документальное       США     HBO   \n",
       "freq           9189       4             4             634      3337     242   \n",
       "\n",
       "             directors             actors  \\\n",
       "count            11039              10156   \n",
       "unique            6541               9943   \n",
       "top     Оливье Шиабоду  Александр Клюквин   \n",
       "freq               388                 20   \n",
       "\n",
       "                                              description  \\\n",
       "count                                               11908   \n",
       "unique                                              11674   \n",
       "top     МТС «Карантинники» — это домашние акустические...   \n",
       "freq                                                   35   \n",
       "\n",
       "                          keywords  \n",
       "count                        11502  \n",
       "unique                       11459  \n",
       "top     2015, чехия, секс, страсть  \n",
       "freq                             6  "
      ]
     },
     "execution_count": 60,
     "metadata": {},
     "output_type": "execute_result"
    }
   ],
   "source": [
    "df_items.describe(include='object')"
   ]
  },
  {
   "cell_type": "code",
   "execution_count": 61,
   "metadata": {},
   "outputs": [
    {
     "data": {
      "text/plain": [
       "content_type\n",
       "film      9189\n",
       "series    2720\n",
       "Name: count, dtype: int64"
      ]
     },
     "execution_count": 61,
     "metadata": {},
     "output_type": "execute_result"
    }
   ],
   "source": [
    "df_items['content_type'].value_counts()"
   ]
  },
  {
   "cell_type": "code",
   "execution_count": 62,
   "metadata": {},
   "outputs": [
    {
     "data": {
      "text/plain": [
       "age_rating\n",
       "0.0     1053\n",
       "6.0     1038\n",
       "12.0    2915\n",
       "16.0    4335\n",
       "18.0    2108\n",
       "21.0     459\n",
       "Name: count, dtype: int64"
      ]
     },
     "execution_count": 62,
     "metadata": {},
     "output_type": "execute_result"
    }
   ],
   "source": [
    "df_items['age_rating'].value_counts().sort_index()"
   ]
  },
  {
   "cell_type": "code",
   "execution_count": 63,
   "metadata": {},
   "outputs": [
    {
     "data": {
      "text/plain": [
       "genres\n",
       "документальное                                                   634\n",
       "драмы                                                            614\n",
       "комедии                                                          474\n",
       "для взрослых                                                     459\n",
       "мелодрамы, комедии                                               236\n",
       "                                                                ... \n",
       "для детей, приключения, зарубежные, семейное, комедии              1\n",
       "русские, для детей, русские мультфильмы, приключения, комедии      1\n",
       "музыка, развлекательные, для детей, музыкальные                    1\n",
       "приключения, зарубежные, ужасы, артхаус, фэнтези, комедии          1\n",
       "для взрослых, ужасы, зарубежные, фэнтези                           1\n",
       "Name: count, Length: 2273, dtype: int64"
      ]
     },
     "execution_count": 63,
     "metadata": {},
     "output_type": "execute_result"
    }
   ],
   "source": [
    "df_items['genres'].value_counts()"
   ]
  },
  {
   "cell_type": "code",
   "execution_count": 64,
   "metadata": {},
   "outputs": [
    {
     "data": {
      "image/png": "[encoded data removed]",
      "text/plain": [
       "<Figure size 640x480 with 1 Axes>"
      ]
     },
     "metadata": {},
     "output_type": "display_data"
    }
   ],
   "source": [
    "df_items['release_year'].value_counts().sort_index().plot(logy=True);"
   ]
  },
  {
   "cell_type": "code",
   "execution_count": 65,
   "metadata": {},
   "outputs": [
    {
     "data": {
      "text/plain": [
       "отношения            5575\n",
       "соединенные штаты    2611\n",
       "Россия               2050\n",
       "женщины              1637\n",
       "любовь               1591\n",
       "США                  1497\n",
       "борьба               1374\n",
       "мужчины              1366\n",
       "преодоление          1283\n",
       "трудностей           1281\n",
       "Name: count, dtype: int64"
      ]
     },
     "execution_count": 65,
     "metadata": {},
     "output_type": "execute_result"
    }
   ],
   "source": [
    "listoflists = df_items['keywords'].apply(lambda line: str(line).split(', '))\n",
    "keywords = [word for line in listoflists for word in line]\n",
    "pd.Series(keywords).value_counts().head(10)"
   ]
  },
  {
   "cell_type": "code",
   "execution_count": 66,
   "metadata": {},
   "outputs": [
    {
     "data": {
      "text/html": [
       "<div>\n",
       "<style scoped>\n",
       "    .dataframe tbody tr th:only-of-type {\n",
       "        vertical-align: middle;\n",
       "    }\n",
       "\n",
       "    .dataframe tbody tr th {\n",
       "        vertical-align: top;\n",
       "    }\n",
       "\n",
       "    .dataframe thead th {\n",
       "        text-align: right;\n",
       "    }\n",
       "</style>\n",
       "<table border=\"1\" class=\"dataframe\">\n",
       "  <thead>\n",
       "    <tr style=\"text-align: right;\">\n",
       "      <th></th>\n",
       "      <th>item_id</th>\n",
       "      <th>content_type</th>\n",
       "      <th>title</th>\n",
       "      <th>title_orig</th>\n",
       "      <th>release_year</th>\n",
       "      <th>genres</th>\n",
       "      <th>countries</th>\n",
       "      <th>for_kids</th>\n",
       "      <th>age_rating</th>\n",
       "      <th>studios</th>\n",
       "      <th>directors</th>\n",
       "      <th>actors</th>\n",
       "      <th>description</th>\n",
       "      <th>keywords</th>\n",
       "      <th>views</th>\n",
       "    </tr>\n",
       "  </thead>\n",
       "  <tbody>\n",
       "    <tr>\n",
       "      <th>1932</th>\n",
       "      <td>10054</td>\n",
       "      <td>film</td>\n",
       "      <td>Слендер</td>\n",
       "      <td>Always Watching: A Marble Hornets Story</td>\n",
       "      <td>2014.0</td>\n",
       "      <td>ужасы</td>\n",
       "      <td>США</td>\n",
       "      <td>NaN</td>\n",
       "      <td>16.0</td>\n",
       "      <td>NaN</td>\n",
       "      <td>Джеймс Моран</td>\n",
       "      <td>Александра Холден, Крис Маркетт, Александра Бр...</td>\n",
       "      <td>Съемочная группа, готовящая сюжет про исчезнув...</td>\n",
       "      <td>Слендер-Мэн, галлюцинация, сверхъестественное ...</td>\n",
       "      <td>108</td>\n",
       "    </tr>\n",
       "  </tbody>\n",
       "</table>\n",
       "</div>"
      ],
      "text/plain": [
       "      item_id content_type    title                               title_orig  \\\n",
       "1932    10054         film  Слендер  Always Watching: A Marble Hornets Story   \n",
       "\n",
       "      release_year genres countries  for_kids  age_rating studios  \\\n",
       "1932        2014.0  ужасы       США       NaN        16.0     NaN   \n",
       "\n",
       "         directors                                             actors  \\\n",
       "1932  Джеймс Моран  Александра Холден, Крис Маркетт, Александра Бр...   \n",
       "\n",
       "                                            description  \\\n",
       "1932  Съемочная группа, готовящая сюжет про исчезнув...   \n",
       "\n",
       "                                               keywords  views  \n",
       "1932  Слендер-Мэн, галлюцинация, сверхъестественное ...    108  "
      ]
     },
     "execution_count": 66,
     "metadata": {},
     "output_type": "execute_result"
    }
   ],
   "source": [
    "df_items.sample(1)"
   ]
  },
  {
   "cell_type": "markdown",
   "metadata": {},
   "source": [
    "### Preparation"
   ]
  },
  {
   "cell_type": "code",
   "execution_count": 67,
   "metadata": {},
   "outputs": [],
   "source": [
    "df_items_mod = df_items.drop(\n",
    "    ['title_orig', 'release_year', 'countries', 'for_kids', 'studios',\n",
    "     'directors', 'actors', 'description'], axis=1)"
   ]
  },
  {
   "cell_type": "code",
   "execution_count": 68,
   "metadata": {},
   "outputs": [
    {
     "data": {
      "text/plain": [
       "item_id           0\n",
       "content_type      0\n",
       "title             0\n",
       "genres            0\n",
       "age_rating        1\n",
       "keywords        407\n",
       "views             0\n",
       "dtype: int64"
      ]
     },
     "execution_count": 68,
     "metadata": {},
     "output_type": "execute_result"
    }
   ],
   "source": [
    "df_items_mod.isnull().sum()"
   ]
  },
  {
   "cell_type": "code",
   "execution_count": 69,
   "metadata": {},
   "outputs": [],
   "source": [
    "df_items_mod['age_rating'] = df_items_mod['age_rating'].fillna(0)\n",
    "df_items_mod['age_rating'] = df_items_mod['age_rating'].astype(int)\n",
    "df_items_mod['age_rating'] = df_items_mod['age_rating'].astype('object')"
   ]
  },
  {
   "cell_type": "code",
   "execution_count": 70,
   "metadata": {},
   "outputs": [
    {
     "data": {
      "text/html": [
       "<div>\n",
       "<style scoped>\n",
       "    .dataframe tbody tr th:only-of-type {\n",
       "        vertical-align: middle;\n",
       "    }\n",
       "\n",
       "    .dataframe tbody tr th {\n",
       "        vertical-align: top;\n",
       "    }\n",
       "\n",
       "    .dataframe thead th {\n",
       "        text-align: right;\n",
       "    }\n",
       "</style>\n",
       "<table border=\"1\" class=\"dataframe\">\n",
       "  <thead>\n",
       "    <tr style=\"text-align: right;\">\n",
       "      <th></th>\n",
       "      <th>item_id</th>\n",
       "      <th>content_type</th>\n",
       "      <th>title</th>\n",
       "      <th>genres</th>\n",
       "      <th>age_rating</th>\n",
       "      <th>keywords</th>\n",
       "      <th>views</th>\n",
       "    </tr>\n",
       "  </thead>\n",
       "  <tbody>\n",
       "    <tr>\n",
       "      <th>10623</th>\n",
       "      <td>12728</td>\n",
       "      <td>film</td>\n",
       "      <td>Воскрешение</td>\n",
       "      <td>ужасы, триллеры</td>\n",
       "      <td>16</td>\n",
       "      <td>ведьма, воскрешение, допрос, икона, кладбище, ...</td>\n",
       "      <td>1</td>\n",
       "    </tr>\n",
       "  </tbody>\n",
       "</table>\n",
       "</div>"
      ],
      "text/plain": [
       "       item_id content_type        title           genres age_rating  \\\n",
       "10623    12728         film  Воскрешение  ужасы, триллеры         16   \n",
       "\n",
       "                                                keywords  views  \n",
       "10623  ведьма, воскрешение, допрос, икона, кладбище, ...      1  "
      ]
     },
     "execution_count": 70,
     "metadata": {},
     "output_type": "execute_result"
    }
   ],
   "source": [
    "df_items_mod.sample(1)"
   ]
  },
  {
   "cell_type": "code",
   "execution_count": 71,
   "metadata": {},
   "outputs": [],
   "source": [
    "df_items_mod.to_csv('./data/processed/items.csv', index=False)"
   ]
  },
  {
   "cell_type": "markdown",
   "metadata": {},
   "source": [
    "## Users overview"
   ]
  },
  {
   "cell_type": "markdown",
   "metadata": {},
   "source": [
    "### Overview"
   ]
  },
  {
   "cell_type": "code",
   "execution_count": 72,
   "metadata": {},
   "outputs": [
    {
     "data": {
      "image/png": "[encoded data removed]",
      "text/plain": [
       "<Figure size 800x600 with 2 Axes>"
      ]
     },
     "metadata": {},
     "output_type": "display_data"
    }
   ],
   "source": [
    "plt.figure(figsize=(8, 6))\n",
    "plt.subplot(2, 1, 1)\n",
    "sns.lineplot(df_users['age'].value_counts().sort_index()/len(df_users), linestyle='dotted', marker='o')\n",
    "plt.ylabel('count, %')\n",
    "plt.grid()\n",
    "\n",
    "plt.subplot(2, 1, 2)\n",
    "sns.lineplot(df_users['income'].value_counts().sort_index()/len(df_users), linestyle='dotted', marker='o')\n",
    "plt.ylabel('count, %')\n",
    "plt.grid()\n",
    "\n",
    "plt.tight_layout()"
   ]
  },
  {
   "cell_type": "code",
   "execution_count": 73,
   "metadata": {},
   "outputs": [
    {
     "data": {
      "text/html": [
       "<div>\n",
       "<style scoped>\n",
       "    .dataframe tbody tr th:only-of-type {\n",
       "        vertical-align: middle;\n",
       "    }\n",
       "\n",
       "    .dataframe tbody tr th {\n",
       "        vertical-align: top;\n",
       "    }\n",
       "\n",
       "    .dataframe thead th {\n",
       "        text-align: right;\n",
       "    }\n",
       "</style>\n",
       "<table border=\"1\" class=\"dataframe\">\n",
       "  <thead>\n",
       "    <tr style=\"text-align: right;\">\n",
       "      <th></th>\n",
       "      <th>age</th>\n",
       "      <th>income</th>\n",
       "      <th>sex</th>\n",
       "    </tr>\n",
       "  </thead>\n",
       "  <tbody>\n",
       "    <tr>\n",
       "      <th>count</th>\n",
       "      <td>443303</td>\n",
       "      <td>443417</td>\n",
       "      <td>443377</td>\n",
       "    </tr>\n",
       "    <tr>\n",
       "      <th>unique</th>\n",
       "      <td>6</td>\n",
       "      <td>6</td>\n",
       "      <td>2</td>\n",
       "    </tr>\n",
       "    <tr>\n",
       "      <th>top</th>\n",
       "      <td>age_25_34</td>\n",
       "      <td>income_20_40</td>\n",
       "      <td>Ж</td>\n",
       "    </tr>\n",
       "    <tr>\n",
       "      <th>freq</th>\n",
       "      <td>128909</td>\n",
       "      <td>250031</td>\n",
       "      <td>225550</td>\n",
       "    </tr>\n",
       "  </tbody>\n",
       "</table>\n",
       "</div>"
      ],
      "text/plain": [
       "              age        income     sex\n",
       "count      443303        443417  443377\n",
       "unique          6             6       2\n",
       "top     age_25_34  income_20_40       Ж\n",
       "freq       128909        250031  225550"
      ]
     },
     "execution_count": 73,
     "metadata": {},
     "output_type": "execute_result"
    }
   ],
   "source": [
    "df_users.describe(include='object')"
   ]
  },
  {
   "cell_type": "code",
   "execution_count": 74,
   "metadata": {},
   "outputs": [
    {
     "data": {
      "text/plain": [
       "kids_flg\n",
       "0    305867\n",
       "1    142931\n",
       "Name: count, dtype: int64"
      ]
     },
     "execution_count": 74,
     "metadata": {},
     "output_type": "execute_result"
    }
   ],
   "source": [
    "df_users['kids_flg'].value_counts()"
   ]
  },
  {
   "cell_type": "markdown",
   "metadata": {},
   "source": [
    "### Preparation"
   ]
  },
  {
   "cell_type": "code",
   "execution_count": 75,
   "metadata": {},
   "outputs": [],
   "source": [
    "df_users['kids_flg'] = df_users['kids_flg'].fillna(0)\n",
    "df_users['age'] = df_users['age'].fillna('age_25_34')\n",
    "df_users['income'] = df_users['income'].fillna('income_20_40')\n",
    "df_users['sex'] = df_users['sex'].fillna('Ж')"
   ]
  },
  {
   "cell_type": "code",
   "execution_count": 76,
   "metadata": {},
   "outputs": [],
   "source": [
    "df_users.to_csv('./data/processed/users.csv', index=False)"
   ]
  }
 ],
 "metadata": {
  "kernelspec": {
   "display_name": "Python 3",
   "language": "python",
   "name": "python3"
  },
  "language_info": {
   "codemirror_mode": {
    "name": "ipython",
    "version": 3
   },
   "file_extension": ".py",
   "mimetype": "text/x-python",
   "name": "python",
   "nbconvert_exporter": "python",
   "pygments_lexer": "ipython3",
   "version": "3.11.9"
  }
 },
 "nbformat": 4,
 "nbformat_minor": 2
}
