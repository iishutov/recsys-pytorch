{
 "cells": [
  {
   "cell_type": "code",
   "execution_count": 2,
   "metadata": {},
   "outputs": [],
   "source": [
    "import numpy as np\n",
    "import pandas as pd\n",
    "import matplotlib.pyplot as plt\n",
    "import seaborn as sns"
   ]
  },
  {
   "cell_type": "code",
   "execution_count": 3,
   "metadata": {},
   "outputs": [],
   "source": [
    "df_inter = pd.read_csv('./data/interactions.csv', parse_dates=['last_watch_dt'], dayfirst=True)\n",
    "df_items = pd.read_csv('./data/items.csv')\n",
    "df_users = pd.read_csv('./data/users.csv')"
   ]
  },
  {
   "cell_type": "code",
   "execution_count": 4,
   "metadata": {},
   "outputs": [],
   "source": [
    "users_in_df_users = set(df_users['user_id'].values)\n",
    "users_in_df_inter = set(df_inter['user_id'].values)\n",
    "users_to_stay = users_in_df_users.intersection(users_in_df_inter)\n",
    "\n",
    "df_users_mask = df_users['user_id'].apply(lambda user: user in users_to_stay)\n",
    "df_inter_mask = df_inter['user_id'].apply(lambda user: user in users_to_stay)\n",
    "\n",
    "df_users = df_users[df_users_mask].reset_index(drop=True)\n",
    "df_inter = df_inter[df_inter_mask].reset_index(drop=True)\n",
    "\n",
    "\n",
    "items_in_df_items = set(df_items['item_id'].values)\n",
    "items_in_df_inter = set(df_inter['item_id'].values)\n",
    "items_to_stay = items_in_df_items.intersection(items_in_df_inter)\n",
    "\n",
    "df_items_mask = df_items['item_id'].apply(lambda item: item in items_to_stay)\n",
    "df_inter_mask = df_inter['item_id'].apply(lambda item: item in items_to_stay)\n",
    "\n",
    "df_items = df_items[df_items_mask].reset_index(drop=True)\n",
    "df_inter = df_inter[df_inter_mask].reset_index(drop=True)"
   ]
  },
  {
   "cell_type": "code",
   "execution_count": 5,
   "metadata": {},
   "outputs": [
    {
     "name": "stdout",
     "output_type": "stream",
     "text": [
      "<class 'pandas.core.frame.DataFrame'>\n",
      "RangeIndex: 15008 entries, 0 to 15007\n",
      "Data columns (total 14 columns):\n",
      " #   Column        Non-Null Count  Dtype  \n",
      "---  ------        --------------  -----  \n",
      " 0   item_id       15008 non-null  int64  \n",
      " 1   content_type  15008 non-null  object \n",
      " 2   title         15008 non-null  object \n",
      " 3   title_orig    10749 non-null  object \n",
      " 4   release_year  14922 non-null  float64\n",
      " 5   genres        15008 non-null  object \n",
      " 6   countries     14974 non-null  object \n",
      " 7   for_kids      558 non-null    float64\n",
      " 8   age_rating    15007 non-null  float64\n",
      " 9   studios       994 non-null    object \n",
      " 10  directors     13660 non-null  object \n",
      " 11  actors        12581 non-null  object \n",
      " 12  description   15007 non-null  object \n",
      " 13  keywords      14593 non-null  object \n",
      "dtypes: float64(3), int64(1), object(10)\n",
      "memory usage: 1.6+ MB\n"
     ]
    }
   ],
   "source": [
    "df_items.info()"
   ]
  },
  {
   "cell_type": "code",
   "execution_count": 6,
   "metadata": {},
   "outputs": [
    {
     "data": {
      "text/html": [
       "<div>\n",
       "<style scoped>\n",
       "    .dataframe tbody tr th:only-of-type {\n",
       "        vertical-align: middle;\n",
       "    }\n",
       "\n",
       "    .dataframe tbody tr th {\n",
       "        vertical-align: top;\n",
       "    }\n",
       "\n",
       "    .dataframe thead th {\n",
       "        text-align: right;\n",
       "    }\n",
       "</style>\n",
       "<table border=\"1\" class=\"dataframe\">\n",
       "  <thead>\n",
       "    <tr style=\"text-align: right;\">\n",
       "      <th></th>\n",
       "      <th>user_id</th>\n",
       "      <th>item_id</th>\n",
       "      <th>last_watch_dt</th>\n",
       "      <th>total_dur</th>\n",
       "      <th>watched_pct</th>\n",
       "    </tr>\n",
       "  </thead>\n",
       "  <tbody>\n",
       "    <tr>\n",
       "      <th>1275681</th>\n",
       "      <td>679182</td>\n",
       "      <td>12192</td>\n",
       "      <td>2021-07-22</td>\n",
       "      <td>8047</td>\n",
       "      <td>10.0</td>\n",
       "    </tr>\n",
       "    <tr>\n",
       "      <th>605977</th>\n",
       "      <td>150728</td>\n",
       "      <td>931</td>\n",
       "      <td>2021-05-17</td>\n",
       "      <td>10238</td>\n",
       "      <td>100.0</td>\n",
       "    </tr>\n",
       "  </tbody>\n",
       "</table>\n",
       "</div>"
      ],
      "text/plain": [
       "         user_id  item_id last_watch_dt  total_dur  watched_pct\n",
       "1275681   679182    12192    2021-07-22       8047         10.0\n",
       "605977    150728      931    2021-05-17      10238        100.0"
      ]
     },
     "execution_count": 6,
     "metadata": {},
     "output_type": "execute_result"
    }
   ],
   "source": [
    "df_inter.sample(2)"
   ]
  },
  {
   "cell_type": "code",
   "execution_count": 7,
   "metadata": {},
   "outputs": [
    {
     "data": {
      "text/html": [
       "<div>\n",
       "<style scoped>\n",
       "    .dataframe tbody tr th:only-of-type {\n",
       "        vertical-align: middle;\n",
       "    }\n",
       "\n",
       "    .dataframe tbody tr th {\n",
       "        vertical-align: top;\n",
       "    }\n",
       "\n",
       "    .dataframe thead th {\n",
       "        text-align: right;\n",
       "    }\n",
       "</style>\n",
       "<table border=\"1\" class=\"dataframe\">\n",
       "  <thead>\n",
       "    <tr style=\"text-align: right;\">\n",
       "      <th></th>\n",
       "      <th>item_id</th>\n",
       "      <th>content_type</th>\n",
       "      <th>title</th>\n",
       "      <th>title_orig</th>\n",
       "      <th>release_year</th>\n",
       "      <th>genres</th>\n",
       "      <th>countries</th>\n",
       "      <th>for_kids</th>\n",
       "      <th>age_rating</th>\n",
       "      <th>studios</th>\n",
       "      <th>directors</th>\n",
       "      <th>actors</th>\n",
       "      <th>description</th>\n",
       "      <th>keywords</th>\n",
       "    </tr>\n",
       "  </thead>\n",
       "  <tbody>\n",
       "    <tr>\n",
       "      <th>6367</th>\n",
       "      <td>354</td>\n",
       "      <td>film</td>\n",
       "      <td>Серая сова</td>\n",
       "      <td>Grey Owl</td>\n",
       "      <td>1998.0</td>\n",
       "      <td>драмы, биография, вестерн</td>\n",
       "      <td>Великобритания, Канада</td>\n",
       "      <td>NaN</td>\n",
       "      <td>12.0</td>\n",
       "      <td>NaN</td>\n",
       "      <td>Ричард Аттенборо</td>\n",
       "      <td>Пирс Броснан, Стюарт Бик, Власта Врана, Анни Г...</td>\n",
       "      <td>Британец Арчи Белани считал своим домом дикие ...</td>\n",
       "      <td>1998, соединенное королевство, канада, серая, ...</td>\n",
       "    </tr>\n",
       "    <tr>\n",
       "      <th>3359</th>\n",
       "      <td>2880</td>\n",
       "      <td>film</td>\n",
       "      <td>Необитаемый остров</td>\n",
       "      <td>Uninhabited</td>\n",
       "      <td>2010.0</td>\n",
       "      <td>зарубежные, триллеры, ужасы</td>\n",
       "      <td>Австралия</td>\n",
       "      <td>NaN</td>\n",
       "      <td>16.0</td>\n",
       "      <td>NaN</td>\n",
       "      <td>Билл Беннетт</td>\n",
       "      <td>Билли Милионис, Боб Бэйнс, Генри Джеймс, Джера...</td>\n",
       "      <td>На маленьком австралийском острове находит при...</td>\n",
       "      <td>Необитаемый, остров, 2010, Австралия</td>\n",
       "    </tr>\n",
       "  </tbody>\n",
       "</table>\n",
       "</div>"
      ],
      "text/plain": [
       "      item_id content_type               title   title_orig  release_year  \\\n",
       "6367      354         film          Серая сова     Grey Owl        1998.0   \n",
       "3359     2880         film  Необитаемый остров  Uninhabited        2010.0   \n",
       "\n",
       "                           genres               countries  for_kids  \\\n",
       "6367    драмы, биография, вестерн  Великобритания, Канада       NaN   \n",
       "3359  зарубежные, триллеры, ужасы               Австралия       NaN   \n",
       "\n",
       "      age_rating studios         directors  \\\n",
       "6367        12.0     NaN  Ричард Аттенборо   \n",
       "3359        16.0     NaN      Билл Беннетт   \n",
       "\n",
       "                                                 actors  \\\n",
       "6367  Пирс Броснан, Стюарт Бик, Власта Врана, Анни Г...   \n",
       "3359  Билли Милионис, Боб Бэйнс, Генри Джеймс, Джера...   \n",
       "\n",
       "                                            description  \\\n",
       "6367  Британец Арчи Белани считал своим домом дикие ...   \n",
       "3359  На маленьком австралийском острове находит при...   \n",
       "\n",
       "                                               keywords  \n",
       "6367  1998, соединенное королевство, канада, серая, ...  \n",
       "3359               Необитаемый, остров, 2010, Австралия  "
      ]
     },
     "execution_count": 7,
     "metadata": {},
     "output_type": "execute_result"
    }
   ],
   "source": [
    "df_items.sample(2)"
   ]
  },
  {
   "cell_type": "code",
   "execution_count": 8,
   "metadata": {},
   "outputs": [
    {
     "data": {
      "text/html": [
       "<div>\n",
       "<style scoped>\n",
       "    .dataframe tbody tr th:only-of-type {\n",
       "        vertical-align: middle;\n",
       "    }\n",
       "\n",
       "    .dataframe tbody tr th {\n",
       "        vertical-align: top;\n",
       "    }\n",
       "\n",
       "    .dataframe thead th {\n",
       "        text-align: right;\n",
       "    }\n",
       "</style>\n",
       "<table border=\"1\" class=\"dataframe\">\n",
       "  <thead>\n",
       "    <tr style=\"text-align: right;\">\n",
       "      <th></th>\n",
       "      <th>user_id</th>\n",
       "      <th>age</th>\n",
       "      <th>income</th>\n",
       "      <th>sex</th>\n",
       "      <th>kids_flg</th>\n",
       "    </tr>\n",
       "  </thead>\n",
       "  <tbody>\n",
       "    <tr>\n",
       "      <th>352612</th>\n",
       "      <td>1093599</td>\n",
       "      <td>age_35_44</td>\n",
       "      <td>income_20_40</td>\n",
       "      <td>М</td>\n",
       "      <td>1</td>\n",
       "    </tr>\n",
       "    <tr>\n",
       "      <th>51499</th>\n",
       "      <td>754241</td>\n",
       "      <td>age_45_54</td>\n",
       "      <td>income_20_40</td>\n",
       "      <td>М</td>\n",
       "      <td>0</td>\n",
       "    </tr>\n",
       "  </tbody>\n",
       "</table>\n",
       "</div>"
      ],
      "text/plain": [
       "        user_id        age        income sex  kids_flg\n",
       "352612  1093599  age_35_44  income_20_40   М         1\n",
       "51499    754241  age_45_54  income_20_40   М         0"
      ]
     },
     "execution_count": 8,
     "metadata": {},
     "output_type": "execute_result"
    }
   ],
   "source": [
    "df_users.sample(2)"
   ]
  },
  {
   "cell_type": "markdown",
   "metadata": {},
   "source": [
    "## Interactions"
   ]
  },
  {
   "cell_type": "markdown",
   "metadata": {},
   "source": [
    "### Overview"
   ]
  },
  {
   "cell_type": "markdown",
   "metadata": {},
   "source": [
    "The most popular movies"
   ]
  },
  {
   "cell_type": "code",
   "execution_count": 9,
   "metadata": {},
   "outputs": [
    {
     "data": {
      "text/html": [
       "<div>\n",
       "<style scoped>\n",
       "    .dataframe tbody tr th:only-of-type {\n",
       "        vertical-align: middle;\n",
       "    }\n",
       "\n",
       "    .dataframe tbody tr th {\n",
       "        vertical-align: top;\n",
       "    }\n",
       "\n",
       "    .dataframe thead th {\n",
       "        text-align: right;\n",
       "    }\n",
       "</style>\n",
       "<table border=\"1\" class=\"dataframe\">\n",
       "  <thead>\n",
       "    <tr style=\"text-align: right;\">\n",
       "      <th></th>\n",
       "      <th>title</th>\n",
       "      <th>views</th>\n",
       "      <th>release_year</th>\n",
       "      <th>actors</th>\n",
       "      <th>description</th>\n",
       "    </tr>\n",
       "  </thead>\n",
       "  <tbody>\n",
       "    <tr>\n",
       "      <th>0</th>\n",
       "      <td>Хрустальный</td>\n",
       "      <td>133553</td>\n",
       "      <td>2021.0</td>\n",
       "      <td>Антон Васильев, Николай Шрайбер, Екатерина Оль...</td>\n",
       "      <td>Сергей Смирнов — один из лучших «охотников на ...</td>\n",
       "    </tr>\n",
       "    <tr>\n",
       "      <th>1</th>\n",
       "      <td>Клиника счастья</td>\n",
       "      <td>127620</td>\n",
       "      <td>2021.0</td>\n",
       "      <td>Дарья Мороз, Анатолий Белый, Данил Акутин, Мар...</td>\n",
       "      <td>Успешный сексолог Алена уверена, что нашла фор...</td>\n",
       "    </tr>\n",
       "    <tr>\n",
       "      <th>2</th>\n",
       "      <td>Гнев человеческий</td>\n",
       "      <td>112894</td>\n",
       "      <td>2021.0</td>\n",
       "      <td>Джейсон Стэйтем, Холт МакКэллани, Джеффри Доно...</td>\n",
       "      <td>Грузовики лос-анджелесской инкассаторской комп...</td>\n",
       "    </tr>\n",
       "    <tr>\n",
       "      <th>3</th>\n",
       "      <td>Девятаев</td>\n",
       "      <td>97995</td>\n",
       "      <td>2021.0</td>\n",
       "      <td>Павел Прилучный, Павел Чинарёв, Тимофей Трибун...</td>\n",
       "      <td>Военно-исторический блокбастер от режиссёров Т...</td>\n",
       "    </tr>\n",
       "    <tr>\n",
       "      <th>4</th>\n",
       "      <td>Секреты семейной жизни</td>\n",
       "      <td>66206</td>\n",
       "      <td>2021.0</td>\n",
       "      <td>Петр Скворцов, Алена Михайлова, Федор Лавров, ...</td>\n",
       "      <td>У Никиты и Полины всё начиналось прекрасно: об...</td>\n",
       "    </tr>\n",
       "    <tr>\n",
       "      <th>5</th>\n",
       "      <td>Прабабушка легкого поведения</td>\n",
       "      <td>60214</td>\n",
       "      <td>2021.0</td>\n",
       "      <td>Александр Ревва, Глюкоза, Дмитрий Нагиев, Миха...</td>\n",
       "      <td>1980 год, вся страна следит за событиями моско...</td>\n",
       "    </tr>\n",
       "    <tr>\n",
       "      <th>6</th>\n",
       "      <td>Афера</td>\n",
       "      <td>43337</td>\n",
       "      <td>2021.0</td>\n",
       "      <td>Сергей Степин, Игорь Царегородцев, Татьяна Лял...</td>\n",
       "      <td>Смотри:- как кино- как сериалКарантин окончен,...</td>\n",
       "    </tr>\n",
       "    <tr>\n",
       "      <th>7</th>\n",
       "      <td>Подслушано</td>\n",
       "      <td>41307</td>\n",
       "      <td>2021.0</td>\n",
       "      <td>Александр Hовиков, Валентина Ляпина, Никита Па...</td>\n",
       "      <td>Смотри:- как кино- как сериалПодростковый псих...</td>\n",
       "    </tr>\n",
       "    <tr>\n",
       "      <th>8</th>\n",
       "      <td>Маша</td>\n",
       "      <td>34501</td>\n",
       "      <td>2020.0</td>\n",
       "      <td>Максим Суханов, Аня Чиповская, Полина Гухман, ...</td>\n",
       "      <td>13-летняя Маша растёт между боксёрским рингом ...</td>\n",
       "    </tr>\n",
       "    <tr>\n",
       "      <th>9</th>\n",
       "      <td>Белый снег</td>\n",
       "      <td>29773</td>\n",
       "      <td>2021.0</td>\n",
       "      <td>Ольга Лерман, Федор Добронравов, Надежда Марки...</td>\n",
       "      <td>Отечественная спортивная драма про лыжницу и о...</td>\n",
       "    </tr>\n",
       "  </tbody>\n",
       "</table>\n",
       "</div>"
      ],
      "text/plain": [
       "                          title   views  release_year  \\\n",
       "0                   Хрустальный  133553        2021.0   \n",
       "1               Клиника счастья  127620        2021.0   \n",
       "2             Гнев человеческий  112894        2021.0   \n",
       "3                      Девятаев   97995        2021.0   \n",
       "4        Секреты семейной жизни   66206        2021.0   \n",
       "5  Прабабушка легкого поведения   60214        2021.0   \n",
       "6                         Афера   43337        2021.0   \n",
       "7                    Подслушано   41307        2021.0   \n",
       "8                          Маша   34501        2020.0   \n",
       "9                    Белый снег   29773        2021.0   \n",
       "\n",
       "                                              actors  \\\n",
       "0  Антон Васильев, Николай Шрайбер, Екатерина Оль...   \n",
       "1  Дарья Мороз, Анатолий Белый, Данил Акутин, Мар...   \n",
       "2  Джейсон Стэйтем, Холт МакКэллани, Джеффри Доно...   \n",
       "3  Павел Прилучный, Павел Чинарёв, Тимофей Трибун...   \n",
       "4  Петр Скворцов, Алена Михайлова, Федор Лавров, ...   \n",
       "5  Александр Ревва, Глюкоза, Дмитрий Нагиев, Миха...   \n",
       "6  Сергей Степин, Игорь Царегородцев, Татьяна Лял...   \n",
       "7  Александр Hовиков, Валентина Ляпина, Никита Па...   \n",
       "8  Максим Суханов, Аня Чиповская, Полина Гухман, ...   \n",
       "9  Ольга Лерман, Федор Добронравов, Надежда Марки...   \n",
       "\n",
       "                                         description  \n",
       "0  Сергей Смирнов — один из лучших «охотников на ...  \n",
       "1  Успешный сексолог Алена уверена, что нашла фор...  \n",
       "2  Грузовики лос-анджелесской инкассаторской комп...  \n",
       "3  Военно-исторический блокбастер от режиссёров Т...  \n",
       "4  У Никиты и Полины всё начиналось прекрасно: об...  \n",
       "5  1980 год, вся страна следит за событиями моско...  \n",
       "6  Смотри:- как кино- как сериалКарантин окончен,...  \n",
       "7  Смотри:- как кино- как сериалПодростковый псих...  \n",
       "8  13-летняя Маша растёт между боксёрским рингом ...  \n",
       "9  Отечественная спортивная драма про лыжницу и о...  "
      ]
     },
     "execution_count": 9,
     "metadata": {},
     "output_type": "execute_result"
    }
   ],
   "source": [
    "views = df_inter.groupby('item_id').size().rename('views')\n",
    "df_items = df_items.merge(views, left_on='item_id', right_index=True).\\\n",
    "    sort_values('views', ignore_index=True, ascending=False)\n",
    "\n",
    "df_items[:10][['title', 'views', 'release_year', 'actors', 'description']]"
   ]
  },
  {
   "cell_type": "markdown",
   "metadata": {},
   "source": [
    "cumplots of views"
   ]
  },
  {
   "cell_type": "code",
   "execution_count": 10,
   "metadata": {},
   "outputs": [
    {
     "data": {
      "image/png": "[encoded data removed]",
      "text/plain": [
       "<Figure size 640x480 with 1 Axes>"
      ]
     },
     "metadata": {},
     "output_type": "display_data"
    }
   ],
   "source": [
    "df_views = df_items['views']\n",
    "sns.histplot(df_views, log_scale=True, cumulative=True)\n",
    "plt.grid()"
   ]
  },
  {
   "cell_type": "code",
   "execution_count": 11,
   "metadata": {},
   "outputs": [
    {
     "data": {
      "image/png": "[encoded data removed]",
      "text/plain": [
       "<Figure size 640x480 with 1 Axes>"
      ]
     },
     "metadata": {},
     "output_type": "display_data"
    }
   ],
   "source": [
    "cumsum = df_views.cumsum()\n",
    "cumsum = cumsum / cumsum.iloc[-1]\n",
    "cumsum.index = np.arange(1, len(df_views)+1)\n",
    "cumsum.plot()\n",
    "plt.grid()"
   ]
  },
  {
   "cell_type": "code",
   "execution_count": 37,
   "metadata": {},
   "outputs": [
    {
     "data": {
      "text/plain": [
       "(0.8922602603652364, 352)"
      ]
     },
     "execution_count": 37,
     "metadata": {},
     "output_type": "execute_result"
    }
   ],
   "source": [
    "cumsum[1999], df_views[1999]"
   ]
  },
  {
   "cell_type": "code",
   "execution_count": 13,
   "metadata": {},
   "outputs": [
    {
     "data": {
      "image/png": "[encoded data removed]",
      "text/plain": [
       "<Figure size 640x480 with 1 Axes>"
      ]
     },
     "metadata": {},
     "output_type": "display_data"
    }
   ],
   "source": [
    "sns.histplot(data=df_inter, x='watched_pct')\n",
    "plt.grid()"
   ]
  },
  {
   "cell_type": "code",
   "execution_count": 14,
   "metadata": {},
   "outputs": [
    {
     "data": {
      "image/png": "[encoded data removed]",
      "text/plain": [
       "<Figure size 640x480 with 1 Axes>"
      ]
     },
     "metadata": {},
     "output_type": "display_data"
    }
   ],
   "source": [
    "a = df_inter.groupby('user_id').size().value_counts()\n",
    "a[0] = 0\n",
    "a.sort_index().plot()\n",
    "plt.xlabel('Total count of interactions per user')\n",
    "plt.xlim([-1, 20])\n",
    "plt.xticks(range(20))\n",
    "plt.grid()"
   ]
  },
  {
   "cell_type": "markdown",
   "metadata": {},
   "source": [
    "### Preparation"
   ]
  },
  {
   "cell_type": "code",
   "execution_count": 15,
   "metadata": {},
   "outputs": [
    {
     "data": {
      "text/plain": [
       "user_id            0\n",
       "item_id            0\n",
       "last_watch_dt      0\n",
       "total_dur          0\n",
       "watched_pct      661\n",
       "dtype: int64"
      ]
     },
     "execution_count": 15,
     "metadata": {},
     "output_type": "execute_result"
    }
   ],
   "source": [
    "df_inter.isna().sum()"
   ]
  },
  {
   "cell_type": "code",
   "execution_count": 16,
   "metadata": {},
   "outputs": [],
   "source": [
    "df_inter.drop(['total_dur'], axis=1, inplace=True)\n",
    "df_inter['watched_pct'] = df_inter['watched_pct'].fillna(50.)\n",
    "\n",
    "df_inter.sort_values('last_watch_dt', inplace=True)"
   ]
  },
  {
   "cell_type": "code",
   "execution_count": 17,
   "metadata": {},
   "outputs": [
    {
     "data": {
      "text/html": [
       "<div>\n",
       "<style scoped>\n",
       "    .dataframe tbody tr th:only-of-type {\n",
       "        vertical-align: middle;\n",
       "    }\n",
       "\n",
       "    .dataframe tbody tr th {\n",
       "        vertical-align: top;\n",
       "    }\n",
       "\n",
       "    .dataframe thead th {\n",
       "        text-align: right;\n",
       "    }\n",
       "</style>\n",
       "<table border=\"1\" class=\"dataframe\">\n",
       "  <thead>\n",
       "    <tr style=\"text-align: right;\">\n",
       "      <th></th>\n",
       "      <th>user_id</th>\n",
       "      <th>item_id</th>\n",
       "      <th>last_watch_dt</th>\n",
       "      <th>watched_pct</th>\n",
       "    </tr>\n",
       "  </thead>\n",
       "  <tbody>\n",
       "    <tr>\n",
       "      <th>1157095</th>\n",
       "      <td>883957</td>\n",
       "      <td>3784</td>\n",
       "      <td>2021-07-27</td>\n",
       "      <td>98.0</td>\n",
       "    </tr>\n",
       "  </tbody>\n",
       "</table>\n",
       "</div>"
      ],
      "text/plain": [
       "         user_id  item_id last_watch_dt  watched_pct\n",
       "1157095   883957     3784    2021-07-27         98.0"
      ]
     },
     "execution_count": 17,
     "metadata": {},
     "output_type": "execute_result"
    }
   ],
   "source": [
    "df_inter.sample(1)"
   ]
  },
  {
   "cell_type": "markdown",
   "metadata": {},
   "source": [
    "Save modified data to new csv-file."
   ]
  },
  {
   "cell_type": "code",
   "execution_count": 18,
   "metadata": {},
   "outputs": [],
   "source": [
    "df_inter.to_csv('./processed_data/interactions.csv', index=False)"
   ]
  },
  {
   "cell_type": "markdown",
   "metadata": {},
   "source": [
    "## Items"
   ]
  },
  {
   "cell_type": "markdown",
   "metadata": {},
   "source": [
    "### Overview"
   ]
  },
  {
   "cell_type": "code",
   "execution_count": 19,
   "metadata": {},
   "outputs": [
    {
     "data": {
      "text/html": [
       "<div>\n",
       "<style scoped>\n",
       "    .dataframe tbody tr th:only-of-type {\n",
       "        vertical-align: middle;\n",
       "    }\n",
       "\n",
       "    .dataframe tbody tr th {\n",
       "        vertical-align: top;\n",
       "    }\n",
       "\n",
       "    .dataframe thead th {\n",
       "        text-align: right;\n",
       "    }\n",
       "</style>\n",
       "<table border=\"1\" class=\"dataframe\">\n",
       "  <thead>\n",
       "    <tr style=\"text-align: right;\">\n",
       "      <th></th>\n",
       "      <th>content_type</th>\n",
       "      <th>title</th>\n",
       "      <th>title_orig</th>\n",
       "      <th>genres</th>\n",
       "      <th>countries</th>\n",
       "      <th>studios</th>\n",
       "      <th>directors</th>\n",
       "      <th>actors</th>\n",
       "      <th>description</th>\n",
       "      <th>keywords</th>\n",
       "    </tr>\n",
       "  </thead>\n",
       "  <tbody>\n",
       "    <tr>\n",
       "      <th>count</th>\n",
       "      <td>15008</td>\n",
       "      <td>15008</td>\n",
       "      <td>10749</td>\n",
       "      <td>15008</td>\n",
       "      <td>14974</td>\n",
       "      <td>994</td>\n",
       "      <td>13660</td>\n",
       "      <td>12581</td>\n",
       "      <td>15007</td>\n",
       "      <td>14593</td>\n",
       "    </tr>\n",
       "    <tr>\n",
       "      <th>unique</th>\n",
       "      <td>2</td>\n",
       "      <td>14401</td>\n",
       "      <td>10149</td>\n",
       "      <td>2669</td>\n",
       "      <td>672</td>\n",
       "      <td>38</td>\n",
       "      <td>7647</td>\n",
       "      <td>12258</td>\n",
       "      <td>14689</td>\n",
       "      <td>14547</td>\n",
       "    </tr>\n",
       "    <tr>\n",
       "      <th>top</th>\n",
       "      <td>film</td>\n",
       "      <td>Охота</td>\n",
       "      <td>Pet Sematary</td>\n",
       "      <td>документальное</td>\n",
       "      <td>США</td>\n",
       "      <td>HBO</td>\n",
       "      <td>Оливье Шиабоду</td>\n",
       "      <td>Александр Клюквин</td>\n",
       "      <td>МТС «Карантинники» — это домашние акустические...</td>\n",
       "      <td>2015, чехия, компания, трех</td>\n",
       "    </tr>\n",
       "    <tr>\n",
       "      <th>freq</th>\n",
       "      <td>11371</td>\n",
       "      <td>5</td>\n",
       "      <td>4</td>\n",
       "      <td>771</td>\n",
       "      <td>3919</td>\n",
       "      <td>328</td>\n",
       "      <td>489</td>\n",
       "      <td>25</td>\n",
       "      <td>36</td>\n",
       "      <td>6</td>\n",
       "    </tr>\n",
       "  </tbody>\n",
       "</table>\n",
       "</div>"
      ],
      "text/plain": [
       "       content_type  title    title_orig          genres countries studios  \\\n",
       "count         15008  15008         10749           15008     14974     994   \n",
       "unique            2  14401         10149            2669       672      38   \n",
       "top            film  Охота  Pet Sematary  документальное       США     HBO   \n",
       "freq          11371      5             4             771      3919     328   \n",
       "\n",
       "             directors             actors  \\\n",
       "count            13660              12581   \n",
       "unique            7647              12258   \n",
       "top     Оливье Шиабоду  Александр Клюквин   \n",
       "freq               489                 25   \n",
       "\n",
       "                                              description  \\\n",
       "count                                               15007   \n",
       "unique                                              14689   \n",
       "top     МТС «Карантинники» — это домашние акустические...   \n",
       "freq                                                   36   \n",
       "\n",
       "                           keywords  \n",
       "count                         14593  \n",
       "unique                        14547  \n",
       "top     2015, чехия, компания, трех  \n",
       "freq                              6  "
      ]
     },
     "execution_count": 19,
     "metadata": {},
     "output_type": "execute_result"
    }
   ],
   "source": [
    "df_items.describe(include='object')"
   ]
  },
  {
   "cell_type": "code",
   "execution_count": 20,
   "metadata": {},
   "outputs": [
    {
     "data": {
      "text/plain": [
       "content_type\n",
       "film      11371\n",
       "series     3637\n",
       "Name: count, dtype: int64"
      ]
     },
     "execution_count": 20,
     "metadata": {},
     "output_type": "execute_result"
    }
   ],
   "source": [
    "df_items['content_type'].value_counts()"
   ]
  },
  {
   "cell_type": "code",
   "execution_count": 21,
   "metadata": {},
   "outputs": [
    {
     "data": {
      "text/plain": [
       "age_rating\n",
       "0.0     1405\n",
       "6.0     1430\n",
       "12.0    3844\n",
       "16.0    5389\n",
       "18.0    2459\n",
       "21.0     480\n",
       "Name: count, dtype: int64"
      ]
     },
     "execution_count": 21,
     "metadata": {},
     "output_type": "execute_result"
    }
   ],
   "source": [
    "df_items['age_rating'].value_counts().sort_index()"
   ]
  },
  {
   "cell_type": "code",
   "execution_count": 22,
   "metadata": {},
   "outputs": [
    {
     "data": {
      "text/plain": [
       "genres\n",
       "документальное                                                                            771\n",
       "драмы                                                                                     690\n",
       "комедии                                                                                   549\n",
       "для взрослых                                                                              480\n",
       "русские, мелодрамы                                                                        347\n",
       "                                                                                         ... \n",
       "биография, криминал, драмы, зарубежные, комедии                                             1\n",
       "драмы, русские, криминал, военные                                                           1\n",
       "драмы, фантастика, детективы, мелодрамы                                                     1\n",
       "сказки, полнометражные, приключения, зарубежные, мелодрамы, семейное, фэнтези, комедии      1\n",
       "советские, фильмы, семейное, приключения                                                    1\n",
       "Name: count, Length: 2669, dtype: int64"
      ]
     },
     "execution_count": 22,
     "metadata": {},
     "output_type": "execute_result"
    }
   ],
   "source": [
    "df_items['genres'].value_counts()"
   ]
  },
  {
   "cell_type": "code",
   "execution_count": 23,
   "metadata": {},
   "outputs": [
    {
     "data": {
      "image/png": "[encoded data removed]",
      "text/plain": [
       "<Figure size 640x480 with 1 Axes>"
      ]
     },
     "metadata": {},
     "output_type": "display_data"
    }
   ],
   "source": [
    "df_items['release_year'].value_counts().sort_index().plot(logy=True);"
   ]
  },
  {
   "cell_type": "code",
   "execution_count": 24,
   "metadata": {},
   "outputs": [
    {
     "data": {
      "text/plain": [
       "отношения            8184\n",
       "Россия               2968\n",
       "соединенные штаты    2777\n",
       "женщины              2401\n",
       "любовь               2332\n",
       "мужчины              2000\n",
       "США                  1973\n",
       "преодоление          1887\n",
       "трудностей           1885\n",
       "борьба               1783\n",
       "Name: count, dtype: int64"
      ]
     },
     "execution_count": 24,
     "metadata": {},
     "output_type": "execute_result"
    }
   ],
   "source": [
    "listoflists = df_items['keywords'].apply(lambda line: str(line).split(', '))\n",
    "keywords = [word for line in listoflists for word in line]\n",
    "pd.Series(keywords).value_counts().head(10)"
   ]
  },
  {
   "cell_type": "code",
   "execution_count": 25,
   "metadata": {},
   "outputs": [
    {
     "data": {
      "text/html": [
       "<div>\n",
       "<style scoped>\n",
       "    .dataframe tbody tr th:only-of-type {\n",
       "        vertical-align: middle;\n",
       "    }\n",
       "\n",
       "    .dataframe tbody tr th {\n",
       "        vertical-align: top;\n",
       "    }\n",
       "\n",
       "    .dataframe thead th {\n",
       "        text-align: right;\n",
       "    }\n",
       "</style>\n",
       "<table border=\"1\" class=\"dataframe\">\n",
       "  <thead>\n",
       "    <tr style=\"text-align: right;\">\n",
       "      <th></th>\n",
       "      <th>item_id</th>\n",
       "      <th>content_type</th>\n",
       "      <th>title</th>\n",
       "      <th>title_orig</th>\n",
       "      <th>release_year</th>\n",
       "      <th>genres</th>\n",
       "      <th>countries</th>\n",
       "      <th>for_kids</th>\n",
       "      <th>age_rating</th>\n",
       "      <th>studios</th>\n",
       "      <th>directors</th>\n",
       "      <th>actors</th>\n",
       "      <th>description</th>\n",
       "      <th>keywords</th>\n",
       "      <th>views</th>\n",
       "    </tr>\n",
       "  </thead>\n",
       "  <tbody>\n",
       "    <tr>\n",
       "      <th>8815</th>\n",
       "      <td>524</td>\n",
       "      <td>film</td>\n",
       "      <td>Вельзевул (жестовым языком)</td>\n",
       "      <td>Belzebuth (Sign Language)</td>\n",
       "      <td>2019.0</td>\n",
       "      <td>ужасы, зарубежные</td>\n",
       "      <td>Мексика</td>\n",
       "      <td>NaN</td>\n",
       "      <td>18.0</td>\n",
       "      <td>NaN</td>\n",
       "      <td>Эмилио Портес</td>\n",
       "      <td>Тобин Белл, Хоакин Косио, Тейт Эллингтон, Норм...</td>\n",
       "      <td>Детектив Риттер в свое время потерял при траги...</td>\n",
       "      <td>Вельзевул, жестовым, языком, 2019, Мексика</td>\n",
       "      <td>6</td>\n",
       "    </tr>\n",
       "  </tbody>\n",
       "</table>\n",
       "</div>"
      ],
      "text/plain": [
       "      item_id content_type                        title  \\\n",
       "8815      524         film  Вельзевул (жестовым языком)   \n",
       "\n",
       "                     title_orig  release_year             genres countries  \\\n",
       "8815  Belzebuth (Sign Language)        2019.0  ужасы, зарубежные   Мексика   \n",
       "\n",
       "      for_kids  age_rating studios      directors  \\\n",
       "8815       NaN        18.0     NaN  Эмилио Портес   \n",
       "\n",
       "                                                 actors  \\\n",
       "8815  Тобин Белл, Хоакин Косио, Тейт Эллингтон, Норм...   \n",
       "\n",
       "                                            description  \\\n",
       "8815  Детектив Риттер в свое время потерял при траги...   \n",
       "\n",
       "                                        keywords  views  \n",
       "8815  Вельзевул, жестовым, языком, 2019, Мексика      6  "
      ]
     },
     "execution_count": 25,
     "metadata": {},
     "output_type": "execute_result"
    }
   ],
   "source": [
    "df_items.sample(1)"
   ]
  },
  {
   "cell_type": "markdown",
   "metadata": {},
   "source": [
    "### Preparation"
   ]
  },
  {
   "cell_type": "code",
   "execution_count": 26,
   "metadata": {},
   "outputs": [],
   "source": [
    "df_items_mod = df_items.drop(\n",
    "    ['title_orig', 'release_year', 'countries', 'for_kids', 'studios',\n",
    "     'directors', 'actors', 'description'], axis=1)"
   ]
  },
  {
   "cell_type": "code",
   "execution_count": 27,
   "metadata": {},
   "outputs": [
    {
     "data": {
      "text/plain": [
       "item_id           0\n",
       "content_type      0\n",
       "title             0\n",
       "genres            0\n",
       "age_rating        1\n",
       "keywords        415\n",
       "views             0\n",
       "dtype: int64"
      ]
     },
     "execution_count": 27,
     "metadata": {},
     "output_type": "execute_result"
    }
   ],
   "source": [
    "df_items_mod.isnull().sum()"
   ]
  },
  {
   "cell_type": "code",
   "execution_count": 28,
   "metadata": {},
   "outputs": [],
   "source": [
    "df_items_mod['age_rating'] = df_items_mod['age_rating'].fillna(0)\n",
    "df_items_mod['age_rating'] = df_items_mod['age_rating'].astype(int)\n",
    "df_items_mod['age_rating'] = df_items_mod['age_rating'].astype('object')"
   ]
  },
  {
   "cell_type": "code",
   "execution_count": 29,
   "metadata": {},
   "outputs": [
    {
     "data": {
      "text/html": [
       "<div>\n",
       "<style scoped>\n",
       "    .dataframe tbody tr th:only-of-type {\n",
       "        vertical-align: middle;\n",
       "    }\n",
       "\n",
       "    .dataframe tbody tr th {\n",
       "        vertical-align: top;\n",
       "    }\n",
       "\n",
       "    .dataframe thead th {\n",
       "        text-align: right;\n",
       "    }\n",
       "</style>\n",
       "<table border=\"1\" class=\"dataframe\">\n",
       "  <thead>\n",
       "    <tr style=\"text-align: right;\">\n",
       "      <th></th>\n",
       "      <th>item_id</th>\n",
       "      <th>content_type</th>\n",
       "      <th>title</th>\n",
       "      <th>genres</th>\n",
       "      <th>age_rating</th>\n",
       "      <th>keywords</th>\n",
       "      <th>views</th>\n",
       "    </tr>\n",
       "  </thead>\n",
       "  <tbody>\n",
       "    <tr>\n",
       "      <th>2106</th>\n",
       "      <td>6588</td>\n",
       "      <td>film</td>\n",
       "      <td>Сказки Серого Волка</td>\n",
       "      <td>мультфильм, комедии</td>\n",
       "      <td>6</td>\n",
       "      <td>, Сериал мини-формата, 2016, соединенное корол...</td>\n",
       "      <td>323</td>\n",
       "    </tr>\n",
       "  </tbody>\n",
       "</table>\n",
       "</div>"
      ],
      "text/plain": [
       "      item_id content_type                title               genres  \\\n",
       "2106     6588         film  Сказки Серого Волка  мультфильм, комедии   \n",
       "\n",
       "     age_rating                                           keywords  views  \n",
       "2106          6  , Сериал мини-формата, 2016, соединенное корол...    323  "
      ]
     },
     "execution_count": 29,
     "metadata": {},
     "output_type": "execute_result"
    }
   ],
   "source": [
    "df_items_mod.sample(1)"
   ]
  },
  {
   "cell_type": "code",
   "execution_count": 30,
   "metadata": {},
   "outputs": [],
   "source": [
    "df_items_mod.to_csv('./processed_data/items.csv', index=False)"
   ]
  },
  {
   "cell_type": "markdown",
   "metadata": {},
   "source": [
    "## Users overview"
   ]
  },
  {
   "cell_type": "markdown",
   "metadata": {},
   "source": [
    "### Overview"
   ]
  },
  {
   "cell_type": "code",
   "execution_count": 31,
   "metadata": {},
   "outputs": [
    {
     "data": {
      "image/png": "[encoded data removed]",
      "text/plain": [
       "<Figure size 800x600 with 2 Axes>"
      ]
     },
     "metadata": {},
     "output_type": "display_data"
    }
   ],
   "source": [
    "plt.figure(figsize=(8, 6))\n",
    "plt.subplot(2, 1, 1)\n",
    "sns.lineplot(df_users['age'].value_counts().sort_index()/len(df_users), linestyle='dotted', marker='o')\n",
    "plt.ylabel('count, %')\n",
    "plt.grid()\n",
    "\n",
    "plt.subplot(2, 1, 2)\n",
    "sns.lineplot(df_users['income'].value_counts().sort_index()/len(df_users), linestyle='dotted', marker='o')\n",
    "plt.ylabel('count, %')\n",
    "plt.grid()\n",
    "\n",
    "plt.tight_layout()"
   ]
  },
  {
   "cell_type": "code",
   "execution_count": 32,
   "metadata": {},
   "outputs": [
    {
     "data": {
      "text/html": [
       "<div>\n",
       "<style scoped>\n",
       "    .dataframe tbody tr th:only-of-type {\n",
       "        vertical-align: middle;\n",
       "    }\n",
       "\n",
       "    .dataframe tbody tr th {\n",
       "        vertical-align: top;\n",
       "    }\n",
       "\n",
       "    .dataframe thead th {\n",
       "        text-align: right;\n",
       "    }\n",
       "</style>\n",
       "<table border=\"1\" class=\"dataframe\">\n",
       "  <thead>\n",
       "    <tr style=\"text-align: right;\">\n",
       "      <th></th>\n",
       "      <th>age</th>\n",
       "      <th>income</th>\n",
       "      <th>sex</th>\n",
       "    </tr>\n",
       "  </thead>\n",
       "  <tbody>\n",
       "    <tr>\n",
       "      <th>count</th>\n",
       "      <td>734570</td>\n",
       "      <td>734694</td>\n",
       "      <td>734772</td>\n",
       "    </tr>\n",
       "    <tr>\n",
       "      <th>unique</th>\n",
       "      <td>6</td>\n",
       "      <td>6</td>\n",
       "      <td>2</td>\n",
       "    </tr>\n",
       "    <tr>\n",
       "      <th>top</th>\n",
       "      <td>age_25_34</td>\n",
       "      <td>income_20_40</td>\n",
       "      <td>Ж</td>\n",
       "    </tr>\n",
       "    <tr>\n",
       "      <th>freq</th>\n",
       "      <td>210637</td>\n",
       "      <td>417900</td>\n",
       "      <td>378095</td>\n",
       "    </tr>\n",
       "  </tbody>\n",
       "</table>\n",
       "</div>"
      ],
      "text/plain": [
       "              age        income     sex\n",
       "count      734570        734694  734772\n",
       "unique          6             6       2\n",
       "top     age_25_34  income_20_40       Ж\n",
       "freq       210637        417900  378095"
      ]
     },
     "execution_count": 32,
     "metadata": {},
     "output_type": "execute_result"
    }
   ],
   "source": [
    "df_users.describe(include='object')"
   ]
  },
  {
   "cell_type": "code",
   "execution_count": 33,
   "metadata": {},
   "outputs": [
    {
     "data": {
      "text/plain": [
       "kids_flg\n",
       "0    516988\n",
       "1    227300\n",
       "Name: count, dtype: int64"
      ]
     },
     "execution_count": 33,
     "metadata": {},
     "output_type": "execute_result"
    }
   ],
   "source": [
    "df_users['kids_flg'].value_counts()"
   ]
  },
  {
   "cell_type": "markdown",
   "metadata": {},
   "source": [
    "### Preparation"
   ]
  },
  {
   "cell_type": "code",
   "execution_count": 34,
   "metadata": {},
   "outputs": [],
   "source": [
    "df_users['kids_flg'] = df_users['kids_flg'].fillna(0)\n",
    "df_users['age'] = df_users['age'].fillna('age_25_34')\n",
    "df_users['income'] = df_users['income'].fillna('income_20_40')\n",
    "df_users['sex'] = df_users['sex'].fillna('Ж')"
   ]
  },
  {
   "cell_type": "code",
   "execution_count": 35,
   "metadata": {},
   "outputs": [],
   "source": [
    "df_users.to_csv('./processed_data/users.csv', index=False)"
   ]
  }
 ],
 "metadata": {
  "kernelspec": {
   "display_name": "Python 3",
   "language": "python",
   "name": "python3"
  },
  "language_info": {
   "codemirror_mode": {
    "name": "ipython",
    "version": 3
   },
   "file_extension": ".py",
   "mimetype": "text/x-python",
   "name": "python",
   "nbconvert_exporter": "python",
   "pygments_lexer": "ipython3",
   "version": "3.11.9"
  }
 },
 "nbformat": 4,
 "nbformat_minor": 2
}
